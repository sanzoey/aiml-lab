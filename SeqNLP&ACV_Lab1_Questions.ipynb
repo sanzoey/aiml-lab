{
  "nbformat": 4,
  "nbformat_minor": 0,
  "metadata": {
    "colab": {
      "name": "SeqNLP&ACV_Lab1_Questions.ipynb",
      "provenance": [],
      "collapsed_sections": []
    },
    "kernelspec": {
      "name": "python3",
      "display_name": "Python 3"
    }
  },
  "cells": [
    {
      "cell_type": "markdown",
      "metadata": {
        "id": "I-P5m4iA_xe7"
      },
      "source": [
        "# Bounding box detection - Racoon data\n",
        "\n",
        "\n",
        "## Data files\n",
        "- images_racoon.rar: contain images of racoons\n",
        "- train_labels.cv: contains coordinates for bounding box for every image"
      ]
    },
    {
      "cell_type": "markdown",
      "metadata": {
        "id": "d8M5gzwKWGiU"
      },
      "source": [
        "### Import the necessary libraries"
      ]
    },
    {
      "cell_type": "code",
      "metadata": {
        "id": "VOMKpZJcWGiV"
      },
      "source": [
        "import numpy as np\n",
        "import pandas as pd\n",
        "np.random.seed(1)"
      ],
      "execution_count": 1,
      "outputs": []
    },
    {
      "cell_type": "markdown",
      "metadata": {
        "id": "Z_INIZOi_tUW"
      },
      "source": [
        "### Change directory"
      ]
    },
    {
      "cell_type": "code",
      "metadata": {
        "id": "Sxgw3GT1AR9Y"
      },
      "source": [
        "from tensorflow.keras import Model\n",
        "from tensorflow.keras.applications.mobilenet import MobileNet, preprocess_input\n",
        "import tensorflow as tf\n",
        "\n",
        "from tensorflow.keras.layers import Conv2D, Reshape\n",
        "from tensorflow.keras.utils import Sequence"
      ],
      "execution_count": 58,
      "outputs": []
    },
    {
      "cell_type": "code",
      "metadata": {
        "id": "wiTjjKtpWGij",
        "colab": {
          "base_uri": "https://localhost:8080/"
        },
        "outputId": "8f112713-069e-441f-e50d-4adc21dbf25e"
      },
      "source": [
        "from google.colab import drive\n",
        "drive.mount('/content/drive')"
      ],
      "execution_count": 3,
      "outputs": [
        {
          "output_type": "stream",
          "name": "stdout",
          "text": [
            "Mounted at /content/drive\n"
          ]
        }
      ]
    },
    {
      "cell_type": "code",
      "source": [
        "import os\n",
        "os.chdir('/content/drive/MyDrive/Great Learning/Seq NLP & ACV')"
      ],
      "metadata": {
        "id": "tMIVHbxxbphJ"
      },
      "execution_count": 5,
      "outputs": []
    },
    {
      "cell_type": "code",
      "source": [
        "!ls"
      ],
      "metadata": {
        "colab": {
          "base_uri": "https://localhost:8080/"
        },
        "id": "W20_eQ2Vb-a3",
        "outputId": "4ff851ad-d3d1-4b4f-bffc-2f075020ec4d"
      },
      "execution_count": 7,
      "outputs": [
        {
          "output_type": "stream",
          "name": "stdout",
          "text": [
            " daily-minimum-temperatures-in-me.csv  'SeqNLP&ACV_Lab1_Questions.ipynb'\n",
            " images_racoon-2.rar\t\t        train_labels.csv\n"
          ]
        }
      ]
    },
    {
      "cell_type": "markdown",
      "metadata": {
        "id": "lwxBtvYRWGii"
      },
      "source": [
        "### Load the training data from train.csv file"
      ]
    },
    {
      "cell_type": "markdown",
      "metadata": {
        "id": "-F3CkYxUWGin"
      },
      "source": [
        "### Print the shape of the train dataset"
      ]
    },
    {
      "cell_type": "code",
      "metadata": {
        "id": "uRz_MtnvWGip"
      },
      "source": [
        "train = pd.read_csv('train_labels.csv')"
      ],
      "execution_count": 8,
      "outputs": []
    },
    {
      "cell_type": "code",
      "source": [
        "train.shape"
      ],
      "metadata": {
        "colab": {
          "base_uri": "https://localhost:8080/"
        },
        "id": "lzP2HDSAb5b6",
        "outputId": "15751427-81fd-40d4-8e1b-7e38a9877d44"
      },
      "execution_count": 10,
      "outputs": [
        {
          "output_type": "execute_result",
          "data": {
            "text/plain": [
              "(173, 8)"
            ]
          },
          "metadata": {},
          "execution_count": 10
        }
      ]
    },
    {
      "cell_type": "code",
      "source": [
        "train.head()"
      ],
      "metadata": {
        "colab": {
          "base_uri": "https://localhost:8080/",
          "height": 206
        },
        "id": "9e3OsaOicQBX",
        "outputId": "bdb9de4f-51d7-4901-c0ad-5406534da635"
      },
      "execution_count": 11,
      "outputs": [
        {
          "output_type": "execute_result",
          "data": {
            "text/plain": [
              "         filename  width  height    class  xmin  ymin  xmax  ymax\n",
              "0  raccoon-17.jpg    259     194  raccoon    95    60   167   118\n",
              "1  raccoon-11.jpg    660     432  raccoon     3     1   461   431\n",
              "2  raccoon-63.jpg    600     400  raccoon    74   107   280   290\n",
              "3  raccoon-63.jpg    600     400  raccoon   227    93   403   298\n",
              "4  raccoon-60.jpg    273     185  raccoon    58    33   197   127"
            ],
            "text/html": [
              "\n",
              "  <div id=\"df-4ad968da-bcf3-4ec4-ab0e-3dc87f595c39\">\n",
              "    <div class=\"colab-df-container\">\n",
              "      <div>\n",
              "<style scoped>\n",
              "    .dataframe tbody tr th:only-of-type {\n",
              "        vertical-align: middle;\n",
              "    }\n",
              "\n",
              "    .dataframe tbody tr th {\n",
              "        vertical-align: top;\n",
              "    }\n",
              "\n",
              "    .dataframe thead th {\n",
              "        text-align: right;\n",
              "    }\n",
              "</style>\n",
              "<table border=\"1\" class=\"dataframe\">\n",
              "  <thead>\n",
              "    <tr style=\"text-align: right;\">\n",
              "      <th></th>\n",
              "      <th>filename</th>\n",
              "      <th>width</th>\n",
              "      <th>height</th>\n",
              "      <th>class</th>\n",
              "      <th>xmin</th>\n",
              "      <th>ymin</th>\n",
              "      <th>xmax</th>\n",
              "      <th>ymax</th>\n",
              "    </tr>\n",
              "  </thead>\n",
              "  <tbody>\n",
              "    <tr>\n",
              "      <th>0</th>\n",
              "      <td>raccoon-17.jpg</td>\n",
              "      <td>259</td>\n",
              "      <td>194</td>\n",
              "      <td>raccoon</td>\n",
              "      <td>95</td>\n",
              "      <td>60</td>\n",
              "      <td>167</td>\n",
              "      <td>118</td>\n",
              "    </tr>\n",
              "    <tr>\n",
              "      <th>1</th>\n",
              "      <td>raccoon-11.jpg</td>\n",
              "      <td>660</td>\n",
              "      <td>432</td>\n",
              "      <td>raccoon</td>\n",
              "      <td>3</td>\n",
              "      <td>1</td>\n",
              "      <td>461</td>\n",
              "      <td>431</td>\n",
              "    </tr>\n",
              "    <tr>\n",
              "      <th>2</th>\n",
              "      <td>raccoon-63.jpg</td>\n",
              "      <td>600</td>\n",
              "      <td>400</td>\n",
              "      <td>raccoon</td>\n",
              "      <td>74</td>\n",
              "      <td>107</td>\n",
              "      <td>280</td>\n",
              "      <td>290</td>\n",
              "    </tr>\n",
              "    <tr>\n",
              "      <th>3</th>\n",
              "      <td>raccoon-63.jpg</td>\n",
              "      <td>600</td>\n",
              "      <td>400</td>\n",
              "      <td>raccoon</td>\n",
              "      <td>227</td>\n",
              "      <td>93</td>\n",
              "      <td>403</td>\n",
              "      <td>298</td>\n",
              "    </tr>\n",
              "    <tr>\n",
              "      <th>4</th>\n",
              "      <td>raccoon-60.jpg</td>\n",
              "      <td>273</td>\n",
              "      <td>185</td>\n",
              "      <td>raccoon</td>\n",
              "      <td>58</td>\n",
              "      <td>33</td>\n",
              "      <td>197</td>\n",
              "      <td>127</td>\n",
              "    </tr>\n",
              "  </tbody>\n",
              "</table>\n",
              "</div>\n",
              "      <button class=\"colab-df-convert\" onclick=\"convertToInteractive('df-4ad968da-bcf3-4ec4-ab0e-3dc87f595c39')\"\n",
              "              title=\"Convert this dataframe to an interactive table.\"\n",
              "              style=\"display:none;\">\n",
              "        \n",
              "  <svg xmlns=\"http://www.w3.org/2000/svg\" height=\"24px\"viewBox=\"0 0 24 24\"\n",
              "       width=\"24px\">\n",
              "    <path d=\"M0 0h24v24H0V0z\" fill=\"none\"/>\n",
              "    <path d=\"M18.56 5.44l.94 2.06.94-2.06 2.06-.94-2.06-.94-.94-2.06-.94 2.06-2.06.94zm-11 1L8.5 8.5l.94-2.06 2.06-.94-2.06-.94L8.5 2.5l-.94 2.06-2.06.94zm10 10l.94 2.06.94-2.06 2.06-.94-2.06-.94-.94-2.06-.94 2.06-2.06.94z\"/><path d=\"M17.41 7.96l-1.37-1.37c-.4-.4-.92-.59-1.43-.59-.52 0-1.04.2-1.43.59L10.3 9.45l-7.72 7.72c-.78.78-.78 2.05 0 2.83L4 21.41c.39.39.9.59 1.41.59.51 0 1.02-.2 1.41-.59l7.78-7.78 2.81-2.81c.8-.78.8-2.07 0-2.86zM5.41 20L4 18.59l7.72-7.72 1.47 1.35L5.41 20z\"/>\n",
              "  </svg>\n",
              "      </button>\n",
              "      \n",
              "  <style>\n",
              "    .colab-df-container {\n",
              "      display:flex;\n",
              "      flex-wrap:wrap;\n",
              "      gap: 12px;\n",
              "    }\n",
              "\n",
              "    .colab-df-convert {\n",
              "      background-color: #E8F0FE;\n",
              "      border: none;\n",
              "      border-radius: 50%;\n",
              "      cursor: pointer;\n",
              "      display: none;\n",
              "      fill: #1967D2;\n",
              "      height: 32px;\n",
              "      padding: 0 0 0 0;\n",
              "      width: 32px;\n",
              "    }\n",
              "\n",
              "    .colab-df-convert:hover {\n",
              "      background-color: #E2EBFA;\n",
              "      box-shadow: 0px 1px 2px rgba(60, 64, 67, 0.3), 0px 1px 3px 1px rgba(60, 64, 67, 0.15);\n",
              "      fill: #174EA6;\n",
              "    }\n",
              "\n",
              "    [theme=dark] .colab-df-convert {\n",
              "      background-color: #3B4455;\n",
              "      fill: #D2E3FC;\n",
              "    }\n",
              "\n",
              "    [theme=dark] .colab-df-convert:hover {\n",
              "      background-color: #434B5C;\n",
              "      box-shadow: 0px 1px 3px 1px rgba(0, 0, 0, 0.15);\n",
              "      filter: drop-shadow(0px 1px 2px rgba(0, 0, 0, 0.3));\n",
              "      fill: #FFFFFF;\n",
              "    }\n",
              "  </style>\n",
              "\n",
              "      <script>\n",
              "        const buttonEl =\n",
              "          document.querySelector('#df-4ad968da-bcf3-4ec4-ab0e-3dc87f595c39 button.colab-df-convert');\n",
              "        buttonEl.style.display =\n",
              "          google.colab.kernel.accessAllowed ? 'block' : 'none';\n",
              "\n",
              "        async function convertToInteractive(key) {\n",
              "          const element = document.querySelector('#df-4ad968da-bcf3-4ec4-ab0e-3dc87f595c39');\n",
              "          const dataTable =\n",
              "            await google.colab.kernel.invokeFunction('convertToInteractive',\n",
              "                                                     [key], {});\n",
              "          if (!dataTable) return;\n",
              "\n",
              "          const docLinkHtml = 'Like what you see? Visit the ' +\n",
              "            '<a target=\"_blank\" href=https://colab.research.google.com/notebooks/data_table.ipynb>data table notebook</a>'\n",
              "            + ' to learn more about interactive tables.';\n",
              "          element.innerHTML = '';\n",
              "          dataTable['output_type'] = 'display_data';\n",
              "          await google.colab.output.renderOutput(dataTable, element);\n",
              "          const docLink = document.createElement('div');\n",
              "          docLink.innerHTML = docLinkHtml;\n",
              "          element.appendChild(docLink);\n",
              "        }\n",
              "      </script>\n",
              "    </div>\n",
              "  </div>\n",
              "  "
            ]
          },
          "metadata": {},
          "execution_count": 11
        }
      ]
    },
    {
      "cell_type": "markdown",
      "metadata": {
        "id": "axf5m10eWGis"
      },
      "source": [
        "### Declare a variable IMAGE_SIZE = 128 as we will be using MobileNet which will be taking Input shape as 128 * 128 "
      ]
    },
    {
      "cell_type": "code",
      "metadata": {
        "id": "7ayEk2c9WGit"
      },
      "source": [
        "IMAGE_SIZE = 128"
      ],
      "execution_count": 12,
      "outputs": []
    },
    {
      "cell_type": "markdown",
      "metadata": {
        "id": "wbrrYb5IWGix"
      },
      "source": [
        "### With the help of csv.reader write a for loop which can load the train.csv file and store the path, width, height, x0,y0,x1,y1 in induvidual variables. <br>\n",
        "1. Create a list variable known as 'path' which has all the path for all the training images\n",
        "2. Create an array 'coords' which has the resized coordinates of the bounding box for the training images\n",
        "\n",
        "<u>Note:</u> All the training images should be downsampled to 128 * 128 as it is the input shape of MobileNet (which we will be using for Object detection). Hence the corresponding coordinates of the bounding boxes should be changed to match the image dimension of 128 * 128 "
      ]
    },
    {
      "cell_type": "code",
      "metadata": {
        "id": "twSTiPpRWGiy",
        "colab": {
          "base_uri": "https://localhost:8080/"
        },
        "outputId": "88033520-76ee-48dc-e4cb-e8f56c9ac24f"
      },
      "source": [
        "import csv\n",
        "with open(\"train_labels.csv\", \"r\") as csvfile:\n",
        "  paths = []\n",
        "  coords = np.zeros((sum(1 for line in csvfile) - 1, 4))\n",
        "  spamrecord = csv.reader(csvfile, delimiter=\",\")\n",
        "  csvfile.seek(0)\n",
        "  next(spamrecord, None)\n",
        "  print(spamrecord)\n",
        "  for i, row in enumerate (spamrecord):\n",
        "    for j, r in enumerate (row):\n",
        "      if((j !=0) & (j !=3)):\n",
        "        row[j] = int(r)\n",
        "\n",
        "    path, width, height, class_, xmin, ymin, xmax, ymax = row\n",
        "    paths.append(path)\n",
        "    coords[i,0] = int(xmin) * IMAGE_SIZE/int(width)\n",
        "    coords[i,1] = int(ymin) * IMAGE_SIZE/ int(height)\n",
        "    coords[i,2] = int(xmax) * IMAGE_SIZE/ int(width)\n",
        "    coords[i,3] = int(ymax) * IMAGE_SIZE/ int(height)"
      ],
      "execution_count": 85,
      "outputs": [
        {
          "output_type": "stream",
          "name": "stdout",
          "text": [
            "<_csv.reader object at 0x7f9d03c05a50>\n"
          ]
        }
      ]
    },
    {
      "cell_type": "code",
      "source": [
        "len(coords)"
      ],
      "metadata": {
        "colab": {
          "base_uri": "https://localhost:8080/"
        },
        "id": "2DCE8YkKkSyH",
        "outputId": "5c43b170-c68c-46f3-abf7-1bbb5f1c7110"
      },
      "execution_count": 86,
      "outputs": [
        {
          "output_type": "execute_result",
          "data": {
            "text/plain": [
              "173"
            ]
          },
          "metadata": {},
          "execution_count": 86
        }
      ]
    },
    {
      "cell_type": "markdown",
      "metadata": {
        "id": "Z9iZWEpKWGi2"
      },
      "source": [
        "### Write a for loop which can load all the training images into a variable 'batch_images' using the paths from the 'paths' variable\n",
        "<u>Note:</u> Convert the image to RGB scale as the MobileNet accepts 3 channels as inputs   "
      ]
    },
    {
      "cell_type": "code",
      "metadata": {
        "id": "h6e99qquWGi3"
      },
      "source": [
        "paths"
      ],
      "execution_count": null,
      "outputs": []
    },
    {
      "cell_type": "code",
      "source": [
        "len(paths)"
      ],
      "metadata": {
        "colab": {
          "base_uri": "https://localhost:8080/"
        },
        "id": "5flc1fTnsLJq",
        "outputId": "3154a46c-8044-4786-e24a-a53689fb0315"
      },
      "execution_count": 88,
      "outputs": [
        {
          "output_type": "execute_result",
          "data": {
            "text/plain": [
              "173"
            ]
          },
          "metadata": {},
          "execution_count": 88
        }
      ]
    },
    {
      "cell_type": "markdown",
      "metadata": {
        "id": "C9KU6pUTWGi9"
      },
      "source": [
        "### Import MobileNet and load MobileNet into a variable named 'model' which takes input shape of 128 * 128 * 3. Freeze all the layers. Add convolution and reshape layers at the end to ensure the output is 4 coordinates"
      ]
    },
    {
      "cell_type": "code",
      "source": [
        "ls"
      ],
      "metadata": {
        "colab": {
          "base_uri": "https://localhost:8080/"
        },
        "id": "D9E-1F7Zkj_a",
        "outputId": "ed84fd86-853f-4114-dbb7-fe3385e7c2fc"
      },
      "execution_count": 65,
      "outputs": [
        {
          "output_type": "stream",
          "name": "stdout",
          "text": [
            " daily-minimum-temperatures-in-me.csv  'SeqNLP&ACV_Lab1_Questions.ipynb'\n",
            " \u001b[0m\u001b[01;34mimage_files\u001b[0m/                           train_labels.csv\n",
            " images_racoon-2.rar\n"
          ]
        }
      ]
    },
    {
      "cell_type": "code",
      "source": [
        "!pwd"
      ],
      "metadata": {
        "colab": {
          "base_uri": "https://localhost:8080/"
        },
        "id": "LNiaHq_lke9u",
        "outputId": "ac55422c-8f1e-46ac-85f4-4e8d275c9f13"
      },
      "execution_count": 66,
      "outputs": [
        {
          "output_type": "stream",
          "name": "stdout",
          "text": [
            "/content/drive/MyDrive/Great Learning/Seq NLP & ACV\n"
          ]
        }
      ]
    },
    {
      "cell_type": "code",
      "metadata": {
        "id": "nosEtf1lWGi-",
        "colab": {
          "base_uri": "https://localhost:8080/"
        },
        "outputId": "3a5c91d5-cdf2-4f9e-b034-12a6ea9665fb"
      },
      "source": [
        "!unrar e \"images_racoon-2.rar\" \"/content/drive/MyDrive/Great Learning/Seq NLP & ACV/image_files/\""
      ],
      "execution_count": 67,
      "outputs": [
        {
          "output_type": "stream",
          "name": "stdout",
          "text": [
            "\n",
            "UNRAR 5.50 freeware      Copyright (c) 1993-2017 Alexander Roshal\n",
            "\n",
            "\n",
            "Extracting from images_racoon-2.rar\n",
            "\n",
            "\n",
            "Would you like to replace the existing file /content/drive/MyDrive/Great Learning/Seq NLP & ACV/image_files/raccoon-1.jpg\n",
            " 58076 bytes, modified on 2019-04-20 17:52\n",
            "with a new one\n",
            " 58076 bytes, modified on 2019-04-15 23:51\n",
            "\n",
            "[Y]es, [N]o, [A]ll, n[E]ver, [R]ename, [Q]uit A\n",
            "\n",
            "Extracting  /content/drive/MyDrive/Great Learning/Seq NLP & ACV/image_files/raccoon-1.jpg     \b\b\b\b  0%\b\b\b\b\b  OK \n",
            "Extracting  /content/drive/MyDrive/Great Learning/Seq NLP & ACV/image_files/raccoon-10.jpg     \b\b\b\b  0%\b\b\b\b\b  OK \n",
            "Extracting  /content/drive/MyDrive/Great Learning/Seq NLP & ACV/image_files/raccoon-100.jpg     \b\b\b\b  0%\b\b\b\b\b  OK \n",
            "Extracting  /content/drive/MyDrive/Great Learning/Seq NLP & ACV/image_files/raccoon-101.jpg     \b\b\b\b  1%\b\b\b\b\b  OK \n",
            "Extracting  /content/drive/MyDrive/Great Learning/Seq NLP & ACV/image_files/raccoon-102.jpg     \b\b\b\b  1%\b\b\b\b\b  OK \n",
            "Extracting  /content/drive/MyDrive/Great Learning/Seq NLP & ACV/image_files/raccoon-103.jpg     \b\b\b\b  2%\b\b\b\b\b  OK \n",
            "Extracting  /content/drive/MyDrive/Great Learning/Seq NLP & ACV/image_files/raccoon-104.jpg     \b\b\b\b  2%\b\b\b\b\b  OK \n",
            "Extracting  /content/drive/MyDrive/Great Learning/Seq NLP & ACV/image_files/raccoon-105.jpg     \b\b\b\b  2%\b\b\b\b\b  OK \n",
            "Extracting  /content/drive/MyDrive/Great Learning/Seq NLP & ACV/image_files/raccoon-106.jpg     \b\b\b\b  2%\b\b\b\b\b  OK \n",
            "Extracting  /content/drive/MyDrive/Great Learning/Seq NLP & ACV/image_files/raccoon-107.jpg     \b\b\b\b  3%\b\b\b\b\b  OK \n",
            "Extracting  /content/drive/MyDrive/Great Learning/Seq NLP & ACV/image_files/raccoon-108.jpg     \b\b\b\b  3%\b\b\b\b\b  OK \n",
            "Extracting  /content/drive/MyDrive/Great Learning/Seq NLP & ACV/image_files/raccoon-109.jpg     \b\b\b\b  3%\b\b\b\b\b  OK \n",
            "Extracting  /content/drive/MyDrive/Great Learning/Seq NLP & ACV/image_files/raccoon-11.jpg     \b\b\b\b  3%\b\b\b\b\b  OK \n",
            "Extracting  /content/drive/MyDrive/Great Learning/Seq NLP & ACV/image_files/raccoon-110.jpg     \b\b\b\b  3%\b\b\b\b\b  OK \n",
            "Extracting  /content/drive/MyDrive/Great Learning/Seq NLP & ACV/image_files/raccoon-111.jpg     \b\b\b\b  4%\b\b\b\b\b  OK \n",
            "Extracting  /content/drive/MyDrive/Great Learning/Seq NLP & ACV/image_files/raccoon-112.jpg     \b\b\b\b  5%\b\b\b\b\b  OK \n",
            "Extracting  /content/drive/MyDrive/Great Learning/Seq NLP & ACV/image_files/raccoon-113.jpg     \b\b\b\b  6%\b\b\b\b\b  OK \n",
            "Extracting  /content/drive/MyDrive/Great Learning/Seq NLP & ACV/image_files/raccoon-114.jpg     \b\b\b\b  6%\b\b\b\b\b  OK \n",
            "Extracting  /content/drive/MyDrive/Great Learning/Seq NLP & ACV/image_files/raccoon-115.jpg     \b\b\b\b  7%\b\b\b\b\b  OK \n",
            "Extracting  /content/drive/MyDrive/Great Learning/Seq NLP & ACV/image_files/raccoon-116.jpg     \b\b\b\b  7%\b\b\b\b\b  OK \n",
            "Extracting  /content/drive/MyDrive/Great Learning/Seq NLP & ACV/image_files/raccoon-117.jpg     \b\b\b\b  8%\b\b\b\b\b  OK \n",
            "Extracting  /content/drive/MyDrive/Great Learning/Seq NLP & ACV/image_files/raccoon-118.jpg     \b\b\b\b  8%\b\b\b\b\b  OK \n",
            "Extracting  /content/drive/MyDrive/Great Learning/Seq NLP & ACV/image_files/raccoon-119.jpg     \b\b\b\b  8%\b\b\b\b\b  OK \n",
            "Extracting  /content/drive/MyDrive/Great Learning/Seq NLP & ACV/image_files/raccoon-12.jpg     \b\b\b\b  8%\b\b\b\b\b  OK \n",
            "Extracting  /content/drive/MyDrive/Great Learning/Seq NLP & ACV/image_files/raccoon-120.jpg     \b\b\b\b  9%\b\b\b\b\b  OK \n",
            "Extracting  /content/drive/MyDrive/Great Learning/Seq NLP & ACV/image_files/raccoon-121.jpg     \b\b\b\b  9%\b\b\b\b\b  OK \n",
            "Extracting  /content/drive/MyDrive/Great Learning/Seq NLP & ACV/image_files/raccoon-122.jpg     \b\b\b\b  9%\b\b\b\b\b  OK \n",
            "Extracting  /content/drive/MyDrive/Great Learning/Seq NLP & ACV/image_files/raccoon-123.jpg     \b\b\b\b  9%\b\b\b\b\b  OK \n",
            "Extracting  /content/drive/MyDrive/Great Learning/Seq NLP & ACV/image_files/raccoon-124.jpg     \b\b\b\b  9%\b\b\b\b\b  OK \n",
            "Extracting  /content/drive/MyDrive/Great Learning/Seq NLP & ACV/image_files/raccoon-125.jpg     \b\b\b\b  9%\b\b\b\b\b  OK \n",
            "Extracting  /content/drive/MyDrive/Great Learning/Seq NLP & ACV/image_files/raccoon-126.jpg     \b\b\b\b  9%\b\b\b\b\b  OK \n",
            "Extracting  /content/drive/MyDrive/Great Learning/Seq NLP & ACV/image_files/raccoon-127.jpg     \b\b\b\b  9%\b\b\b\b\b  OK \n",
            "Extracting  /content/drive/MyDrive/Great Learning/Seq NLP & ACV/image_files/raccoon-128.jpg     \b\b\b\b  9%\b\b\b\b\b  OK \n",
            "Extracting  /content/drive/MyDrive/Great Learning/Seq NLP & ACV/image_files/raccoon-129.jpg     \b\b\b\b 10%\b\b\b\b\b  OK \n",
            "Extracting  /content/drive/MyDrive/Great Learning/Seq NLP & ACV/image_files/raccoon-13.jpg     \b\b\b\b 10%\b\b\b\b\b  OK \n",
            "Extracting  /content/drive/MyDrive/Great Learning/Seq NLP & ACV/image_files/raccoon-130.jpg     \b\b\b\b 10%\b\b\b\b\b  OK \n",
            "Extracting  /content/drive/MyDrive/Great Learning/Seq NLP & ACV/image_files/raccoon-131.jpg     \b\b\b\b 10%\b\b\b\b\b  OK \n",
            "Extracting  /content/drive/MyDrive/Great Learning/Seq NLP & ACV/image_files/raccoon-132.jpg     \b\b\b\b 10%\b\b\b\b\b  OK \n",
            "Extracting  /content/drive/MyDrive/Great Learning/Seq NLP & ACV/image_files/raccoon-133.jpg     \b\b\b\b 11%\b\b\b\b\b  OK \n",
            "Extracting  /content/drive/MyDrive/Great Learning/Seq NLP & ACV/image_files/raccoon-134.jpg     \b\b\b\b 11%\b\b\b\b\b  OK \n",
            "Extracting  /content/drive/MyDrive/Great Learning/Seq NLP & ACV/image_files/raccoon-135.jpg     \b\b\b\b 11%\b\b\b\b\b  OK \n",
            "Extracting  /content/drive/MyDrive/Great Learning/Seq NLP & ACV/image_files/raccoon-136.jpg     \b\b\b\b 11%\b\b\b\b\b  OK \n",
            "Extracting  /content/drive/MyDrive/Great Learning/Seq NLP & ACV/image_files/raccoon-137.jpg     \b\b\b\b 12%\b\b\b\b\b  OK \n",
            "Extracting  /content/drive/MyDrive/Great Learning/Seq NLP & ACV/image_files/raccoon-138.jpg     \b\b\b\b 12%\b\b\b\b\b  OK \n",
            "Extracting  /content/drive/MyDrive/Great Learning/Seq NLP & ACV/image_files/raccoon-139.jpg     \b\b\b\b 12%\b\b\b\b\b  OK \n",
            "Extracting  /content/drive/MyDrive/Great Learning/Seq NLP & ACV/image_files/raccoon-14.jpg     \b\b\b\b 12%\b\b\b\b\b  OK \n",
            "Extracting  /content/drive/MyDrive/Great Learning/Seq NLP & ACV/image_files/raccoon-140.jpg     \b\b\b\b 12%\b\b\b\b\b  OK \n",
            "Extracting  /content/drive/MyDrive/Great Learning/Seq NLP & ACV/image_files/raccoon-141.jpg     \b\b\b\b 12%\b\b\b\b\b  OK \n",
            "Extracting  /content/drive/MyDrive/Great Learning/Seq NLP & ACV/image_files/raccoon-142.jpg     \b\b\b\b 13%\b\b\b\b\b  OK \n",
            "Extracting  /content/drive/MyDrive/Great Learning/Seq NLP & ACV/image_files/raccoon-143.jpg     \b\b\b\b 13%\b\b\b\b\b  OK \n",
            "Extracting  /content/drive/MyDrive/Great Learning/Seq NLP & ACV/image_files/raccoon-144.jpg     \b\b\b\b 13%\b\b\b\b\b  OK \n",
            "Extracting  /content/drive/MyDrive/Great Learning/Seq NLP & ACV/image_files/raccoon-145.jpg     \b\b\b\b 14%\b\b\b\b\b  OK \n",
            "Extracting  /content/drive/MyDrive/Great Learning/Seq NLP & ACV/image_files/raccoon-146.jpg     \b\b\b\b 14%\b\b\b\b\b  OK \n",
            "Extracting  /content/drive/MyDrive/Great Learning/Seq NLP & ACV/image_files/raccoon-147.jpg     \b\b\b\b 15%\b\b\b\b\b  OK \n",
            "Extracting  /content/drive/MyDrive/Great Learning/Seq NLP & ACV/image_files/raccoon-148.jpg     \b\b\b\b 15%\b\b\b\b\b  OK \n",
            "Extracting  /content/drive/MyDrive/Great Learning/Seq NLP & ACV/image_files/raccoon-149.jpg     \b\b\b\b 15%\b\b\b\b\b  OK \n",
            "Extracting  /content/drive/MyDrive/Great Learning/Seq NLP & ACV/image_files/raccoon-15.jpg     \b\b\b\b 15%\b\b\b\b\b  OK \n",
            "Extracting  /content/drive/MyDrive/Great Learning/Seq NLP & ACV/image_files/raccoon-150.jpg     \b\b\b\b 15%\b\b\b\b\b  OK \n",
            "Extracting  /content/drive/MyDrive/Great Learning/Seq NLP & ACV/image_files/raccoon-151.jpg     \b\b\b\b 15%\b\b\b\b\b  OK \n",
            "Extracting  /content/drive/MyDrive/Great Learning/Seq NLP & ACV/image_files/raccoon-152.jpg     \b\b\b\b 15%\b\b\b\b\b  OK \n",
            "Extracting  /content/drive/MyDrive/Great Learning/Seq NLP & ACV/image_files/raccoon-153.jpg     \b\b\b\b 15%\b\b\b\b\b  OK \n",
            "Extracting  /content/drive/MyDrive/Great Learning/Seq NLP & ACV/image_files/raccoon-154.jpg     \b\b\b\b 16%\b\b\b\b\b  OK \n",
            "Extracting  /content/drive/MyDrive/Great Learning/Seq NLP & ACV/image_files/raccoon-155.jpg     \b\b\b\b 16%\b\b\b\b\b  OK \n",
            "Extracting  /content/drive/MyDrive/Great Learning/Seq NLP & ACV/image_files/raccoon-156.jpg     \b\b\b\b 16%\b\b\b\b\b  OK \n",
            "Extracting  /content/drive/MyDrive/Great Learning/Seq NLP & ACV/image_files/raccoon-157.jpg     \b\b\b\b 16%\b\b\b\b\b  OK \n",
            "Extracting  /content/drive/MyDrive/Great Learning/Seq NLP & ACV/image_files/raccoon-158.jpg     \b\b\b\b 16%\b\b\b\b\b  OK \n",
            "Extracting  /content/drive/MyDrive/Great Learning/Seq NLP & ACV/image_files/raccoon-159.jpg     \b\b\b\b 16%\b\b\b\b\b  OK \n",
            "Extracting  /content/drive/MyDrive/Great Learning/Seq NLP & ACV/image_files/raccoon-16.jpg     \b\b\b\b 17%\b\b\b\b\b  OK \n",
            "Extracting  /content/drive/MyDrive/Great Learning/Seq NLP & ACV/image_files/raccoon-160.jpg     \b\b\b\b 17%\b\b\b\b\b  OK \n",
            "Extracting  /content/drive/MyDrive/Great Learning/Seq NLP & ACV/image_files/raccoon-161.jpg     \b\b\b\b 17%\b\b\b\b\b  OK \n",
            "Extracting  /content/drive/MyDrive/Great Learning/Seq NLP & ACV/image_files/raccoon-162.jpg     \b\b\b\b 17%\b\b\b\b\b  OK \n",
            "Extracting  /content/drive/MyDrive/Great Learning/Seq NLP & ACV/image_files/raccoon-163.jpg     \b\b\b\b 17%\b\b\b\b\b  OK \n",
            "Extracting  /content/drive/MyDrive/Great Learning/Seq NLP & ACV/image_files/raccoon-164.jpg     \b\b\b\b 17%\b\b\b\b\b  OK \n",
            "Extracting  /content/drive/MyDrive/Great Learning/Seq NLP & ACV/image_files/raccoon-165.jpg     \b\b\b\b 17%\b\b\b\b\b  OK \n",
            "Extracting  /content/drive/MyDrive/Great Learning/Seq NLP & ACV/image_files/raccoon-166.jpg     \b\b\b\b 17%\b\b\b\b\b  OK \n",
            "Extracting  /content/drive/MyDrive/Great Learning/Seq NLP & ACV/image_files/raccoon-167.jpg     \b\b\b\b 17%\b\b\b\b\b  OK \n",
            "Extracting  /content/drive/MyDrive/Great Learning/Seq NLP & ACV/image_files/raccoon-168.jpg     \b\b\b\b 17%\b\b\b\b\b  OK \n",
            "Extracting  /content/drive/MyDrive/Great Learning/Seq NLP & ACV/image_files/raccoon-169.jpg     \b\b\b\b 18%\b\b\b\b\b  OK \n",
            "Extracting  /content/drive/MyDrive/Great Learning/Seq NLP & ACV/image_files/raccoon-17.jpg     \b\b\b\b 18%\b\b\b\b\b  OK \n",
            "Extracting  /content/drive/MyDrive/Great Learning/Seq NLP & ACV/image_files/raccoon-170.jpg     \b\b\b\b 18%\b\b\b\b\b  OK \n",
            "Extracting  /content/drive/MyDrive/Great Learning/Seq NLP & ACV/image_files/raccoon-171.jpg     \b\b\b\b 18%\b\b\b\b\b  OK \n",
            "Extracting  /content/drive/MyDrive/Great Learning/Seq NLP & ACV/image_files/raccoon-172.jpg     \b\b\b\b 18%\b\b\b\b\b  OK \n",
            "Extracting  /content/drive/MyDrive/Great Learning/Seq NLP & ACV/image_files/raccoon-173.jpg     \b\b\b\b 19%\b\b\b\b\b  OK \n",
            "Extracting  /content/drive/MyDrive/Great Learning/Seq NLP & ACV/image_files/raccoon-174.jpg     \b\b\b\b 19%\b\b\b\b\b  OK \n",
            "Extracting  /content/drive/MyDrive/Great Learning/Seq NLP & ACV/image_files/raccoon-175.jpg     \b\b\b\b 19%\b\b\b\b\b  OK \n",
            "Extracting  /content/drive/MyDrive/Great Learning/Seq NLP & ACV/image_files/raccoon-176.jpg     \b\b\b\b 20%\b\b\b\b\b  OK \n",
            "Extracting  /content/drive/MyDrive/Great Learning/Seq NLP & ACV/image_files/raccoon-177.jpg     \b\b\b\b 20%\b\b\b\b\b  OK \n",
            "Extracting  /content/drive/MyDrive/Great Learning/Seq NLP & ACV/image_files/raccoon-178.jpg     \b\b\b\b 20%\b\b\b\b\b  OK \n",
            "Extracting  /content/drive/MyDrive/Great Learning/Seq NLP & ACV/image_files/raccoon-179.jpg     \b\b\b\b 21%\b\b\b\b\b  OK \n",
            "Extracting  /content/drive/MyDrive/Great Learning/Seq NLP & ACV/image_files/raccoon-18.jpg     \b\b\b\b 21%\b\b\b\b\b  OK \n",
            "Extracting  /content/drive/MyDrive/Great Learning/Seq NLP & ACV/image_files/raccoon-180.jpg     \b\b\b\b 21%\b\b\b\b\b  OK \n",
            "Extracting  /content/drive/MyDrive/Great Learning/Seq NLP & ACV/image_files/raccoon-181.jpg     \b\b\b\b 21%\b\b\b\b\b  OK \n",
            "Extracting  /content/drive/MyDrive/Great Learning/Seq NLP & ACV/image_files/raccoon-182.jpg     \b\b\b\b 22%\b\b\b\b\b  OK \n",
            "Extracting  /content/drive/MyDrive/Great Learning/Seq NLP & ACV/image_files/raccoon-183.jpg     \b\b\b\b 23%\b\b\b\b 24%\b\b\b\b\b  OK \n",
            "Extracting  /content/drive/MyDrive/Great Learning/Seq NLP & ACV/image_files/raccoon-184.jpg     \b\b\b\b 24%\b\b\b\b\b  OK \n",
            "Extracting  /content/drive/MyDrive/Great Learning/Seq NLP & ACV/image_files/raccoon-185.jpg     \b\b\b\b 24%\b\b\b\b\b  OK \n",
            "Extracting  /content/drive/MyDrive/Great Learning/Seq NLP & ACV/image_files/raccoon-186.jpg     \b\b\b\b 25%\b\b\b\b\b  OK \n",
            "Extracting  /content/drive/MyDrive/Great Learning/Seq NLP & ACV/image_files/raccoon-187.jpg     \b\b\b\b 25%\b\b\b\b\b  OK \n",
            "Extracting  /content/drive/MyDrive/Great Learning/Seq NLP & ACV/image_files/raccoon-188.jpg     \b\b\b\b 25%\b\b\b\b\b  OK \n",
            "Extracting  /content/drive/MyDrive/Great Learning/Seq NLP & ACV/image_files/raccoon-189.jpg     \b\b\b\b 25%\b\b\b\b\b  OK \n",
            "Extracting  /content/drive/MyDrive/Great Learning/Seq NLP & ACV/image_files/raccoon-19.jpg     \b\b\b\b 25%\b\b\b\b\b  OK \n",
            "Extracting  /content/drive/MyDrive/Great Learning/Seq NLP & ACV/image_files/raccoon-190.jpg     \b\b\b\b 25%\b\b\b\b\b  OK \n",
            "Extracting  /content/drive/MyDrive/Great Learning/Seq NLP & ACV/image_files/raccoon-191.jpg     \b\b\b\b 26%\b\b\b\b\b  OK \n",
            "Extracting  /content/drive/MyDrive/Great Learning/Seq NLP & ACV/image_files/raccoon-192.jpg     \b\b\b\b 26%\b\b\b\b\b  OK \n",
            "Extracting  /content/drive/MyDrive/Great Learning/Seq NLP & ACV/image_files/raccoon-193.jpg     \b\b\b\b 26%\b\b\b\b\b  OK \n",
            "Extracting  /content/drive/MyDrive/Great Learning/Seq NLP & ACV/image_files/raccoon-194.jpg     \b\b\b\b 27%\b\b\b\b\b  OK \n",
            "Extracting  /content/drive/MyDrive/Great Learning/Seq NLP & ACV/image_files/raccoon-195.jpg     \b\b\b\b 27%\b\b\b\b\b  OK \n",
            "Extracting  /content/drive/MyDrive/Great Learning/Seq NLP & ACV/image_files/raccoon-196.jpg     \b\b\b\b 27%\b\b\b\b\b  OK \n",
            "Extracting  /content/drive/MyDrive/Great Learning/Seq NLP & ACV/image_files/raccoon-197.jpg     \b\b\b\b 28%\b\b\b\b\b  OK \n",
            "Extracting  /content/drive/MyDrive/Great Learning/Seq NLP & ACV/image_files/raccoon-198.jpg     \b\b\b\b 28%\b\b\b\b\b  OK \n",
            "Extracting  /content/drive/MyDrive/Great Learning/Seq NLP & ACV/image_files/raccoon-199.jpg     \b\b\b\b 28%\b\b\b\b\b  OK \n",
            "Extracting  /content/drive/MyDrive/Great Learning/Seq NLP & ACV/image_files/raccoon-2.jpg     \b\b\b\b 29%\b\b\b\b\b  OK \n",
            "Extracting  /content/drive/MyDrive/Great Learning/Seq NLP & ACV/image_files/raccoon-20.jpg     \b\b\b\b 29%\b\b\b\b\b  OK \n",
            "Extracting  /content/drive/MyDrive/Great Learning/Seq NLP & ACV/image_files/raccoon-200.jpg     \b\b\b\b 29%\b\b\b\b\b  OK \n",
            "Extracting  /content/drive/MyDrive/Great Learning/Seq NLP & ACV/image_files/raccoon-21.jpg     \b\b\b\b 29%\b\b\b\b\b  OK \n",
            "Extracting  /content/drive/MyDrive/Great Learning/Seq NLP & ACV/image_files/raccoon-22.jpg     \b\b\b\b 30%\b\b\b\b\b  OK \n",
            "Extracting  /content/drive/MyDrive/Great Learning/Seq NLP & ACV/image_files/raccoon-23.jpg     \b\b\b\b 30%\b\b\b\b\b  OK \n",
            "Extracting  /content/drive/MyDrive/Great Learning/Seq NLP & ACV/image_files/raccoon-24.jpg     \b\b\b\b 30%\b\b\b\b\b  OK \n",
            "Extracting  /content/drive/MyDrive/Great Learning/Seq NLP & ACV/image_files/raccoon-25.jpg     \b\b\b\b 31%\b\b\b\b\b  OK \n",
            "Extracting  /content/drive/MyDrive/Great Learning/Seq NLP & ACV/image_files/raccoon-26.jpg     \b\b\b\b 31%\b\b\b\b\b  OK \n",
            "Extracting  /content/drive/MyDrive/Great Learning/Seq NLP & ACV/image_files/raccoon-27.jpg     \b\b\b\b 31%\b\b\b\b\b  OK \n",
            "Extracting  /content/drive/MyDrive/Great Learning/Seq NLP & ACV/image_files/raccoon-28.jpg     \b\b\b\b 32%\b\b\b\b\b  OK \n",
            "Extracting  /content/drive/MyDrive/Great Learning/Seq NLP & ACV/image_files/raccoon-29.jpg     \b\b\b\b 32%\b\b\b\b\b  OK \n",
            "Extracting  /content/drive/MyDrive/Great Learning/Seq NLP & ACV/image_files/raccoon-3.jpg     \b\b\b\b 32%\b\b\b\b\b  OK \n",
            "Extracting  /content/drive/MyDrive/Great Learning/Seq NLP & ACV/image_files/raccoon-30.jpg     \b\b\b\b 32%\b\b\b\b\b  OK \n",
            "Extracting  /content/drive/MyDrive/Great Learning/Seq NLP & ACV/image_files/raccoon-31.jpg     \b\b\b\b 32%\b\b\b\b\b  OK \n",
            "Extracting  /content/drive/MyDrive/Great Learning/Seq NLP & ACV/image_files/raccoon-32.jpg     \b\b\b\b 32%\b\b\b\b\b  OK \n",
            "Extracting  /content/drive/MyDrive/Great Learning/Seq NLP & ACV/image_files/raccoon-33.jpg     \b\b\b\b 33%\b\b\b\b\b  OK \n",
            "Extracting  /content/drive/MyDrive/Great Learning/Seq NLP & ACV/image_files/raccoon-34.jpg     \b\b\b\b 33%\b\b\b\b\b  OK \n",
            "Extracting  /content/drive/MyDrive/Great Learning/Seq NLP & ACV/image_files/raccoon-35.jpg     \b\b\b\b 33%\b\b\b\b\b  OK \n",
            "Extracting  /content/drive/MyDrive/Great Learning/Seq NLP & ACV/image_files/raccoon-36.jpg     \b\b\b\b 34%\b\b\b\b\b  OK \n",
            "Extracting  /content/drive/MyDrive/Great Learning/Seq NLP & ACV/image_files/raccoon-37.jpg     \b\b\b\b 34%\b\b\b\b\b  OK \n",
            "Extracting  /content/drive/MyDrive/Great Learning/Seq NLP & ACV/image_files/raccoon-38.jpg     \b\b\b\b 34%\b\b\b\b\b  OK \n",
            "Extracting  /content/drive/MyDrive/Great Learning/Seq NLP & ACV/image_files/raccoon-39.jpg     \b\b\b\b 34%\b\b\b\b\b  OK \n",
            "Extracting  /content/drive/MyDrive/Great Learning/Seq NLP & ACV/image_files/raccoon-4.jpg     \b\b\b\b 34%\b\b\b\b\b  OK \n",
            "Extracting  /content/drive/MyDrive/Great Learning/Seq NLP & ACV/image_files/raccoon-40.jpg     \b\b\b\b 34%\b\b\b\b\b  OK \n",
            "Extracting  /content/drive/MyDrive/Great Learning/Seq NLP & ACV/image_files/raccoon-41.jpg     \b\b\b\b 35%\b\b\b\b\b  OK \n",
            "Extracting  /content/drive/MyDrive/Great Learning/Seq NLP & ACV/image_files/raccoon-42.jpg     \b\b\b\b 35%\b\b\b\b\b  OK \n",
            "Extracting  /content/drive/MyDrive/Great Learning/Seq NLP & ACV/image_files/raccoon-43.jpg     \b\b\b\b 35%\b\b\b\b\b  OK \n",
            "Extracting  /content/drive/MyDrive/Great Learning/Seq NLP & ACV/image_files/raccoon-44.jpg     \b\b\b\b 35%\b\b\b\b\b  OK \n",
            "Extracting  /content/drive/MyDrive/Great Learning/Seq NLP & ACV/image_files/raccoon-45.jpg     \b\b\b\b 35%\b\b\b\b\b  OK \n",
            "Extracting  /content/drive/MyDrive/Great Learning/Seq NLP & ACV/image_files/raccoon-46.jpg     \b\b\b\b 36%\b\b\b\b\b  OK \n",
            "Extracting  /content/drive/MyDrive/Great Learning/Seq NLP & ACV/image_files/raccoon-47.jpg     \b\b\b\b 36%\b\b\b\b\b  OK \n",
            "Extracting  /content/drive/MyDrive/Great Learning/Seq NLP & ACV/image_files/raccoon-48.jpg     \b\b\b\b 36%\b\b\b\b\b  OK \n",
            "Extracting  /content/drive/MyDrive/Great Learning/Seq NLP & ACV/image_files/raccoon-49.jpg     \b\b\b\b 36%\b\b\b\b\b  OK \n",
            "Extracting  /content/drive/MyDrive/Great Learning/Seq NLP & ACV/image_files/raccoon-5.jpg     \b\b\b\b 36%\b\b\b\b\b  OK \n",
            "Extracting  /content/drive/MyDrive/Great Learning/Seq NLP & ACV/image_files/raccoon-50.jpg     \b\b\b\b 36%\b\b\b\b\b  OK \n",
            "Extracting  /content/drive/MyDrive/Great Learning/Seq NLP & ACV/image_files/raccoon-51.jpg     \b\b\b\b 37%\b\b\b\b\b  OK \n",
            "Extracting  /content/drive/MyDrive/Great Learning/Seq NLP & ACV/image_files/raccoon-52.jpg     \b\b\b\b 37%\b\b\b\b\b  OK \n",
            "Extracting  /content/drive/MyDrive/Great Learning/Seq NLP & ACV/image_files/raccoon-53.jpg     \b\b\b\b 37%\b\b\b\b\b  OK \n",
            "Extracting  /content/drive/MyDrive/Great Learning/Seq NLP & ACV/image_files/raccoon-54.jpg     \b\b\b\b 38%\b\b\b\b\b  OK \n",
            "Extracting  /content/drive/MyDrive/Great Learning/Seq NLP & ACV/image_files/raccoon-55.jpg     \b\b\b\b 38%\b\b\b\b\b  OK \n",
            "Extracting  /content/drive/MyDrive/Great Learning/Seq NLP & ACV/image_files/raccoon-56.jpg     \b\b\b\b 38%\b\b\b\b\b  OK \n",
            "Extracting  /content/drive/MyDrive/Great Learning/Seq NLP & ACV/image_files/raccoon-57.jpg     \b\b\b\b 39%\b\b\b\b\b  OK \n",
            "Extracting  /content/drive/MyDrive/Great Learning/Seq NLP & ACV/image_files/raccoon-58.jpg     \b\b\b\b 39%\b\b\b\b\b  OK \n",
            "Extracting  /content/drive/MyDrive/Great Learning/Seq NLP & ACV/image_files/raccoon-59.jpg     \b\b\b\b 39%\b\b\b\b\b  OK \n",
            "Extracting  /content/drive/MyDrive/Great Learning/Seq NLP & ACV/image_files/raccoon-6.jpg     \b\b\b\b 39%\b\b\b\b\b  OK \n",
            "Extracting  /content/drive/MyDrive/Great Learning/Seq NLP & ACV/image_files/raccoon-60.jpg     \b\b\b\b 39%\b\b\b\b\b  OK \n",
            "Extracting  /content/drive/MyDrive/Great Learning/Seq NLP & ACV/image_files/raccoon-61.jpg     \b\b\b\b 39%\b\b\b\b\b  OK \n",
            "Extracting  /content/drive/MyDrive/Great Learning/Seq NLP & ACV/image_files/raccoon-62.jpg     \b\b\b\b 40%\b\b\b\b\b  OK \n",
            "Extracting  /content/drive/MyDrive/Great Learning/Seq NLP & ACV/image_files/raccoon-63.jpg     \b\b\b\b 40%\b\b\b\b\b  OK \n",
            "Extracting  /content/drive/MyDrive/Great Learning/Seq NLP & ACV/image_files/raccoon-64.jpg     \b\b\b\b 40%\b\b\b\b\b  OK \n",
            "Extracting  /content/drive/MyDrive/Great Learning/Seq NLP & ACV/image_files/raccoon-65.jpg     \b\b\b\b 40%\b\b\b\b\b  OK \n",
            "Extracting  /content/drive/MyDrive/Great Learning/Seq NLP & ACV/image_files/raccoon-66.jpg     \b\b\b\b 41%\b\b\b\b\b  OK \n",
            "Extracting  /content/drive/MyDrive/Great Learning/Seq NLP & ACV/image_files/raccoon-67.jpg     \b\b\b\b 41%\b\b\b\b\b  OK \n",
            "Extracting  /content/drive/MyDrive/Great Learning/Seq NLP & ACV/image_files/raccoon-68.jpg     \b\b\b\b 41%\b\b\b\b\b  OK \n",
            "Extracting  /content/drive/MyDrive/Great Learning/Seq NLP & ACV/image_files/raccoon-69.jpg     \b\b\b\b 41%\b\b\b\b\b  OK \n",
            "Extracting  /content/drive/MyDrive/Great Learning/Seq NLP & ACV/image_files/raccoon-7.jpg     \b\b\b\b 41%\b\b\b\b\b  OK \n",
            "Extracting  /content/drive/MyDrive/Great Learning/Seq NLP & ACV/image_files/raccoon-70.jpg     \b\b\b\b 42%\b\b\b\b\b  OK \n",
            "Extracting  /content/drive/MyDrive/Great Learning/Seq NLP & ACV/image_files/raccoon-71.jpg     \b\b\b\b 42%\b\b\b\b\b  OK \n",
            "Extracting  /content/drive/MyDrive/Great Learning/Seq NLP & ACV/image_files/raccoon-72.jpg     \b\b\b\b 42%\b\b\b\b\b  OK \n",
            "Extracting  /content/drive/MyDrive/Great Learning/Seq NLP & ACV/image_files/raccoon-73.jpg     \b\b\b\b 42%\b\b\b\b\b  OK \n",
            "Extracting  /content/drive/MyDrive/Great Learning/Seq NLP & ACV/image_files/raccoon-74.jpg     \b\b\b\b 43%\b\b\b\b\b  OK \n",
            "Extracting  /content/drive/MyDrive/Great Learning/Seq NLP & ACV/image_files/raccoon-75.jpg     \b\b\b\b 44%\b\b\b\b\b  OK \n",
            "Extracting  /content/drive/MyDrive/Great Learning/Seq NLP & ACV/image_files/raccoon-76.jpg     \b\b\b\b 44%\b\b\b\b\b  OK \n",
            "Extracting  /content/drive/MyDrive/Great Learning/Seq NLP & ACV/image_files/raccoon-77.jpg     \b\b\b\b 44%\b\b\b\b\b  OK \n",
            "Extracting  /content/drive/MyDrive/Great Learning/Seq NLP & ACV/image_files/raccoon-78.jpg     \b\b\b\b 44%\b\b\b\b\b  OK \n",
            "Extracting  /content/drive/MyDrive/Great Learning/Seq NLP & ACV/image_files/raccoon-79.jpg     \b\b\b\b 44%\b\b\b\b\b  OK \n",
            "Extracting  /content/drive/MyDrive/Great Learning/Seq NLP & ACV/image_files/raccoon-8.jpg     \b\b\b\b 44%\b\b\b\b\b  OK \n",
            "Extracting  /content/drive/MyDrive/Great Learning/Seq NLP & ACV/image_files/raccoon-80.jpg     \b\b\b\b 44%\b\b\b\b\b  OK \n",
            "Extracting  /content/drive/MyDrive/Great Learning/Seq NLP & ACV/image_files/raccoon-81.jpg     \b\b\b\b 45%\b\b\b\b\b  OK \n",
            "Extracting  /content/drive/MyDrive/Great Learning/Seq NLP & ACV/image_files/raccoon-82.jpg     \b\b\b\b 45%\b\b\b\b\b  OK \n",
            "Extracting  /content/drive/MyDrive/Great Learning/Seq NLP & ACV/image_files/raccoon-83.jpg     \b\b\b\b 45%\b\b\b\b\b  OK \n",
            "Extracting  /content/drive/MyDrive/Great Learning/Seq NLP & ACV/image_files/raccoon-84.jpg     \b\b\b\b 45%\b\b\b\b\b  OK \n",
            "Extracting  /content/drive/MyDrive/Great Learning/Seq NLP & ACV/image_files/raccoon-85.jpg     \b\b\b\b 46%\b\b\b\b\b  OK \n",
            "Extracting  /content/drive/MyDrive/Great Learning/Seq NLP & ACV/image_files/raccoon-86.jpg     \b\b\b\b 46%\b\b\b\b\b  OK \n",
            "Extracting  /content/drive/MyDrive/Great Learning/Seq NLP & ACV/image_files/raccoon-87.jpg     \b\b\b\b 46%\b\b\b\b\b  OK \n",
            "Extracting  /content/drive/MyDrive/Great Learning/Seq NLP & ACV/image_files/raccoon-88.jpg     \b\b\b\b 47%\b\b\b\b\b  OK \n",
            "Extracting  /content/drive/MyDrive/Great Learning/Seq NLP & ACV/image_files/raccoon-89.jpg     \b\b\b\b 47%\b\b\b\b\b  OK \n",
            "Extracting  /content/drive/MyDrive/Great Learning/Seq NLP & ACV/image_files/raccoon-9.jpg     \b\b\b\b 47%\b\b\b\b\b  OK \n",
            "Extracting  /content/drive/MyDrive/Great Learning/Seq NLP & ACV/image_files/raccoon-90.jpg     \b\b\b\b 47%\b\b\b\b\b  OK \n",
            "Extracting  /content/drive/MyDrive/Great Learning/Seq NLP & ACV/image_files/raccoon-91.jpg     \b\b\b\b 48%\b\b\b\b\b  OK \n",
            "Extracting  /content/drive/MyDrive/Great Learning/Seq NLP & ACV/image_files/raccoon-92.jpg     \b\b\b\b 48%\b\b\b\b\b  OK \n",
            "Extracting  /content/drive/MyDrive/Great Learning/Seq NLP & ACV/image_files/raccoon-93.jpg     \b\b\b\b 48%\b\b\b\b\b  OK \n",
            "Extracting  /content/drive/MyDrive/Great Learning/Seq NLP & ACV/image_files/raccoon-94.jpg     \b\b\b\b 49%\b\b\b\b\b  OK \n",
            "Extracting  /content/drive/MyDrive/Great Learning/Seq NLP & ACV/image_files/raccoon-95.jpg     \b\b\b\b 49%\b\b\b\b\b  OK \n",
            "Extracting  /content/drive/MyDrive/Great Learning/Seq NLP & ACV/image_files/raccoon-96.jpg     \b\b\b\b 49%\b\b\b\b\b  OK \n",
            "Extracting  /content/drive/MyDrive/Great Learning/Seq NLP & ACV/image_files/raccoon-97.jpg     \b\b\b\b 49%\b\b\b\b\b  OK \n",
            "Extracting  /content/drive/MyDrive/Great Learning/Seq NLP & ACV/image_files/raccoon-98.jpg     \b\b\b\b 49%\b\b\b\b\b  OK \n",
            "Extracting  /content/drive/MyDrive/Great Learning/Seq NLP & ACV/image_files/raccoon-99.jpg     \b\b\b\b 49%\b\b\b\b\b  OK \n",
            "Extracting  /content/drive/MyDrive/Great Learning/Seq NLP & ACV/image_files/raccoon-1.jpg     \b\b\b\b 50%\b\b\b\b\b  OK \n",
            "Extracting  /content/drive/MyDrive/Great Learning/Seq NLP & ACV/image_files/raccoon-10.jpg     \b\b\b\b 50%\b\b\b\b\b  OK \n",
            "Extracting  /content/drive/MyDrive/Great Learning/Seq NLP & ACV/image_files/raccoon-100.jpg     \b\b\b\b 50%\b\b\b\b\b  OK \n",
            "Extracting  /content/drive/MyDrive/Great Learning/Seq NLP & ACV/image_files/raccoon-101.jpg     \b\b\b\b 51%\b\b\b\b\b  OK \n",
            "Extracting  /content/drive/MyDrive/Great Learning/Seq NLP & ACV/image_files/raccoon-102.jpg     \b\b\b\b 51%\b\b\b\b\b  OK \n",
            "Extracting  /content/drive/MyDrive/Great Learning/Seq NLP & ACV/image_files/raccoon-103.jpg     \b\b\b\b 52%\b\b\b\b\b  OK \n",
            "Extracting  /content/drive/MyDrive/Great Learning/Seq NLP & ACV/image_files/raccoon-104.jpg     \b\b\b\b 52%\b\b\b\b\b  OK \n",
            "Extracting  /content/drive/MyDrive/Great Learning/Seq NLP & ACV/image_files/raccoon-105.jpg     \b\b\b\b 52%\b\b\b\b\b  OK \n",
            "Extracting  /content/drive/MyDrive/Great Learning/Seq NLP & ACV/image_files/raccoon-106.jpg     \b\b\b\b 52%\b\b\b\b\b  OK \n",
            "Extracting  /content/drive/MyDrive/Great Learning/Seq NLP & ACV/image_files/raccoon-107.jpg     \b\b\b\b 53%\b\b\b\b\b  OK \n",
            "Extracting  /content/drive/MyDrive/Great Learning/Seq NLP & ACV/image_files/raccoon-108.jpg     \b\b\b\b 53%\b\b\b\b\b  OK \n",
            "Extracting  /content/drive/MyDrive/Great Learning/Seq NLP & ACV/image_files/raccoon-109.jpg     \b\b\b\b 53%\b\b\b\b\b  OK \n",
            "Extracting  /content/drive/MyDrive/Great Learning/Seq NLP & ACV/image_files/raccoon-11.jpg     \b\b\b\b 53%\b\b\b\b\b  OK \n",
            "Extracting  /content/drive/MyDrive/Great Learning/Seq NLP & ACV/image_files/raccoon-110.jpg     \b\b\b\b 53%\b\b\b\b\b  OK \n",
            "Extracting  /content/drive/MyDrive/Great Learning/Seq NLP & ACV/image_files/raccoon-111.jpg     \b\b\b\b 54%\b\b\b\b\b  OK \n",
            "Extracting  /content/drive/MyDrive/Great Learning/Seq NLP & ACV/image_files/raccoon-112.jpg     \b\b\b\b 55%\b\b\b\b\b  OK \n",
            "Extracting  /content/drive/MyDrive/Great Learning/Seq NLP & ACV/image_files/raccoon-113.jpg     \b\b\b\b 55%\b\b\b\b\b  OK \n",
            "Extracting  /content/drive/MyDrive/Great Learning/Seq NLP & ACV/image_files/raccoon-114.jpg     \b\b\b\b 56%\b\b\b\b\b  OK \n",
            "Extracting  /content/drive/MyDrive/Great Learning/Seq NLP & ACV/image_files/raccoon-115.jpg     \b\b\b\b 56%\b\b\b\b\b  OK \n",
            "Extracting  /content/drive/MyDrive/Great Learning/Seq NLP & ACV/image_files/raccoon-116.jpg     \b\b\b\b 57%\b\b\b\b\b  OK \n",
            "Extracting  /content/drive/MyDrive/Great Learning/Seq NLP & ACV/image_files/raccoon-117.jpg     \b\b\b\b 58%\b\b\b\b\b  OK \n",
            "Extracting  /content/drive/MyDrive/Great Learning/Seq NLP & ACV/image_files/raccoon-118.jpg     \b\b\b\b 58%\b\b\b\b\b  OK \n",
            "Extracting  /content/drive/MyDrive/Great Learning/Seq NLP & ACV/image_files/raccoon-119.jpg     \b\b\b\b 58%\b\b\b\b\b  OK \n",
            "Extracting  /content/drive/MyDrive/Great Learning/Seq NLP & ACV/image_files/raccoon-12.jpg     \b\b\b\b 58%\b\b\b\b\b  OK \n",
            "Extracting  /content/drive/MyDrive/Great Learning/Seq NLP & ACV/image_files/raccoon-120.jpg     \b\b\b\b 59%\b\b\b\b\b  OK \n",
            "Extracting  /content/drive/MyDrive/Great Learning/Seq NLP & ACV/image_files/raccoon-121.jpg     \b\b\b\b 59%\b\b\b\b\b  OK \n",
            "Extracting  /content/drive/MyDrive/Great Learning/Seq NLP & ACV/image_files/raccoon-122.jpg     \b\b\b\b 59%\b\b\b\b\b  OK \n",
            "Extracting  /content/drive/MyDrive/Great Learning/Seq NLP & ACV/image_files/raccoon-123.jpg     \b\b\b\b 59%\b\b\b\b\b  OK \n",
            "Extracting  /content/drive/MyDrive/Great Learning/Seq NLP & ACV/image_files/raccoon-124.jpg     \b\b\b\b 59%\b\b\b\b\b  OK \n",
            "Extracting  /content/drive/MyDrive/Great Learning/Seq NLP & ACV/image_files/raccoon-125.jpg     \b\b\b\b 59%\b\b\b\b\b  OK \n",
            "Extracting  /content/drive/MyDrive/Great Learning/Seq NLP & ACV/image_files/raccoon-126.jpg     \b\b\b\b 59%\b\b\b\b\b  OK \n",
            "Extracting  /content/drive/MyDrive/Great Learning/Seq NLP & ACV/image_files/raccoon-127.jpg     \b\b\b\b 59%\b\b\b\b\b  OK \n",
            "Extracting  /content/drive/MyDrive/Great Learning/Seq NLP & ACV/image_files/raccoon-128.jpg     \b\b\b\b 59%\b\b\b\b\b  OK \n",
            "Extracting  /content/drive/MyDrive/Great Learning/Seq NLP & ACV/image_files/raccoon-129.jpg     \b\b\b\b 60%\b\b\b\b\b  OK \n",
            "Extracting  /content/drive/MyDrive/Great Learning/Seq NLP & ACV/image_files/raccoon-13.jpg     \b\b\b\b 60%\b\b\b\b\b  OK \n",
            "Extracting  /content/drive/MyDrive/Great Learning/Seq NLP & ACV/image_files/raccoon-130.jpg     \b\b\b\b 60%\b\b\b\b\b  OK \n",
            "Extracting  /content/drive/MyDrive/Great Learning/Seq NLP & ACV/image_files/raccoon-131.jpg     \b\b\b\b 60%\b\b\b\b\b  OK \n",
            "Extracting  /content/drive/MyDrive/Great Learning/Seq NLP & ACV/image_files/raccoon-132.jpg     \b\b\b\b 60%\b\b\b\b\b  OK \n",
            "Extracting  /content/drive/MyDrive/Great Learning/Seq NLP & ACV/image_files/raccoon-133.jpg     \b\b\b\b 61%\b\b\b\b\b  OK \n",
            "Extracting  /content/drive/MyDrive/Great Learning/Seq NLP & ACV/image_files/raccoon-134.jpg     \b\b\b\b 61%\b\b\b\b\b  OK \n",
            "Extracting  /content/drive/MyDrive/Great Learning/Seq NLP & ACV/image_files/raccoon-135.jpg     \b\b\b\b 61%\b\b\b\b\b  OK \n",
            "Extracting  /content/drive/MyDrive/Great Learning/Seq NLP & ACV/image_files/raccoon-136.jpg     \b\b\b\b 61%\b\b\b\b\b  OK \n",
            "Extracting  /content/drive/MyDrive/Great Learning/Seq NLP & ACV/image_files/raccoon-137.jpg     \b\b\b\b 62%\b\b\b\b\b  OK \n",
            "Extracting  /content/drive/MyDrive/Great Learning/Seq NLP & ACV/image_files/raccoon-138.jpg     \b\b\b\b 62%\b\b\b\b\b  OK \n",
            "Extracting  /content/drive/MyDrive/Great Learning/Seq NLP & ACV/image_files/raccoon-139.jpg     \b\b\b\b 62%\b\b\b\b\b  OK \n",
            "Extracting  /content/drive/MyDrive/Great Learning/Seq NLP & ACV/image_files/raccoon-14.jpg     \b\b\b\b 62%\b\b\b\b\b  OK \n",
            "Extracting  /content/drive/MyDrive/Great Learning/Seq NLP & ACV/image_files/raccoon-140.jpg     \b\b\b\b 62%\b\b\b\b\b  OK \n",
            "Extracting  /content/drive/MyDrive/Great Learning/Seq NLP & ACV/image_files/raccoon-141.jpg     \b\b\b\b 62%\b\b\b\b\b  OK \n",
            "Extracting  /content/drive/MyDrive/Great Learning/Seq NLP & ACV/image_files/raccoon-142.jpg     \b\b\b\b 63%\b\b\b\b\b  OK \n",
            "Extracting  /content/drive/MyDrive/Great Learning/Seq NLP & ACV/image_files/raccoon-143.jpg     \b\b\b\b 63%\b\b\b\b\b  OK \n",
            "Extracting  /content/drive/MyDrive/Great Learning/Seq NLP & ACV/image_files/raccoon-144.jpg     \b\b\b\b 63%\b\b\b\b\b  OK \n",
            "Extracting  /content/drive/MyDrive/Great Learning/Seq NLP & ACV/image_files/raccoon-145.jpg     \b\b\b\b 64%\b\b\b\b\b  OK \n",
            "Extracting  /content/drive/MyDrive/Great Learning/Seq NLP & ACV/image_files/raccoon-146.jpg     \b\b\b\b 64%\b\b\b\b\b  OK \n",
            "Extracting  /content/drive/MyDrive/Great Learning/Seq NLP & ACV/image_files/raccoon-147.jpg     \b\b\b\b 64%\b\b\b\b\b  OK \n",
            "Extracting  /content/drive/MyDrive/Great Learning/Seq NLP & ACV/image_files/raccoon-148.jpg     \b\b\b\b 65%\b\b\b\b\b  OK \n",
            "Extracting  /content/drive/MyDrive/Great Learning/Seq NLP & ACV/image_files/raccoon-149.jpg     \b\b\b\b 65%\b\b\b\b\b  OK \n",
            "Extracting  /content/drive/MyDrive/Great Learning/Seq NLP & ACV/image_files/raccoon-15.jpg     \b\b\b\b 65%\b\b\b\b\b  OK \n",
            "Extracting  /content/drive/MyDrive/Great Learning/Seq NLP & ACV/image_files/raccoon-150.jpg     \b\b\b\b 65%\b\b\b\b\b  OK \n",
            "Extracting  /content/drive/MyDrive/Great Learning/Seq NLP & ACV/image_files/raccoon-151.jpg     \b\b\b\b 65%\b\b\b\b\b  OK \n",
            "Extracting  /content/drive/MyDrive/Great Learning/Seq NLP & ACV/image_files/raccoon-152.jpg     \b\b\b\b 65%\b\b\b\b\b  OK \n",
            "Extracting  /content/drive/MyDrive/Great Learning/Seq NLP & ACV/image_files/raccoon-153.jpg     \b\b\b\b 65%\b\b\b\b\b  OK \n",
            "Extracting  /content/drive/MyDrive/Great Learning/Seq NLP & ACV/image_files/raccoon-154.jpg     \b\b\b\b 66%\b\b\b\b\b  OK \n",
            "Extracting  /content/drive/MyDrive/Great Learning/Seq NLP & ACV/image_files/raccoon-155.jpg     \b\b\b\b 66%\b\b\b\b\b  OK \n",
            "Extracting  /content/drive/MyDrive/Great Learning/Seq NLP & ACV/image_files/raccoon-156.jpg     \b\b\b\b 66%\b\b\b\b\b  OK \n",
            "Extracting  /content/drive/MyDrive/Great Learning/Seq NLP & ACV/image_files/raccoon-157.jpg     \b\b\b\b 66%\b\b\b\b\b  OK \n",
            "Extracting  /content/drive/MyDrive/Great Learning/Seq NLP & ACV/image_files/raccoon-158.jpg     \b\b\b\b 66%\b\b\b\b\b  OK \n",
            "Extracting  /content/drive/MyDrive/Great Learning/Seq NLP & ACV/image_files/raccoon-159.jpg     \b\b\b\b 66%\b\b\b\b\b  OK \n",
            "Extracting  /content/drive/MyDrive/Great Learning/Seq NLP & ACV/image_files/raccoon-16.jpg     \b\b\b\b 66%\b\b\b\b\b  OK \n",
            "Extracting  /content/drive/MyDrive/Great Learning/Seq NLP & ACV/image_files/raccoon-160.jpg     \b\b\b\b 67%\b\b\b\b\b  OK \n",
            "Extracting  /content/drive/MyDrive/Great Learning/Seq NLP & ACV/image_files/raccoon-161.jpg     \b\b\b\b 67%\b\b\b\b\b  OK \n",
            "Extracting  /content/drive/MyDrive/Great Learning/Seq NLP & ACV/image_files/raccoon-162.jpg     \b\b\b\b 67%\b\b\b\b\b  OK \n",
            "Extracting  /content/drive/MyDrive/Great Learning/Seq NLP & ACV/image_files/raccoon-163.jpg     \b\b\b\b 67%\b\b\b\b\b  OK \n",
            "Extracting  /content/drive/MyDrive/Great Learning/Seq NLP & ACV/image_files/raccoon-164.jpg     \b\b\b\b 67%\b\b\b\b\b  OK \n",
            "Extracting  /content/drive/MyDrive/Great Learning/Seq NLP & ACV/image_files/raccoon-165.jpg     \b\b\b\b 67%\b\b\b\b\b  OK \n",
            "Extracting  /content/drive/MyDrive/Great Learning/Seq NLP & ACV/image_files/raccoon-166.jpg     \b\b\b\b 67%\b\b\b\b\b  OK \n",
            "Extracting  /content/drive/MyDrive/Great Learning/Seq NLP & ACV/image_files/raccoon-167.jpg     \b\b\b\b 67%\b\b\b\b\b  OK \n",
            "Extracting  /content/drive/MyDrive/Great Learning/Seq NLP & ACV/image_files/raccoon-168.jpg     \b\b\b\b 67%\b\b\b\b\b  OK \n",
            "Extracting  /content/drive/MyDrive/Great Learning/Seq NLP & ACV/image_files/raccoon-169.jpg     \b\b\b\b 68%\b\b\b\b\b  OK \n",
            "Extracting  /content/drive/MyDrive/Great Learning/Seq NLP & ACV/image_files/raccoon-17.jpg     \b\b\b\b 68%\b\b\b\b\b  OK \n",
            "Extracting  /content/drive/MyDrive/Great Learning/Seq NLP & ACV/image_files/raccoon-170.jpg     \b\b\b\b 68%\b\b\b\b\b  OK \n",
            "Extracting  /content/drive/MyDrive/Great Learning/Seq NLP & ACV/image_files/raccoon-171.jpg     \b\b\b\b 68%\b\b\b\b\b  OK \n",
            "Extracting  /content/drive/MyDrive/Great Learning/Seq NLP & ACV/image_files/raccoon-172.jpg     \b\b\b\b 68%\b\b\b\b\b  OK \n",
            "Extracting  /content/drive/MyDrive/Great Learning/Seq NLP & ACV/image_files/raccoon-173.jpg     \b\b\b\b 68%\b\b\b\b\b  OK \n",
            "Extracting  /content/drive/MyDrive/Great Learning/Seq NLP & ACV/image_files/raccoon-174.jpg     \b\b\b\b 69%\b\b\b\b\b  OK \n",
            "Extracting  /content/drive/MyDrive/Great Learning/Seq NLP & ACV/image_files/raccoon-175.jpg     \b\b\b\b 69%\b\b\b\b\b  OK \n",
            "Extracting  /content/drive/MyDrive/Great Learning/Seq NLP & ACV/image_files/raccoon-176.jpg     \b\b\b\b 70%\b\b\b\b\b  OK \n",
            "Extracting  /content/drive/MyDrive/Great Learning/Seq NLP & ACV/image_files/raccoon-177.jpg     \b\b\b\b 70%\b\b\b\b\b  OK \n",
            "Extracting  /content/drive/MyDrive/Great Learning/Seq NLP & ACV/image_files/raccoon-178.jpg     \b\b\b\b 70%\b\b\b\b\b  OK \n",
            "Extracting  /content/drive/MyDrive/Great Learning/Seq NLP & ACV/image_files/raccoon-179.jpg     \b\b\b\b 71%\b\b\b\b\b  OK \n",
            "Extracting  /content/drive/MyDrive/Great Learning/Seq NLP & ACV/image_files/raccoon-18.jpg     \b\b\b\b 71%\b\b\b\b\b  OK \n",
            "Extracting  /content/drive/MyDrive/Great Learning/Seq NLP & ACV/image_files/raccoon-180.jpg     \b\b\b\b 71%\b\b\b\b\b  OK \n",
            "Extracting  /content/drive/MyDrive/Great Learning/Seq NLP & ACV/image_files/raccoon-181.jpg     \b\b\b\b 71%\b\b\b\b\b  OK \n",
            "Extracting  /content/drive/MyDrive/Great Learning/Seq NLP & ACV/image_files/raccoon-182.jpg     \b\b\b\b 72%\b\b\b\b\b  OK \n",
            "Extracting  /content/drive/MyDrive/Great Learning/Seq NLP & ACV/image_files/raccoon-183.jpg     \b\b\b\b 73%\b\b\b\b\b  OK \n",
            "Extracting  /content/drive/MyDrive/Great Learning/Seq NLP & ACV/image_files/raccoon-184.jpg     \b\b\b\b 74%\b\b\b\b\b  OK \n",
            "Extracting  /content/drive/MyDrive/Great Learning/Seq NLP & ACV/image_files/raccoon-185.jpg     \b\b\b\b 74%\b\b\b\b\b  OK \n",
            "Extracting  /content/drive/MyDrive/Great Learning/Seq NLP & ACV/image_files/raccoon-186.jpg     \b\b\b\b 75%\b\b\b\b\b  OK \n",
            "Extracting  /content/drive/MyDrive/Great Learning/Seq NLP & ACV/image_files/raccoon-187.jpg     \b\b\b\b 75%\b\b\b\b\b  OK \n",
            "Extracting  /content/drive/MyDrive/Great Learning/Seq NLP & ACV/image_files/raccoon-188.jpg     \b\b\b\b 75%\b\b\b\b\b  OK \n",
            "Extracting  /content/drive/MyDrive/Great Learning/Seq NLP & ACV/image_files/raccoon-189.jpg     \b\b\b\b 75%\b\b\b\b\b  OK \n",
            "Extracting  /content/drive/MyDrive/Great Learning/Seq NLP & ACV/image_files/raccoon-19.jpg     \b\b\b\b 75%\b\b\b\b\b  OK \n",
            "Extracting  /content/drive/MyDrive/Great Learning/Seq NLP & ACV/image_files/raccoon-190.jpg     \b\b\b\b 75%\b\b\b\b\b  OK \n",
            "Extracting  /content/drive/MyDrive/Great Learning/Seq NLP & ACV/image_files/raccoon-191.jpg     \b\b\b\b 76%\b\b\b\b\b  OK \n",
            "Extracting  /content/drive/MyDrive/Great Learning/Seq NLP & ACV/image_files/raccoon-192.jpg     \b\b\b\b 76%\b\b\b\b\b  OK \n",
            "Extracting  /content/drive/MyDrive/Great Learning/Seq NLP & ACV/image_files/raccoon-193.jpg     \b\b\b\b 76%\b\b\b\b\b  OK \n",
            "Extracting  /content/drive/MyDrive/Great Learning/Seq NLP & ACV/image_files/raccoon-194.jpg     \b\b\b\b 77%\b\b\b\b\b  OK \n",
            "Extracting  /content/drive/MyDrive/Great Learning/Seq NLP & ACV/image_files/raccoon-195.jpg     \b\b\b\b 77%\b\b\b\b\b  OK \n",
            "Extracting  /content/drive/MyDrive/Great Learning/Seq NLP & ACV/image_files/raccoon-196.jpg     \b\b\b\b 77%\b\b\b\b\b  OK \n",
            "Extracting  /content/drive/MyDrive/Great Learning/Seq NLP & ACV/image_files/raccoon-197.jpg     \b\b\b\b 78%\b\b\b\b\b  OK \n",
            "Extracting  /content/drive/MyDrive/Great Learning/Seq NLP & ACV/image_files/raccoon-198.jpg     \b\b\b\b 78%\b\b\b\b\b  OK \n",
            "Extracting  /content/drive/MyDrive/Great Learning/Seq NLP & ACV/image_files/raccoon-199.jpg     \b\b\b\b 78%\b\b\b\b\b  OK \n",
            "Extracting  /content/drive/MyDrive/Great Learning/Seq NLP & ACV/image_files/raccoon-2.jpg     \b\b\b\b 78%\b\b\b\b\b  OK \n",
            "Extracting  /content/drive/MyDrive/Great Learning/Seq NLP & ACV/image_files/raccoon-20.jpg     \b\b\b\b 79%\b\b\b\b\b  OK \n",
            "Extracting  /content/drive/MyDrive/Great Learning/Seq NLP & ACV/image_files/raccoon-200.jpg     \b\b\b\b 79%\b\b\b\b\b  OK \n",
            "Extracting  /content/drive/MyDrive/Great Learning/Seq NLP & ACV/image_files/raccoon-21.jpg     \b\b\b\b 79%\b\b\b\b\b  OK \n",
            "Extracting  /content/drive/MyDrive/Great Learning/Seq NLP & ACV/image_files/raccoon-22.jpg     \b\b\b\b 80%\b\b\b\b\b  OK \n",
            "Extracting  /content/drive/MyDrive/Great Learning/Seq NLP & ACV/image_files/raccoon-23.jpg     \b\b\b\b 80%\b\b\b\b\b  OK \n",
            "Extracting  /content/drive/MyDrive/Great Learning/Seq NLP & ACV/image_files/raccoon-24.jpg     \b\b\b\b 80%\b\b\b\b\b  OK \n",
            "Extracting  /content/drive/MyDrive/Great Learning/Seq NLP & ACV/image_files/raccoon-25.jpg     \b\b\b\b 81%\b\b\b\b\b  OK \n",
            "Extracting  /content/drive/MyDrive/Great Learning/Seq NLP & ACV/image_files/raccoon-26.jpg     \b\b\b\b 81%\b\b\b\b\b  OK \n",
            "Extracting  /content/drive/MyDrive/Great Learning/Seq NLP & ACV/image_files/raccoon-27.jpg     \b\b\b\b 81%\b\b\b\b\b  OK \n",
            "Extracting  /content/drive/MyDrive/Great Learning/Seq NLP & ACV/image_files/raccoon-28.jpg     \b\b\b\b 82%\b\b\b\b\b  OK \n",
            "Extracting  /content/drive/MyDrive/Great Learning/Seq NLP & ACV/image_files/raccoon-29.jpg     \b\b\b\b 82%\b\b\b\b\b  OK \n",
            "Extracting  /content/drive/MyDrive/Great Learning/Seq NLP & ACV/image_files/raccoon-3.jpg     \b\b\b\b 82%\b\b\b\b\b  OK \n",
            "Extracting  /content/drive/MyDrive/Great Learning/Seq NLP & ACV/image_files/raccoon-30.jpg     \b\b\b\b 82%\b\b\b\b\b  OK \n",
            "Extracting  /content/drive/MyDrive/Great Learning/Seq NLP & ACV/image_files/raccoon-31.jpg     \b\b\b\b 82%\b\b\b\b\b  OK \n",
            "Extracting  /content/drive/MyDrive/Great Learning/Seq NLP & ACV/image_files/raccoon-32.jpg     \b\b\b\b 82%\b\b\b\b\b  OK \n",
            "Extracting  /content/drive/MyDrive/Great Learning/Seq NLP & ACV/image_files/raccoon-33.jpg     \b\b\b\b 83%\b\b\b\b\b  OK \n",
            "Extracting  /content/drive/MyDrive/Great Learning/Seq NLP & ACV/image_files/raccoon-34.jpg     \b\b\b\b 83%\b\b\b\b\b  OK \n",
            "Extracting  /content/drive/MyDrive/Great Learning/Seq NLP & ACV/image_files/raccoon-35.jpg     \b\b\b\b 83%\b\b\b\b\b  OK \n",
            "Extracting  /content/drive/MyDrive/Great Learning/Seq NLP & ACV/image_files/raccoon-36.jpg     \b\b\b\b 84%\b\b\b\b\b  OK \n",
            "Extracting  /content/drive/MyDrive/Great Learning/Seq NLP & ACV/image_files/raccoon-37.jpg     \b\b\b\b 84%\b\b\b\b\b  OK \n",
            "Extracting  /content/drive/MyDrive/Great Learning/Seq NLP & ACV/image_files/raccoon-38.jpg     \b\b\b\b 84%\b\b\b\b\b  OK \n",
            "Extracting  /content/drive/MyDrive/Great Learning/Seq NLP & ACV/image_files/raccoon-39.jpg     \b\b\b\b 84%\b\b\b\b\b  OK \n",
            "Extracting  /content/drive/MyDrive/Great Learning/Seq NLP & ACV/image_files/raccoon-4.jpg     \b\b\b\b 84%\b\b\b\b\b  OK \n",
            "Extracting  /content/drive/MyDrive/Great Learning/Seq NLP & ACV/image_files/raccoon-40.jpg     \b\b\b\b 84%\b\b\b\b\b  OK \n",
            "Extracting  /content/drive/MyDrive/Great Learning/Seq NLP & ACV/image_files/raccoon-41.jpg     \b\b\b\b 85%\b\b\b\b\b  OK \n",
            "Extracting  /content/drive/MyDrive/Great Learning/Seq NLP & ACV/image_files/raccoon-42.jpg     \b\b\b\b 85%\b\b\b\b\b  OK \n",
            "Extracting  /content/drive/MyDrive/Great Learning/Seq NLP & ACV/image_files/raccoon-43.jpg     \b\b\b\b 85%\b\b\b\b\b  OK \n",
            "Extracting  /content/drive/MyDrive/Great Learning/Seq NLP & ACV/image_files/raccoon-44.jpg     \b\b\b\b 85%\b\b\b\b\b  OK \n",
            "Extracting  /content/drive/MyDrive/Great Learning/Seq NLP & ACV/image_files/raccoon-45.jpg     \b\b\b\b 85%\b\b\b\b\b  OK \n",
            "Extracting  /content/drive/MyDrive/Great Learning/Seq NLP & ACV/image_files/raccoon-46.jpg     \b\b\b\b 86%\b\b\b\b\b  OK \n",
            "Extracting  /content/drive/MyDrive/Great Learning/Seq NLP & ACV/image_files/raccoon-47.jpg     \b\b\b\b 86%\b\b\b\b\b  OK \n",
            "Extracting  /content/drive/MyDrive/Great Learning/Seq NLP & ACV/image_files/raccoon-48.jpg     \b\b\b\b 86%\b\b\b\b\b  OK \n",
            "Extracting  /content/drive/MyDrive/Great Learning/Seq NLP & ACV/image_files/raccoon-49.jpg     \b\b\b\b 86%\b\b\b\b\b  OK \n",
            "Extracting  /content/drive/MyDrive/Great Learning/Seq NLP & ACV/image_files/raccoon-5.jpg     \b\b\b\b 86%\b\b\b\b\b  OK \n",
            "Extracting  /content/drive/MyDrive/Great Learning/Seq NLP & ACV/image_files/raccoon-50.jpg     \b\b\b\b 86%\b\b\b\b\b  OK \n",
            "Extracting  /content/drive/MyDrive/Great Learning/Seq NLP & ACV/image_files/raccoon-51.jpg     \b\b\b\b 87%\b\b\b\b\b  OK \n",
            "Extracting  /content/drive/MyDrive/Great Learning/Seq NLP & ACV/image_files/raccoon-52.jpg     \b\b\b\b 87%\b\b\b\b\b  OK \n",
            "Extracting  /content/drive/MyDrive/Great Learning/Seq NLP & ACV/image_files/raccoon-53.jpg     \b\b\b\b 87%\b\b\b\b\b  OK \n",
            "Extracting  /content/drive/MyDrive/Great Learning/Seq NLP & ACV/image_files/raccoon-54.jpg     \b\b\b\b 88%\b\b\b\b\b  OK \n",
            "Extracting  /content/drive/MyDrive/Great Learning/Seq NLP & ACV/image_files/raccoon-55.jpg     \b\b\b\b 88%\b\b\b\b\b  OK \n",
            "Extracting  /content/drive/MyDrive/Great Learning/Seq NLP & ACV/image_files/raccoon-56.jpg     \b\b\b\b 88%\b\b\b\b\b  OK \n",
            "Extracting  /content/drive/MyDrive/Great Learning/Seq NLP & ACV/image_files/raccoon-57.jpg     \b\b\b\b 88%\b\b\b\b\b  OK \n",
            "Extracting  /content/drive/MyDrive/Great Learning/Seq NLP & ACV/image_files/raccoon-58.jpg     \b\b\b\b 89%\b\b\b\b\b  OK \n",
            "Extracting  /content/drive/MyDrive/Great Learning/Seq NLP & ACV/image_files/raccoon-59.jpg     \b\b\b\b 89%\b\b\b\b\b  OK \n",
            "Extracting  /content/drive/MyDrive/Great Learning/Seq NLP & ACV/image_files/raccoon-6.jpg     \b\b\b\b 89%\b\b\b\b\b  OK \n",
            "Extracting  /content/drive/MyDrive/Great Learning/Seq NLP & ACV/image_files/raccoon-60.jpg     \b\b\b\b 89%\b\b\b\b\b  OK \n",
            "Extracting  /content/drive/MyDrive/Great Learning/Seq NLP & ACV/image_files/raccoon-61.jpg     \b\b\b\b 89%\b\b\b\b\b  OK \n",
            "Extracting  /content/drive/MyDrive/Great Learning/Seq NLP & ACV/image_files/raccoon-62.jpg     \b\b\b\b 89%\b\b\b\b\b  OK \n",
            "Extracting  /content/drive/MyDrive/Great Learning/Seq NLP & ACV/image_files/raccoon-63.jpg     \b\b\b\b 90%\b\b\b\b\b  OK \n",
            "Extracting  /content/drive/MyDrive/Great Learning/Seq NLP & ACV/image_files/raccoon-64.jpg     \b\b\b\b 90%\b\b\b\b\b  OK \n",
            "Extracting  /content/drive/MyDrive/Great Learning/Seq NLP & ACV/image_files/raccoon-65.jpg     \b\b\b\b 90%\b\b\b\b\b  OK \n",
            "Extracting  /content/drive/MyDrive/Great Learning/Seq NLP & ACV/image_files/raccoon-66.jpg     \b\b\b\b 90%\b\b\b\b\b  OK \n",
            "Extracting  /content/drive/MyDrive/Great Learning/Seq NLP & ACV/image_files/raccoon-67.jpg     \b\b\b\b 91%\b\b\b\b\b  OK \n",
            "Extracting  /content/drive/MyDrive/Great Learning/Seq NLP & ACV/image_files/raccoon-68.jpg     \b\b\b\b 91%\b\b\b\b\b  OK \n",
            "Extracting  /content/drive/MyDrive/Great Learning/Seq NLP & ACV/image_files/raccoon-69.jpg     \b\b\b\b 91%\b\b\b\b\b  OK \n",
            "Extracting  /content/drive/MyDrive/Great Learning/Seq NLP & ACV/image_files/raccoon-7.jpg     \b\b\b\b 91%\b\b\b\b\b  OK \n",
            "Extracting  /content/drive/MyDrive/Great Learning/Seq NLP & ACV/image_files/raccoon-70.jpg     \b\b\b\b 92%\b\b\b\b\b  OK \n",
            "Extracting  /content/drive/MyDrive/Great Learning/Seq NLP & ACV/image_files/raccoon-71.jpg     \b\b\b\b 92%\b\b\b\b\b  OK \n",
            "Extracting  /content/drive/MyDrive/Great Learning/Seq NLP & ACV/image_files/raccoon-72.jpg     \b\b\b\b 92%\b\b\b\b\b  OK \n",
            "Extracting  /content/drive/MyDrive/Great Learning/Seq NLP & ACV/image_files/raccoon-73.jpg     \b\b\b\b 92%\b\b\b\b\b  OK \n",
            "Extracting  /content/drive/MyDrive/Great Learning/Seq NLP & ACV/image_files/raccoon-74.jpg     \b\b\b\b 93%\b\b\b\b\b  OK \n",
            "Extracting  /content/drive/MyDrive/Great Learning/Seq NLP & ACV/image_files/raccoon-75.jpg     \b\b\b\b 94%\b\b\b\b\b  OK \n",
            "Extracting  /content/drive/MyDrive/Great Learning/Seq NLP & ACV/image_files/raccoon-76.jpg     \b\b\b\b 94%\b\b\b\b\b  OK \n",
            "Extracting  /content/drive/MyDrive/Great Learning/Seq NLP & ACV/image_files/raccoon-77.jpg     \b\b\b\b 94%\b\b\b\b\b  OK \n",
            "Extracting  /content/drive/MyDrive/Great Learning/Seq NLP & ACV/image_files/raccoon-78.jpg     \b\b\b\b 94%\b\b\b\b\b  OK \n",
            "Extracting  /content/drive/MyDrive/Great Learning/Seq NLP & ACV/image_files/raccoon-79.jpg     \b\b\b\b 94%\b\b\b\b\b  OK \n",
            "Extracting  /content/drive/MyDrive/Great Learning/Seq NLP & ACV/image_files/raccoon-8.jpg     \b\b\b\b 94%\b\b\b\b\b  OK \n",
            "Extracting  /content/drive/MyDrive/Great Learning/Seq NLP & ACV/image_files/raccoon-80.jpg     \b\b\b\b 94%\b\b\b\b\b  OK \n",
            "Extracting  /content/drive/MyDrive/Great Learning/Seq NLP & ACV/image_files/raccoon-81.jpg     \b\b\b\b 95%\b\b\b\b\b  OK \n",
            "Extracting  /content/drive/MyDrive/Great Learning/Seq NLP & ACV/image_files/raccoon-82.jpg     \b\b\b\b 95%\b\b\b\b\b  OK \n",
            "Extracting  /content/drive/MyDrive/Great Learning/Seq NLP & ACV/image_files/raccoon-83.jpg     \b\b\b\b 95%\b\b\b\b\b  OK \n",
            "Extracting  /content/drive/MyDrive/Great Learning/Seq NLP & ACV/image_files/raccoon-84.jpg     \b\b\b\b 95%\b\b\b\b\b  OK \n",
            "Extracting  /content/drive/MyDrive/Great Learning/Seq NLP & ACV/image_files/raccoon-85.jpg     \b\b\b\b 96%\b\b\b\b\b  OK \n",
            "Extracting  /content/drive/MyDrive/Great Learning/Seq NLP & ACV/image_files/raccoon-86.jpg     \b\b\b\b 96%\b\b\b\b\b  OK \n",
            "Extracting  /content/drive/MyDrive/Great Learning/Seq NLP & ACV/image_files/raccoon-87.jpg     \b\b\b\b 96%\b\b\b\b\b  OK \n",
            "Extracting  /content/drive/MyDrive/Great Learning/Seq NLP & ACV/image_files/raccoon-88.jpg     \b\b\b\b 97%\b\b\b\b\b  OK \n",
            "Extracting  /content/drive/MyDrive/Great Learning/Seq NLP & ACV/image_files/raccoon-89.jpg     \b\b\b\b 97%\b\b\b\b\b  OK \n",
            "Extracting  /content/drive/MyDrive/Great Learning/Seq NLP & ACV/image_files/raccoon-9.jpg     \b\b\b\b 97%\b\b\b\b\b  OK \n",
            "Extracting  /content/drive/MyDrive/Great Learning/Seq NLP & ACV/image_files/raccoon-90.jpg     \b\b\b\b 97%\b\b\b\b\b  OK \n",
            "Extracting  /content/drive/MyDrive/Great Learning/Seq NLP & ACV/image_files/raccoon-91.jpg     \b\b\b\b 98%\b\b\b\b\b  OK \n",
            "Extracting  /content/drive/MyDrive/Great Learning/Seq NLP & ACV/image_files/raccoon-92.jpg     \b\b\b\b 98%\b\b\b\b\b  OK \n",
            "Extracting  /content/drive/MyDrive/Great Learning/Seq NLP & ACV/image_files/raccoon-93.jpg     \b\b\b\b 98%\b\b\b\b\b  OK \n",
            "Extracting  /content/drive/MyDrive/Great Learning/Seq NLP & ACV/image_files/raccoon-94.jpg     \b\b\b\b 99%\b\b\b\b\b  OK \n",
            "Extracting  /content/drive/MyDrive/Great Learning/Seq NLP & ACV/image_files/raccoon-95.jpg     \b\b\b\b 99%\b\b\b\b\b  OK \n",
            "Extracting  /content/drive/MyDrive/Great Learning/Seq NLP & ACV/image_files/raccoon-96.jpg     \b\b\b\b 99%\b\b\b\b\b  OK \n",
            "Extracting  /content/drive/MyDrive/Great Learning/Seq NLP & ACV/image_files/raccoon-97.jpg     \b\b\b\b 99%\b\b\b\b\b  OK \n",
            "Extracting  /content/drive/MyDrive/Great Learning/Seq NLP & ACV/image_files/raccoon-98.jpg     \b\b\b\b 99%\b\b\b\b\b  OK \n",
            "Extracting  /content/drive/MyDrive/Great Learning/Seq NLP & ACV/image_files/raccoon-99.jpg     \b\b\b\b 99%\b\b\b\b\b  OK \n",
            "All OK\n"
          ]
        }
      ]
    },
    {
      "cell_type": "code",
      "source": [
        "from PIL import Image\n",
        "batch_images = np.zeros((len(paths), IMAGE_SIZE, IMAGE_SIZE, 3), dtype=np.float32)\n",
        "\n",
        "for i, filename in enumerate(paths):\n",
        "  img = Image.open('/content/drive/MyDrive/Great Learning/Seq NLP & ACV/image_files/'+filename)\n",
        "  img = img.resize((IMAGE_SIZE, IMAGE_SIZE));\n",
        "  img = img.convert(\"RGB\");\n",
        "  batch_images[i] = preprocess_input(np.array(img, dtype=np.float32))"
      ],
      "metadata": {
        "id": "IMvTyvfgmhab"
      },
      "execution_count": 89,
      "outputs": []
    },
    {
      "cell_type": "code",
      "source": [
        "model = MobileNet(input_shape=(128,128,3), include_top=False, alpha=1.0)\n",
        "\n",
        "for layer in model.layers:\n",
        "  layer.trainable = False\n",
        "\n",
        "x = model.layers[-1].output\n",
        "x = Conv2D(4, kernel_size=4, name=\"coords\")(x)\n",
        "x = Reshape((4,))(x)\n",
        "\n",
        "model = Model(inputs=model.input, outputs=x)"
      ],
      "metadata": {
        "id": "cGTTY2ZEoabV"
      },
      "execution_count": 90,
      "outputs": []
    },
    {
      "cell_type": "code",
      "source": [
        "model.summary()"
      ],
      "metadata": {
        "colab": {
          "base_uri": "https://localhost:8080/"
        },
        "id": "skIil7k3qFYt",
        "outputId": "6b2da865-abad-4824-baa4-cf8b27a52bda"
      },
      "execution_count": 82,
      "outputs": [
        {
          "output_type": "stream",
          "name": "stdout",
          "text": [
            "Model: \"model_2\"\n",
            "_________________________________________________________________\n",
            " Layer (type)                Output Shape              Param #   \n",
            "=================================================================\n",
            " input_3 (InputLayer)        [(None, 128, 128, 3)]     0         \n",
            "                                                                 \n",
            " conv1 (Conv2D)              (None, 64, 64, 32)        864       \n",
            "                                                                 \n",
            " conv1_bn (BatchNormalizatio  (None, 64, 64, 32)       128       \n",
            " n)                                                              \n",
            "                                                                 \n",
            " conv1_relu (ReLU)           (None, 64, 64, 32)        0         \n",
            "                                                                 \n",
            " conv_dw_1 (DepthwiseConv2D)  (None, 64, 64, 32)       288       \n",
            "                                                                 \n",
            " conv_dw_1_bn (BatchNormaliz  (None, 64, 64, 32)       128       \n",
            " ation)                                                          \n",
            "                                                                 \n",
            " conv_dw_1_relu (ReLU)       (None, 64, 64, 32)        0         \n",
            "                                                                 \n",
            " conv_pw_1 (Conv2D)          (None, 64, 64, 64)        2048      \n",
            "                                                                 \n",
            " conv_pw_1_bn (BatchNormaliz  (None, 64, 64, 64)       256       \n",
            " ation)                                                          \n",
            "                                                                 \n",
            " conv_pw_1_relu (ReLU)       (None, 64, 64, 64)        0         \n",
            "                                                                 \n",
            " conv_pad_2 (ZeroPadding2D)  (None, 65, 65, 64)        0         \n",
            "                                                                 \n",
            " conv_dw_2 (DepthwiseConv2D)  (None, 32, 32, 64)       576       \n",
            "                                                                 \n",
            " conv_dw_2_bn (BatchNormaliz  (None, 32, 32, 64)       256       \n",
            " ation)                                                          \n",
            "                                                                 \n",
            " conv_dw_2_relu (ReLU)       (None, 32, 32, 64)        0         \n",
            "                                                                 \n",
            " conv_pw_2 (Conv2D)          (None, 32, 32, 128)       8192      \n",
            "                                                                 \n",
            " conv_pw_2_bn (BatchNormaliz  (None, 32, 32, 128)      512       \n",
            " ation)                                                          \n",
            "                                                                 \n",
            " conv_pw_2_relu (ReLU)       (None, 32, 32, 128)       0         \n",
            "                                                                 \n",
            " conv_dw_3 (DepthwiseConv2D)  (None, 32, 32, 128)      1152      \n",
            "                                                                 \n",
            " conv_dw_3_bn (BatchNormaliz  (None, 32, 32, 128)      512       \n",
            " ation)                                                          \n",
            "                                                                 \n",
            " conv_dw_3_relu (ReLU)       (None, 32, 32, 128)       0         \n",
            "                                                                 \n",
            " conv_pw_3 (Conv2D)          (None, 32, 32, 128)       16384     \n",
            "                                                                 \n",
            " conv_pw_3_bn (BatchNormaliz  (None, 32, 32, 128)      512       \n",
            " ation)                                                          \n",
            "                                                                 \n",
            " conv_pw_3_relu (ReLU)       (None, 32, 32, 128)       0         \n",
            "                                                                 \n",
            " conv_pad_4 (ZeroPadding2D)  (None, 33, 33, 128)       0         \n",
            "                                                                 \n",
            " conv_dw_4 (DepthwiseConv2D)  (None, 16, 16, 128)      1152      \n",
            "                                                                 \n",
            " conv_dw_4_bn (BatchNormaliz  (None, 16, 16, 128)      512       \n",
            " ation)                                                          \n",
            "                                                                 \n",
            " conv_dw_4_relu (ReLU)       (None, 16, 16, 128)       0         \n",
            "                                                                 \n",
            " conv_pw_4 (Conv2D)          (None, 16, 16, 256)       32768     \n",
            "                                                                 \n",
            " conv_pw_4_bn (BatchNormaliz  (None, 16, 16, 256)      1024      \n",
            " ation)                                                          \n",
            "                                                                 \n",
            " conv_pw_4_relu (ReLU)       (None, 16, 16, 256)       0         \n",
            "                                                                 \n",
            " conv_dw_5 (DepthwiseConv2D)  (None, 16, 16, 256)      2304      \n",
            "                                                                 \n",
            " conv_dw_5_bn (BatchNormaliz  (None, 16, 16, 256)      1024      \n",
            " ation)                                                          \n",
            "                                                                 \n",
            " conv_dw_5_relu (ReLU)       (None, 16, 16, 256)       0         \n",
            "                                                                 \n",
            " conv_pw_5 (Conv2D)          (None, 16, 16, 256)       65536     \n",
            "                                                                 \n",
            " conv_pw_5_bn (BatchNormaliz  (None, 16, 16, 256)      1024      \n",
            " ation)                                                          \n",
            "                                                                 \n",
            " conv_pw_5_relu (ReLU)       (None, 16, 16, 256)       0         \n",
            "                                                                 \n",
            " conv_pad_6 (ZeroPadding2D)  (None, 17, 17, 256)       0         \n",
            "                                                                 \n",
            " conv_dw_6 (DepthwiseConv2D)  (None, 8, 8, 256)        2304      \n",
            "                                                                 \n",
            " conv_dw_6_bn (BatchNormaliz  (None, 8, 8, 256)        1024      \n",
            " ation)                                                          \n",
            "                                                                 \n",
            " conv_dw_6_relu (ReLU)       (None, 8, 8, 256)         0         \n",
            "                                                                 \n",
            " conv_pw_6 (Conv2D)          (None, 8, 8, 512)         131072    \n",
            "                                                                 \n",
            " conv_pw_6_bn (BatchNormaliz  (None, 8, 8, 512)        2048      \n",
            " ation)                                                          \n",
            "                                                                 \n",
            " conv_pw_6_relu (ReLU)       (None, 8, 8, 512)         0         \n",
            "                                                                 \n",
            " conv_dw_7 (DepthwiseConv2D)  (None, 8, 8, 512)        4608      \n",
            "                                                                 \n",
            " conv_dw_7_bn (BatchNormaliz  (None, 8, 8, 512)        2048      \n",
            " ation)                                                          \n",
            "                                                                 \n",
            " conv_dw_7_relu (ReLU)       (None, 8, 8, 512)         0         \n",
            "                                                                 \n",
            " conv_pw_7 (Conv2D)          (None, 8, 8, 512)         262144    \n",
            "                                                                 \n",
            " conv_pw_7_bn (BatchNormaliz  (None, 8, 8, 512)        2048      \n",
            " ation)                                                          \n",
            "                                                                 \n",
            " conv_pw_7_relu (ReLU)       (None, 8, 8, 512)         0         \n",
            "                                                                 \n",
            " conv_dw_8 (DepthwiseConv2D)  (None, 8, 8, 512)        4608      \n",
            "                                                                 \n",
            " conv_dw_8_bn (BatchNormaliz  (None, 8, 8, 512)        2048      \n",
            " ation)                                                          \n",
            "                                                                 \n",
            " conv_dw_8_relu (ReLU)       (None, 8, 8, 512)         0         \n",
            "                                                                 \n",
            " conv_pw_8 (Conv2D)          (None, 8, 8, 512)         262144    \n",
            "                                                                 \n",
            " conv_pw_8_bn (BatchNormaliz  (None, 8, 8, 512)        2048      \n",
            " ation)                                                          \n",
            "                                                                 \n",
            " conv_pw_8_relu (ReLU)       (None, 8, 8, 512)         0         \n",
            "                                                                 \n",
            " conv_dw_9 (DepthwiseConv2D)  (None, 8, 8, 512)        4608      \n",
            "                                                                 \n",
            " conv_dw_9_bn (BatchNormaliz  (None, 8, 8, 512)        2048      \n",
            " ation)                                                          \n",
            "                                                                 \n",
            " conv_dw_9_relu (ReLU)       (None, 8, 8, 512)         0         \n",
            "                                                                 \n",
            " conv_pw_9 (Conv2D)          (None, 8, 8, 512)         262144    \n",
            "                                                                 \n",
            " conv_pw_9_bn (BatchNormaliz  (None, 8, 8, 512)        2048      \n",
            " ation)                                                          \n",
            "                                                                 \n",
            " conv_pw_9_relu (ReLU)       (None, 8, 8, 512)         0         \n",
            "                                                                 \n",
            " conv_dw_10 (DepthwiseConv2D  (None, 8, 8, 512)        4608      \n",
            " )                                                               \n",
            "                                                                 \n",
            " conv_dw_10_bn (BatchNormali  (None, 8, 8, 512)        2048      \n",
            " zation)                                                         \n",
            "                                                                 \n",
            " conv_dw_10_relu (ReLU)      (None, 8, 8, 512)         0         \n",
            "                                                                 \n",
            " conv_pw_10 (Conv2D)         (None, 8, 8, 512)         262144    \n",
            "                                                                 \n",
            " conv_pw_10_bn (BatchNormali  (None, 8, 8, 512)        2048      \n",
            " zation)                                                         \n",
            "                                                                 \n",
            " conv_pw_10_relu (ReLU)      (None, 8, 8, 512)         0         \n",
            "                                                                 \n",
            " conv_dw_11 (DepthwiseConv2D  (None, 8, 8, 512)        4608      \n",
            " )                                                               \n",
            "                                                                 \n",
            " conv_dw_11_bn (BatchNormali  (None, 8, 8, 512)        2048      \n",
            " zation)                                                         \n",
            "                                                                 \n",
            " conv_dw_11_relu (ReLU)      (None, 8, 8, 512)         0         \n",
            "                                                                 \n",
            " conv_pw_11 (Conv2D)         (None, 8, 8, 512)         262144    \n",
            "                                                                 \n",
            " conv_pw_11_bn (BatchNormali  (None, 8, 8, 512)        2048      \n",
            " zation)                                                         \n",
            "                                                                 \n",
            " conv_pw_11_relu (ReLU)      (None, 8, 8, 512)         0         \n",
            "                                                                 \n",
            " conv_pad_12 (ZeroPadding2D)  (None, 9, 9, 512)        0         \n",
            "                                                                 \n",
            " conv_dw_12 (DepthwiseConv2D  (None, 4, 4, 512)        4608      \n",
            " )                                                               \n",
            "                                                                 \n",
            " conv_dw_12_bn (BatchNormali  (None, 4, 4, 512)        2048      \n",
            " zation)                                                         \n",
            "                                                                 \n",
            " conv_dw_12_relu (ReLU)      (None, 4, 4, 512)         0         \n",
            "                                                                 \n",
            " conv_pw_12 (Conv2D)         (None, 4, 4, 1024)        524288    \n",
            "                                                                 \n",
            " conv_pw_12_bn (BatchNormali  (None, 4, 4, 1024)       4096      \n",
            " zation)                                                         \n",
            "                                                                 \n",
            " conv_pw_12_relu (ReLU)      (None, 4, 4, 1024)        0         \n",
            "                                                                 \n",
            " conv_dw_13 (DepthwiseConv2D  (None, 4, 4, 1024)       9216      \n",
            " )                                                               \n",
            "                                                                 \n",
            " conv_dw_13_bn (BatchNormali  (None, 4, 4, 1024)       4096      \n",
            " zation)                                                         \n",
            "                                                                 \n",
            " conv_dw_13_relu (ReLU)      (None, 4, 4, 1024)        0         \n",
            "                                                                 \n",
            " conv_pw_13 (Conv2D)         (None, 4, 4, 1024)        1048576   \n",
            "                                                                 \n",
            " conv_pw_13_bn (BatchNormali  (None, 4, 4, 1024)       4096      \n",
            " zation)                                                         \n",
            "                                                                 \n",
            " conv_pw_13_relu (ReLU)      (None, 4, 4, 1024)        0         \n",
            "                                                                 \n",
            " coords (Conv2D)             (None, 1, 1, 4)           65540     \n",
            "                                                                 \n",
            " reshape_2 (Reshape)         (None, 4)                 0         \n",
            "                                                                 \n",
            "=================================================================\n",
            "Total params: 3,294,404\n",
            "Trainable params: 65,540\n",
            "Non-trainable params: 3,228,864\n",
            "_________________________________________________________________\n"
          ]
        }
      ]
    },
    {
      "cell_type": "markdown",
      "metadata": {
        "id": "nsQSHWgpWGjC"
      },
      "source": [
        "### Define a custom loss function IoU which calculates Intersection Over Union"
      ]
    },
    {
      "cell_type": "code",
      "metadata": {
        "id": "7Ig_Gsn-WGjD"
      },
      "source": [
        "def loss(gt,pred):\n",
        "    intersections = 0\n",
        "    unions = 0\n",
        "    diff_width = np.minimum(gt[:,0] + gt[:,2], pred[:,0] + pred[:,2]) - np.maximum(gt[:,0], pred[:,0])\n",
        "    diff_height = np.minimum(gt[:,1] + gt[:,3], pred[:,1] + pred[:,3]) - np.maximum(gt[:,1], pred[:,1])\n",
        "    intersection = diff_width * diff_height\n",
        "    \n",
        "    # Compute union\n",
        "    area_gt = gt[:,2] * gt[:,3]\n",
        "    area_pred = pred[:,2] * pred[:,3]\n",
        "    union = area_gt + area_pred - intersection\n",
        "\n",
        "#     Compute intersection and union over multiple boxes\n",
        "    for j, _ in enumerate(union):\n",
        "        if union[j] > 0 and intersection[j] > 0 and union[j] >= intersection[j]:\n",
        "            intersections += intersection[j]\n",
        "            unions += union[j]\n",
        "\n",
        "    # Compute IOU. Use epsilon to prevent division by zero\n",
        "    iou = np.round(intersections / (unions + epsilon()), 4)\n",
        "    iou = iou.astype(np.float32)\n",
        "    return iou\n",
        "\n",
        "def Iou(y_true, y_pred):\n",
        "    iou = tf.numpy_function(loss, [y_true, y_pred], tf.float32)\n",
        "    return iou"
      ],
      "execution_count": 71,
      "outputs": []
    },
    {
      "cell_type": "markdown",
      "metadata": {
        "id": "2Zs7VcSVWGjF"
      },
      "source": [
        "### Write model.compile function & model.fit function with: <br>\n",
        "1. Optimizer = Adam, Loss = 'mse' and metrics = IoU\n",
        "2. Epochs = 30, batch_size = 32, verbose = 1"
      ]
    },
    {
      "cell_type": "code",
      "metadata": {
        "id": "f35dLEJlWGjG",
        "colab": {
          "base_uri": "https://localhost:8080/"
        },
        "outputId": "989c58a9-b223-43d5-e7ea-420555f10d27"
      },
      "source": [
        "from keras.backend import epsilon\n",
        "\n",
        "model.compile(optimizer='Adam', loss='mse', metrics=[Iou])\n",
        "model.fit(batch_images, coords, epochs=30, batch_size=32, verbose=1)"
      ],
      "execution_count": 91,
      "outputs": [
        {
          "output_type": "stream",
          "name": "stdout",
          "text": [
            "Epoch 1/30\n",
            "6/6 [==============================] - 4s 310ms/step - loss: 3933.0962 - Iou: 0.0876\n",
            "Epoch 2/30\n",
            "6/6 [==============================] - 2s 310ms/step - loss: 730.2834 - Iou: 0.4284\n",
            "Epoch 3/30\n",
            "6/6 [==============================] - 2s 307ms/step - loss: 483.2124 - Iou: 0.5802\n",
            "Epoch 4/30\n",
            "6/6 [==============================] - 2s 425ms/step - loss: 621.6769 - Iou: 0.5320\n",
            "Epoch 5/30\n",
            "6/6 [==============================] - 3s 436ms/step - loss: 347.5941 - Iou: 0.6218\n",
            "Epoch 6/30\n",
            "6/6 [==============================] - 4s 614ms/step - loss: 204.1799 - Iou: 0.6587\n",
            "Epoch 7/30\n",
            "6/6 [==============================] - 3s 437ms/step - loss: 192.9340 - Iou: 0.6664\n",
            "Epoch 8/30\n",
            "6/6 [==============================] - 3s 469ms/step - loss: 159.7413 - Iou: 0.6868\n",
            "Epoch 9/30\n",
            "6/6 [==============================] - 3s 510ms/step - loss: 123.5795 - Iou: 0.7387\n",
            "Epoch 10/30\n",
            "6/6 [==============================] - 3s 428ms/step - loss: 110.2146 - Iou: 0.7688\n",
            "Epoch 11/30\n",
            "6/6 [==============================] - 2s 312ms/step - loss: 98.7479 - Iou: 0.7743\n",
            "Epoch 12/30\n",
            "6/6 [==============================] - 2s 312ms/step - loss: 90.4977 - Iou: 0.7845\n",
            "Epoch 13/30\n",
            "6/6 [==============================] - 2s 314ms/step - loss: 85.2819 - Iou: 0.7938\n",
            "Epoch 14/30\n",
            "6/6 [==============================] - 2s 309ms/step - loss: 79.6632 - Iou: 0.7935\n",
            "Epoch 15/30\n",
            "6/6 [==============================] - 2s 316ms/step - loss: 76.4619 - Iou: 0.7987\n",
            "Epoch 16/30\n",
            "6/6 [==============================] - 2s 307ms/step - loss: 72.4197 - Iou: 0.8096\n",
            "Epoch 17/30\n",
            "6/6 [==============================] - 2s 311ms/step - loss: 68.3500 - Iou: 0.8352\n",
            "Epoch 18/30\n",
            "6/6 [==============================] - 2s 310ms/step - loss: 66.5007 - Iou: 0.8217\n",
            "Epoch 19/30\n",
            "6/6 [==============================] - 2s 307ms/step - loss: 63.2431 - Iou: 0.8264\n",
            "Epoch 20/30\n",
            "6/6 [==============================] - 2s 313ms/step - loss: 60.4627 - Iou: 0.8292\n",
            "Epoch 21/30\n",
            "6/6 [==============================] - 2s 317ms/step - loss: 59.6961 - Iou: 0.8456\n",
            "Epoch 22/30\n",
            "6/6 [==============================] - 2s 313ms/step - loss: 58.6620 - Iou: 0.8500\n",
            "Epoch 23/30\n",
            "6/6 [==============================] - 2s 311ms/step - loss: 56.7519 - Iou: 0.8507\n",
            "Epoch 24/30\n",
            "6/6 [==============================] - 2s 309ms/step - loss: 56.7881 - Iou: 0.8449\n",
            "Epoch 25/30\n",
            "6/6 [==============================] - 2s 316ms/step - loss: 56.3167 - Iou: 0.8582\n",
            "Epoch 26/30\n",
            "6/6 [==============================] - 2s 312ms/step - loss: 54.4198 - Iou: 0.8647\n",
            "Epoch 27/30\n",
            "6/6 [==============================] - 2s 309ms/step - loss: 53.3442 - Iou: 0.8729\n",
            "Epoch 28/30\n",
            "6/6 [==============================] - 2s 311ms/step - loss: 53.4523 - Iou: 0.8552\n",
            "Epoch 29/30\n",
            "6/6 [==============================] - 2s 309ms/step - loss: 53.0505 - Iou: 0.8745\n",
            "Epoch 30/30\n",
            "6/6 [==============================] - 2s 309ms/step - loss: 52.6070 - Iou: 0.8681\n"
          ]
        },
        {
          "output_type": "execute_result",
          "data": {
            "text/plain": [
              "<keras.callbacks.History at 0x7f9d03c4bd90>"
            ]
          },
          "metadata": {},
          "execution_count": 91
        }
      ]
    },
    {
      "cell_type": "markdown",
      "metadata": {
        "id": "II1itmqiWGjK"
      },
      "source": [
        "### Pick a test image from the given data"
      ]
    },
    {
      "cell_type": "code",
      "metadata": {
        "id": "0ULErYeSWGjK"
      },
      "source": [
        "import cv2\n",
        "\n",
        "filename = '/content/drive/MyDrive/Great Learning/Seq NLP & ACV/image_files/raccoon-99.jpg'\n",
        "unscaled = cv2.imread(filename)"
      ],
      "execution_count": 101,
      "outputs": []
    },
    {
      "cell_type": "markdown",
      "metadata": {
        "id": "h99SC9MjWGjO"
      },
      "source": [
        "### Resize the image to 128 * 128 and preprocess the image for the MobileNet model"
      ]
    },
    {
      "cell_type": "code",
      "metadata": {
        "id": "J3jbKm7_WGjP"
      },
      "source": [
        "image_height, image_width, _ = unscaled.shape\n",
        "image = cv2.resize(unscaled, (128, 128))\n",
        "feat_scaled = preprocess_input(np.array(image, dtype=np.float32))"
      ],
      "execution_count": 102,
      "outputs": []
    },
    {
      "cell_type": "markdown",
      "metadata": {
        "id": "aGK4IjdaWGjR"
      },
      "source": [
        "### Predict the coordinates of the bounding box for the given test image"
      ]
    },
    {
      "cell_type": "code",
      "metadata": {
        "id": "abnXH5F7WGjS"
      },
      "source": [
        "region = model.predict(x=np.array([feat_scaled]))[0]"
      ],
      "execution_count": 103,
      "outputs": []
    },
    {
      "cell_type": "markdown",
      "metadata": {
        "id": "CXbjVdLWWGjW"
      },
      "source": [
        "### Plot the test image using .imshow and draw a boundary box around the image with the coordinates obtained from the model"
      ]
    },
    {
      "cell_type": "code",
      "metadata": {
        "id": "t4Ah05MlWGjY",
        "colab": {
          "base_uri": "https://localhost:8080/",
          "height": 269
        },
        "outputId": "d58aeb24-2b88-44b2-f12c-854a57600122"
      },
      "source": [
        "x0 = int(region[0] * image_width / IMAGE_SIZE) # Scale the BBox\n",
        "y0 = int(region[1] * image_height / IMAGE_SIZE)\n",
        "\n",
        "x1 = int((region[2]) * image_width / IMAGE_SIZE)\n",
        "y1 = int((region[3]) * image_height / IMAGE_SIZE)\n",
        "\n",
        "\n",
        "import matplotlib.pyplot as plt\n",
        "import matplotlib.patches as patches\n",
        "from PIL import Image\n",
        "import numpy as np\n",
        "\n",
        "\n",
        "# Create figure and axes\n",
        "fig,ax = plt.subplots(1)\n",
        "\n",
        "# Display the image\n",
        "ax.imshow(unscaled)\n",
        "\n",
        "# Create a Rectangle patch\n",
        "rect = patches.Rectangle((x0, y0), (x1 - x0) , (y1 - y0) , linewidth=2, edgecolor='r', facecolor='none')\n",
        "\n",
        "# Add the patch to the Axes\n",
        "ax.add_patch(rect)\n",
        "\n",
        "plt.show()"
      ],
      "execution_count": 104,
      "outputs": [
        {
          "output_type": "display_data",
          "data": {
            "text/plain": [
              "<Figure size 432x288 with 1 Axes>"
            ],
            "image/png": "[encoded data removed]"
          },
          "metadata": {
            "needs_background": "light"
          }
        }
      ]
    },
    {
      "cell_type": "markdown",
      "metadata": {
        "id": "70uye82rMg3S"
      },
      "source": [
        "# Time Series Prediction using LSTM"
      ]
    },
    {
      "cell_type": "markdown",
      "metadata": {
        "id": "CBdggSYjMg3U"
      },
      "source": [
        "### Download Data\n",
        "Link: https://datamarket.com/data/set/2324/daily-minimum-temperatures-in-melbourne-australia-1981-1990#!ds=2324&display=line\n",
        "\n",
        "#### Description\n",
        "Daily minimum temperatures in Melbourne, Australia, 1981-1990\n",
        "\n",
        "Units: Degrees Celcius\n",
        "\n",
        "#### Steps before loading\n",
        "- Rename the column name with temprature values to \"Temprature\"\n",
        "- In the last, there is one extra row in the data, remove it by opening the file and save it again.\n",
        "- There are some values in Temprature column which have a \"?\" before them, they will give error, remove \"?\" before them and save the file\n",
        "- If you don't want to do these steps, just load the data file given by Great Learning."
      ]
    },
    {
      "cell_type": "markdown",
      "metadata": {
        "id": "xXaEyK4qMg3W"
      },
      "source": [
        "#### Mount google drive"
      ]
    },
    {
      "cell_type": "markdown",
      "metadata": {
        "id": "BghKtCKlMg3b"
      },
      "source": [
        "#### Change your present working directory"
      ]
    },
    {
      "cell_type": "code",
      "metadata": {
        "id": "VjoLRSg57qlt",
        "colab": {
          "base_uri": "https://localhost:8080/"
        },
        "outputId": "0b5bfed1-46f4-4412-f6be-4d42a04597f0"
      },
      "source": [
        "!ls"
      ],
      "execution_count": 106,
      "outputs": [
        {
          "output_type": "stream",
          "name": "stdout",
          "text": [
            " daily-minimum-temperatures-in-me.csv  'SeqNLP&ACV_Lab1_Questions.ipynb'\n",
            " image_files\t\t\t        train_labels.csv\n",
            " images_racoon-2.rar\n"
          ]
        }
      ]
    },
    {
      "cell_type": "markdown",
      "metadata": {
        "id": "UMP39JKEMg3f"
      },
      "source": [
        "### Load your data file"
      ]
    },
    {
      "cell_type": "code",
      "source": [
        "import pandas\n",
        "\n",
        "data = pd.read_csv('daily-minimum-temperatures-in-me.csv', index_col='Date')\n",
        "data.head()"
      ],
      "metadata": {
        "colab": {
          "base_uri": "https://localhost:8080/",
          "height": 237
        },
        "id": "RA4QU8-H22xV",
        "outputId": "4ee285f5-b8d5-4cef-882b-847d89905fad"
      },
      "execution_count": 109,
      "outputs": [
        {
          "output_type": "execute_result",
          "data": {
            "text/plain": [
              "            Temperature\n",
              "Date                   \n",
              "1981-01-01         20.7\n",
              "1981-01-02         17.9\n",
              "1981-01-03         18.8\n",
              "1981-01-04         14.6\n",
              "1981-01-05         15.8"
            ],
            "text/html": [
              "\n",
              "  <div id=\"df-5292e992-eb9e-4390-ba94-129ff2e1aa32\">\n",
              "    <div class=\"colab-df-container\">\n",
              "      <div>\n",
              "<style scoped>\n",
              "    .dataframe tbody tr th:only-of-type {\n",
              "        vertical-align: middle;\n",
              "    }\n",
              "\n",
              "    .dataframe tbody tr th {\n",
              "        vertical-align: top;\n",
              "    }\n",
              "\n",
              "    .dataframe thead th {\n",
              "        text-align: right;\n",
              "    }\n",
              "</style>\n",
              "<table border=\"1\" class=\"dataframe\">\n",
              "  <thead>\n",
              "    <tr style=\"text-align: right;\">\n",
              "      <th></th>\n",
              "      <th>Temperature</th>\n",
              "    </tr>\n",
              "    <tr>\n",
              "      <th>Date</th>\n",
              "      <th></th>\n",
              "    </tr>\n",
              "  </thead>\n",
              "  <tbody>\n",
              "    <tr>\n",
              "      <th>1981-01-01</th>\n",
              "      <td>20.7</td>\n",
              "    </tr>\n",
              "    <tr>\n",
              "      <th>1981-01-02</th>\n",
              "      <td>17.9</td>\n",
              "    </tr>\n",
              "    <tr>\n",
              "      <th>1981-01-03</th>\n",
              "      <td>18.8</td>\n",
              "    </tr>\n",
              "    <tr>\n",
              "      <th>1981-01-04</th>\n",
              "      <td>14.6</td>\n",
              "    </tr>\n",
              "    <tr>\n",
              "      <th>1981-01-05</th>\n",
              "      <td>15.8</td>\n",
              "    </tr>\n",
              "  </tbody>\n",
              "</table>\n",
              "</div>\n",
              "      <button class=\"colab-df-convert\" onclick=\"convertToInteractive('df-5292e992-eb9e-4390-ba94-129ff2e1aa32')\"\n",
              "              title=\"Convert this dataframe to an interactive table.\"\n",
              "              style=\"display:none;\">\n",
              "        \n",
              "  <svg xmlns=\"http://www.w3.org/2000/svg\" height=\"24px\"viewBox=\"0 0 24 24\"\n",
              "       width=\"24px\">\n",
              "    <path d=\"M0 0h24v24H0V0z\" fill=\"none\"/>\n",
              "    <path d=\"M18.56 5.44l.94 2.06.94-2.06 2.06-.94-2.06-.94-.94-2.06-.94 2.06-2.06.94zm-11 1L8.5 8.5l.94-2.06 2.06-.94-2.06-.94L8.5 2.5l-.94 2.06-2.06.94zm10 10l.94 2.06.94-2.06 2.06-.94-2.06-.94-.94-2.06-.94 2.06-2.06.94z\"/><path d=\"M17.41 7.96l-1.37-1.37c-.4-.4-.92-.59-1.43-.59-.52 0-1.04.2-1.43.59L10.3 9.45l-7.72 7.72c-.78.78-.78 2.05 0 2.83L4 21.41c.39.39.9.59 1.41.59.51 0 1.02-.2 1.41-.59l7.78-7.78 2.81-2.81c.8-.78.8-2.07 0-2.86zM5.41 20L4 18.59l7.72-7.72 1.47 1.35L5.41 20z\"/>\n",
              "  </svg>\n",
              "      </button>\n",
              "      \n",
              "  <style>\n",
              "    .colab-df-container {\n",
              "      display:flex;\n",
              "      flex-wrap:wrap;\n",
              "      gap: 12px;\n",
              "    }\n",
              "\n",
              "    .colab-df-convert {\n",
              "      background-color: #E8F0FE;\n",
              "      border: none;\n",
              "      border-radius: 50%;\n",
              "      cursor: pointer;\n",
              "      display: none;\n",
              "      fill: #1967D2;\n",
              "      height: 32px;\n",
              "      padding: 0 0 0 0;\n",
              "      width: 32px;\n",
              "    }\n",
              "\n",
              "    .colab-df-convert:hover {\n",
              "      background-color: #E2EBFA;\n",
              "      box-shadow: 0px 1px 2px rgba(60, 64, 67, 0.3), 0px 1px 3px 1px rgba(60, 64, 67, 0.15);\n",
              "      fill: #174EA6;\n",
              "    }\n",
              "\n",
              "    [theme=dark] .colab-df-convert {\n",
              "      background-color: #3B4455;\n",
              "      fill: #D2E3FC;\n",
              "    }\n",
              "\n",
              "    [theme=dark] .colab-df-convert:hover {\n",
              "      background-color: #434B5C;\n",
              "      box-shadow: 0px 1px 3px 1px rgba(0, 0, 0, 0.15);\n",
              "      filter: drop-shadow(0px 1px 2px rgba(0, 0, 0, 0.3));\n",
              "      fill: #FFFFFF;\n",
              "    }\n",
              "  </style>\n",
              "\n",
              "      <script>\n",
              "        const buttonEl =\n",
              "          document.querySelector('#df-5292e992-eb9e-4390-ba94-129ff2e1aa32 button.colab-df-convert');\n",
              "        buttonEl.style.display =\n",
              "          google.colab.kernel.accessAllowed ? 'block' : 'none';\n",
              "\n",
              "        async function convertToInteractive(key) {\n",
              "          const element = document.querySelector('#df-5292e992-eb9e-4390-ba94-129ff2e1aa32');\n",
              "          const dataTable =\n",
              "            await google.colab.kernel.invokeFunction('convertToInteractive',\n",
              "                                                     [key], {});\n",
              "          if (!dataTable) return;\n",
              "\n",
              "          const docLinkHtml = 'Like what you see? Visit the ' +\n",
              "            '<a target=\"_blank\" href=https://colab.research.google.com/notebooks/data_table.ipynb>data table notebook</a>'\n",
              "            + ' to learn more about interactive tables.';\n",
              "          element.innerHTML = '';\n",
              "          dataTable['output_type'] = 'display_data';\n",
              "          await google.colab.output.renderOutput(dataTable, element);\n",
              "          const docLink = document.createElement('div');\n",
              "          docLink.innerHTML = docLinkHtml;\n",
              "          element.appendChild(docLink);\n",
              "        }\n",
              "      </script>\n",
              "    </div>\n",
              "  </div>\n",
              "  "
            ]
          },
          "metadata": {},
          "execution_count": 109
        }
      ]
    },
    {
      "cell_type": "markdown",
      "metadata": {
        "id": "EAfx3bsQMg3j"
      },
      "source": [
        "#### Plot data"
      ]
    },
    {
      "cell_type": "code",
      "metadata": {
        "id": "JOYCPgwJMg3c",
        "colab": {
          "base_uri": "https://localhost:8080/",
          "height": 362
        },
        "outputId": "7a88f261-fe3a-4de1-a0c9-db13a2459489"
      },
      "source": [
        "data.plot()\n",
        "plt.xticks(rotation=90)"
      ],
      "execution_count": 111,
      "outputs": [
        {
          "output_type": "execute_result",
          "data": {
            "text/plain": [
              "(array([-500.,    0.,  500., 1000., 1500., 2000., 2500., 3000., 3500.,\n",
              "        4000.]), <a list of 10 Text major ticklabel objects>)"
            ]
          },
          "metadata": {},
          "execution_count": 111
        },
        {
          "output_type": "display_data",
          "data": {
            "text/plain": [
              "<Figure size 432x288 with 1 Axes>"
            ],
            "image/png": "[encoded data removed]"
          },
          "metadata": {
            "needs_background": "light"
          }
        }
      ]
    },
    {
      "cell_type": "markdown",
      "metadata": {
        "id": "LWGBEOdNMg3n"
      },
      "source": [
        "#### Descibe your dataframe"
      ]
    },
    {
      "cell_type": "code",
      "metadata": {
        "id": "oBWNA_kG7JxC",
        "colab": {
          "base_uri": "https://localhost:8080/",
          "height": 300
        },
        "outputId": "9465c3f0-70c8-49ec-af8f-73277d5fd433"
      },
      "source": [
        "data.describe()"
      ],
      "execution_count": 112,
      "outputs": [
        {
          "output_type": "execute_result",
          "data": {
            "text/plain": [
              "       Temperature\n",
              "count  3650.000000\n",
              "mean     11.177753\n",
              "std       4.071837\n",
              "min       0.000000\n",
              "25%       8.300000\n",
              "50%      11.000000\n",
              "75%      14.000000\n",
              "max      26.300000"
            ],
            "text/html": [
              "\n",
              "  <div id=\"df-8f520925-3201-49ca-baf4-ba0dcbfe92b1\">\n",
              "    <div class=\"colab-df-container\">\n",
              "      <div>\n",
              "<style scoped>\n",
              "    .dataframe tbody tr th:only-of-type {\n",
              "        vertical-align: middle;\n",
              "    }\n",
              "\n",
              "    .dataframe tbody tr th {\n",
              "        vertical-align: top;\n",
              "    }\n",
              "\n",
              "    .dataframe thead th {\n",
              "        text-align: right;\n",
              "    }\n",
              "</style>\n",
              "<table border=\"1\" class=\"dataframe\">\n",
              "  <thead>\n",
              "    <tr style=\"text-align: right;\">\n",
              "      <th></th>\n",
              "      <th>Temperature</th>\n",
              "    </tr>\n",
              "  </thead>\n",
              "  <tbody>\n",
              "    <tr>\n",
              "      <th>count</th>\n",
              "      <td>3650.000000</td>\n",
              "    </tr>\n",
              "    <tr>\n",
              "      <th>mean</th>\n",
              "      <td>11.177753</td>\n",
              "    </tr>\n",
              "    <tr>\n",
              "      <th>std</th>\n",
              "      <td>4.071837</td>\n",
              "    </tr>\n",
              "    <tr>\n",
              "      <th>min</th>\n",
              "      <td>0.000000</td>\n",
              "    </tr>\n",
              "    <tr>\n",
              "      <th>25%</th>\n",
              "      <td>8.300000</td>\n",
              "    </tr>\n",
              "    <tr>\n",
              "      <th>50%</th>\n",
              "      <td>11.000000</td>\n",
              "    </tr>\n",
              "    <tr>\n",
              "      <th>75%</th>\n",
              "      <td>14.000000</td>\n",
              "    </tr>\n",
              "    <tr>\n",
              "      <th>max</th>\n",
              "      <td>26.300000</td>\n",
              "    </tr>\n",
              "  </tbody>\n",
              "</table>\n",
              "</div>\n",
              "      <button class=\"colab-df-convert\" onclick=\"convertToInteractive('df-8f520925-3201-49ca-baf4-ba0dcbfe92b1')\"\n",
              "              title=\"Convert this dataframe to an interactive table.\"\n",
              "              style=\"display:none;\">\n",
              "        \n",
              "  <svg xmlns=\"http://www.w3.org/2000/svg\" height=\"24px\"viewBox=\"0 0 24 24\"\n",
              "       width=\"24px\">\n",
              "    <path d=\"M0 0h24v24H0V0z\" fill=\"none\"/>\n",
              "    <path d=\"M18.56 5.44l.94 2.06.94-2.06 2.06-.94-2.06-.94-.94-2.06-.94 2.06-2.06.94zm-11 1L8.5 8.5l.94-2.06 2.06-.94-2.06-.94L8.5 2.5l-.94 2.06-2.06.94zm10 10l.94 2.06.94-2.06 2.06-.94-2.06-.94-.94-2.06-.94 2.06-2.06.94z\"/><path d=\"M17.41 7.96l-1.37-1.37c-.4-.4-.92-.59-1.43-.59-.52 0-1.04.2-1.43.59L10.3 9.45l-7.72 7.72c-.78.78-.78 2.05 0 2.83L4 21.41c.39.39.9.59 1.41.59.51 0 1.02-.2 1.41-.59l7.78-7.78 2.81-2.81c.8-.78.8-2.07 0-2.86zM5.41 20L4 18.59l7.72-7.72 1.47 1.35L5.41 20z\"/>\n",
              "  </svg>\n",
              "      </button>\n",
              "      \n",
              "  <style>\n",
              "    .colab-df-container {\n",
              "      display:flex;\n",
              "      flex-wrap:wrap;\n",
              "      gap: 12px;\n",
              "    }\n",
              "\n",
              "    .colab-df-convert {\n",
              "      background-color: #E8F0FE;\n",
              "      border: none;\n",
              "      border-radius: 50%;\n",
              "      cursor: pointer;\n",
              "      display: none;\n",
              "      fill: #1967D2;\n",
              "      height: 32px;\n",
              "      padding: 0 0 0 0;\n",
              "      width: 32px;\n",
              "    }\n",
              "\n",
              "    .colab-df-convert:hover {\n",
              "      background-color: #E2EBFA;\n",
              "      box-shadow: 0px 1px 2px rgba(60, 64, 67, 0.3), 0px 1px 3px 1px rgba(60, 64, 67, 0.15);\n",
              "      fill: #174EA6;\n",
              "    }\n",
              "\n",
              "    [theme=dark] .colab-df-convert {\n",
              "      background-color: #3B4455;\n",
              "      fill: #D2E3FC;\n",
              "    }\n",
              "\n",
              "    [theme=dark] .colab-df-convert:hover {\n",
              "      background-color: #434B5C;\n",
              "      box-shadow: 0px 1px 3px 1px rgba(0, 0, 0, 0.15);\n",
              "      filter: drop-shadow(0px 1px 2px rgba(0, 0, 0, 0.3));\n",
              "      fill: #FFFFFF;\n",
              "    }\n",
              "  </style>\n",
              "\n",
              "      <script>\n",
              "        const buttonEl =\n",
              "          document.querySelector('#df-8f520925-3201-49ca-baf4-ba0dcbfe92b1 button.colab-df-convert');\n",
              "        buttonEl.style.display =\n",
              "          google.colab.kernel.accessAllowed ? 'block' : 'none';\n",
              "\n",
              "        async function convertToInteractive(key) {\n",
              "          const element = document.querySelector('#df-8f520925-3201-49ca-baf4-ba0dcbfe92b1');\n",
              "          const dataTable =\n",
              "            await google.colab.kernel.invokeFunction('convertToInteractive',\n",
              "                                                     [key], {});\n",
              "          if (!dataTable) return;\n",
              "\n",
              "          const docLinkHtml = 'Like what you see? Visit the ' +\n",
              "            '<a target=\"_blank\" href=https://colab.research.google.com/notebooks/data_table.ipynb>data table notebook</a>'\n",
              "            + ' to learn more about interactive tables.';\n",
              "          element.innerHTML = '';\n",
              "          dataTable['output_type'] = 'display_data';\n",
              "          await google.colab.output.renderOutput(dataTable, element);\n",
              "          const docLink = document.createElement('div');\n",
              "          docLink.innerHTML = docLinkHtml;\n",
              "          element.appendChild(docLink);\n",
              "        }\n",
              "      </script>\n",
              "    </div>\n",
              "  </div>\n",
              "  "
            ]
          },
          "metadata": {},
          "execution_count": 112
        }
      ]
    },
    {
      "cell_type": "markdown",
      "metadata": {
        "id": "HlPYgFPLMg3r"
      },
      "source": [
        "#### Check for null values"
      ]
    },
    {
      "cell_type": "code",
      "metadata": {
        "id": "97MVIy_N7JxH",
        "colab": {
          "base_uri": "https://localhost:8080/"
        },
        "outputId": "33063f06-421d-4722-87a6-f0cc4f22eca8"
      },
      "source": [
        "data.isna().sum()"
      ],
      "execution_count": 114,
      "outputs": [
        {
          "output_type": "execute_result",
          "data": {
            "text/plain": [
              "Temperature    0\n",
              "dtype: int64"
            ]
          },
          "metadata": {},
          "execution_count": 114
        }
      ]
    },
    {
      "cell_type": "markdown",
      "metadata": {
        "id": "qo6HzStBMg3v"
      },
      "source": [
        "#### Drop null values"
      ]
    },
    {
      "cell_type": "code",
      "metadata": {
        "id": "fgh7mdOI7JxS"
      },
      "source": [
        "data.dropna(inplace=True)"
      ],
      "execution_count": 116,
      "outputs": []
    },
    {
      "cell_type": "markdown",
      "metadata": {
        "id": "LcJgcz37Mg30"
      },
      "source": [
        "#### Get the representation of the distribution of data in the form of histogram"
      ]
    },
    {
      "cell_type": "code",
      "metadata": {
        "id": "659sLAx27Jxc",
        "colab": {
          "base_uri": "https://localhost:8080/",
          "height": 316
        },
        "outputId": "42d908fd-64a7-437f-bc29-3bbaa86fc402"
      },
      "source": [
        "data.hist()"
      ],
      "execution_count": 117,
      "outputs": [
        {
          "output_type": "execute_result",
          "data": {
            "text/plain": [
              "array([[<matplotlib.axes._subplots.AxesSubplot object at 0x7f9cf61b76d0>]],\n",
              "      dtype=object)"
            ]
          },
          "metadata": {},
          "execution_count": 117
        },
        {
          "output_type": "display_data",
          "data": {
            "text/plain": [
              "<Figure size 432x288 with 1 Axes>"
            ],
            "image/png": "[encoded data removed]"
          },
          "metadata": {
            "needs_background": "light"
          }
        }
      ]
    },
    {
      "cell_type": "markdown",
      "metadata": {
        "id": "GpH88qtBMg34"
      },
      "source": [
        "#### Check the maximum and minimum values"
      ]
    },
    {
      "cell_type": "code",
      "metadata": {
        "id": "WmkjCx8c7Jxn",
        "colab": {
          "base_uri": "https://localhost:8080/"
        },
        "outputId": "c73fffd0-31ff-481c-96e7-dc7f0c470db1"
      },
      "source": [
        "import natsort\n",
        "\n",
        "print('Min', np.min(data))\n",
        "print('Max', np.max(data))"
      ],
      "execution_count": 119,
      "outputs": [
        {
          "output_type": "stream",
          "name": "stdout",
          "text": [
            "Min Temperature    0.0\n",
            "dtype: float64\n",
            "Max Temperature    26.3\n",
            "dtype: float64\n"
          ]
        }
      ]
    },
    {
      "cell_type": "markdown",
      "metadata": {
        "id": "AQVmR3ENMg37"
      },
      "source": [
        "### Normalize the data"
      ]
    },
    {
      "cell_type": "code",
      "metadata": {
        "id": "fb4SNzD27Jxw"
      },
      "source": [
        "from sklearn.preprocessing import MinMaxScaler\n",
        "\n",
        "scaler = MinMaxScaler(feature_range=(0,1))\n",
        "scaled = scaler.fit_transform(data)"
      ],
      "execution_count": 125,
      "outputs": []
    },
    {
      "cell_type": "markdown",
      "metadata": {
        "id": "Amc8j4P-Mg3-"
      },
      "source": [
        "#### Check the maximum and minimum values of scaled data"
      ]
    },
    {
      "cell_type": "code",
      "source": [
        "print('Min', np.min(scaled))\n",
        "print('Max', np.max(scaled))"
      ],
      "metadata": {
        "colab": {
          "base_uri": "https://localhost:8080/"
        },
        "id": "hPWJw9Zw4L7y",
        "outputId": "9c160da4-a5fa-4f6f-8049-30145fbc67d2"
      },
      "execution_count": 126,
      "outputs": [
        {
          "output_type": "stream",
          "name": "stdout",
          "text": [
            "Min 0.0\n",
            "Max 1.0\n"
          ]
        }
      ]
    },
    {
      "cell_type": "markdown",
      "metadata": {
        "id": "mPwfKLsbMg4B"
      },
      "source": [
        "#### Look into some of the scaled values"
      ]
    },
    {
      "cell_type": "code",
      "source": [
        "scaled[:10]"
      ],
      "metadata": {
        "colab": {
          "base_uri": "https://localhost:8080/"
        },
        "id": "dzuGxFKW4Wp8",
        "outputId": "35febb5d-c333-471c-9c5e-3b96594a3d5a"
      },
      "execution_count": 127,
      "outputs": [
        {
          "output_type": "execute_result",
          "data": {
            "text/plain": [
              "array([[0.78707224],\n",
              "       [0.68060837],\n",
              "       [0.7148289 ],\n",
              "       [0.55513308],\n",
              "       [0.60076046],\n",
              "       [0.60076046],\n",
              "       [0.60076046],\n",
              "       [0.66159696],\n",
              "       [0.82889734],\n",
              "       [0.76045627]])"
            ]
          },
          "metadata": {},
          "execution_count": 127
        }
      ]
    },
    {
      "cell_type": "markdown",
      "metadata": {
        "id": "4i6aEeORMg4F"
      },
      "source": [
        "### Split data into Training and Testing"
      ]
    },
    {
      "cell_type": "code",
      "metadata": {
        "id": "-0Uh7lCO7JyD"
      },
      "source": [
        "train_size = int(len(scaled) * .7)\n",
        "test_size = len(scaled - train_size)\n",
        "\n",
        "train = scaled[0: train_size, :]\n",
        "test = scaled[train_size: len(scaled), :]"
      ],
      "execution_count": 128,
      "outputs": []
    },
    {
      "cell_type": "markdown",
      "metadata": {
        "id": "MYxgFlAHMg4I"
      },
      "source": [
        "#### Print train and test size"
      ]
    },
    {
      "cell_type": "code",
      "metadata": {
        "id": "T9pRem3FMg4J",
        "colab": {
          "base_uri": "https://localhost:8080/"
        },
        "outputId": "fb10b43f-2adf-4c95-f552-5fbb557e6684"
      },
      "source": [
        "print('train size', len(train))\n",
        "print('test size', len(test))"
      ],
      "execution_count": 129,
      "outputs": [
        {
          "output_type": "stream",
          "name": "stdout",
          "text": [
            "train size 2555\n",
            "test size 1095\n"
          ]
        }
      ]
    },
    {
      "cell_type": "markdown",
      "metadata": {
        "id": "-UKovqKBMg4L"
      },
      "source": [
        "## Create the sequential data\n",
        "Map the temprature at a particular time t to the temprature at time t+n, where n is any number you define.\n",
        "\n",
        "For example: to map tempratures of consecutive days, use t+1, i.e. loop_back = 1"
      ]
    },
    {
      "cell_type": "markdown",
      "metadata": {
        "id": "m7uoSqtKMg4M"
      },
      "source": [
        "#### Define your function to create dataset"
      ]
    },
    {
      "cell_type": "code",
      "metadata": {
        "id": "jWIvInPB7JyK"
      },
      "source": [
        "def create_dataset(dataset,look_back=1):\n",
        "  dataX, dataY = [],[]\n",
        "  for i in range(len(dataset)-look_back-1):\n",
        "    a=dataset[i:(i+look_back),0]\n",
        "    dataset[i+look_back,0]\n",
        "    dataX.append(a)\n",
        "    dataY.append(dataset[i+look_back,0])\n",
        "  return np.array(dataX),np.array(dataY)"
      ],
      "execution_count": 132,
      "outputs": []
    },
    {
      "cell_type": "markdown",
      "metadata": {
        "id": "WePfiYR6Mg4R"
      },
      "source": [
        "#### Use function to get training and test set"
      ]
    },
    {
      "cell_type": "code",
      "metadata": {
        "id": "uarOJcPk7JyQ",
        "scrolled": true
      },
      "source": [
        "X_train, y_train = create_dataset(train, 1)\n",
        "X_test, y_test = create_dataset(test, 1)"
      ],
      "execution_count": 148,
      "outputs": []
    },
    {
      "cell_type": "code",
      "source": [
        "X_train.shape"
      ],
      "metadata": {
        "colab": {
          "base_uri": "https://localhost:8080/"
        },
        "id": "nx9lQ9oi6su_",
        "outputId": "d7a41158-f3f0-4666-b448-296c79f18068"
      },
      "execution_count": 149,
      "outputs": [
        {
          "output_type": "execute_result",
          "data": {
            "text/plain": [
              "(2553, 1)"
            ]
          },
          "metadata": {},
          "execution_count": 149
        }
      ]
    },
    {
      "cell_type": "code",
      "source": [
        "X_test.shape"
      ],
      "metadata": {
        "colab": {
          "base_uri": "https://localhost:8080/"
        },
        "id": "eyGtYU6u6na7",
        "outputId": "79e38e0b-1da7-4639-fa2a-cdfba8d9c58f"
      },
      "execution_count": 150,
      "outputs": [
        {
          "output_type": "execute_result",
          "data": {
            "text/plain": [
              "(1093, 1)"
            ]
          },
          "metadata": {},
          "execution_count": 150
        }
      ]
    },
    {
      "cell_type": "markdown",
      "metadata": {
        "id": "w_vztTvsMg4X"
      },
      "source": [
        "#### Transform the prepared train and test input data into the expected structure using numpy.reshape()"
      ]
    },
    {
      "cell_type": "code",
      "metadata": {
        "id": "UJZ4VB4N7JyV"
      },
      "source": [
        "X_train  = np.reshape(X_train, (X_train.shape[0], X_train.shape[1], 1))\n",
        "X_test  = np.reshape(X_test, (X_test.shape[0], X_test.shape[1], 1))"
      ],
      "execution_count": 151,
      "outputs": []
    },
    {
      "cell_type": "code",
      "source": [
        "X_train.shape"
      ],
      "metadata": {
        "colab": {
          "base_uri": "https://localhost:8080/"
        },
        "id": "2bcXkKei7FfZ",
        "outputId": "31359838-fccc-4483-e3f7-b5f5e3275d76"
      },
      "execution_count": 152,
      "outputs": [
        {
          "output_type": "execute_result",
          "data": {
            "text/plain": [
              "(2553, 1, 1)"
            ]
          },
          "metadata": {},
          "execution_count": 152
        }
      ]
    },
    {
      "cell_type": "code",
      "source": [
        "X_test.shape"
      ],
      "metadata": {
        "colab": {
          "base_uri": "https://localhost:8080/"
        },
        "id": "bnM8DKmf7G56",
        "outputId": "5a39f80f-f581-413b-f84b-35cbd2c8cff4"
      },
      "execution_count": 153,
      "outputs": [
        {
          "output_type": "execute_result",
          "data": {
            "text/plain": [
              "(1093, 1, 1)"
            ]
          },
          "metadata": {},
          "execution_count": 153
        }
      ]
    },
    {
      "cell_type": "markdown",
      "metadata": {
        "id": "2ApGy3FBMg4a"
      },
      "source": [
        "## Define Model"
      ]
    },
    {
      "cell_type": "markdown",
      "metadata": {
        "id": "kx0ctZLiMg4b"
      },
      "source": [
        "### Define sequntial model, add LSTM layer and compile the model"
      ]
    },
    {
      "cell_type": "code",
      "metadata": {
        "id": "yRW-Txvt7Jya"
      },
      "source": [
        "from keras.models import Sequential\n",
        "from keras.layers import LSTM, Dense\n",
        "\n",
        "batch_size = 1\n",
        "look_back = 1 \n",
        "\n",
        "model = Sequential()\n",
        "model.add(LSTM(4, batch_input_shape=(batch_size, look_back, 1), stateful=True))\n",
        "model.add(Dense(1))\n",
        "\n",
        "model.compile(loss='mean_squared_error', optimizer='adam')"
      ],
      "execution_count": 154,
      "outputs": []
    },
    {
      "cell_type": "markdown",
      "metadata": {
        "id": "zyAxLVdxMg4f"
      },
      "source": [
        "### Summarize your model"
      ]
    },
    {
      "cell_type": "code",
      "metadata": {
        "id": "0I_UO7GOMg4g",
        "colab": {
          "base_uri": "https://localhost:8080/"
        },
        "outputId": "533809c1-65ab-45be-9b6b-78d40a17e07a"
      },
      "source": [
        "model.summary()"
      ],
      "execution_count": 155,
      "outputs": [
        {
          "output_type": "stream",
          "name": "stdout",
          "text": [
            "Model: \"sequential_1\"\n",
            "_________________________________________________________________\n",
            " Layer (type)                Output Shape              Param #   \n",
            "=================================================================\n",
            " lstm_1 (LSTM)               (1, 4)                    96        \n",
            "                                                                 \n",
            " dense_1 (Dense)             (1, 1)                    5         \n",
            "                                                                 \n",
            "=================================================================\n",
            "Total params: 101\n",
            "Trainable params: 101\n",
            "Non-trainable params: 0\n",
            "_________________________________________________________________\n"
          ]
        }
      ]
    },
    {
      "cell_type": "markdown",
      "metadata": {
        "id": "orlJW-1_Mg4j"
      },
      "source": [
        "### Train the model"
      ]
    },
    {
      "cell_type": "code",
      "metadata": {
        "id": "yyzESxsmMg4j",
        "colab": {
          "base_uri": "https://localhost:8080/"
        },
        "outputId": "9e802cb0-2c52-4db1-a2f5-43728c4de265"
      },
      "source": [
        "model.fit(X_train, y_train, batch_size=batch_size, verbose=2, epochs=10, shuffle=True)"
      ],
      "execution_count": 156,
      "outputs": [
        {
          "output_type": "stream",
          "name": "stdout",
          "text": [
            "Epoch 1/10\n",
            "2553/2553 - 6s - loss: 0.0170 - 6s/epoch - 2ms/step\n",
            "Epoch 2/10\n",
            "2553/2553 - 4s - loss: 0.0105 - 4s/epoch - 2ms/step\n",
            "Epoch 3/10\n",
            "2553/2553 - 4s - loss: 0.0102 - 4s/epoch - 2ms/step\n",
            "Epoch 4/10\n",
            "2553/2553 - 4s - loss: 0.0101 - 4s/epoch - 2ms/step\n",
            "Epoch 5/10\n",
            "2553/2553 - 4s - loss: 0.0102 - 4s/epoch - 2ms/step\n",
            "Epoch 6/10\n",
            "2553/2553 - 4s - loss: 0.0101 - 4s/epoch - 2ms/step\n",
            "Epoch 7/10\n",
            "2553/2553 - 4s - loss: 0.0102 - 4s/epoch - 2ms/step\n",
            "Epoch 8/10\n",
            "2553/2553 - 4s - loss: 0.0101 - 4s/epoch - 2ms/step\n",
            "Epoch 9/10\n",
            "2553/2553 - 4s - loss: 0.0102 - 4s/epoch - 1ms/step\n",
            "Epoch 10/10\n",
            "2553/2553 - 4s - loss: 0.0102 - 4s/epoch - 1ms/step\n"
          ]
        },
        {
          "output_type": "execute_result",
          "data": {
            "text/plain": [
              "<keras.callbacks.History at 0x7f9d04bddf10>"
            ]
          },
          "metadata": {},
          "execution_count": 156
        }
      ]
    },
    {
      "cell_type": "markdown",
      "metadata": {
        "id": "eSQgnvPKMg4m"
      },
      "source": [
        "## Make Predictions and Evaluate your model"
      ]
    },
    {
      "cell_type": "code",
      "metadata": {
        "id": "85Ip5wrq7Jyi"
      },
      "source": [
        "train_predict = model.predict(X_train, batch_size=batch_size)\n",
        "\n",
        "model.reset_states()\n",
        "test_predict = model.predict(X_test, batch_size=batch_size)\n",
        "\n",
        "train_predict = scaler.inverse_transform(train_predict)\n",
        "y_train = scaler.inverse_transform([y_train])\n",
        "\n",
        "test_predict = scaler.inverse_transform(test_predict)\n",
        "y_test = scaler.inverse_transform([y_test])"
      ],
      "execution_count": 159,
      "outputs": []
    },
    {
      "cell_type": "code",
      "source": [
        "import math\n",
        "from sklearn.metrics import mean_squared_error\n",
        "\n",
        "train_score = math.sqrt(mean_squared_error(y_train[0], train_predict[:, 0]))\n",
        "test_score = math.sqrt(mean_squared_error(y_test[0], test_predict[:,0]))\n",
        "\n",
        "print('Train score RMSE: ', train_score)\n",
        "print('Test score RMSE: ', test_score)"
      ],
      "metadata": {
        "colab": {
          "base_uri": "https://localhost:8080/"
        },
        "id": "w5edCIZk901U",
        "outputId": "cf2d5d38-f9b6-4452-9253-b477623e8210"
      },
      "execution_count": 163,
      "outputs": [
        {
          "output_type": "stream",
          "name": "stdout",
          "text": [
            "Train score RMSE:  2.658465148072832\n",
            "Test score RMSE:  2.5321262731465257\n"
          ]
        }
      ]
    },
    {
      "cell_type": "markdown",
      "metadata": {
        "id": "Ewi6Zyl9Mg4o"
      },
      "source": [
        "## Plot the results"
      ]
    },
    {
      "cell_type": "code",
      "metadata": {
        "id": "FHbIWp-D7Jyn",
        "colab": {
          "base_uri": "https://localhost:8080/",
          "height": 569
        },
        "outputId": "dc7c7d20-14cc-4891-b051-8a58e4b4ba1c"
      },
      "source": [
        "import matplotlib.pyplot as plt\n",
        "\n",
        "train_predict_plot = np.empty_like(scaled)\n",
        "train_predict_plot[:, :] = np.nan\n",
        "train_predict_plot[look_back: len(train_predict) + look_back, :] = train_predict\n",
        "\n",
        "test_predict_plot = np.empty_like(scaled)\n",
        "test_predict_plot[:, :] = np.nan\n",
        "test_predict_plot[look_back: len(test_predict) + look_back, :] = test_predict\n",
        "\n",
        "plt.figure(figsize=(20, 10))\n",
        "plt.plot(train_predict_plot)\n",
        "plt.plot(test_predict_plot)\n",
        "plt.show()"
      ],
      "execution_count": 166,
      "outputs": [
        {
          "output_type": "display_data",
          "data": {
            "text/plain": [
              "<Figure size 1440x720 with 1 Axes>"
            ],
            "image/png": "[encoded data removed]"
          },
          "metadata": {
            "needs_background": "light"
          }
        }
      ]
    }
  ]
}