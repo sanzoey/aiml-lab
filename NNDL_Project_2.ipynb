{
  "nbformat": 4,
  "nbformat_minor": 0,
  "metadata": {
    "colab": {
      "name": "NNDL Project 2.ipynb",
      "provenance": [],
      "toc_visible": true
    },
    "kernelspec": {
      "name": "python3",
      "display_name": "Python 3"
    },
    "language_info": {
      "name": "python"
    },
    "accelerator": "GPU"
  },
  "cells": [
    {
      "cell_type": "code",
      "execution_count": 1,
      "metadata": {
        "id": "3vAPBkcYA3sj"
      },
      "outputs": [],
      "source": [
        "import numpy as np\n",
        "import pandas as pd\n",
        "import matplotlib.pyplot as plt\n",
        "import seaborn as sns\n",
        "import h5py\n",
        "\n",
        "import tensorflow as tf\n",
        "from tensorflow import keras\n",
        "\n",
        "%matplotlib inline"
      ]
    },
    {
      "cell_type": "markdown",
      "source": [
        "### 1. Data Import and Exploration "
      ],
      "metadata": {
        "id": "OG3wpz6PFSq5"
      }
    },
    {
      "cell_type": "code",
      "source": [
        "# Read the .h5 file and assign to a variable.\n",
        "\n",
        "filePath = '/content/drive/MyDrive/greatlearning/NNDL Project 2/SVHN_single_grey1.h5'\n",
        "\n",
        "file = h5py.File(filePath, 'r')"
      ],
      "metadata": {
        "id": "dWDAp-idBC8O"
      },
      "execution_count": 2,
      "outputs": []
    },
    {
      "cell_type": "code",
      "source": [
        "# Print all the keys from the .h5 file\n",
        "\n",
        "file.keys()"
      ],
      "metadata": {
        "colab": {
          "base_uri": "https://localhost:8080/"
        },
        "id": "LYwMLAcsCFKl",
        "outputId": "161b80f3-4277-4085-b943-62e6991a2234"
      },
      "execution_count": 3,
      "outputs": [
        {
          "output_type": "execute_result",
          "data": {
            "text/plain": [
              "<KeysViewHDF5 ['X_test', 'X_train', 'X_val', 'y_test', 'y_train', 'y_val']>"
            ]
          },
          "metadata": {},
          "execution_count": 3
        }
      ]
    },
    {
      "cell_type": "code",
      "source": [
        "# Split the data into X_train, X_test, Y_train, Y_test \n",
        "\n",
        "X_train = np.array(file.get('X_train'))\n",
        "X_test = np.array(file.get('X_test'))\n",
        "\n",
        "y_train = np.array(file.get('y_train'))\n",
        "y_test = np.array(file.get('y_test'))"
      ],
      "metadata": {
        "id": "NONmqG1OFJ4n"
      },
      "execution_count": 4,
      "outputs": []
    },
    {
      "cell_type": "markdown",
      "source": [
        "### Data Visualisation and preprocessing "
      ],
      "metadata": {
        "id": "sNkL0x1ncXp7"
      }
    },
    {
      "cell_type": "code",
      "source": [
        "# Print shape of all the 4 data split into x, y, train, test to verify if x & y is in sync. \n",
        "\n",
        "print(X_train.shape)\n",
        "print(y_train.shape)\n",
        "print(X_test.shape)\n",
        "print(y_test.shape)"
      ],
      "metadata": {
        "colab": {
          "base_uri": "https://localhost:8080/"
        },
        "id": "MSG5Fd87b0gu",
        "outputId": "ebe269e1-5bb9-456b-e344-051065e0a9cc"
      },
      "execution_count": 5,
      "outputs": [
        {
          "output_type": "stream",
          "name": "stdout",
          "text": [
            "(42000, 32, 32)\n",
            "(42000,)\n",
            "(18000, 32, 32)\n",
            "(18000,)\n"
          ]
        }
      ]
    },
    {
      "cell_type": "code",
      "source": [
        "# Visualise first 10 images in train data and print its corresponding labels.\n",
        "\n",
        "plt.imshow(X_train[0])"
      ],
      "metadata": {
        "colab": {
          "base_uri": "https://localhost:8080/",
          "height": 284
        },
        "id": "bx0DNcSqzPzZ",
        "outputId": "376543c2-0763-4b4d-c62c-6cea908b83e0"
      },
      "execution_count": 6,
      "outputs": [
        {
          "output_type": "execute_result",
          "data": {
            "text/plain": [
              "<matplotlib.image.AxesImage at 0x7f93384b5990>"
            ]
          },
          "metadata": {},
          "execution_count": 6
        },
        {
          "output_type": "display_data",
          "data": {
            "text/plain": [
              "<Figure size 432x288 with 1 Axes>"
            ],
            "image/png": "[encoded data removed]"
          },
          "metadata": {
            "needs_background": "light"
          }
        }
      ]
    },
    {
      "cell_type": "code",
      "source": [
        "for i in range(1, 10):\n",
        "  plt.subplot(330 + i)\n",
        "  plt.imshow(X_train[i])\n",
        "\n",
        "plt.show()"
      ],
      "metadata": {
        "colab": {
          "base_uri": "https://localhost:8080/",
          "height": 268
        },
        "id": "bBHRT7vxcti1",
        "outputId": "626981ce-5390-4bfb-d3a5-82a2fa1aa4b3"
      },
      "execution_count": 7,
      "outputs": [
        {
          "output_type": "display_data",
          "data": {
            "text/plain": [
              "<Figure size 432x288 with 9 Axes>"
            ],
            "image/png": "[encoded data removed]"
          },
          "metadata": {
            "needs_background": "light"
          }
        }
      ]
    },
    {
      "cell_type": "code",
      "source": [
        "# Reshape all the images with appropriate shape update the data in same variable.\n",
        "\n",
        "X_train[0].shape"
      ],
      "metadata": {
        "id": "ncsWcd8oWQrJ",
        "colab": {
          "base_uri": "https://localhost:8080/"
        },
        "outputId": "d815b125-8906-4a66-b879-e7da653a233c"
      },
      "execution_count": 8,
      "outputs": [
        {
          "output_type": "execute_result",
          "data": {
            "text/plain": [
              "(32, 32)"
            ]
          },
          "metadata": {},
          "execution_count": 8
        }
      ]
    },
    {
      "cell_type": "markdown",
      "source": [
        "There is no need to reshape the data (32, 32) data will be fed into the first flatten layer in the neural network. "
      ],
      "metadata": {
        "id": "VAIbjc3S0_CW"
      }
    },
    {
      "cell_type": "code",
      "source": [
        "X_train = X_train.astype('float32')\n",
        "X_test = X_test.astype('float32')"
      ],
      "metadata": {
        "id": "an5ibY8y1NlS"
      },
      "execution_count": 9,
      "outputs": []
    },
    {
      "cell_type": "code",
      "source": [
        "X_train[0].dtype"
      ],
      "metadata": {
        "colab": {
          "base_uri": "https://localhost:8080/"
        },
        "id": "uw04qFQB1p0D",
        "outputId": "931ab070-cbc2-4850-8601-105a2681c082"
      },
      "execution_count": 10,
      "outputs": [
        {
          "output_type": "execute_result",
          "data": {
            "text/plain": [
              "dtype('float32')"
            ]
          },
          "metadata": {},
          "execution_count": 10
        }
      ]
    },
    {
      "cell_type": "code",
      "source": [
        "# Normalise the images\n",
        "\n",
        "X_train = X_train / 255.0\n",
        "X_test = X_test / 255.0"
      ],
      "metadata": {
        "id": "jkx_i5F21swL"
      },
      "execution_count": 11,
      "outputs": []
    },
    {
      "cell_type": "code",
      "source": [
        "X_train.shape"
      ],
      "metadata": {
        "colab": {
          "base_uri": "https://localhost:8080/"
        },
        "id": "2avDtYDZBdsD",
        "outputId": "970cfe85-2c1d-4ec5-c4c4-96f9807bc79b"
      },
      "execution_count": 12,
      "outputs": [
        {
          "output_type": "execute_result",
          "data": {
            "text/plain": [
              "(42000, 32, 32)"
            ]
          },
          "metadata": {},
          "execution_count": 12
        }
      ]
    },
    {
      "cell_type": "code",
      "source": [
        "# Transform Labels into format acceptable by Neural Network\n",
        "\n",
        "y_train = keras.utils.to_categorical(y_train)\n",
        "y_test = keras.utils.to_categorical(y_test)"
      ],
      "metadata": {
        "id": "9oXoPWfC11p4"
      },
      "execution_count": 13,
      "outputs": []
    },
    {
      "cell_type": "code",
      "source": [
        "y_train = y_train.astype('int64')\n",
        "y_test = y_test.astype('int64')"
      ],
      "metadata": {
        "id": "94aKPt3C_eag"
      },
      "execution_count": 14,
      "outputs": []
    },
    {
      "cell_type": "code",
      "source": [
        "y_train[0]"
      ],
      "metadata": {
        "colab": {
          "base_uri": "https://localhost:8080/"
        },
        "id": "5bX2a8NZ_mdw",
        "outputId": "fc79bf97-04eb-4518-8ef9-d2e4962ece58"
      },
      "execution_count": 15,
      "outputs": [
        {
          "output_type": "execute_result",
          "data": {
            "text/plain": [
              "array([0, 0, 1, 0, 0, 0, 0, 0, 0, 0])"
            ]
          },
          "metadata": {},
          "execution_count": 15
        }
      ]
    },
    {
      "cell_type": "code",
      "source": [
        "# Print total Number of classes in the Dataset.\n",
        "\n",
        "total_classes = y_train.shape[1]\n",
        "total_classes"
      ],
      "metadata": {
        "colab": {
          "base_uri": "https://localhost:8080/"
        },
        "id": "LomBjOSZ0-D5",
        "outputId": "1d66dd0b-1c7c-4131-e43c-f458e69b7ac2"
      },
      "execution_count": 16,
      "outputs": [
        {
          "output_type": "execute_result",
          "data": {
            "text/plain": [
              "10"
            ]
          },
          "metadata": {},
          "execution_count": 16
        }
      ]
    },
    {
      "cell_type": "markdown",
      "source": [
        "### Model Training & Evaluation using Neural Network"
      ],
      "metadata": {
        "id": "l8fsFmeC3gSf"
      }
    },
    {
      "cell_type": "code",
      "source": [
        "# Design a Neural Network to train a classifier.\n",
        "\n",
        "model = keras.Sequential([\n",
        "    keras.layers.Flatten(input_shape=(32, 32)),\n",
        "    keras.layers.BatchNormalization(),\n",
        "    keras.layers.Dense(1024, activation=\"elu\", kernel_initializer=\"he_normal\"),\n",
        "    keras.layers.BatchNormalization(),\n",
        "    keras.layers.Dense(512, activation=\"elu\", kernel_initializer=\"he_normal\"),\n",
        "    keras.layers.BatchNormalization(),\n",
        "    keras.layers.Dense(128, activation=\"elu\", kernel_initializer=\"he_normal\"),\n",
        "    keras.layers.BatchNormalization(),\n",
        "    keras.layers.Dense(total_classes, activation=\"softmax\")\n",
        "])"
      ],
      "metadata": {
        "id": "k1B-6BdJ3MXe"
      },
      "execution_count": 17,
      "outputs": []
    },
    {
      "cell_type": "code",
      "source": [
        "model.summary()"
      ],
      "metadata": {
        "colab": {
          "base_uri": "https://localhost:8080/"
        },
        "id": "cMvZCrF35Iqn",
        "outputId": "2e49e595-e39b-4855-835a-4adbd85130d0"
      },
      "execution_count": 18,
      "outputs": [
        {
          "output_type": "stream",
          "name": "stdout",
          "text": [
            "Model: \"sequential\"\n",
            "_________________________________________________________________\n",
            " Layer (type)                Output Shape              Param #   \n",
            "=================================================================\n",
            " flatten (Flatten)           (None, 1024)              0         \n",
            "                                                                 \n",
            " batch_normalization (BatchN  (None, 1024)             4096      \n",
            " ormalization)                                                   \n",
            "                                                                 \n",
            " dense (Dense)               (None, 1024)              1049600   \n",
            "                                                                 \n",
            " batch_normalization_1 (Batc  (None, 1024)             4096      \n",
            " hNormalization)                                                 \n",
            "                                                                 \n",
            " dense_1 (Dense)             (None, 512)               524800    \n",
            "                                                                 \n",
            " batch_normalization_2 (Batc  (None, 512)              2048      \n",
            " hNormalization)                                                 \n",
            "                                                                 \n",
            " dense_2 (Dense)             (None, 128)               65664     \n",
            "                                                                 \n",
            " batch_normalization_3 (Batc  (None, 128)              512       \n",
            " hNormalization)                                                 \n",
            "                                                                 \n",
            " dense_3 (Dense)             (None, 10)                1290      \n",
            "                                                                 \n",
            "=================================================================\n",
            "Total params: 1,652,106\n",
            "Trainable params: 1,646,730\n",
            "Non-trainable params: 5,376\n",
            "_________________________________________________________________\n"
          ]
        }
      ]
    },
    {
      "cell_type": "code",
      "source": [
        "# Evaluate performance of the model with appropriate metrics.\n",
        "\n",
        "model.compile(loss=\"categorical_crossentropy\", \n",
        "              optimizer=\"adam\", \n",
        "              metrics=[\"accuracy\"])"
      ],
      "metadata": {
        "id": "VviZRt-L5cJA"
      },
      "execution_count": 19,
      "outputs": []
    },
    {
      "cell_type": "code",
      "source": [
        "\n",
        "model_checkpoint = tf.keras.callbacks.ModelCheckpoint('SVHN_best_model.h5', save_best_only=True, \n",
        "                                                      monitor='val_accuracy', mode='max', verbose=1)"
      ],
      "metadata": {
        "id": "aEJZrqW6KPO7"
      },
      "execution_count": 20,
      "outputs": []
    },
    {
      "cell_type": "code",
      "source": [
        "# Train the classifier using previously designed Architecture\n",
        "\n",
        "epochs = 200\n",
        "batch_size = 32\n",
        "\n",
        "history = model.fit(X_train, y_train, epochs=epochs, \n",
        "                    batch_size=batch_size,\n",
        "                    validation_data=(X_test, y_test),\n",
        "                    callbacks=[model_checkpoint])"
      ],
      "metadata": {
        "colab": {
          "base_uri": "https://localhost:8080/"
        },
        "id": "izNX0thS5Osz",
        "outputId": "30cad86d-2f2c-4a3a-9de8-5b62a0ee9a0a"
      },
      "execution_count": 21,
      "outputs": [
        {
          "output_type": "stream",
          "name": "stdout",
          "text": [
            "Epoch 1/200\n",
            "1309/1313 [============================>.] - ETA: 0s - loss: 1.3032 - accuracy: 0.5748\n",
            "Epoch 1: val_accuracy improved from -inf to 0.72839, saving model to SVHN_best_model.h5\n",
            "1313/1313 [==============================] - 19s 13ms/step - loss: 1.3025 - accuracy: 0.5750 - val_loss: 0.8923 - val_accuracy: 0.7284\n",
            "Epoch 2/200\n",
            "1308/1313 [============================>.] - ETA: 0s - loss: 0.9132 - accuracy: 0.7094\n",
            "Epoch 2: val_accuracy improved from 0.72839 to 0.77600, saving model to SVHN_best_model.h5\n",
            "1313/1313 [==============================] - 12s 9ms/step - loss: 0.9128 - accuracy: 0.7095 - val_loss: 0.7272 - val_accuracy: 0.7760\n",
            "Epoch 3/200\n",
            "1310/1313 [============================>.] - ETA: 0s - loss: 0.7802 - accuracy: 0.7539\n",
            "Epoch 3: val_accuracy improved from 0.77600 to 0.78872, saving model to SVHN_best_model.h5\n",
            "1313/1313 [==============================] - 12s 9ms/step - loss: 0.7803 - accuracy: 0.7539 - val_loss: 0.6813 - val_accuracy: 0.7887\n",
            "Epoch 4/200\n",
            "1308/1313 [============================>.] - ETA: 0s - loss: 0.7022 - accuracy: 0.7783\n",
            "Epoch 4: val_accuracy improved from 0.78872 to 0.81433, saving model to SVHN_best_model.h5\n",
            "1313/1313 [==============================] - 12s 9ms/step - loss: 0.7022 - accuracy: 0.7783 - val_loss: 0.6010 - val_accuracy: 0.8143\n",
            "Epoch 5/200\n",
            "1307/1313 [============================>.] - ETA: 0s - loss: 0.6498 - accuracy: 0.7939\n",
            "Epoch 5: val_accuracy improved from 0.81433 to 0.82694, saving model to SVHN_best_model.h5\n",
            "1313/1313 [==============================] - 11s 9ms/step - loss: 0.6499 - accuracy: 0.7939 - val_loss: 0.5804 - val_accuracy: 0.8269\n",
            "Epoch 6/200\n",
            "1307/1313 [============================>.] - ETA: 0s - loss: 0.6047 - accuracy: 0.8083\n",
            "Epoch 6: val_accuracy improved from 0.82694 to 0.83761, saving model to SVHN_best_model.h5\n",
            "1313/1313 [==============================] - 12s 9ms/step - loss: 0.6045 - accuracy: 0.8084 - val_loss: 0.5514 - val_accuracy: 0.8376\n",
            "Epoch 7/200\n",
            "1309/1313 [============================>.] - ETA: 0s - loss: 0.5761 - accuracy: 0.8162\n",
            "Epoch 7: val_accuracy improved from 0.83761 to 0.84178, saving model to SVHN_best_model.h5\n",
            "1313/1313 [==============================] - 12s 9ms/step - loss: 0.5762 - accuracy: 0.8160 - val_loss: 0.5292 - val_accuracy: 0.8418\n",
            "Epoch 8/200\n",
            "1310/1313 [============================>.] - ETA: 0s - loss: 0.5468 - accuracy: 0.8275\n",
            "Epoch 8: val_accuracy improved from 0.84178 to 0.84817, saving model to SVHN_best_model.h5\n",
            "1313/1313 [==============================] - 12s 9ms/step - loss: 0.5468 - accuracy: 0.8275 - val_loss: 0.5131 - val_accuracy: 0.8482\n",
            "Epoch 9/200\n",
            "1313/1313 [==============================] - ETA: 0s - loss: 0.5203 - accuracy: 0.8332\n",
            "Epoch 9: val_accuracy improved from 0.84817 to 0.84978, saving model to SVHN_best_model.h5\n",
            "1313/1313 [==============================] - 11s 9ms/step - loss: 0.5203 - accuracy: 0.8332 - val_loss: 0.5070 - val_accuracy: 0.8498\n",
            "Epoch 10/200\n",
            "1309/1313 [============================>.] - ETA: 0s - loss: 0.4919 - accuracy: 0.8424\n",
            "Epoch 10: val_accuracy did not improve from 0.84978\n",
            "1313/1313 [==============================] - 11s 8ms/step - loss: 0.4922 - accuracy: 0.8424 - val_loss: 0.5073 - val_accuracy: 0.8486\n",
            "Epoch 11/200\n",
            "1309/1313 [============================>.] - ETA: 0s - loss: 0.4742 - accuracy: 0.8476\n",
            "Epoch 11: val_accuracy improved from 0.84978 to 0.85017, saving model to SVHN_best_model.h5\n",
            "1313/1313 [==============================] - 12s 9ms/step - loss: 0.4746 - accuracy: 0.8476 - val_loss: 0.5115 - val_accuracy: 0.8502\n",
            "Epoch 12/200\n",
            "1310/1313 [============================>.] - ETA: 0s - loss: 0.4623 - accuracy: 0.8505\n",
            "Epoch 12: val_accuracy did not improve from 0.85017\n",
            "1313/1313 [==============================] - 11s 9ms/step - loss: 0.4623 - accuracy: 0.8506 - val_loss: 0.5144 - val_accuracy: 0.8471\n",
            "Epoch 13/200\n",
            "1309/1313 [============================>.] - ETA: 0s - loss: 0.4400 - accuracy: 0.8580\n",
            "Epoch 13: val_accuracy improved from 0.85017 to 0.85700, saving model to SVHN_best_model.h5\n",
            "1313/1313 [==============================] - 11s 9ms/step - loss: 0.4400 - accuracy: 0.8580 - val_loss: 0.4956 - val_accuracy: 0.8570\n",
            "Epoch 14/200\n",
            "1306/1313 [============================>.] - ETA: 0s - loss: 0.4260 - accuracy: 0.8627\n",
            "Epoch 14: val_accuracy improved from 0.85700 to 0.85867, saving model to SVHN_best_model.h5\n",
            "1313/1313 [==============================] - 11s 9ms/step - loss: 0.4263 - accuracy: 0.8626 - val_loss: 0.4826 - val_accuracy: 0.8587\n",
            "Epoch 15/200\n",
            "1309/1313 [============================>.] - ETA: 0s - loss: 0.4090 - accuracy: 0.8660\n",
            "Epoch 15: val_accuracy improved from 0.85867 to 0.85983, saving model to SVHN_best_model.h5\n",
            "1313/1313 [==============================] - 11s 9ms/step - loss: 0.4094 - accuracy: 0.8658 - val_loss: 0.4851 - val_accuracy: 0.8598\n",
            "Epoch 16/200\n",
            "1308/1313 [============================>.] - ETA: 0s - loss: 0.4038 - accuracy: 0.8698\n",
            "Epoch 16: val_accuracy improved from 0.85983 to 0.86161, saving model to SVHN_best_model.h5\n",
            "1313/1313 [==============================] - 11s 9ms/step - loss: 0.4038 - accuracy: 0.8698 - val_loss: 0.4829 - val_accuracy: 0.8616\n",
            "Epoch 17/200\n",
            "1309/1313 [============================>.] - ETA: 0s - loss: 0.3897 - accuracy: 0.8724\n",
            "Epoch 17: val_accuracy improved from 0.86161 to 0.86189, saving model to SVHN_best_model.h5\n",
            "1313/1313 [==============================] - 11s 9ms/step - loss: 0.3899 - accuracy: 0.8722 - val_loss: 0.4865 - val_accuracy: 0.8619\n",
            "Epoch 18/200\n",
            "1306/1313 [============================>.] - ETA: 0s - loss: 0.3745 - accuracy: 0.8786\n",
            "Epoch 18: val_accuracy did not improve from 0.86189\n",
            "1313/1313 [==============================] - 12s 9ms/step - loss: 0.3747 - accuracy: 0.8786 - val_loss: 0.4808 - val_accuracy: 0.8612\n",
            "Epoch 19/200\n",
            "1307/1313 [============================>.] - ETA: 0s - loss: 0.3646 - accuracy: 0.8814\n",
            "Epoch 19: val_accuracy improved from 0.86189 to 0.86661, saving model to SVHN_best_model.h5\n",
            "1313/1313 [==============================] - 11s 9ms/step - loss: 0.3650 - accuracy: 0.8813 - val_loss: 0.4739 - val_accuracy: 0.8666\n",
            "Epoch 20/200\n",
            "1310/1313 [============================>.] - ETA: 0s - loss: 0.3557 - accuracy: 0.8852\n",
            "Epoch 20: val_accuracy did not improve from 0.86661\n",
            "1313/1313 [==============================] - 12s 9ms/step - loss: 0.3561 - accuracy: 0.8851 - val_loss: 0.4758 - val_accuracy: 0.8637\n",
            "Epoch 21/200\n",
            "1308/1313 [============================>.] - ETA: 0s - loss: 0.3452 - accuracy: 0.8871\n",
            "Epoch 21: val_accuracy did not improve from 0.86661\n",
            "1313/1313 [==============================] - 12s 9ms/step - loss: 0.3449 - accuracy: 0.8871 - val_loss: 0.4860 - val_accuracy: 0.8651\n",
            "Epoch 22/200\n",
            "1313/1313 [==============================] - ETA: 0s - loss: 0.3352 - accuracy: 0.8895\n",
            "Epoch 22: val_accuracy did not improve from 0.86661\n",
            "1313/1313 [==============================] - 11s 9ms/step - loss: 0.3352 - accuracy: 0.8895 - val_loss: 0.4965 - val_accuracy: 0.8599\n",
            "Epoch 23/200\n",
            "1313/1313 [==============================] - ETA: 0s - loss: 0.3296 - accuracy: 0.8918\n",
            "Epoch 23: val_accuracy did not improve from 0.86661\n",
            "1313/1313 [==============================] - 12s 9ms/step - loss: 0.3296 - accuracy: 0.8918 - val_loss: 0.4725 - val_accuracy: 0.8654\n",
            "Epoch 24/200\n",
            "1313/1313 [==============================] - ETA: 0s - loss: 0.3210 - accuracy: 0.8927\n",
            "Epoch 24: val_accuracy did not improve from 0.86661\n",
            "1313/1313 [==============================] - 12s 9ms/step - loss: 0.3210 - accuracy: 0.8927 - val_loss: 0.4873 - val_accuracy: 0.8659\n",
            "Epoch 25/200\n",
            "1309/1313 [============================>.] - ETA: 0s - loss: 0.3142 - accuracy: 0.8972\n",
            "Epoch 25: val_accuracy did not improve from 0.86661\n",
            "1313/1313 [==============================] - 11s 9ms/step - loss: 0.3140 - accuracy: 0.8972 - val_loss: 0.4936 - val_accuracy: 0.8656\n",
            "Epoch 26/200\n",
            "1313/1313 [==============================] - ETA: 0s - loss: 0.3058 - accuracy: 0.8988\n",
            "Epoch 26: val_accuracy did not improve from 0.86661\n",
            "1313/1313 [==============================] - 12s 9ms/step - loss: 0.3058 - accuracy: 0.8988 - val_loss: 0.4975 - val_accuracy: 0.8639\n",
            "Epoch 27/200\n",
            "1311/1313 [============================>.] - ETA: 0s - loss: 0.3007 - accuracy: 0.9013\n",
            "Epoch 27: val_accuracy improved from 0.86661 to 0.86839, saving model to SVHN_best_model.h5\n",
            "1313/1313 [==============================] - 12s 9ms/step - loss: 0.3007 - accuracy: 0.9013 - val_loss: 0.4884 - val_accuracy: 0.8684\n",
            "Epoch 28/200\n",
            "1307/1313 [============================>.] - ETA: 0s - loss: 0.2956 - accuracy: 0.9019\n",
            "Epoch 28: val_accuracy did not improve from 0.86839\n",
            "1313/1313 [==============================] - 12s 9ms/step - loss: 0.2961 - accuracy: 0.9018 - val_loss: 0.4948 - val_accuracy: 0.8662\n",
            "Epoch 29/200\n",
            "1308/1313 [============================>.] - ETA: 0s - loss: 0.2917 - accuracy: 0.9029\n",
            "Epoch 29: val_accuracy did not improve from 0.86839\n",
            "1313/1313 [==============================] - 12s 9ms/step - loss: 0.2916 - accuracy: 0.9029 - val_loss: 0.5017 - val_accuracy: 0.8664\n",
            "Epoch 30/200\n",
            "1310/1313 [============================>.] - ETA: 0s - loss: 0.2867 - accuracy: 0.9041\n",
            "Epoch 30: val_accuracy did not improve from 0.86839\n",
            "1313/1313 [==============================] - 12s 9ms/step - loss: 0.2867 - accuracy: 0.9041 - val_loss: 0.5131 - val_accuracy: 0.8642\n",
            "Epoch 31/200\n",
            "1312/1313 [============================>.] - ETA: 0s - loss: 0.2839 - accuracy: 0.9063\n",
            "Epoch 31: val_accuracy improved from 0.86839 to 0.86900, saving model to SVHN_best_model.h5\n",
            "1313/1313 [==============================] - 13s 10ms/step - loss: 0.2840 - accuracy: 0.9062 - val_loss: 0.4876 - val_accuracy: 0.8690\n",
            "Epoch 32/200\n",
            "1308/1313 [============================>.] - ETA: 0s - loss: 0.2722 - accuracy: 0.9099\n",
            "Epoch 32: val_accuracy did not improve from 0.86900\n",
            "1313/1313 [==============================] - 12s 9ms/step - loss: 0.2724 - accuracy: 0.9099 - val_loss: 0.5043 - val_accuracy: 0.8689\n",
            "Epoch 33/200\n",
            "1310/1313 [============================>.] - ETA: 0s - loss: 0.2671 - accuracy: 0.9108\n",
            "Epoch 33: val_accuracy did not improve from 0.86900\n",
            "1313/1313 [==============================] - 12s 9ms/step - loss: 0.2673 - accuracy: 0.9108 - val_loss: 0.5050 - val_accuracy: 0.8677\n",
            "Epoch 34/200\n",
            "1307/1313 [============================>.] - ETA: 0s - loss: 0.2660 - accuracy: 0.9119\n",
            "Epoch 34: val_accuracy did not improve from 0.86900\n",
            "1313/1313 [==============================] - 12s 9ms/step - loss: 0.2664 - accuracy: 0.9119 - val_loss: 0.5200 - val_accuracy: 0.8621\n",
            "Epoch 35/200\n",
            "1308/1313 [============================>.] - ETA: 0s - loss: 0.2608 - accuracy: 0.9132\n",
            "Epoch 35: val_accuracy did not improve from 0.86900\n",
            "1313/1313 [==============================] - 11s 9ms/step - loss: 0.2610 - accuracy: 0.9131 - val_loss: 0.5025 - val_accuracy: 0.8675\n",
            "Epoch 36/200\n",
            "1308/1313 [============================>.] - ETA: 0s - loss: 0.2539 - accuracy: 0.9163\n",
            "Epoch 36: val_accuracy did not improve from 0.86900\n",
            "1313/1313 [==============================] - 12s 9ms/step - loss: 0.2541 - accuracy: 0.9162 - val_loss: 0.5268 - val_accuracy: 0.8643\n",
            "Epoch 37/200\n",
            "1310/1313 [============================>.] - ETA: 0s - loss: 0.2563 - accuracy: 0.9148\n",
            "Epoch 37: val_accuracy did not improve from 0.86900\n",
            "1313/1313 [==============================] - 12s 9ms/step - loss: 0.2563 - accuracy: 0.9148 - val_loss: 0.5110 - val_accuracy: 0.8685\n",
            "Epoch 38/200\n",
            "1308/1313 [============================>.] - ETA: 0s - loss: 0.2432 - accuracy: 0.9205\n",
            "Epoch 38: val_accuracy did not improve from 0.86900\n",
            "1313/1313 [==============================] - 12s 9ms/step - loss: 0.2437 - accuracy: 0.9204 - val_loss: 0.5147 - val_accuracy: 0.8659\n",
            "Epoch 39/200\n",
            "1313/1313 [==============================] - ETA: 0s - loss: 0.2460 - accuracy: 0.9183\n",
            "Epoch 39: val_accuracy improved from 0.86900 to 0.86956, saving model to SVHN_best_model.h5\n",
            "1313/1313 [==============================] - 12s 9ms/step - loss: 0.2460 - accuracy: 0.9183 - val_loss: 0.5142 - val_accuracy: 0.8696\n",
            "Epoch 40/200\n",
            "1309/1313 [============================>.] - ETA: 0s - loss: 0.2387 - accuracy: 0.9212\n",
            "Epoch 40: val_accuracy did not improve from 0.86956\n",
            "1313/1313 [==============================] - 12s 9ms/step - loss: 0.2390 - accuracy: 0.9212 - val_loss: 0.5141 - val_accuracy: 0.8656\n",
            "Epoch 41/200\n",
            "1308/1313 [============================>.] - ETA: 0s - loss: 0.2347 - accuracy: 0.9229\n",
            "Epoch 41: val_accuracy did not improve from 0.86956\n",
            "1313/1313 [==============================] - 12s 9ms/step - loss: 0.2350 - accuracy: 0.9227 - val_loss: 0.5138 - val_accuracy: 0.8659\n",
            "Epoch 42/200\n",
            "1308/1313 [============================>.] - ETA: 0s - loss: 0.2296 - accuracy: 0.9239\n",
            "Epoch 42: val_accuracy did not improve from 0.86956\n",
            "1313/1313 [==============================] - 12s 9ms/step - loss: 0.2299 - accuracy: 0.9238 - val_loss: 0.5183 - val_accuracy: 0.8680\n",
            "Epoch 43/200\n",
            "1307/1313 [============================>.] - ETA: 0s - loss: 0.2359 - accuracy: 0.9221\n",
            "Epoch 43: val_accuracy did not improve from 0.86956\n",
            "1313/1313 [==============================] - 12s 9ms/step - loss: 0.2358 - accuracy: 0.9221 - val_loss: 0.5175 - val_accuracy: 0.8678\n",
            "Epoch 44/200\n",
            "1312/1313 [============================>.] - ETA: 0s - loss: 0.2292 - accuracy: 0.9233\n",
            "Epoch 44: val_accuracy did not improve from 0.86956\n",
            "1313/1313 [==============================] - 11s 9ms/step - loss: 0.2292 - accuracy: 0.9233 - val_loss: 0.5188 - val_accuracy: 0.8680\n",
            "Epoch 45/200\n",
            "1309/1313 [============================>.] - ETA: 0s - loss: 0.2231 - accuracy: 0.9263\n",
            "Epoch 45: val_accuracy did not improve from 0.86956\n",
            "1313/1313 [==============================] - 11s 9ms/step - loss: 0.2232 - accuracy: 0.9262 - val_loss: 0.5184 - val_accuracy: 0.8684\n",
            "Epoch 46/200\n",
            "1309/1313 [============================>.] - ETA: 0s - loss: 0.2217 - accuracy: 0.9271\n",
            "Epoch 46: val_accuracy did not improve from 0.86956\n",
            "1313/1313 [==============================] - 12s 9ms/step - loss: 0.2221 - accuracy: 0.9269 - val_loss: 0.5347 - val_accuracy: 0.8628\n",
            "Epoch 47/200\n",
            "1310/1313 [============================>.] - ETA: 0s - loss: 0.2201 - accuracy: 0.9268\n",
            "Epoch 47: val_accuracy did not improve from 0.86956\n",
            "1313/1313 [==============================] - 12s 9ms/step - loss: 0.2202 - accuracy: 0.9267 - val_loss: 0.5351 - val_accuracy: 0.8659\n",
            "Epoch 48/200\n",
            "1307/1313 [============================>.] - ETA: 0s - loss: 0.2189 - accuracy: 0.9269\n",
            "Epoch 48: val_accuracy improved from 0.86956 to 0.87228, saving model to SVHN_best_model.h5\n",
            "1313/1313 [==============================] - 12s 9ms/step - loss: 0.2191 - accuracy: 0.9268 - val_loss: 0.5143 - val_accuracy: 0.8723\n",
            "Epoch 49/200\n",
            "1308/1313 [============================>.] - ETA: 0s - loss: 0.2183 - accuracy: 0.9270\n",
            "Epoch 49: val_accuracy did not improve from 0.87228\n",
            "1313/1313 [==============================] - 12s 9ms/step - loss: 0.2187 - accuracy: 0.9269 - val_loss: 0.5262 - val_accuracy: 0.8692\n",
            "Epoch 50/200\n",
            "1310/1313 [============================>.] - ETA: 0s - loss: 0.2116 - accuracy: 0.9302\n",
            "Epoch 50: val_accuracy did not improve from 0.87228\n",
            "1313/1313 [==============================] - 11s 9ms/step - loss: 0.2119 - accuracy: 0.9300 - val_loss: 0.5434 - val_accuracy: 0.8664\n",
            "Epoch 51/200\n",
            "1312/1313 [============================>.] - ETA: 0s - loss: 0.2005 - accuracy: 0.9319\n",
            "Epoch 51: val_accuracy did not improve from 0.87228\n",
            "1313/1313 [==============================] - 12s 9ms/step - loss: 0.2005 - accuracy: 0.9318 - val_loss: 0.5441 - val_accuracy: 0.8646\n",
            "Epoch 52/200\n",
            "1309/1313 [============================>.] - ETA: 0s - loss: 0.2041 - accuracy: 0.9323\n",
            "Epoch 52: val_accuracy did not improve from 0.87228\n",
            "1313/1313 [==============================] - 11s 9ms/step - loss: 0.2042 - accuracy: 0.9323 - val_loss: 0.5372 - val_accuracy: 0.8678\n",
            "Epoch 53/200\n",
            "1312/1313 [============================>.] - ETA: 0s - loss: 0.2055 - accuracy: 0.9319\n",
            "Epoch 53: val_accuracy did not improve from 0.87228\n",
            "1313/1313 [==============================] - 12s 9ms/step - loss: 0.2055 - accuracy: 0.9319 - val_loss: 0.5391 - val_accuracy: 0.8666\n",
            "Epoch 54/200\n",
            "1311/1313 [============================>.] - ETA: 0s - loss: 0.2089 - accuracy: 0.9319\n",
            "Epoch 54: val_accuracy did not improve from 0.87228\n",
            "1313/1313 [==============================] - 12s 9ms/step - loss: 0.2090 - accuracy: 0.9318 - val_loss: 0.5291 - val_accuracy: 0.8682\n",
            "Epoch 55/200\n",
            "1312/1313 [============================>.] - ETA: 0s - loss: 0.1998 - accuracy: 0.9331\n",
            "Epoch 55: val_accuracy did not improve from 0.87228\n",
            "1313/1313 [==============================] - 12s 9ms/step - loss: 0.1999 - accuracy: 0.9331 - val_loss: 0.5360 - val_accuracy: 0.8684\n",
            "Epoch 56/200\n",
            "1311/1313 [============================>.] - ETA: 0s - loss: 0.1944 - accuracy: 0.9366\n",
            "Epoch 56: val_accuracy did not improve from 0.87228\n",
            "1313/1313 [==============================] - 11s 9ms/step - loss: 0.1946 - accuracy: 0.9365 - val_loss: 0.5441 - val_accuracy: 0.8674\n",
            "Epoch 57/200\n",
            "1309/1313 [============================>.] - ETA: 0s - loss: 0.1948 - accuracy: 0.9342\n",
            "Epoch 57: val_accuracy did not improve from 0.87228\n",
            "1313/1313 [==============================] - 11s 9ms/step - loss: 0.1948 - accuracy: 0.9342 - val_loss: 0.5509 - val_accuracy: 0.8659\n",
            "Epoch 58/200\n",
            "1312/1313 [============================>.] - ETA: 0s - loss: 0.1980 - accuracy: 0.9350\n",
            "Epoch 58: val_accuracy did not improve from 0.87228\n",
            "1313/1313 [==============================] - 12s 9ms/step - loss: 0.1981 - accuracy: 0.9350 - val_loss: 0.5461 - val_accuracy: 0.8665\n",
            "Epoch 59/200\n",
            "1313/1313 [==============================] - ETA: 0s - loss: 0.1906 - accuracy: 0.9371\n",
            "Epoch 59: val_accuracy did not improve from 0.87228\n",
            "1313/1313 [==============================] - 12s 9ms/step - loss: 0.1906 - accuracy: 0.9371 - val_loss: 0.5289 - val_accuracy: 0.8711\n",
            "Epoch 60/200\n",
            "1312/1313 [============================>.] - ETA: 0s - loss: 0.1910 - accuracy: 0.9355\n",
            "Epoch 60: val_accuracy did not improve from 0.87228\n",
            "1313/1313 [==============================] - 11s 9ms/step - loss: 0.1915 - accuracy: 0.9354 - val_loss: 0.5529 - val_accuracy: 0.8657\n",
            "Epoch 61/200\n",
            "1308/1313 [============================>.] - ETA: 0s - loss: 0.1893 - accuracy: 0.9367\n",
            "Epoch 61: val_accuracy did not improve from 0.87228\n",
            "1313/1313 [==============================] - 12s 9ms/step - loss: 0.1896 - accuracy: 0.9366 - val_loss: 0.5339 - val_accuracy: 0.8698\n",
            "Epoch 62/200\n",
            "1307/1313 [============================>.] - ETA: 0s - loss: 0.1838 - accuracy: 0.9382\n",
            "Epoch 62: val_accuracy did not improve from 0.87228\n",
            "1313/1313 [==============================] - 11s 9ms/step - loss: 0.1839 - accuracy: 0.9382 - val_loss: 0.5518 - val_accuracy: 0.8683\n",
            "Epoch 63/200\n",
            "1310/1313 [============================>.] - ETA: 0s - loss: 0.1873 - accuracy: 0.9394\n",
            "Epoch 63: val_accuracy did not improve from 0.87228\n",
            "1313/1313 [==============================] - 12s 9ms/step - loss: 0.1872 - accuracy: 0.9395 - val_loss: 0.5561 - val_accuracy: 0.8657\n",
            "Epoch 64/200\n",
            "1310/1313 [============================>.] - ETA: 0s - loss: 0.1839 - accuracy: 0.9389\n",
            "Epoch 64: val_accuracy improved from 0.87228 to 0.87367, saving model to SVHN_best_model.h5\n",
            "1313/1313 [==============================] - 11s 9ms/step - loss: 0.1838 - accuracy: 0.9389 - val_loss: 0.5246 - val_accuracy: 0.8737\n",
            "Epoch 65/200\n",
            "1311/1313 [============================>.] - ETA: 0s - loss: 0.1803 - accuracy: 0.9405\n",
            "Epoch 65: val_accuracy did not improve from 0.87367\n",
            "1313/1313 [==============================] - 11s 9ms/step - loss: 0.1802 - accuracy: 0.9405 - val_loss: 0.5266 - val_accuracy: 0.8709\n",
            "Epoch 66/200\n",
            "1309/1313 [============================>.] - ETA: 0s - loss: 0.1764 - accuracy: 0.9411\n",
            "Epoch 66: val_accuracy did not improve from 0.87367\n",
            "1313/1313 [==============================] - 12s 9ms/step - loss: 0.1768 - accuracy: 0.9410 - val_loss: 0.5602 - val_accuracy: 0.8659\n",
            "Epoch 67/200\n",
            "1306/1313 [============================>.] - ETA: 0s - loss: 0.1812 - accuracy: 0.9392\n",
            "Epoch 67: val_accuracy did not improve from 0.87367\n",
            "1313/1313 [==============================] - 11s 9ms/step - loss: 0.1810 - accuracy: 0.9393 - val_loss: 0.5548 - val_accuracy: 0.8692\n",
            "Epoch 68/200\n",
            "1311/1313 [============================>.] - ETA: 0s - loss: 0.1723 - accuracy: 0.9430\n",
            "Epoch 68: val_accuracy did not improve from 0.87367\n",
            "1313/1313 [==============================] - 12s 9ms/step - loss: 0.1722 - accuracy: 0.9430 - val_loss: 0.5487 - val_accuracy: 0.8695\n",
            "Epoch 69/200\n",
            "1310/1313 [============================>.] - ETA: 0s - loss: 0.1753 - accuracy: 0.9406\n",
            "Epoch 69: val_accuracy did not improve from 0.87367\n",
            "1313/1313 [==============================] - 11s 9ms/step - loss: 0.1755 - accuracy: 0.9406 - val_loss: 0.5504 - val_accuracy: 0.8687\n",
            "Epoch 70/200\n",
            "1313/1313 [==============================] - ETA: 0s - loss: 0.1737 - accuracy: 0.9424\n",
            "Epoch 70: val_accuracy did not improve from 0.87367\n",
            "1313/1313 [==============================] - 12s 9ms/step - loss: 0.1737 - accuracy: 0.9424 - val_loss: 0.5536 - val_accuracy: 0.8704\n",
            "Epoch 71/200\n",
            "1312/1313 [============================>.] - ETA: 0s - loss: 0.1726 - accuracy: 0.9416\n",
            "Epoch 71: val_accuracy did not improve from 0.87367\n",
            "1313/1313 [==============================] - 11s 9ms/step - loss: 0.1726 - accuracy: 0.9416 - val_loss: 0.5479 - val_accuracy: 0.8702\n",
            "Epoch 72/200\n",
            "1310/1313 [============================>.] - ETA: 0s - loss: 0.1683 - accuracy: 0.9444\n",
            "Epoch 72: val_accuracy did not improve from 0.87367\n",
            "1313/1313 [==============================] - 12s 9ms/step - loss: 0.1686 - accuracy: 0.9444 - val_loss: 0.5577 - val_accuracy: 0.8674\n",
            "Epoch 73/200\n",
            "1310/1313 [============================>.] - ETA: 0s - loss: 0.1700 - accuracy: 0.9433\n",
            "Epoch 73: val_accuracy did not improve from 0.87367\n",
            "1313/1313 [==============================] - 11s 9ms/step - loss: 0.1700 - accuracy: 0.9433 - val_loss: 0.5496 - val_accuracy: 0.8718\n",
            "Epoch 74/200\n",
            "1308/1313 [============================>.] - ETA: 0s - loss: 0.1721 - accuracy: 0.9430\n",
            "Epoch 74: val_accuracy did not improve from 0.87367\n",
            "1313/1313 [==============================] - 12s 9ms/step - loss: 0.1725 - accuracy: 0.9429 - val_loss: 0.5556 - val_accuracy: 0.8696\n",
            "Epoch 75/200\n",
            "1309/1313 [============================>.] - ETA: 0s - loss: 0.1660 - accuracy: 0.9452\n",
            "Epoch 75: val_accuracy did not improve from 0.87367\n",
            "1313/1313 [==============================] - 12s 9ms/step - loss: 0.1661 - accuracy: 0.9452 - val_loss: 0.5551 - val_accuracy: 0.8711\n",
            "Epoch 76/200\n",
            "1309/1313 [============================>.] - ETA: 0s - loss: 0.1670 - accuracy: 0.9444\n",
            "Epoch 76: val_accuracy did not improve from 0.87367\n",
            "1313/1313 [==============================] - 12s 9ms/step - loss: 0.1671 - accuracy: 0.9444 - val_loss: 0.5561 - val_accuracy: 0.8694\n",
            "Epoch 77/200\n",
            "1312/1313 [============================>.] - ETA: 0s - loss: 0.1696 - accuracy: 0.9435\n",
            "Epoch 77: val_accuracy did not improve from 0.87367\n",
            "1313/1313 [==============================] - 12s 9ms/step - loss: 0.1697 - accuracy: 0.9434 - val_loss: 0.5490 - val_accuracy: 0.8728\n",
            "Epoch 78/200\n",
            "1311/1313 [============================>.] - ETA: 0s - loss: 0.1585 - accuracy: 0.9472\n",
            "Epoch 78: val_accuracy improved from 0.87367 to 0.87511, saving model to SVHN_best_model.h5\n",
            "1313/1313 [==============================] - 12s 9ms/step - loss: 0.1586 - accuracy: 0.9472 - val_loss: 0.5556 - val_accuracy: 0.8751\n",
            "Epoch 79/200\n",
            "1309/1313 [============================>.] - ETA: 0s - loss: 0.1632 - accuracy: 0.9453\n",
            "Epoch 79: val_accuracy did not improve from 0.87511\n",
            "1313/1313 [==============================] - 11s 9ms/step - loss: 0.1632 - accuracy: 0.9454 - val_loss: 0.5592 - val_accuracy: 0.8708\n",
            "Epoch 80/200\n",
            "1310/1313 [============================>.] - ETA: 0s - loss: 0.1611 - accuracy: 0.9474\n",
            "Epoch 80: val_accuracy did not improve from 0.87511\n",
            "1313/1313 [==============================] - 12s 10ms/step - loss: 0.1611 - accuracy: 0.9473 - val_loss: 0.5596 - val_accuracy: 0.8684\n",
            "Epoch 81/200\n",
            "1308/1313 [============================>.] - ETA: 0s - loss: 0.1603 - accuracy: 0.9469\n",
            "Epoch 81: val_accuracy did not improve from 0.87511\n",
            "1313/1313 [==============================] - 12s 9ms/step - loss: 0.1602 - accuracy: 0.9469 - val_loss: 0.5700 - val_accuracy: 0.8647\n",
            "Epoch 82/200\n",
            "1309/1313 [============================>.] - ETA: 0s - loss: 0.1609 - accuracy: 0.9477\n",
            "Epoch 82: val_accuracy did not improve from 0.87511\n",
            "1313/1313 [==============================] - 13s 10ms/step - loss: 0.1609 - accuracy: 0.9477 - val_loss: 0.5709 - val_accuracy: 0.8671\n",
            "Epoch 83/200\n",
            "1313/1313 [==============================] - ETA: 0s - loss: 0.1503 - accuracy: 0.9502\n",
            "Epoch 83: val_accuracy did not improve from 0.87511\n",
            "1313/1313 [==============================] - 13s 10ms/step - loss: 0.1503 - accuracy: 0.9502 - val_loss: 0.5594 - val_accuracy: 0.8716\n",
            "Epoch 84/200\n",
            "1310/1313 [============================>.] - ETA: 0s - loss: 0.1571 - accuracy: 0.9474\n",
            "Epoch 84: val_accuracy did not improve from 0.87511\n",
            "1313/1313 [==============================] - 12s 9ms/step - loss: 0.1571 - accuracy: 0.9473 - val_loss: 0.5771 - val_accuracy: 0.8692\n",
            "Epoch 85/200\n",
            "1309/1313 [============================>.] - ETA: 0s - loss: 0.1557 - accuracy: 0.9481\n",
            "Epoch 85: val_accuracy did not improve from 0.87511\n",
            "1313/1313 [==============================] - 12s 9ms/step - loss: 0.1562 - accuracy: 0.9480 - val_loss: 0.5779 - val_accuracy: 0.8682\n",
            "Epoch 86/200\n",
            "1311/1313 [============================>.] - ETA: 0s - loss: 0.1557 - accuracy: 0.9484\n",
            "Epoch 86: val_accuracy did not improve from 0.87511\n",
            "1313/1313 [==============================] - 12s 9ms/step - loss: 0.1558 - accuracy: 0.9484 - val_loss: 0.5870 - val_accuracy: 0.8681\n",
            "Epoch 87/200\n",
            "1311/1313 [============================>.] - ETA: 0s - loss: 0.1542 - accuracy: 0.9491\n",
            "Epoch 87: val_accuracy did not improve from 0.87511\n",
            "1313/1313 [==============================] - 12s 9ms/step - loss: 0.1543 - accuracy: 0.9490 - val_loss: 0.5710 - val_accuracy: 0.8723\n",
            "Epoch 88/200\n",
            "1309/1313 [============================>.] - ETA: 0s - loss: 0.1458 - accuracy: 0.9507\n",
            "Epoch 88: val_accuracy did not improve from 0.87511\n",
            "1313/1313 [==============================] - 12s 9ms/step - loss: 0.1463 - accuracy: 0.9506 - val_loss: 0.5745 - val_accuracy: 0.8713\n",
            "Epoch 89/200\n",
            "1312/1313 [============================>.] - ETA: 0s - loss: 0.1480 - accuracy: 0.9511\n",
            "Epoch 89: val_accuracy did not improve from 0.87511\n",
            "1313/1313 [==============================] - 11s 9ms/step - loss: 0.1482 - accuracy: 0.9510 - val_loss: 0.5691 - val_accuracy: 0.8696\n",
            "Epoch 90/200\n",
            "1309/1313 [============================>.] - ETA: 0s - loss: 0.1521 - accuracy: 0.9489\n",
            "Epoch 90: val_accuracy did not improve from 0.87511\n",
            "1313/1313 [==============================] - 12s 9ms/step - loss: 0.1522 - accuracy: 0.9490 - val_loss: 0.5562 - val_accuracy: 0.8734\n",
            "Epoch 91/200\n",
            "1313/1313 [==============================] - ETA: 0s - loss: 0.1508 - accuracy: 0.9498\n",
            "Epoch 91: val_accuracy did not improve from 0.87511\n",
            "1313/1313 [==============================] - 12s 9ms/step - loss: 0.1508 - accuracy: 0.9498 - val_loss: 0.5661 - val_accuracy: 0.8697\n",
            "Epoch 92/200\n",
            "1307/1313 [============================>.] - ETA: 0s - loss: 0.1470 - accuracy: 0.9522\n",
            "Epoch 92: val_accuracy did not improve from 0.87511\n",
            "1313/1313 [==============================] - 12s 9ms/step - loss: 0.1471 - accuracy: 0.9522 - val_loss: 0.5683 - val_accuracy: 0.8750\n",
            "Epoch 93/200\n",
            "1310/1313 [============================>.] - ETA: 0s - loss: 0.1492 - accuracy: 0.9515\n",
            "Epoch 93: val_accuracy did not improve from 0.87511\n",
            "1313/1313 [==============================] - 12s 9ms/step - loss: 0.1495 - accuracy: 0.9513 - val_loss: 0.5635 - val_accuracy: 0.8721\n",
            "Epoch 94/200\n",
            "1308/1313 [============================>.] - ETA: 0s - loss: 0.1461 - accuracy: 0.9521\n",
            "Epoch 94: val_accuracy did not improve from 0.87511\n",
            "1313/1313 [==============================] - 12s 9ms/step - loss: 0.1466 - accuracy: 0.9521 - val_loss: 0.5848 - val_accuracy: 0.8661\n",
            "Epoch 95/200\n",
            "1310/1313 [============================>.] - ETA: 0s - loss: 0.1518 - accuracy: 0.9499\n",
            "Epoch 95: val_accuracy did not improve from 0.87511\n",
            "1313/1313 [==============================] - 12s 9ms/step - loss: 0.1520 - accuracy: 0.9499 - val_loss: 0.5756 - val_accuracy: 0.8717\n",
            "Epoch 96/200\n",
            "1312/1313 [============================>.] - ETA: 0s - loss: 0.1445 - accuracy: 0.9523\n",
            "Epoch 96: val_accuracy did not improve from 0.87511\n",
            "1313/1313 [==============================] - 12s 9ms/step - loss: 0.1445 - accuracy: 0.9523 - val_loss: 0.5916 - val_accuracy: 0.8684\n",
            "Epoch 97/200\n",
            "1311/1313 [============================>.] - ETA: 0s - loss: 0.1431 - accuracy: 0.9521\n",
            "Epoch 97: val_accuracy did not improve from 0.87511\n",
            "1313/1313 [==============================] - 12s 9ms/step - loss: 0.1431 - accuracy: 0.9521 - val_loss: 0.5658 - val_accuracy: 0.8732\n",
            "Epoch 98/200\n",
            "1310/1313 [============================>.] - ETA: 0s - loss: 0.1394 - accuracy: 0.9541\n",
            "Epoch 98: val_accuracy did not improve from 0.87511\n",
            "1313/1313 [==============================] - 12s 9ms/step - loss: 0.1394 - accuracy: 0.9541 - val_loss: 0.5883 - val_accuracy: 0.8682\n",
            "Epoch 99/200\n",
            "1313/1313 [==============================] - ETA: 0s - loss: 0.1435 - accuracy: 0.9533\n",
            "Epoch 99: val_accuracy did not improve from 0.87511\n",
            "1313/1313 [==============================] - 12s 9ms/step - loss: 0.1435 - accuracy: 0.9533 - val_loss: 0.5638 - val_accuracy: 0.8711\n",
            "Epoch 100/200\n",
            "1307/1313 [============================>.] - ETA: 0s - loss: 0.1376 - accuracy: 0.9540\n",
            "Epoch 100: val_accuracy did not improve from 0.87511\n",
            "1313/1313 [==============================] - 12s 9ms/step - loss: 0.1378 - accuracy: 0.9540 - val_loss: 0.5950 - val_accuracy: 0.8678\n",
            "Epoch 101/200\n",
            "1310/1313 [============================>.] - ETA: 0s - loss: 0.1355 - accuracy: 0.9548\n",
            "Epoch 101: val_accuracy did not improve from 0.87511\n",
            "1313/1313 [==============================] - 12s 9ms/step - loss: 0.1360 - accuracy: 0.9547 - val_loss: 0.5838 - val_accuracy: 0.8681\n",
            "Epoch 102/200\n",
            "1308/1313 [============================>.] - ETA: 0s - loss: 0.1336 - accuracy: 0.9554\n",
            "Epoch 102: val_accuracy did not improve from 0.87511\n",
            "1313/1313 [==============================] - 12s 9ms/step - loss: 0.1338 - accuracy: 0.9554 - val_loss: 0.5899 - val_accuracy: 0.8731\n",
            "Epoch 103/200\n",
            "1310/1313 [============================>.] - ETA: 0s - loss: 0.1381 - accuracy: 0.9534\n",
            "Epoch 103: val_accuracy did not improve from 0.87511\n",
            "1313/1313 [==============================] - 12s 9ms/step - loss: 0.1383 - accuracy: 0.9533 - val_loss: 0.5878 - val_accuracy: 0.8686\n",
            "Epoch 104/200\n",
            "1311/1313 [============================>.] - ETA: 0s - loss: 0.1393 - accuracy: 0.9541\n",
            "Epoch 104: val_accuracy did not improve from 0.87511\n",
            "1313/1313 [==============================] - 12s 9ms/step - loss: 0.1392 - accuracy: 0.9541 - val_loss: 0.5900 - val_accuracy: 0.8705\n",
            "Epoch 105/200\n",
            "1310/1313 [============================>.] - ETA: 0s - loss: 0.1415 - accuracy: 0.9536\n",
            "Epoch 105: val_accuracy did not improve from 0.87511\n",
            "1313/1313 [==============================] - 12s 9ms/step - loss: 0.1419 - accuracy: 0.9534 - val_loss: 0.5821 - val_accuracy: 0.8679\n",
            "Epoch 106/200\n",
            "1311/1313 [============================>.] - ETA: 0s - loss: 0.1347 - accuracy: 0.9553\n",
            "Epoch 106: val_accuracy did not improve from 0.87511\n",
            "1313/1313 [==============================] - 12s 9ms/step - loss: 0.1350 - accuracy: 0.9553 - val_loss: 0.5844 - val_accuracy: 0.8702\n",
            "Epoch 107/200\n",
            "1307/1313 [============================>.] - ETA: 0s - loss: 0.1339 - accuracy: 0.9552\n",
            "Epoch 107: val_accuracy did not improve from 0.87511\n",
            "1313/1313 [==============================] - 13s 10ms/step - loss: 0.1340 - accuracy: 0.9552 - val_loss: 0.5847 - val_accuracy: 0.8707\n",
            "Epoch 108/200\n",
            "1310/1313 [============================>.] - ETA: 0s - loss: 0.1362 - accuracy: 0.9552\n",
            "Epoch 108: val_accuracy did not improve from 0.87511\n",
            "1313/1313 [==============================] - 13s 10ms/step - loss: 0.1362 - accuracy: 0.9552 - val_loss: 0.5719 - val_accuracy: 0.8707\n",
            "Epoch 109/200\n",
            "1308/1313 [============================>.] - ETA: 0s - loss: 0.1359 - accuracy: 0.9555\n",
            "Epoch 109: val_accuracy did not improve from 0.87511\n",
            "1313/1313 [==============================] - 12s 9ms/step - loss: 0.1362 - accuracy: 0.9554 - val_loss: 0.5847 - val_accuracy: 0.8703\n",
            "Epoch 110/200\n",
            "1310/1313 [============================>.] - ETA: 0s - loss: 0.1305 - accuracy: 0.9557\n",
            "Epoch 110: val_accuracy did not improve from 0.87511\n",
            "1313/1313 [==============================] - 12s 9ms/step - loss: 0.1311 - accuracy: 0.9556 - val_loss: 0.5969 - val_accuracy: 0.8716\n",
            "Epoch 111/200\n",
            "1308/1313 [============================>.] - ETA: 0s - loss: 0.1340 - accuracy: 0.9558\n",
            "Epoch 111: val_accuracy did not improve from 0.87511\n",
            "1313/1313 [==============================] - 12s 9ms/step - loss: 0.1342 - accuracy: 0.9558 - val_loss: 0.5843 - val_accuracy: 0.8731\n",
            "Epoch 112/200\n",
            "1307/1313 [============================>.] - ETA: 0s - loss: 0.1316 - accuracy: 0.9567\n",
            "Epoch 112: val_accuracy did not improve from 0.87511\n",
            "1313/1313 [==============================] - 12s 9ms/step - loss: 0.1318 - accuracy: 0.9568 - val_loss: 0.6023 - val_accuracy: 0.8707\n",
            "Epoch 113/200\n",
            "1307/1313 [============================>.] - ETA: 0s - loss: 0.1264 - accuracy: 0.9585\n",
            "Epoch 113: val_accuracy did not improve from 0.87511\n",
            "1313/1313 [==============================] - 12s 9ms/step - loss: 0.1267 - accuracy: 0.9585 - val_loss: 0.5730 - val_accuracy: 0.8739\n",
            "Epoch 114/200\n",
            "1312/1313 [============================>.] - ETA: 0s - loss: 0.1282 - accuracy: 0.9578\n",
            "Epoch 114: val_accuracy did not improve from 0.87511\n",
            "1313/1313 [==============================] - 12s 9ms/step - loss: 0.1282 - accuracy: 0.9579 - val_loss: 0.5937 - val_accuracy: 0.8685\n",
            "Epoch 115/200\n",
            "1312/1313 [============================>.] - ETA: 0s - loss: 0.1320 - accuracy: 0.9562\n",
            "Epoch 115: val_accuracy did not improve from 0.87511\n",
            "1313/1313 [==============================] - 12s 9ms/step - loss: 0.1319 - accuracy: 0.9563 - val_loss: 0.5850 - val_accuracy: 0.8701\n",
            "Epoch 116/200\n",
            "1310/1313 [============================>.] - ETA: 0s - loss: 0.1298 - accuracy: 0.9571\n",
            "Epoch 116: val_accuracy did not improve from 0.87511\n",
            "1313/1313 [==============================] - 12s 9ms/step - loss: 0.1297 - accuracy: 0.9571 - val_loss: 0.5893 - val_accuracy: 0.8726\n",
            "Epoch 117/200\n",
            "1308/1313 [============================>.] - ETA: 0s - loss: 0.1236 - accuracy: 0.9591\n",
            "Epoch 117: val_accuracy did not improve from 0.87511\n",
            "1313/1313 [==============================] - 13s 10ms/step - loss: 0.1238 - accuracy: 0.9590 - val_loss: 0.5930 - val_accuracy: 0.8688\n",
            "Epoch 118/200\n",
            "1313/1313 [==============================] - ETA: 0s - loss: 0.1310 - accuracy: 0.9556\n",
            "Epoch 118: val_accuracy did not improve from 0.87511\n",
            "1313/1313 [==============================] - 13s 10ms/step - loss: 0.1310 - accuracy: 0.9556 - val_loss: 0.5906 - val_accuracy: 0.8712\n",
            "Epoch 119/200\n",
            "1310/1313 [============================>.] - ETA: 0s - loss: 0.1281 - accuracy: 0.9568\n",
            "Epoch 119: val_accuracy did not improve from 0.87511\n",
            "1313/1313 [==============================] - 13s 10ms/step - loss: 0.1283 - accuracy: 0.9567 - val_loss: 0.5761 - val_accuracy: 0.8737\n",
            "Epoch 120/200\n",
            "1310/1313 [============================>.] - ETA: 0s - loss: 0.1249 - accuracy: 0.9583\n",
            "Epoch 120: val_accuracy did not improve from 0.87511\n",
            "1313/1313 [==============================] - 12s 9ms/step - loss: 0.1252 - accuracy: 0.9582 - val_loss: 0.5920 - val_accuracy: 0.8711\n",
            "Epoch 121/200\n",
            "1313/1313 [==============================] - ETA: 0s - loss: 0.1247 - accuracy: 0.9583\n",
            "Epoch 121: val_accuracy did not improve from 0.87511\n",
            "1313/1313 [==============================] - 12s 9ms/step - loss: 0.1247 - accuracy: 0.9583 - val_loss: 0.5899 - val_accuracy: 0.8730\n",
            "Epoch 122/200\n",
            "1311/1313 [============================>.] - ETA: 0s - loss: 0.1227 - accuracy: 0.9592\n",
            "Epoch 122: val_accuracy did not improve from 0.87511\n",
            "1313/1313 [==============================] - 12s 9ms/step - loss: 0.1228 - accuracy: 0.9592 - val_loss: 0.5943 - val_accuracy: 0.8723\n",
            "Epoch 123/200\n",
            "1313/1313 [==============================] - ETA: 0s - loss: 0.1236 - accuracy: 0.9588\n",
            "Epoch 123: val_accuracy did not improve from 0.87511\n",
            "1313/1313 [==============================] - 12s 9ms/step - loss: 0.1236 - accuracy: 0.9588 - val_loss: 0.5914 - val_accuracy: 0.8691\n",
            "Epoch 124/200\n",
            "1307/1313 [============================>.] - ETA: 0s - loss: 0.1199 - accuracy: 0.9604\n",
            "Epoch 124: val_accuracy did not improve from 0.87511\n",
            "1313/1313 [==============================] - 13s 10ms/step - loss: 0.1200 - accuracy: 0.9603 - val_loss: 0.5990 - val_accuracy: 0.8702\n",
            "Epoch 125/200\n",
            "1313/1313 [==============================] - ETA: 0s - loss: 0.1278 - accuracy: 0.9575\n",
            "Epoch 125: val_accuracy did not improve from 0.87511\n",
            "1313/1313 [==============================] - 12s 9ms/step - loss: 0.1278 - accuracy: 0.9575 - val_loss: 0.5983 - val_accuracy: 0.8685\n",
            "Epoch 126/200\n",
            "1309/1313 [============================>.] - ETA: 0s - loss: 0.1177 - accuracy: 0.9606\n",
            "Epoch 126: val_accuracy did not improve from 0.87511\n",
            "1313/1313 [==============================] - 13s 10ms/step - loss: 0.1176 - accuracy: 0.9606 - val_loss: 0.6037 - val_accuracy: 0.8672\n",
            "Epoch 127/200\n",
            "1313/1313 [==============================] - ETA: 0s - loss: 0.1237 - accuracy: 0.9590\n",
            "Epoch 127: val_accuracy did not improve from 0.87511\n",
            "1313/1313 [==============================] - 13s 10ms/step - loss: 0.1237 - accuracy: 0.9590 - val_loss: 0.6111 - val_accuracy: 0.8721\n",
            "Epoch 128/200\n",
            "1311/1313 [============================>.] - ETA: 0s - loss: 0.1192 - accuracy: 0.9609\n",
            "Epoch 128: val_accuracy did not improve from 0.87511\n",
            "1313/1313 [==============================] - 13s 10ms/step - loss: 0.1195 - accuracy: 0.9609 - val_loss: 0.5987 - val_accuracy: 0.8690\n",
            "Epoch 129/200\n",
            "1313/1313 [==============================] - ETA: 0s - loss: 0.1192 - accuracy: 0.9603\n",
            "Epoch 129: val_accuracy did not improve from 0.87511\n",
            "1313/1313 [==============================] - 13s 10ms/step - loss: 0.1192 - accuracy: 0.9603 - val_loss: 0.5964 - val_accuracy: 0.8709\n",
            "Epoch 130/200\n",
            "1311/1313 [============================>.] - ETA: 0s - loss: 0.1197 - accuracy: 0.9604\n",
            "Epoch 130: val_accuracy did not improve from 0.87511\n",
            "1313/1313 [==============================] - 13s 10ms/step - loss: 0.1199 - accuracy: 0.9604 - val_loss: 0.6024 - val_accuracy: 0.8708\n",
            "Epoch 131/200\n",
            "1312/1313 [============================>.] - ETA: 0s - loss: 0.1209 - accuracy: 0.9600\n",
            "Epoch 131: val_accuracy did not improve from 0.87511\n",
            "1313/1313 [==============================] - 12s 9ms/step - loss: 0.1211 - accuracy: 0.9600 - val_loss: 0.6014 - val_accuracy: 0.8709\n",
            "Epoch 132/200\n",
            "1312/1313 [============================>.] - ETA: 0s - loss: 0.1223 - accuracy: 0.9592\n",
            "Epoch 132: val_accuracy did not improve from 0.87511\n",
            "1313/1313 [==============================] - 13s 10ms/step - loss: 0.1223 - accuracy: 0.9592 - val_loss: 0.5933 - val_accuracy: 0.8705\n",
            "Epoch 133/200\n",
            "1309/1313 [============================>.] - ETA: 0s - loss: 0.1151 - accuracy: 0.9616\n",
            "Epoch 133: val_accuracy did not improve from 0.87511\n",
            "1313/1313 [==============================] - 12s 9ms/step - loss: 0.1153 - accuracy: 0.9615 - val_loss: 0.6014 - val_accuracy: 0.8686\n",
            "Epoch 134/200\n",
            "1307/1313 [============================>.] - ETA: 0s - loss: 0.1165 - accuracy: 0.9608\n",
            "Epoch 134: val_accuracy did not improve from 0.87511\n",
            "1313/1313 [==============================] - 12s 9ms/step - loss: 0.1170 - accuracy: 0.9607 - val_loss: 0.5973 - val_accuracy: 0.8731\n",
            "Epoch 135/200\n",
            "1308/1313 [============================>.] - ETA: 0s - loss: 0.1150 - accuracy: 0.9612\n",
            "Epoch 135: val_accuracy did not improve from 0.87511\n",
            "1313/1313 [==============================] - 12s 9ms/step - loss: 0.1153 - accuracy: 0.9611 - val_loss: 0.6057 - val_accuracy: 0.8703\n",
            "Epoch 136/200\n",
            "1311/1313 [============================>.] - ETA: 0s - loss: 0.1198 - accuracy: 0.9598\n",
            "Epoch 136: val_accuracy did not improve from 0.87511\n",
            "1313/1313 [==============================] - 12s 9ms/step - loss: 0.1197 - accuracy: 0.9598 - val_loss: 0.6113 - val_accuracy: 0.8716\n",
            "Epoch 137/200\n",
            "1312/1313 [============================>.] - ETA: 0s - loss: 0.1157 - accuracy: 0.9616\n",
            "Epoch 137: val_accuracy did not improve from 0.87511\n",
            "1313/1313 [==============================] - 12s 9ms/step - loss: 0.1157 - accuracy: 0.9616 - val_loss: 0.5917 - val_accuracy: 0.8727\n",
            "Epoch 138/200\n",
            "1311/1313 [============================>.] - ETA: 0s - loss: 0.1145 - accuracy: 0.9620\n",
            "Epoch 138: val_accuracy did not improve from 0.87511\n",
            "1313/1313 [==============================] - 12s 9ms/step - loss: 0.1145 - accuracy: 0.9620 - val_loss: 0.5979 - val_accuracy: 0.8710\n",
            "Epoch 139/200\n",
            "1308/1313 [============================>.] - ETA: 0s - loss: 0.1168 - accuracy: 0.9614\n",
            "Epoch 139: val_accuracy did not improve from 0.87511\n",
            "1313/1313 [==============================] - 13s 10ms/step - loss: 0.1167 - accuracy: 0.9615 - val_loss: 0.6143 - val_accuracy: 0.8695\n",
            "Epoch 140/200\n",
            "1312/1313 [============================>.] - ETA: 0s - loss: 0.1077 - accuracy: 0.9647\n",
            "Epoch 140: val_accuracy did not improve from 0.87511\n",
            "1313/1313 [==============================] - 12s 9ms/step - loss: 0.1079 - accuracy: 0.9647 - val_loss: 0.6138 - val_accuracy: 0.8703\n",
            "Epoch 141/200\n",
            "1308/1313 [============================>.] - ETA: 0s - loss: 0.1104 - accuracy: 0.9637\n",
            "Epoch 141: val_accuracy did not improve from 0.87511\n",
            "1313/1313 [==============================] - 13s 10ms/step - loss: 0.1106 - accuracy: 0.9636 - val_loss: 0.6058 - val_accuracy: 0.8703\n",
            "Epoch 142/200\n",
            "1310/1313 [============================>.] - ETA: 0s - loss: 0.1138 - accuracy: 0.9629\n",
            "Epoch 142: val_accuracy did not improve from 0.87511\n",
            "1313/1313 [==============================] - 13s 10ms/step - loss: 0.1139 - accuracy: 0.9629 - val_loss: 0.6090 - val_accuracy: 0.8707\n",
            "Epoch 143/200\n",
            "1307/1313 [============================>.] - ETA: 0s - loss: 0.1118 - accuracy: 0.9628\n",
            "Epoch 143: val_accuracy did not improve from 0.87511\n",
            "1313/1313 [==============================] - 12s 9ms/step - loss: 0.1120 - accuracy: 0.9626 - val_loss: 0.6077 - val_accuracy: 0.8713\n",
            "Epoch 144/200\n",
            "1308/1313 [============================>.] - ETA: 0s - loss: 0.1131 - accuracy: 0.9622\n",
            "Epoch 144: val_accuracy did not improve from 0.87511\n",
            "1313/1313 [==============================] - 13s 10ms/step - loss: 0.1135 - accuracy: 0.9621 - val_loss: 0.6140 - val_accuracy: 0.8722\n",
            "Epoch 145/200\n",
            "1313/1313 [==============================] - ETA: 0s - loss: 0.1097 - accuracy: 0.9636\n",
            "Epoch 145: val_accuracy did not improve from 0.87511\n",
            "1313/1313 [==============================] - 13s 10ms/step - loss: 0.1097 - accuracy: 0.9636 - val_loss: 0.6180 - val_accuracy: 0.8702\n",
            "Epoch 146/200\n",
            "1309/1313 [============================>.] - ETA: 0s - loss: 0.1107 - accuracy: 0.9637\n",
            "Epoch 146: val_accuracy did not improve from 0.87511\n",
            "1313/1313 [==============================] - 12s 9ms/step - loss: 0.1108 - accuracy: 0.9636 - val_loss: 0.6153 - val_accuracy: 0.8709\n",
            "Epoch 147/200\n",
            "1308/1313 [============================>.] - ETA: 0s - loss: 0.1049 - accuracy: 0.9651\n",
            "Epoch 147: val_accuracy did not improve from 0.87511\n",
            "1313/1313 [==============================] - 13s 10ms/step - loss: 0.1051 - accuracy: 0.9650 - val_loss: 0.6254 - val_accuracy: 0.8694\n",
            "Epoch 148/200\n",
            "1312/1313 [============================>.] - ETA: 0s - loss: 0.1116 - accuracy: 0.9628\n",
            "Epoch 148: val_accuracy did not improve from 0.87511\n",
            "1313/1313 [==============================] - 12s 9ms/step - loss: 0.1116 - accuracy: 0.9628 - val_loss: 0.6262 - val_accuracy: 0.8688\n",
            "Epoch 149/200\n",
            "1310/1313 [============================>.] - ETA: 0s - loss: 0.1099 - accuracy: 0.9633\n",
            "Epoch 149: val_accuracy did not improve from 0.87511\n",
            "1313/1313 [==============================] - 12s 9ms/step - loss: 0.1102 - accuracy: 0.9632 - val_loss: 0.6280 - val_accuracy: 0.8689\n",
            "Epoch 150/200\n",
            "1307/1313 [============================>.] - ETA: 0s - loss: 0.1058 - accuracy: 0.9651\n",
            "Epoch 150: val_accuracy did not improve from 0.87511\n",
            "1313/1313 [==============================] - 13s 10ms/step - loss: 0.1059 - accuracy: 0.9650 - val_loss: 0.6103 - val_accuracy: 0.8717\n",
            "Epoch 151/200\n",
            "1310/1313 [============================>.] - ETA: 0s - loss: 0.1113 - accuracy: 0.9635\n",
            "Epoch 151: val_accuracy did not improve from 0.87511\n",
            "1313/1313 [==============================] - 12s 9ms/step - loss: 0.1113 - accuracy: 0.9635 - val_loss: 0.6340 - val_accuracy: 0.8687\n",
            "Epoch 152/200\n",
            "1312/1313 [============================>.] - ETA: 0s - loss: 0.1114 - accuracy: 0.9635\n",
            "Epoch 152: val_accuracy did not improve from 0.87511\n",
            "1313/1313 [==============================] - 12s 9ms/step - loss: 0.1116 - accuracy: 0.9634 - val_loss: 0.6200 - val_accuracy: 0.8718\n",
            "Epoch 153/200\n",
            "1310/1313 [============================>.] - ETA: 0s - loss: 0.1055 - accuracy: 0.9653\n",
            "Epoch 153: val_accuracy did not improve from 0.87511\n",
            "1313/1313 [==============================] - 12s 9ms/step - loss: 0.1055 - accuracy: 0.9653 - val_loss: 0.6185 - val_accuracy: 0.8736\n",
            "Epoch 154/200\n",
            "1313/1313 [==============================] - ETA: 0s - loss: 0.1065 - accuracy: 0.9646\n",
            "Epoch 154: val_accuracy did not improve from 0.87511\n",
            "1313/1313 [==============================] - 13s 10ms/step - loss: 0.1065 - accuracy: 0.9646 - val_loss: 0.6191 - val_accuracy: 0.8718\n",
            "Epoch 155/200\n",
            "1311/1313 [============================>.] - ETA: 0s - loss: 0.1096 - accuracy: 0.9637\n",
            "Epoch 155: val_accuracy did not improve from 0.87511\n",
            "1313/1313 [==============================] - 12s 9ms/step - loss: 0.1097 - accuracy: 0.9637 - val_loss: 0.6017 - val_accuracy: 0.8732\n",
            "Epoch 156/200\n",
            "1307/1313 [============================>.] - ETA: 0s - loss: 0.1030 - accuracy: 0.9662\n",
            "Epoch 156: val_accuracy did not improve from 0.87511\n",
            "1313/1313 [==============================] - 13s 10ms/step - loss: 0.1036 - accuracy: 0.9660 - val_loss: 0.6273 - val_accuracy: 0.8711\n",
            "Epoch 157/200\n",
            "1309/1313 [============================>.] - ETA: 0s - loss: 0.1047 - accuracy: 0.9644\n",
            "Epoch 157: val_accuracy did not improve from 0.87511\n",
            "1313/1313 [==============================] - 13s 10ms/step - loss: 0.1051 - accuracy: 0.9643 - val_loss: 0.6129 - val_accuracy: 0.8711\n",
            "Epoch 158/200\n",
            "1313/1313 [==============================] - ETA: 0s - loss: 0.1075 - accuracy: 0.9644\n",
            "Epoch 158: val_accuracy did not improve from 0.87511\n",
            "1313/1313 [==============================] - 13s 10ms/step - loss: 0.1075 - accuracy: 0.9644 - val_loss: 0.6213 - val_accuracy: 0.8700\n",
            "Epoch 159/200\n",
            "1309/1313 [============================>.] - ETA: 0s - loss: 0.1017 - accuracy: 0.9658\n",
            "Epoch 159: val_accuracy did not improve from 0.87511\n",
            "1313/1313 [==============================] - 13s 10ms/step - loss: 0.1017 - accuracy: 0.9659 - val_loss: 0.6187 - val_accuracy: 0.8696\n",
            "Epoch 160/200\n",
            "1310/1313 [============================>.] - ETA: 0s - loss: 0.1067 - accuracy: 0.9637\n",
            "Epoch 160: val_accuracy did not improve from 0.87511\n",
            "1313/1313 [==============================] - 14s 10ms/step - loss: 0.1067 - accuracy: 0.9637 - val_loss: 0.6049 - val_accuracy: 0.8736\n",
            "Epoch 161/200\n",
            "1313/1313 [==============================] - ETA: 0s - loss: 0.1027 - accuracy: 0.9650\n",
            "Epoch 161: val_accuracy did not improve from 0.87511\n",
            "1313/1313 [==============================] - 13s 10ms/step - loss: 0.1027 - accuracy: 0.9650 - val_loss: 0.6127 - val_accuracy: 0.8709\n",
            "Epoch 162/200\n",
            "1308/1313 [============================>.] - ETA: 0s - loss: 0.1034 - accuracy: 0.9657\n",
            "Epoch 162: val_accuracy did not improve from 0.87511\n",
            "1313/1313 [==============================] - 13s 10ms/step - loss: 0.1035 - accuracy: 0.9656 - val_loss: 0.6222 - val_accuracy: 0.8702\n",
            "Epoch 163/200\n",
            "1309/1313 [============================>.] - ETA: 0s - loss: 0.1070 - accuracy: 0.9648\n",
            "Epoch 163: val_accuracy did not improve from 0.87511\n",
            "1313/1313 [==============================] - 13s 10ms/step - loss: 0.1072 - accuracy: 0.9647 - val_loss: 0.6199 - val_accuracy: 0.8689\n",
            "Epoch 164/200\n",
            "1307/1313 [============================>.] - ETA: 0s - loss: 0.1004 - accuracy: 0.9665\n",
            "Epoch 164: val_accuracy did not improve from 0.87511\n",
            "1313/1313 [==============================] - 12s 9ms/step - loss: 0.1005 - accuracy: 0.9665 - val_loss: 0.6292 - val_accuracy: 0.8703\n",
            "Epoch 165/200\n",
            "1312/1313 [============================>.] - ETA: 0s - loss: 0.1032 - accuracy: 0.9664\n",
            "Epoch 165: val_accuracy did not improve from 0.87511\n",
            "1313/1313 [==============================] - 13s 10ms/step - loss: 0.1034 - accuracy: 0.9664 - val_loss: 0.6136 - val_accuracy: 0.8735\n",
            "Epoch 166/200\n",
            "1312/1313 [============================>.] - ETA: 0s - loss: 0.1021 - accuracy: 0.9665\n",
            "Epoch 166: val_accuracy did not improve from 0.87511\n",
            "1313/1313 [==============================] - 13s 10ms/step - loss: 0.1023 - accuracy: 0.9665 - val_loss: 0.6226 - val_accuracy: 0.8697\n",
            "Epoch 167/200\n",
            "1312/1313 [============================>.] - ETA: 0s - loss: 0.1016 - accuracy: 0.9666\n",
            "Epoch 167: val_accuracy did not improve from 0.87511\n",
            "1313/1313 [==============================] - 13s 10ms/step - loss: 0.1017 - accuracy: 0.9666 - val_loss: 0.6085 - val_accuracy: 0.8717\n",
            "Epoch 168/200\n",
            "1308/1313 [============================>.] - ETA: 0s - loss: 0.1008 - accuracy: 0.9667\n",
            "Epoch 168: val_accuracy did not improve from 0.87511\n",
            "1313/1313 [==============================] - 13s 10ms/step - loss: 0.1007 - accuracy: 0.9667 - val_loss: 0.6218 - val_accuracy: 0.8726\n",
            "Epoch 169/200\n",
            "1313/1313 [==============================] - ETA: 0s - loss: 0.1029 - accuracy: 0.9657\n",
            "Epoch 169: val_accuracy did not improve from 0.87511\n",
            "1313/1313 [==============================] - 13s 10ms/step - loss: 0.1029 - accuracy: 0.9657 - val_loss: 0.6291 - val_accuracy: 0.8707\n",
            "Epoch 170/200\n",
            "1312/1313 [============================>.] - ETA: 0s - loss: 0.1018 - accuracy: 0.9653\n",
            "Epoch 170: val_accuracy did not improve from 0.87511\n",
            "1313/1313 [==============================] - 13s 10ms/step - loss: 0.1018 - accuracy: 0.9652 - val_loss: 0.6159 - val_accuracy: 0.8718\n",
            "Epoch 171/200\n",
            "1313/1313 [==============================] - ETA: 0s - loss: 0.1031 - accuracy: 0.9664\n",
            "Epoch 171: val_accuracy did not improve from 0.87511\n",
            "1313/1313 [==============================] - 13s 10ms/step - loss: 0.1031 - accuracy: 0.9664 - val_loss: 0.6087 - val_accuracy: 0.8724\n",
            "Epoch 172/200\n",
            "1313/1313 [==============================] - ETA: 0s - loss: 0.1006 - accuracy: 0.9669\n",
            "Epoch 172: val_accuracy did not improve from 0.87511\n",
            "1313/1313 [==============================] - 14s 10ms/step - loss: 0.1006 - accuracy: 0.9669 - val_loss: 0.6213 - val_accuracy: 0.8714\n",
            "Epoch 173/200\n",
            "1313/1313 [==============================] - ETA: 0s - loss: 0.0991 - accuracy: 0.9671\n",
            "Epoch 173: val_accuracy did not improve from 0.87511\n",
            "1313/1313 [==============================] - 14s 10ms/step - loss: 0.0991 - accuracy: 0.9671 - val_loss: 0.6304 - val_accuracy: 0.8708\n",
            "Epoch 174/200\n",
            "1313/1313 [==============================] - ETA: 0s - loss: 0.0991 - accuracy: 0.9670\n",
            "Epoch 174: val_accuracy did not improve from 0.87511\n",
            "1313/1313 [==============================] - 13s 10ms/step - loss: 0.0991 - accuracy: 0.9670 - val_loss: 0.6290 - val_accuracy: 0.8714\n",
            "Epoch 175/200\n",
            "1309/1313 [============================>.] - ETA: 0s - loss: 0.1036 - accuracy: 0.9651\n",
            "Epoch 175: val_accuracy did not improve from 0.87511\n",
            "1313/1313 [==============================] - 13s 10ms/step - loss: 0.1039 - accuracy: 0.9650 - val_loss: 0.6192 - val_accuracy: 0.8705\n",
            "Epoch 176/200\n",
            "1310/1313 [============================>.] - ETA: 0s - loss: 0.1021 - accuracy: 0.9667\n",
            "Epoch 176: val_accuracy did not improve from 0.87511\n",
            "1313/1313 [==============================] - 13s 10ms/step - loss: 0.1022 - accuracy: 0.9667 - val_loss: 0.6407 - val_accuracy: 0.8702\n",
            "Epoch 177/200\n",
            "1308/1313 [============================>.] - ETA: 0s - loss: 0.0922 - accuracy: 0.9701\n",
            "Epoch 177: val_accuracy did not improve from 0.87511\n",
            "1313/1313 [==============================] - 13s 10ms/step - loss: 0.0922 - accuracy: 0.9701 - val_loss: 0.6270 - val_accuracy: 0.8730\n",
            "Epoch 178/200\n",
            "1313/1313 [==============================] - ETA: 0s - loss: 0.0932 - accuracy: 0.9695\n",
            "Epoch 178: val_accuracy did not improve from 0.87511\n",
            "1313/1313 [==============================] - 12s 9ms/step - loss: 0.0932 - accuracy: 0.9695 - val_loss: 0.6416 - val_accuracy: 0.8691\n",
            "Epoch 179/200\n",
            "1309/1313 [============================>.] - ETA: 0s - loss: 0.0931 - accuracy: 0.9688\n",
            "Epoch 179: val_accuracy did not improve from 0.87511\n",
            "1313/1313 [==============================] - 13s 10ms/step - loss: 0.0932 - accuracy: 0.9688 - val_loss: 0.6414 - val_accuracy: 0.8693\n",
            "Epoch 180/200\n",
            "1313/1313 [==============================] - ETA: 0s - loss: 0.0989 - accuracy: 0.9668\n",
            "Epoch 180: val_accuracy did not improve from 0.87511\n",
            "1313/1313 [==============================] - 12s 9ms/step - loss: 0.0989 - accuracy: 0.9668 - val_loss: 0.6228 - val_accuracy: 0.8684\n",
            "Epoch 181/200\n",
            "1310/1313 [============================>.] - ETA: 0s - loss: 0.0990 - accuracy: 0.9677\n",
            "Epoch 181: val_accuracy did not improve from 0.87511\n",
            "1313/1313 [==============================] - 13s 10ms/step - loss: 0.0992 - accuracy: 0.9676 - val_loss: 0.6226 - val_accuracy: 0.8694\n",
            "Epoch 182/200\n",
            "1310/1313 [============================>.] - ETA: 0s - loss: 0.0962 - accuracy: 0.9675\n",
            "Epoch 182: val_accuracy did not improve from 0.87511\n",
            "1313/1313 [==============================] - 13s 10ms/step - loss: 0.0963 - accuracy: 0.9675 - val_loss: 0.6401 - val_accuracy: 0.8697\n",
            "Epoch 183/200\n",
            "1311/1313 [============================>.] - ETA: 0s - loss: 0.0965 - accuracy: 0.9685\n",
            "Epoch 183: val_accuracy did not improve from 0.87511\n",
            "1313/1313 [==============================] - 13s 10ms/step - loss: 0.0967 - accuracy: 0.9685 - val_loss: 0.6243 - val_accuracy: 0.8729\n",
            "Epoch 184/200\n",
            "1312/1313 [============================>.] - ETA: 0s - loss: 0.0989 - accuracy: 0.9670\n",
            "Epoch 184: val_accuracy did not improve from 0.87511\n",
            "1313/1313 [==============================] - 13s 10ms/step - loss: 0.0990 - accuracy: 0.9670 - val_loss: 0.6167 - val_accuracy: 0.8714\n",
            "Epoch 185/200\n",
            "1309/1313 [============================>.] - ETA: 0s - loss: 0.0948 - accuracy: 0.9684\n",
            "Epoch 185: val_accuracy did not improve from 0.87511\n",
            "1313/1313 [==============================] - 12s 9ms/step - loss: 0.0948 - accuracy: 0.9684 - val_loss: 0.6317 - val_accuracy: 0.8699\n",
            "Epoch 186/200\n",
            "1308/1313 [============================>.] - ETA: 0s - loss: 0.0903 - accuracy: 0.9698\n",
            "Epoch 186: val_accuracy did not improve from 0.87511\n",
            "1313/1313 [==============================] - 13s 10ms/step - loss: 0.0905 - accuracy: 0.9698 - val_loss: 0.6336 - val_accuracy: 0.8697\n",
            "Epoch 187/200\n",
            "1311/1313 [============================>.] - ETA: 0s - loss: 0.0926 - accuracy: 0.9695\n",
            "Epoch 187: val_accuracy did not improve from 0.87511\n",
            "1313/1313 [==============================] - 13s 10ms/step - loss: 0.0927 - accuracy: 0.9695 - val_loss: 0.6323 - val_accuracy: 0.8688\n",
            "Epoch 188/200\n",
            "1313/1313 [==============================] - ETA: 0s - loss: 0.0994 - accuracy: 0.9669\n",
            "Epoch 188: val_accuracy did not improve from 0.87511\n",
            "1313/1313 [==============================] - 13s 10ms/step - loss: 0.0994 - accuracy: 0.9669 - val_loss: 0.6478 - val_accuracy: 0.8702\n",
            "Epoch 189/200\n",
            "1311/1313 [============================>.] - ETA: 0s - loss: 0.0944 - accuracy: 0.9690\n",
            "Epoch 189: val_accuracy did not improve from 0.87511\n",
            "1313/1313 [==============================] - 13s 10ms/step - loss: 0.0947 - accuracy: 0.9690 - val_loss: 0.6409 - val_accuracy: 0.8696\n",
            "Epoch 190/200\n",
            "1311/1313 [============================>.] - ETA: 0s - loss: 0.0929 - accuracy: 0.9698\n",
            "Epoch 190: val_accuracy did not improve from 0.87511\n",
            "1313/1313 [==============================] - 13s 10ms/step - loss: 0.0932 - accuracy: 0.9698 - val_loss: 0.6363 - val_accuracy: 0.8679\n",
            "Epoch 191/200\n",
            "1313/1313 [==============================] - ETA: 0s - loss: 0.0964 - accuracy: 0.9678\n",
            "Epoch 191: val_accuracy did not improve from 0.87511\n",
            "1313/1313 [==============================] - 13s 10ms/step - loss: 0.0964 - accuracy: 0.9678 - val_loss: 0.6416 - val_accuracy: 0.8693\n",
            "Epoch 192/200\n",
            "1309/1313 [============================>.] - ETA: 0s - loss: 0.0948 - accuracy: 0.9685\n",
            "Epoch 192: val_accuracy did not improve from 0.87511\n",
            "1313/1313 [==============================] - 12s 9ms/step - loss: 0.0948 - accuracy: 0.9685 - val_loss: 0.6297 - val_accuracy: 0.8713\n",
            "Epoch 193/200\n",
            "1308/1313 [============================>.] - ETA: 0s - loss: 0.0918 - accuracy: 0.9699\n",
            "Epoch 193: val_accuracy did not improve from 0.87511\n",
            "1313/1313 [==============================] - 13s 10ms/step - loss: 0.0917 - accuracy: 0.9699 - val_loss: 0.6203 - val_accuracy: 0.8727\n",
            "Epoch 194/200\n",
            "1313/1313 [==============================] - ETA: 0s - loss: 0.0935 - accuracy: 0.9693\n",
            "Epoch 194: val_accuracy did not improve from 0.87511\n",
            "1313/1313 [==============================] - 13s 10ms/step - loss: 0.0935 - accuracy: 0.9693 - val_loss: 0.6282 - val_accuracy: 0.8691\n",
            "Epoch 195/200\n",
            "1311/1313 [============================>.] - ETA: 0s - loss: 0.0926 - accuracy: 0.9702\n",
            "Epoch 195: val_accuracy did not improve from 0.87511\n",
            "1313/1313 [==============================] - 14s 10ms/step - loss: 0.0926 - accuracy: 0.9702 - val_loss: 0.6511 - val_accuracy: 0.8682\n",
            "Epoch 196/200\n",
            "1310/1313 [============================>.] - ETA: 0s - loss: 0.0905 - accuracy: 0.9703\n",
            "Epoch 196: val_accuracy did not improve from 0.87511\n",
            "1313/1313 [==============================] - 14s 10ms/step - loss: 0.0906 - accuracy: 0.9703 - val_loss: 0.6220 - val_accuracy: 0.8725\n",
            "Epoch 197/200\n",
            "1310/1313 [============================>.] - ETA: 0s - loss: 0.0917 - accuracy: 0.9703\n",
            "Epoch 197: val_accuracy did not improve from 0.87511\n",
            "1313/1313 [==============================] - 13s 10ms/step - loss: 0.0916 - accuracy: 0.9703 - val_loss: 0.6380 - val_accuracy: 0.8698\n",
            "Epoch 198/200\n",
            "1313/1313 [==============================] - ETA: 0s - loss: 0.0923 - accuracy: 0.9697\n",
            "Epoch 198: val_accuracy did not improve from 0.87511\n",
            "1313/1313 [==============================] - 13s 10ms/step - loss: 0.0923 - accuracy: 0.9697 - val_loss: 0.6459 - val_accuracy: 0.8692\n",
            "Epoch 199/200\n",
            "1312/1313 [============================>.] - ETA: 0s - loss: 0.0904 - accuracy: 0.9707\n",
            "Epoch 199: val_accuracy did not improve from 0.87511\n",
            "1313/1313 [==============================] - 13s 10ms/step - loss: 0.0905 - accuracy: 0.9706 - val_loss: 0.6468 - val_accuracy: 0.8696\n",
            "Epoch 200/200\n",
            "1307/1313 [============================>.] - ETA: 0s - loss: 0.0920 - accuracy: 0.9700\n",
            "Epoch 200: val_accuracy did not improve from 0.87511\n",
            "1313/1313 [==============================] - 13s 10ms/step - loss: 0.0918 - accuracy: 0.9701 - val_loss: 0.6333 - val_accuracy: 0.8726\n"
          ]
        }
      ]
    },
    {
      "cell_type": "code",
      "source": [
        "# Plot the training loss, validation loss vs number of epochs and training accuracy, validation accuracy vs number of epochs plot\n",
        "# write your observations on the same.\n",
        "\n",
        "pd.DataFrame(history.history).plot(figsize=(8, 5))\n",
        "plt.grid(True)\n",
        "plt.gca().set_ylim(0, 1)\n",
        "plt.show()"
      ],
      "metadata": {
        "colab": {
          "base_uri": "https://localhost:8080/",
          "height": 324
        },
        "id": "s1JK_R1h6Ryu",
        "outputId": "03c4dcca-3267-43c6-f96b-b0b8f1738eb5"
      },
      "execution_count": 23,
      "outputs": [
        {
          "output_type": "display_data",
          "data": {
            "text/plain": [
              "<Figure size 576x360 with 1 Axes>"
            ],
            "image/png": "[encoded data removed]"
          },
          "metadata": {
            "needs_background": "light"
          }
        }
      ]
    },
    {
      "cell_type": "markdown",
      "source": [
        "Epoch 78/200\n",
        "1311/1313 [============================>.] - ETA: 0s - loss: 0.1585 - accuracy: 0.9472\n",
        "Epoch 78: val_accuracy improved from 0.87367 to 0.87511, saving model to SVHN_best_model.h5\n",
        "1313/1313 [==============================] - 12s 9ms/step - loss: 0.1586 - accuracy: 0.9472 - val_loss: 0.5556 - val_accuracy: 0.8751"
      ],
      "metadata": {
        "id": "aOOZi85gWnF5"
      }
    },
    {
      "cell_type": "markdown",
      "source": [
        "The best model was found at epoch 78 with 94% training accuracy and 87% testing accuracy."
      ],
      "metadata": {
        "id": "0tN3Ga4YWqCE"
      }
    },
    {
      "cell_type": "markdown",
      "source": [
        "There is a little bit overfitting but not extreme overfitting. \n",
        "The accuracy curve started to expand more and more after 25 epochs. which indicates the starting of overfitting."
      ],
      "metadata": {
        "id": "O3J6wyGYW8NT"
      }
    },
    {
      "cell_type": "markdown",
      "source": [
        "Improvement of training loss and no improvement in validation loss in the later stages of training indicates overfitting."
      ],
      "metadata": {
        "id": "tQ5qywX2XNc6"
      }
    },
    {
      "cell_type": "markdown",
      "source": [
        "Most of the learning happened in first 20 epochs."
      ],
      "metadata": {
        "id": "wO3-FbHEXmzS"
      }
    }
  ]
}