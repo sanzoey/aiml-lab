{
  "nbformat": 4,
  "nbformat_minor": 0,
  "metadata": {
    "colab": {
      "name": "CNN Lab.ipynb",
      "provenance": [],
      "collapsed_sections": [
        "hTI42-0qJjvw",
        "WytT2eRnJjv4"
      ]
    },
    "kernelspec": {
      "name": "python3",
      "display_name": "Python 3"
    },
    "accelerator": "GPU"
  },
  "cells": [
    {
      "cell_type": "code",
      "source": [
        "import numpy as np\n",
        "import pandas as pd\n",
        "import matplotlib.pyplot as plt\n",
        "%matplotlib inline\n",
        "import seaborn as sns\n",
        "\n",
        "from tensorflow import keras"
      ],
      "metadata": {
        "id": "P-JGkMREi1Ug"
      },
      "execution_count": 51,
      "outputs": []
    },
    {
      "cell_type": "markdown",
      "metadata": {
        "id": "MyfMmMnPJjvn"
      },
      "source": [
        "## Train a simple convnet on the Fashion MNIST dataset"
      ]
    },
    {
      "cell_type": "markdown",
      "metadata": {
        "id": "zjcGOJhcJjvp"
      },
      "source": [
        "In this, we will see how to deal with image data and train a convnet for image classification task."
      ]
    },
    {
      "cell_type": "markdown",
      "metadata": {
        "id": "jR0Pl2XjJjvq"
      },
      "source": [
        "### Load the  `fashion_mnist`  dataset\n",
        "\n",
        "** Use keras.datasets to load the dataset **"
      ]
    },
    {
      "cell_type": "code",
      "metadata": {
        "id": "Qr75v_UYJjvs"
      },
      "source": [
        "from keras.datasets import fashion_mnist\n",
        "\n",
        "(x_train, y_train), (x_test, y_test) = fashion_mnist.load_data()"
      ],
      "execution_count": 2,
      "outputs": []
    },
    {
      "cell_type": "markdown",
      "metadata": {
        "id": "hTI42-0qJjvw"
      },
      "source": [
        "### Find no.of samples are there in training and test datasets"
      ]
    },
    {
      "cell_type": "code",
      "metadata": {
        "id": "g2sf67VoJjvx",
        "colab": {
          "base_uri": "https://localhost:8080/"
        },
        "outputId": "fb0175d2-1fe9-4a01-94a1-06a9f6c68f60"
      },
      "source": [
        "print(\"x_train\", x_train.shape)\n",
        "print(\"y_train\", y_train.shape)\n",
        "print(\"x_test \", x_test.shape)\n",
        "print(\"y_test \", y_test.shape)"
      ],
      "execution_count": 3,
      "outputs": [
        {
          "output_type": "stream",
          "name": "stdout",
          "text": [
            "x_train (60000, 28, 28)\n",
            "y_train (60000,)\n",
            "x_test  (10000, 28, 28)\n",
            "y_test  (10000,)\n"
          ]
        }
      ]
    },
    {
      "cell_type": "markdown",
      "metadata": {
        "id": "WytT2eRnJjv4"
      },
      "source": [
        "### Find dimensions of an image in the dataset"
      ]
    },
    {
      "cell_type": "code",
      "metadata": {
        "id": "XycQGBSGJjv5",
        "colab": {
          "base_uri": "https://localhost:8080/"
        },
        "outputId": "fd18f6fb-0b3d-429e-e4ce-713178d4b263"
      },
      "source": [
        "x_train[1].shape"
      ],
      "execution_count": 4,
      "outputs": [
        {
          "output_type": "execute_result",
          "data": {
            "text/plain": [
              "(28, 28)"
            ]
          },
          "metadata": {},
          "execution_count": 4
        }
      ]
    },
    {
      "cell_type": "markdown",
      "metadata": {
        "id": "5jtdZ7RqJjv8"
      },
      "source": [
        "### Convert train and test labels to one hot vectors\n",
        "\n",
        "** check `keras.utils.to_categorical()` **"
      ]
    },
    {
      "cell_type": "code",
      "source": [
        "num_classes = np.unique(y_test).shape[0]"
      ],
      "metadata": {
        "id": "xjclJ8zLj9-S"
      },
      "execution_count": 5,
      "outputs": []
    },
    {
      "cell_type": "code",
      "metadata": {
        "id": "sAD3q5I6Jjv9"
      },
      "source": [
        "y_train = keras.utils.to_categorical(y_train, num_classes)\n",
        "y_test = keras.utils.to_categorical(y_test, num_classes)"
      ],
      "execution_count": 8,
      "outputs": []
    },
    {
      "cell_type": "markdown",
      "metadata": {
        "id": "xO5BRBzBJjwD"
      },
      "source": [
        "### Normalize both the train and test image data from 0-255 to 0-1"
      ]
    },
    {
      "cell_type": "code",
      "metadata": {
        "id": "Okwo_SB5JjwI"
      },
      "source": [
        "x_train = x_train.astype('float32')\n",
        "x_test = x_test.astype('float32')"
      ],
      "execution_count": 9,
      "outputs": []
    },
    {
      "cell_type": "code",
      "source": [
        "x_train = x_train / 255\n",
        "x_test = x_test / 255"
      ],
      "metadata": {
        "id": "xm-SXr86lln9"
      },
      "execution_count": 10,
      "outputs": []
    },
    {
      "cell_type": "markdown",
      "metadata": {
        "id": "da5-DwgrJjwM"
      },
      "source": [
        "### Reshape the data from 28x28 to 28x28x1 to match input dimensions in Conv2D layer in keras"
      ]
    },
    {
      "cell_type": "code",
      "metadata": {
        "id": "LPGVQ-JJJjwN"
      },
      "source": [
        "x_train = x_train.reshape(x_train.shape[0], 28, 28, 1)\n",
        "x_test = x_test.reshape(x_test.shape[0], 28, 28, 1)"
      ],
      "execution_count": 11,
      "outputs": []
    },
    {
      "cell_type": "markdown",
      "metadata": {
        "id": "OFRRTJq8JjwQ"
      },
      "source": [
        "### Import the necessary layers from keras to build the model"
      ]
    },
    {
      "cell_type": "code",
      "metadata": {
        "id": "dWTZYnKSJjwR"
      },
      "source": [
        "from keras.models import Sequential\n",
        "from keras.layers import Dense, Dropout, Flatten, Activation, Conv2D, MaxPooling2D\n",
        "from keras.callbacks import EarlyStopping"
      ],
      "execution_count": 21,
      "outputs": []
    },
    {
      "cell_type": "markdown",
      "metadata": {
        "id": "C18AoS7eJjwU"
      },
      "source": [
        "### Build a model \n",
        "\n",
        "** with 2 Conv layers having `32 3x3 filters` in both convolutions with `relu activations` and `flatten` before passing the feature map into 2 fully connected layers (or Dense Layers) having 128 and 10 neurons with `relu` and `softmax` activations respectively. Now, using `categorical_crossentropy` loss with `adam` optimizer train the model with early stopping `patience=5` and no.of `epochs=10`. **"
      ]
    },
    {
      "cell_type": "code",
      "metadata": {
        "id": "DORCLgSwJjwV"
      },
      "source": [
        "model = Sequential([\n",
        "  Conv2D(32, 3, input_shape=(28, 28, 1)),\n",
        "  Activation('relu'),\n",
        "  Conv2D(32, 3),\n",
        "  Activation('relu'),\n",
        "  Flatten(),\n",
        "  Dense(128),\n",
        "  Dense(10),\n",
        "  Activation('softmax')\n",
        "])"
      ],
      "execution_count": 31,
      "outputs": []
    },
    {
      "cell_type": "code",
      "source": [
        "model.compile(\n",
        "  loss='categorical_crossentropy',\n",
        "  optimizer='adam',\n",
        "  metrics=['accuracy']\n",
        ")"
      ],
      "metadata": {
        "id": "qt4joyMVrNue"
      },
      "execution_count": 32,
      "outputs": []
    },
    {
      "cell_type": "code",
      "source": [
        "model.build()"
      ],
      "metadata": {
        "id": "H7MalkxNrPqY"
      },
      "execution_count": 33,
      "outputs": []
    },
    {
      "cell_type": "code",
      "source": [
        "model.summary()"
      ],
      "metadata": {
        "colab": {
          "base_uri": "https://localhost:8080/"
        },
        "id": "FRjX_IMXrtVF",
        "outputId": "b48d5480-e3bd-465b-c67a-e64b75a20e9d"
      },
      "execution_count": 34,
      "outputs": [
        {
          "output_type": "stream",
          "name": "stdout",
          "text": [
            "Model: \"sequential_2\"\n",
            "_________________________________________________________________\n",
            " Layer (type)                Output Shape              Param #   \n",
            "=================================================================\n",
            " conv2d_4 (Conv2D)           (None, 26, 26, 32)        320       \n",
            "                                                                 \n",
            " activation_6 (Activation)   (None, 26, 26, 32)        0         \n",
            "                                                                 \n",
            " conv2d_5 (Conv2D)           (None, 24, 24, 32)        9248      \n",
            "                                                                 \n",
            " activation_7 (Activation)   (None, 24, 24, 32)        0         \n",
            "                                                                 \n",
            " flatten_2 (Flatten)         (None, 18432)             0         \n",
            "                                                                 \n",
            " dense_4 (Dense)             (None, 128)               2359424   \n",
            "                                                                 \n",
            " dense_5 (Dense)             (None, 10)                1290      \n",
            "                                                                 \n",
            " activation_8 (Activation)   (None, 10)                0         \n",
            "                                                                 \n",
            "=================================================================\n",
            "Total params: 2,370,282\n",
            "Trainable params: 2,370,282\n",
            "Non-trainable params: 0\n",
            "_________________________________________________________________\n"
          ]
        }
      ]
    },
    {
      "cell_type": "code",
      "source": [
        "early_stopping = EarlyStopping(\n",
        "  monitor='val_accuracy',\n",
        "  patience=5,\n",
        "  verbose=1,\n",
        "  mode='auto'\n",
        ")"
      ],
      "metadata": {
        "id": "iYs5z9ERrmte"
      },
      "execution_count": 35,
      "outputs": []
    },
    {
      "cell_type": "code",
      "source": [
        "callbacks = [early_stopping]  "
      ],
      "metadata": {
        "id": "GqmlxWRjvZy9"
      },
      "execution_count": 65,
      "outputs": []
    },
    {
      "cell_type": "code",
      "source": [
        "batch_size = 32\n",
        "epochs = 10\n",
        "\n",
        "model.fit(\n",
        "  x_train, y_train, \n",
        "  batch_size=batch_size, \n",
        "  epochs=epochs,\n",
        "  validation_data=(x_test, y_test),\n",
        "  callbacks=callbacks\n",
        ")"
      ],
      "metadata": {
        "colab": {
          "base_uri": "https://localhost:8080/"
        },
        "id": "1lSUPby9vnro",
        "outputId": "a5ff3e44-dc45-4ded-b296-285f9fc5d825"
      },
      "execution_count": 37,
      "outputs": [
        {
          "output_type": "stream",
          "name": "stdout",
          "text": [
            "Epoch 1/10\n",
            "1875/1875 [==============================] - 20s 11ms/step - loss: 0.3761 - accuracy: 0.8669 - val_loss: 0.3172 - val_accuracy: 0.8885\n",
            "Epoch 2/10\n",
            "1875/1875 [==============================] - 19s 10ms/step - loss: 0.2469 - accuracy: 0.9107 - val_loss: 0.2731 - val_accuracy: 0.9028\n",
            "Epoch 3/10\n",
            "1875/1875 [==============================] - 19s 10ms/step - loss: 0.1921 - accuracy: 0.9298 - val_loss: 0.2801 - val_accuracy: 0.9051\n",
            "Epoch 4/10\n",
            "1875/1875 [==============================] - 19s 10ms/step - loss: 0.1542 - accuracy: 0.9431 - val_loss: 0.3032 - val_accuracy: 0.9015\n",
            "Epoch 5/10\n",
            "1875/1875 [==============================] - 19s 10ms/step - loss: 0.1248 - accuracy: 0.9547 - val_loss: 0.3159 - val_accuracy: 0.9029\n",
            "Epoch 6/10\n",
            "1875/1875 [==============================] - 19s 10ms/step - loss: 0.1014 - accuracy: 0.9629 - val_loss: 0.3486 - val_accuracy: 0.8990\n",
            "Epoch 7/10\n",
            "1875/1875 [==============================] - 19s 10ms/step - loss: 0.0840 - accuracy: 0.9689 - val_loss: 0.4179 - val_accuracy: 0.9013\n",
            "Epoch 8/10\n",
            "1875/1875 [==============================] - 19s 10ms/step - loss: 0.0702 - accuracy: 0.9737 - val_loss: 0.4336 - val_accuracy: 0.8976\n",
            "Epoch 8: early stopping\n"
          ]
        },
        {
          "output_type": "execute_result",
          "data": {
            "text/plain": [
              "<keras.callbacks.History at 0x7f7668a471d0>"
            ]
          },
          "metadata": {},
          "execution_count": 37
        }
      ]
    },
    {
      "cell_type": "markdown",
      "metadata": {
        "id": "ju69vKdIJjwX"
      },
      "source": [
        "### Now, to the above model add `max` pooling layer of `filter size 2x2` and `dropout` layer with `p=0.25` after the 2 conv layers and run the model"
      ]
    },
    {
      "cell_type": "code",
      "metadata": {
        "id": "L2hAP94vJjwY"
      },
      "source": [
        "model_v1 = Sequential([\n",
        "  Conv2D(32, 3, input_shape=(28, 28, 1)),\n",
        "  Activation('relu'),\n",
        "  Conv2D(32, 3),\n",
        "  Activation('relu'),\n",
        "  MaxPooling2D(pool_size=(2, 2)),\n",
        "  Dropout(0.25),\n",
        "  Flatten(),\n",
        "  Dense(128),\n",
        "  Dense(10),\n",
        "  Activation('softmax')\n",
        "])"
      ],
      "execution_count": 66,
      "outputs": []
    },
    {
      "cell_type": "code",
      "source": [
        "model_v1.compile(\n",
        "  loss='categorical_crossentropy',\n",
        "  optimizer='adam',\n",
        "  metrics=['accuracy']\n",
        ")"
      ],
      "metadata": {
        "id": "RHM9J5140fD-"
      },
      "execution_count": 67,
      "outputs": []
    },
    {
      "cell_type": "code",
      "source": [
        "model_v1.build()"
      ],
      "metadata": {
        "id": "j0xM1otR0im7"
      },
      "execution_count": 68,
      "outputs": []
    },
    {
      "cell_type": "code",
      "source": [
        "model_v1.summary()"
      ],
      "metadata": {
        "colab": {
          "base_uri": "https://localhost:8080/"
        },
        "id": "69qKtIhR0pAC",
        "outputId": "6640ec1f-0b86-4400-9dbe-813b484d0c59"
      },
      "execution_count": 69,
      "outputs": [
        {
          "output_type": "stream",
          "name": "stdout",
          "text": [
            "Model: \"sequential_6\"\n",
            "_________________________________________________________________\n",
            " Layer (type)                Output Shape              Param #   \n",
            "=================================================================\n",
            " conv2d_12 (Conv2D)          (None, 26, 26, 32)        320       \n",
            "                                                                 \n",
            " activation_18 (Activation)  (None, 26, 26, 32)        0         \n",
            "                                                                 \n",
            " conv2d_13 (Conv2D)          (None, 24, 24, 32)        9248      \n",
            "                                                                 \n",
            " activation_19 (Activation)  (None, 24, 24, 32)        0         \n",
            "                                                                 \n",
            " max_pooling2d_3 (MaxPooling  (None, 12, 12, 32)       0         \n",
            " 2D)                                                             \n",
            "                                                                 \n",
            " dropout_3 (Dropout)         (None, 12, 12, 32)        0         \n",
            "                                                                 \n",
            " flatten_6 (Flatten)         (None, 4608)              0         \n",
            "                                                                 \n",
            " dense_12 (Dense)            (None, 128)               589952    \n",
            "                                                                 \n",
            " dense_13 (Dense)            (None, 10)                1290      \n",
            "                                                                 \n",
            " activation_20 (Activation)  (None, 10)                0         \n",
            "                                                                 \n",
            "=================================================================\n",
            "Total params: 600,810\n",
            "Trainable params: 600,810\n",
            "Non-trainable params: 0\n",
            "_________________________________________________________________\n"
          ]
        }
      ]
    },
    {
      "cell_type": "code",
      "source": [
        "batch_size = 32\n",
        "epochs = 10\n",
        "\n",
        "model_v1.fit(\n",
        "  x_train, y_train, \n",
        "  batch_size=batch_size, \n",
        "  epochs=epochs,\n",
        "  validation_data=(x_test, y_test),\n",
        "  callbacks=callbacks\n",
        ")"
      ],
      "metadata": {
        "colab": {
          "base_uri": "https://localhost:8080/"
        },
        "id": "u58gV1R_0uK7",
        "outputId": "a86716ea-7cf1-455e-df63-81346b22c86f"
      },
      "execution_count": 46,
      "outputs": [
        {
          "output_type": "stream",
          "name": "stdout",
          "text": [
            "Epoch 1/10\n",
            "1875/1875 [==============================] - 18s 9ms/step - loss: 0.3936 - accuracy: 0.8596 - val_loss: 0.3022 - val_accuracy: 0.8925\n",
            "Epoch 2/10\n",
            "1875/1875 [==============================] - 18s 9ms/step - loss: 0.2755 - accuracy: 0.9019 - val_loss: 0.2772 - val_accuracy: 0.9010\n",
            "Epoch 3/10\n",
            "1875/1875 [==============================] - 17s 9ms/step - loss: 0.2413 - accuracy: 0.9125 - val_loss: 0.2884 - val_accuracy: 0.8965\n",
            "Epoch 4/10\n",
            "1875/1875 [==============================] - 17s 9ms/step - loss: 0.2196 - accuracy: 0.9189 - val_loss: 0.2500 - val_accuracy: 0.9107\n",
            "Epoch 5/10\n",
            "1875/1875 [==============================] - 17s 9ms/step - loss: 0.2051 - accuracy: 0.9255 - val_loss: 0.2331 - val_accuracy: 0.9187\n",
            "Epoch 6/10\n",
            "1875/1875 [==============================] - 17s 9ms/step - loss: 0.1917 - accuracy: 0.9301 - val_loss: 0.2471 - val_accuracy: 0.9140\n",
            "Epoch 7/10\n",
            "1875/1875 [==============================] - 17s 9ms/step - loss: 0.1825 - accuracy: 0.9318 - val_loss: 0.2447 - val_accuracy: 0.9166\n",
            "Epoch 8/10\n",
            "1875/1875 [==============================] - 17s 9ms/step - loss: 0.1754 - accuracy: 0.9353 - val_loss: 0.2542 - val_accuracy: 0.9104\n",
            "Epoch 9/10\n",
            "1875/1875 [==============================] - 17s 9ms/step - loss: 0.1703 - accuracy: 0.9368 - val_loss: 0.2493 - val_accuracy: 0.9164\n",
            "Epoch 10/10\n",
            "1875/1875 [==============================] - 17s 9ms/step - loss: 0.1629 - accuracy: 0.9402 - val_loss: 0.2477 - val_accuracy: 0.9208\n"
          ]
        },
        {
          "output_type": "execute_result",
          "data": {
            "text/plain": [
              "<keras.callbacks.History at 0x7f76ddda7b90>"
            ]
          },
          "metadata": {},
          "execution_count": 46
        }
      ]
    },
    {
      "cell_type": "markdown",
      "metadata": {
        "id": "lGTA3bfEJjwa"
      },
      "source": [
        "### Now, to the above model, lets add Data Augmentation "
      ]
    },
    {
      "cell_type": "markdown",
      "metadata": {
        "id": "F6gX8n5SJjwb"
      },
      "source": [
        "### Import the ImageDataGenrator from keras and fit the training images"
      ]
    },
    {
      "cell_type": "code",
      "metadata": {
        "id": "Cbz4uHBuJjwc"
      },
      "source": [
        "from keras.preprocessing.image import ImageDataGenerator "
      ],
      "execution_count": 52,
      "outputs": []
    },
    {
      "cell_type": "code",
      "source": [
        "datagen = ImageDataGenerator(\n",
        "  featurewise_center=False,\n",
        "  samplewise_center=False,\n",
        "  featurewise_std_normalization=False,\n",
        "  samplewise_std_normalization=False,\n",
        "  zca_whitening=False,\n",
        "  rotation_range=60,\n",
        "  width_shift_range=0.1,\n",
        "  height_shift_range=0.1,\n",
        "  horizontal_flip=False,\n",
        "  vertical_flip=False,\n",
        ")"
      ],
      "metadata": {
        "id": "iXhgBLuq751c"
      },
      "execution_count": 58,
      "outputs": []
    },
    {
      "cell_type": "code",
      "source": [
        "datagen.fit(x_train)"
      ],
      "metadata": {
        "id": "2M5a_hQS_NOp"
      },
      "execution_count": 61,
      "outputs": []
    },
    {
      "cell_type": "markdown",
      "metadata": {
        "id": "pl-8dOo7Jjwf"
      },
      "source": [
        "#### Showing 5 versions of the first image in training dataset using image datagenerator.flow()"
      ]
    },
    {
      "cell_type": "code",
      "metadata": {
        "scrolled": true,
        "id": "DpI1_McYJjwg",
        "outputId": "7a4b145f-ba8c-4e36-cec6-3f0d31073aef",
        "colab": {
          "base_uri": "https://localhost:8080/",
          "height": 89
        }
      },
      "source": [
        "generator = datagen.flow(x_train[0:1], batch_size=1)\n",
        "\n",
        "for i in range(1, 6):\n",
        "  plt.subplot(1, 5, i)\n",
        "  plt.axis(\"off\")\n",
        "  plt.imshow(generator.next().squeeze(), cmap='gray')\n",
        "  plt.plot()\n",
        "\n",
        "plt.show()"
      ],
      "execution_count": 62,
      "outputs": [
        {
          "output_type": "display_data",
          "data": {
            "text/plain": [
              "<Figure size 432x288 with 5 Axes>"
            ],
            "image/png": "[encoded data removed]"
          },
          "metadata": {
            "needs_background": "light"
          }
        }
      ]
    },
    {
      "cell_type": "markdown",
      "metadata": {
        "id": "dmPl5yE8Jjwm"
      },
      "source": [
        "### Run the above model using fit_generator()"
      ]
    },
    {
      "cell_type": "code",
      "source": [
        "batch_size = 32"
      ],
      "metadata": {
        "id": "ivqUGoN1-iEx"
      },
      "execution_count": 59,
      "outputs": []
    },
    {
      "cell_type": "code",
      "metadata": {
        "id": "44ZnDdJYJjwn",
        "colab": {
          "base_uri": "https://localhost:8080/"
        },
        "outputId": "b12bab86-d24e-4de0-eefd-6f93bd97b3cd"
      },
      "source": [
        "model_v1.fit(\n",
        "  datagen.flow(\n",
        "    x_train, y_train,\n",
        "    batch_size=batch_size\n",
        "  ),\n",
        "  steps_per_epoch=x_train.shape[0]/batch_size,\n",
        "  epochs=10,\n",
        "  validation_data=(x_test, y_test),\n",
        "  callbacks=callbacks\n",
        ")"
      ],
      "execution_count": 71,
      "outputs": [
        {
          "output_type": "stream",
          "name": "stdout",
          "text": [
            "Epoch 1/10\n",
            "1875/1875 [==============================] - 34s 18ms/step - loss: 0.6515 - accuracy: 0.7601 - val_loss: 0.5849 - val_accuracy: 0.7979\n",
            "Epoch 2/10\n",
            "1875/1875 [==============================] - 38s 20ms/step - loss: 0.6094 - accuracy: 0.7770 - val_loss: 0.5176 - val_accuracy: 0.8214\n",
            "Epoch 3/10\n",
            "1875/1875 [==============================] - 34s 18ms/step - loss: 0.5799 - accuracy: 0.7879 - val_loss: 0.5069 - val_accuracy: 0.8265\n",
            "Epoch 4/10\n",
            "1875/1875 [==============================] - 34s 18ms/step - loss: 0.5626 - accuracy: 0.7944 - val_loss: 0.4928 - val_accuracy: 0.8274\n",
            "Epoch 5/10\n",
            "1875/1875 [==============================] - 34s 18ms/step - loss: 0.5509 - accuracy: 0.8000 - val_loss: 0.4711 - val_accuracy: 0.8378\n",
            "Epoch 6/10\n",
            "1875/1875 [==============================] - 33s 18ms/step - loss: 0.5416 - accuracy: 0.8018 - val_loss: 0.5238 - val_accuracy: 0.8110\n",
            "Epoch 7/10\n",
            "1875/1875 [==============================] - 33s 18ms/step - loss: 0.5289 - accuracy: 0.8092 - val_loss: 0.4556 - val_accuracy: 0.8419\n",
            "Epoch 8/10\n",
            "1875/1875 [==============================] - 33s 18ms/step - loss: 0.5236 - accuracy: 0.8098 - val_loss: 0.4774 - val_accuracy: 0.8362\n",
            "Epoch 9/10\n",
            "1875/1875 [==============================] - 33s 18ms/step - loss: 0.5176 - accuracy: 0.8119 - val_loss: 0.4989 - val_accuracy: 0.8298\n",
            "Epoch 10/10\n",
            "1875/1875 [==============================] - 33s 18ms/step - loss: 0.5186 - accuracy: 0.8116 - val_loss: 0.4606 - val_accuracy: 0.8381\n"
          ]
        },
        {
          "output_type": "execute_result",
          "data": {
            "text/plain": [
              "<keras.callbacks.History at 0x7f7662a1a910>"
            ]
          },
          "metadata": {},
          "execution_count": 71
        }
      ]
    },
    {
      "cell_type": "markdown",
      "metadata": {
        "id": "MwQQW5iOJjwq"
      },
      "source": [
        "###  Report the final train and validation accuracy"
      ]
    },
    {
      "cell_type": "code",
      "metadata": {
        "id": "c1SrtBEPJjwq",
        "colab": {
          "base_uri": "https://localhost:8080/"
        },
        "outputId": "873efaeb-4ef0-4046-b2cd-88f619ac71c1"
      },
      "source": [
        "model_v1.evaluate(x_train, y_train)"
      ],
      "execution_count": 74,
      "outputs": [
        {
          "output_type": "stream",
          "name": "stdout",
          "text": [
            "1875/1875 [==============================] - 11s 6ms/step - loss: 0.4279 - accuracy: 0.8444\n"
          ]
        },
        {
          "output_type": "execute_result",
          "data": {
            "text/plain": [
              "[0.42787861824035645, 0.8444166779518127]"
            ]
          },
          "metadata": {},
          "execution_count": 74
        }
      ]
    },
    {
      "cell_type": "code",
      "metadata": {
        "id": "ZBwVWNQC2qZD",
        "colab": {
          "base_uri": "https://localhost:8080/"
        },
        "outputId": "c95876b8-8932-493d-b921-daa8ee86586c"
      },
      "source": [
        "model_v1.evaluate(x_test, y_test)"
      ],
      "execution_count": 75,
      "outputs": [
        {
          "output_type": "stream",
          "name": "stdout",
          "text": [
            "313/313 [==============================] - 1s 5ms/step - loss: 0.4606 - accuracy: 0.8381\n"
          ]
        },
        {
          "output_type": "execute_result",
          "data": {
            "text/plain": [
              "[0.46056464314460754, 0.838100016117096]"
            ]
          },
          "metadata": {},
          "execution_count": 75
        }
      ]
    },
    {
      "cell_type": "markdown",
      "metadata": {
        "id": "8KXqmUDW2rM1"
      },
      "source": [
        "## **DATA AUGMENTATION ON CIFAR10 DATASET**"
      ]
    },
    {
      "cell_type": "markdown",
      "metadata": {
        "id": "8mja6OgQ3L18"
      },
      "source": [
        "One of the best ways to improve the performance of a Deep Learning model is to add more data to the training set. Aside from gathering more instances from the wild that are representative of the distinction task, we want to develop a set of methods that enhance the data we already have. There are many ways to augment existing datasets and produce more robust models. In the image domain, these are done to utilize the full power of the convolutional neural network, which is able to capture translational invariance. This translational invariance is what makes image recognition such a difficult task in the first place. You want the dataset to be representative of the many different positions, angles, lightings, and miscellaneous distortions that are of interest to the vision task."
      ]
    },
    {
      "cell_type": "markdown",
      "metadata": {
        "id": "6HzVTPUM3WZJ"
      },
      "source": [
        "### **Import neessary libraries for data augmentation**"
      ]
    },
    {
      "cell_type": "code",
      "metadata": {
        "id": "PPM558TX4KMb"
      },
      "source": [
        "from keras.preprocessing.image import ImageDataGenerator \n",
        "from keras.datasets import cifar10"
      ],
      "execution_count": 98,
      "outputs": []
    },
    {
      "cell_type": "markdown",
      "metadata": {
        "id": "W6hicLwP4SqY"
      },
      "source": [
        "### **Load CIFAR10 dataset**"
      ]
    },
    {
      "cell_type": "code",
      "metadata": {
        "id": "NQ1WzrXd4WNk"
      },
      "source": [
        "(x_train, y_train), (x_test, y_test) = cifar10.load_data()"
      ],
      "execution_count": 99,
      "outputs": []
    },
    {
      "cell_type": "code",
      "metadata": {
        "id": "R9Pht1ggHuiT",
        "colab": {
          "base_uri": "https://localhost:8080/"
        },
        "outputId": "78f67650-0740-446a-be46-0e4976fdbb00"
      },
      "source": [
        "print(x_train.shape)\n",
        "print(y_train.shape)\n",
        "print(x_test.shape)\n",
        "print(y_test.shape)"
      ],
      "execution_count": 100,
      "outputs": [
        {
          "output_type": "stream",
          "name": "stdout",
          "text": [
            "(50000, 32, 32, 3)\n",
            "(50000, 1)\n",
            "(10000, 32, 32, 3)\n",
            "(10000, 1)\n"
          ]
        }
      ]
    },
    {
      "cell_type": "code",
      "source": [
        "num_classes = np.unique(y_test).shape[0]"
      ],
      "metadata": {
        "id": "TdzdgeBpDbM-"
      },
      "execution_count": 101,
      "outputs": []
    },
    {
      "cell_type": "code",
      "metadata": {
        "id": "3n28ccU6Hp6s"
      },
      "source": [
        "y_train = keras.utils.to_categorical(y_train, num_classes)\n",
        "y_test = keras.utils.to_categorical(y_test, num_classes)"
      ],
      "execution_count": 102,
      "outputs": []
    },
    {
      "cell_type": "code",
      "source": [
        "x_train = x_train.astype('float32')\n",
        "x_test = x_test.astype('float32')"
      ],
      "metadata": {
        "id": "dl_s4N0xENjp"
      },
      "execution_count": 103,
      "outputs": []
    },
    {
      "cell_type": "code",
      "source": [
        "x_train = x_train / 255\n",
        "x_test = x_test / 255"
      ],
      "metadata": {
        "id": "LkxOtS2OEOcs"
      },
      "execution_count": 104,
      "outputs": []
    },
    {
      "cell_type": "markdown",
      "metadata": {
        "id": "JN3vYYhK4W0u"
      },
      "source": [
        "### **Create a data_gen funtion to genererator with image rotation,shifting image horizontally and vertically with random flip horizontally.**"
      ]
    },
    {
      "cell_type": "code",
      "metadata": {
        "id": "JJbekTKi4cmM"
      },
      "source": [
        "datagen = ImageDataGenerator(\n",
        "  featurewise_center=False,\n",
        "  samplewise_center=False,\n",
        "  featurewise_std_normalization=False,\n",
        "  samplewise_std_normalization=False,\n",
        "  zca_whitening=False,\n",
        "  rotation_range=60,\n",
        "  width_shift_range=0.1,\n",
        "  height_shift_range=0.1,\n",
        "  horizontal_flip=False,\n",
        "  vertical_flip=False,\n",
        ")"
      ],
      "execution_count": 105,
      "outputs": []
    },
    {
      "cell_type": "markdown",
      "metadata": {
        "id": "e-SLtUhC4dK2"
      },
      "source": [
        "### **Prepare/fit the generator.**"
      ]
    },
    {
      "cell_type": "code",
      "source": [
        "datagen.fit(x_train)"
      ],
      "metadata": {
        "id": "xp4_QxrYEi5k"
      },
      "execution_count": 106,
      "outputs": []
    },
    {
      "cell_type": "markdown",
      "metadata": {
        "id": "gYyF-P8O4jQ8"
      },
      "source": [
        "### **Generate 5 images for 1 of the image of CIFAR10 train dataset.**"
      ]
    },
    {
      "cell_type": "code",
      "metadata": {
        "id": "CSw8Bv2_4hb0",
        "colab": {
          "base_uri": "https://localhost:8080/",
          "height": 89
        },
        "outputId": "cc86e43e-ae6c-4c9f-d609-a0b9c236d6a4"
      },
      "source": [
        "generator = datagen.flow(x_train[0:1], batch_size=1)\n",
        "\n",
        "for i in range(1, 6):\n",
        "  plt.subplot(1, 5, i)\n",
        "  plt.axis(\"off\")\n",
        "  plt.imshow(generator.next().squeeze(), cmap='gray')\n",
        "  plt.plot()\n",
        "\n",
        "plt.show()"
      ],
      "execution_count": 107,
      "outputs": [
        {
          "output_type": "display_data",
          "data": {
            "text/plain": [
              "<Figure size 432x288 with 5 Axes>"
            ],
            "image/png": "[encoded data removed]"
          },
          "metadata": {
            "needs_background": "light"
          }
        }
      ]
    },
    {
      "cell_type": "code",
      "metadata": {
        "id": "mXug4z234mwQ"
      },
      "source": [
        "batch_size = 32"
      ],
      "execution_count": 108,
      "outputs": []
    },
    {
      "cell_type": "code",
      "source": [
        "model_v2 = Sequential([\n",
        "  Conv2D(32, 3, input_shape=(32, 32, 3)),\n",
        "  Activation('relu'),\n",
        "  Conv2D(32, 3),\n",
        "  Activation('relu'),\n",
        "  MaxPooling2D(pool_size=(2, 2)),\n",
        "  Dropout(0.25),\n",
        "  Flatten(),\n",
        "  Dense(128),\n",
        "  Dense(num_classes),\n",
        "  Activation('softmax')\n",
        "])"
      ],
      "metadata": {
        "id": "Qg8eLG3OE1xx"
      },
      "execution_count": 122,
      "outputs": []
    },
    {
      "cell_type": "code",
      "source": [
        "model_v2.compile(\n",
        "  loss='categorical_crossentropy',\n",
        "  optimizer='adam',\n",
        "  metrics=['accuracy']\n",
        ")"
      ],
      "metadata": {
        "id": "lpQNTOGQE4VY"
      },
      "execution_count": 123,
      "outputs": []
    },
    {
      "cell_type": "code",
      "source": [
        "model_v2.build()"
      ],
      "metadata": {
        "id": "eqg8cd8pE5I8"
      },
      "execution_count": 124,
      "outputs": []
    },
    {
      "cell_type": "code",
      "source": [
        "model_v2.summary()"
      ],
      "metadata": {
        "colab": {
          "base_uri": "https://localhost:8080/"
        },
        "id": "H0iD2SE0E6O0",
        "outputId": "6eb56d0a-5eb4-454f-e57b-613b45f80d6a"
      },
      "execution_count": 125,
      "outputs": [
        {
          "output_type": "stream",
          "name": "stdout",
          "text": [
            "Model: \"sequential_11\"\n",
            "_________________________________________________________________\n",
            " Layer (type)                Output Shape              Param #   \n",
            "=================================================================\n",
            " conv2d_22 (Conv2D)          (None, 30, 30, 32)        896       \n",
            "                                                                 \n",
            " activation_33 (Activation)  (None, 30, 30, 32)        0         \n",
            "                                                                 \n",
            " conv2d_23 (Conv2D)          (None, 28, 28, 32)        9248      \n",
            "                                                                 \n",
            " activation_34 (Activation)  (None, 28, 28, 32)        0         \n",
            "                                                                 \n",
            " max_pooling2d_8 (MaxPooling  (None, 14, 14, 32)       0         \n",
            " 2D)                                                             \n",
            "                                                                 \n",
            " dropout_8 (Dropout)         (None, 14, 14, 32)        0         \n",
            "                                                                 \n",
            " flatten_11 (Flatten)        (None, 6272)              0         \n",
            "                                                                 \n",
            " dense_22 (Dense)            (None, 128)               802944    \n",
            "                                                                 \n",
            " dense_23 (Dense)            (None, 10)                1290      \n",
            "                                                                 \n",
            " activation_35 (Activation)  (None, 10)                0         \n",
            "                                                                 \n",
            "=================================================================\n",
            "Total params: 814,378\n",
            "Trainable params: 814,378\n",
            "Non-trainable params: 0\n",
            "_________________________________________________________________\n"
          ]
        }
      ]
    },
    {
      "cell_type": "code",
      "source": [
        "early_stopping = EarlyStopping(\n",
        "  monitor='val_accuracy',\n",
        "  patience=5,\n",
        "  verbose=1,\n",
        "  mode='auto'\n",
        ")\n",
        "\n",
        "callbacks = [early_stopping]  "
      ],
      "metadata": {
        "id": "cbym5iPZFDqI"
      },
      "execution_count": 126,
      "outputs": []
    },
    {
      "cell_type": "code",
      "source": [
        "model_v2.fit(\n",
        "  datagen.flow(\n",
        "    x_train, y_train,\n",
        "    batch_size=batch_size\n",
        "  ),\n",
        "  steps_per_epoch=x_train.shape[0]/batch_size,\n",
        "  epochs=10,\n",
        "  validation_data=(x_test, y_test),\n",
        "  callbacks=callbacks\n",
        ")"
      ],
      "metadata": {
        "colab": {
          "base_uri": "https://localhost:8080/"
        },
        "id": "z8Khvjk1Es1p",
        "outputId": "4ce6b702-7203-463c-dd09-f6230681f241"
      },
      "execution_count": 127,
      "outputs": [
        {
          "output_type": "stream",
          "name": "stdout",
          "text": [
            "Epoch 1/10\n",
            "1562/1562 [==============================] - 43s 27ms/step - loss: 1.7108 - accuracy: 0.3860 - val_loss: 1.4346 - val_accuracy: 0.4887\n",
            "Epoch 2/10\n",
            "1562/1562 [==============================] - 40s 26ms/step - loss: 1.5183 - accuracy: 0.4603 - val_loss: 1.3140 - val_accuracy: 0.5374\n",
            "Epoch 3/10\n",
            "1562/1562 [==============================] - 40s 26ms/step - loss: 1.4390 - accuracy: 0.4871 - val_loss: 1.2827 - val_accuracy: 0.5492\n",
            "Epoch 4/10\n",
            "1562/1562 [==============================] - 42s 27ms/step - loss: 1.4080 - accuracy: 0.5018 - val_loss: 1.2421 - val_accuracy: 0.5544\n",
            "Epoch 5/10\n",
            "1562/1562 [==============================] - 42s 27ms/step - loss: 1.3811 - accuracy: 0.5100 - val_loss: 1.2643 - val_accuracy: 0.5676\n",
            "Epoch 6/10\n",
            "1562/1562 [==============================] - 43s 27ms/step - loss: 1.3653 - accuracy: 0.5177 - val_loss: 1.2773 - val_accuracy: 0.5612\n",
            "Epoch 7/10\n",
            "1562/1562 [==============================] - 40s 26ms/step - loss: 1.3457 - accuracy: 0.5229 - val_loss: 1.2717 - val_accuracy: 0.5665\n",
            "Epoch 8/10\n",
            "1562/1562 [==============================] - 43s 27ms/step - loss: 1.3321 - accuracy: 0.5287 - val_loss: 1.2710 - val_accuracy: 0.5642\n",
            "Epoch 9/10\n",
            "1562/1562 [==============================] - 41s 26ms/step - loss: 1.3134 - accuracy: 0.5346 - val_loss: 1.2085 - val_accuracy: 0.5790\n",
            "Epoch 10/10\n",
            "1562/1562 [==============================] - 41s 26ms/step - loss: 1.3097 - accuracy: 0.5393 - val_loss: 1.2694 - val_accuracy: 0.5706\n"
          ]
        },
        {
          "output_type": "execute_result",
          "data": {
            "text/plain": [
              "<keras.callbacks.History at 0x7f76685a1e10>"
            ]
          },
          "metadata": {},
          "execution_count": 127
        }
      ]
    },
    {
      "cell_type": "code",
      "source": [
        ""
      ],
      "metadata": {
        "id": "fMhcQjmcEuX0"
      },
      "execution_count": null,
      "outputs": []
    }
  ]
}