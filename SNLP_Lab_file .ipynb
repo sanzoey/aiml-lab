{
  "nbformat": 4,
  "nbformat_minor": 0,
  "metadata": {
    "colab": {
      "name": "SNLP_Lab_file.ipynb",
      "provenance": [],
      "collapsed_sections": [
        "x_Lom6cXzqn7",
        "fze-aokU0ukH"
      ]
    },
    "kernelspec": {
      "name": "python3",
      "display_name": "Python 3"
    }
  },
  "cells": [
    {
      "cell_type": "markdown",
      "metadata": {
        "id": "PHYs6Z84xV8E"
      },
      "source": [
        "<img src=\"http://drive.google.com/uc?export=view&id=1tpOCamr9aWz817atPnyXus8w5gJ3mIts\" width=500px>\n",
        "\n",
        "Proprietary content. © Great Learning. All Rights Reserved. Unauthorized use or distribution prohibited."
      ]
    },
    {
      "cell_type": "markdown",
      "metadata": {
        "id": "5QQxgAmWzSye"
      },
      "source": [
        "# Mobile Phone Review Analysis"
      ]
    },
    {
      "cell_type": "markdown",
      "metadata": {
        "id": "FbwHYUXhxaqD"
      },
      "source": [
        "## Context\n",
        "\n",
        "The product companies can utilize the detailed review comments to gather insights from the end user. Most of the products are sold via e-commerce sites like Flipkart or Amazon where customers can buy a product and give their review about the product on the web site. \n",
        "Product managers can identify the relevant reviews from the website and run a sentiment analysis tool to understand what the sentiments of the customer are. Based on their sentiments, they can identify what users think of the current product. Are they happy? Discontent? \n",
        "They can also come up with a document that lists the features, the team needs to focus on for making the product better. \n",
        "\n",
        "## Objective\n",
        "\n",
        "Given the review data rating label, we will try to get insights about various brands and their ratings using text analytics and build a model to predict the rating and overall sentiment. \n"
      ]
    },
    {
      "cell_type": "markdown",
      "metadata": {
        "id": "CI7usguRzeox"
      },
      "source": [
        "### Package version\n",
        "\n",
        "- tensorflow==2.3.0\n",
        "- scikit-learn==0.22.2.post1\n",
        "- pandas==1.0.5\n",
        "- numpy==1.18.5\n",
        "- matplotlib==3.2.2\n",
        "- google==2.0.3"
      ]
    },
    {
      "cell_type": "markdown",
      "metadata": {
        "id": "aiMdVjHRH7NR"
      },
      "source": [
        "### Data Dictionary \n",
        "\n",
        "product_data.csv - contains product details\n",
        "- 'asin',  - Product ASIN\n",
        "- 'brand', - Product Brand\n",
        "- 'title', - Product Title\n",
        "- 'url',  - Product URL\n",
        "- 'image', - Product Image URL\n",
        "- 'rating',- Product Avg. Rating\n",
        "- 'reviewUrl' - Product Review Page URL\n",
        "- 'totalReviews' - Product Total Reviews\n",
        "- ‘price’ - Product Price ($)\n",
        "- ‘originalPrice’ - Product Original Price ($)\n",
        " \n",
        "reviews.csv  - contains user review details\n",
        " \n",
        "- 'asin' - Product ASIN\n",
        "- 'name' - Reviewer Name\n",
        "- 'rating' - Reviewer Rating (scale 1 to 5)\n",
        "- 'date'  - Review Date\n",
        "- 'verified' - Valid Customer\n",
        "- 'title'  - Review Title\n",
        "- 'body'  - Review Content\n",
        "- 'helpfulVotes  - Helpful Feedbacks\n"
      ]
    },
    {
      "cell_type": "markdown",
      "metadata": {
        "id": "cEn52o8jznJK"
      },
      "source": [
        "## Table of Content\n",
        "\n",
        "1. Import Libraries\n",
        "\n",
        "2. Setting options\n",
        "\n",
        "3. Read Data\n",
        "\n",
        "4. Data Analysis and EDA\n",
        "\n",
        "5. Text preprocessing and Vectorization\n",
        "\n",
        "6. Model building\n",
        "\n",
        "7. Conclusion and Interpretation"
      ]
    },
    {
      "cell_type": "markdown",
      "metadata": {
        "id": "x_Lom6cXzqn7"
      },
      "source": [
        "## 1. Import Libraries"
      ]
    },
    {
      "cell_type": "markdown",
      "metadata": {
        "id": "FZtVstH8zre2"
      },
      "source": [
        "Let us start by mounting the drive"
      ]
    },
    {
      "cell_type": "code",
      "metadata": {
        "id": "xv9jxv3-R5Xl",
        "colab": {
          "base_uri": "https://localhost:8080/"
        },
        "outputId": "26ea9534-a51c-4046-d6c4-e8e174faeac8"
      },
      "source": [
        "from google.colab import drive\n",
        "drive.mount('/content/drive')"
      ],
      "execution_count": 151,
      "outputs": [
        {
          "output_type": "stream",
          "name": "stdout",
          "text": [
            "Drive already mounted at /content/drive; to attempt to forcibly remount, call drive.mount(\"/content/drive\", force_remount=True).\n"
          ]
        }
      ]
    },
    {
      "cell_type": "markdown",
      "metadata": {
        "id": "Gv-tZoFjz2WD"
      },
      "source": [
        "Let us check for the version of installed tensorflow."
      ]
    },
    {
      "cell_type": "code",
      "metadata": {
        "id": "eiuUVBuDzzn9",
        "colab": {
          "base_uri": "https://localhost:8080/"
        },
        "outputId": "516cefa5-8ec9-4851-d7bb-5f0f99ee3410"
      },
      "source": [
        "# used to supress display of warnings\n",
        "import warnings\n",
        "\n",
        "# os is used to provide a way of using operating system dependent functionality\n",
        "# We use it for setting working folder\n",
        "import os\n",
        "\n",
        "# Pandas is used for data manipulation and analysis\n",
        "import pandas as pd \n",
        "\n",
        "# Numpy is used for large, multi-dimensional arrays and matrices, along with mathematical operators on these arrays\n",
        "import numpy as np\n",
        "\n",
        "# Matplotlib is a data visualization library for 2D plots of arrays, built on NumPy arrays \n",
        "# and designed to work with the broader SciPy stack\n",
        "import matplotlib.pyplot as plt\n",
        "%matplotlib inline\n",
        "from matplotlib import pyplot\n",
        "\n",
        "# Seaborn is based on matplotlib, which aids in drawing attractive and informative statistical graphics.\n",
        "import seaborn as sns\n",
        "import tensorflow \n",
        "print(tensorflow.__version__)"
      ],
      "execution_count": 152,
      "outputs": [
        {
          "output_type": "stream",
          "name": "stdout",
          "text": [
            "2.8.0\n"
          ]
        }
      ]
    },
    {
      "cell_type": "markdown",
      "metadata": {
        "id": "fze-aokU0ukH"
      },
      "source": [
        "## 2. Setting Options"
      ]
    },
    {
      "cell_type": "code",
      "metadata": {
        "id": "T3FALggG0xXa"
      },
      "source": [
        "# suppress display of warnings\n",
        "warnings.filterwarnings('ignore')\n",
        "\n",
        "# display all dataframe columns\n",
        "pd.options.display.max_columns = None\n",
        "\n",
        "# to set the limit to 3 decimals\n",
        "pd.options.display.float_format = '{:.7f}'.format\n",
        "\n",
        "# display all dataframe rows\n",
        "pd.options.display.max_rows = None"
      ],
      "execution_count": 153,
      "outputs": []
    },
    {
      "cell_type": "markdown",
      "metadata": {
        "id": "ZT1P1WdK1vfZ"
      },
      "source": [
        "## 3. Read Data"
      ]
    },
    {
      "cell_type": "markdown",
      "metadata": {
        "id": "-UOW6zwww7L1"
      },
      "source": [
        "### 3.1 Read the provided CSVs and check 5 random samples and shape to understand the datasets"
      ]
    },
    {
      "cell_type": "code",
      "metadata": {
        "id": "nxT2g284xF1W"
      },
      "source": [
        "products_df = pd.read_csv('/content/drive/MyDrive/Colab Notebooks/SNLP/SNLP Internal Lab/product_data.csv')\n",
        "reviews_df = pd.read_csv('/content/drive/MyDrive/Colab Notebooks/SNLP/SNLP Internal Lab/reviews.csv')"
      ],
      "execution_count": 154,
      "outputs": []
    },
    {
      "cell_type": "code",
      "metadata": {
        "id": "GRjG44fRxGIq",
        "colab": {
          "base_uri": "https://localhost:8080/",
          "height": 635
        },
        "outputId": "9b55a8f7-b9f3-4ec2-f88d-29bd38608550"
      },
      "source": [
        "products_df.sample(5)"
      ],
      "execution_count": 155,
      "outputs": [
        {
          "output_type": "execute_result",
          "data": {
            "text/plain": [
              "           asin    brand                                              title  \\\n",
              "660  B07WCCNV2D   Xiaomi  Xiaomi Redmi Note 7 (64GB, 4GB RAM) 6.3\" Displ...   \n",
              "50   B00E8TGT1S    Nokia  Nokia Lumia 520 Quad-Band GSM Unlocked Smartph...   \n",
              "338  B078HFZVZ8    Apple  Apple iPad 2 MC774LL/A Tablet (32GB, Wifi + AT...   \n",
              "26   B007X6FFLS  Samsung                        Samsung a157 GoPhone (AT&T)   \n",
              "168  B01LXF0WML     Sony  Sony Xperia XZ F8332 64GB Forest Blue, 5.2\", D...   \n",
              "\n",
              "                                                   url  \\\n",
              "660  https://www.amazon.com/Xiaomi-Display-Camera-F...   \n",
              "50   https://www.amazon.com/Nokia-Lumia-Quad-Band-U...   \n",
              "338  https://www.amazon.com/Apple-MC774LL-Tablet-Ge...   \n",
              "26   https://www.amazon.com/Samsung-a157-GoPhone-AT...   \n",
              "168  https://www.amazon.com/Sony-F8332-Unlocked-Int...   \n",
              "\n",
              "                                                 image    rating  \\\n",
              "660  https://m.media-amazon.com/images/I/51Q73J3PM4... 3.6000000   \n",
              "50   https://m.media-amazon.com/images/I/61huy0bRgE... 2.1000000   \n",
              "338  https://m.media-amazon.com/images/I/51yCOZ9kZK... 3.2000000   \n",
              "26   https://m.media-amazon.com/images/I/71Y+FpZYcF... 3.4000000   \n",
              "168  https://m.media-amazon.com/images/I/61XyeFgc3v... 3.9000000   \n",
              "\n",
              "                                             reviewUrl  totalReviews  \\\n",
              "660  https://www.amazon.com/product-reviews/B07WCCNV2D             5   \n",
              "50   https://www.amazon.com/product-reviews/B00E8TGT1S             5   \n",
              "338  https://www.amazon.com/product-reviews/B078HFZVZ8             5   \n",
              "26   https://www.amazon.com/product-reviews/B007X6FFLS           305   \n",
              "168  https://www.amazon.com/product-reviews/B01LXF0WML           255   \n",
              "\n",
              "          price  originalPrice  \n",
              "660 179.8700000    189.8700000  \n",
              "50    0.0000000      0.0000000  \n",
              "338 129.6000000      0.0000000  \n",
              "26   97.6900000      0.0000000  \n",
              "168 269.9900000    679.9900000  "
            ],
            "text/html": [
              "\n",
              "  <div id=\"df-c735abf5-b506-47fc-96a6-f598381830dc\">\n",
              "    <div class=\"colab-df-container\">\n",
              "      <div>\n",
              "<style scoped>\n",
              "    .dataframe tbody tr th:only-of-type {\n",
              "        vertical-align: middle;\n",
              "    }\n",
              "\n",
              "    .dataframe tbody tr th {\n",
              "        vertical-align: top;\n",
              "    }\n",
              "\n",
              "    .dataframe thead th {\n",
              "        text-align: right;\n",
              "    }\n",
              "</style>\n",
              "<table border=\"1\" class=\"dataframe\">\n",
              "  <thead>\n",
              "    <tr style=\"text-align: right;\">\n",
              "      <th></th>\n",
              "      <th>asin</th>\n",
              "      <th>brand</th>\n",
              "      <th>title</th>\n",
              "      <th>url</th>\n",
              "      <th>image</th>\n",
              "      <th>rating</th>\n",
              "      <th>reviewUrl</th>\n",
              "      <th>totalReviews</th>\n",
              "      <th>price</th>\n",
              "      <th>originalPrice</th>\n",
              "    </tr>\n",
              "  </thead>\n",
              "  <tbody>\n",
              "    <tr>\n",
              "      <th>660</th>\n",
              "      <td>B07WCCNV2D</td>\n",
              "      <td>Xiaomi</td>\n",
              "      <td>Xiaomi Redmi Note 7 (64GB, 4GB RAM) 6.3\" Displ...</td>\n",
              "      <td>https://www.amazon.com/Xiaomi-Display-Camera-F...</td>\n",
              "      <td>https://m.media-amazon.com/images/I/51Q73J3PM4...</td>\n",
              "      <td>3.6000000</td>\n",
              "      <td>https://www.amazon.com/product-reviews/B07WCCNV2D</td>\n",
              "      <td>5</td>\n",
              "      <td>179.8700000</td>\n",
              "      <td>189.8700000</td>\n",
              "    </tr>\n",
              "    <tr>\n",
              "      <th>50</th>\n",
              "      <td>B00E8TGT1S</td>\n",
              "      <td>Nokia</td>\n",
              "      <td>Nokia Lumia 520 Quad-Band GSM Unlocked Smartph...</td>\n",
              "      <td>https://www.amazon.com/Nokia-Lumia-Quad-Band-U...</td>\n",
              "      <td>https://m.media-amazon.com/images/I/61huy0bRgE...</td>\n",
              "      <td>2.1000000</td>\n",
              "      <td>https://www.amazon.com/product-reviews/B00E8TGT1S</td>\n",
              "      <td>5</td>\n",
              "      <td>0.0000000</td>\n",
              "      <td>0.0000000</td>\n",
              "    </tr>\n",
              "    <tr>\n",
              "      <th>338</th>\n",
              "      <td>B078HFZVZ8</td>\n",
              "      <td>Apple</td>\n",
              "      <td>Apple iPad 2 MC774LL/A Tablet (32GB, Wifi + AT...</td>\n",
              "      <td>https://www.amazon.com/Apple-MC774LL-Tablet-Ge...</td>\n",
              "      <td>https://m.media-amazon.com/images/I/51yCOZ9kZK...</td>\n",
              "      <td>3.2000000</td>\n",
              "      <td>https://www.amazon.com/product-reviews/B078HFZVZ8</td>\n",
              "      <td>5</td>\n",
              "      <td>129.6000000</td>\n",
              "      <td>0.0000000</td>\n",
              "    </tr>\n",
              "    <tr>\n",
              "      <th>26</th>\n",
              "      <td>B007X6FFLS</td>\n",
              "      <td>Samsung</td>\n",
              "      <td>Samsung a157 GoPhone (AT&amp;T)</td>\n",
              "      <td>https://www.amazon.com/Samsung-a157-GoPhone-AT...</td>\n",
              "      <td>https://m.media-amazon.com/images/I/71Y+FpZYcF...</td>\n",
              "      <td>3.4000000</td>\n",
              "      <td>https://www.amazon.com/product-reviews/B007X6FFLS</td>\n",
              "      <td>305</td>\n",
              "      <td>97.6900000</td>\n",
              "      <td>0.0000000</td>\n",
              "    </tr>\n",
              "    <tr>\n",
              "      <th>168</th>\n",
              "      <td>B01LXF0WML</td>\n",
              "      <td>Sony</td>\n",
              "      <td>Sony Xperia XZ F8332 64GB Forest Blue, 5.2\", D...</td>\n",
              "      <td>https://www.amazon.com/Sony-F8332-Unlocked-Int...</td>\n",
              "      <td>https://m.media-amazon.com/images/I/61XyeFgc3v...</td>\n",
              "      <td>3.9000000</td>\n",
              "      <td>https://www.amazon.com/product-reviews/B01LXF0WML</td>\n",
              "      <td>255</td>\n",
              "      <td>269.9900000</td>\n",
              "      <td>679.9900000</td>\n",
              "    </tr>\n",
              "  </tbody>\n",
              "</table>\n",
              "</div>\n",
              "      <button class=\"colab-df-convert\" onclick=\"convertToInteractive('df-c735abf5-b506-47fc-96a6-f598381830dc')\"\n",
              "              title=\"Convert this dataframe to an interactive table.\"\n",
              "              style=\"display:none;\">\n",
              "        \n",
              "  <svg xmlns=\"http://www.w3.org/2000/svg\" height=\"24px\"viewBox=\"0 0 24 24\"\n",
              "       width=\"24px\">\n",
              "    <path d=\"M0 0h24v24H0V0z\" fill=\"none\"/>\n",
              "    <path d=\"M18.56 5.44l.94 2.06.94-2.06 2.06-.94-2.06-.94-.94-2.06-.94 2.06-2.06.94zm-11 1L8.5 8.5l.94-2.06 2.06-.94-2.06-.94L8.5 2.5l-.94 2.06-2.06.94zm10 10l.94 2.06.94-2.06 2.06-.94-2.06-.94-.94-2.06-.94 2.06-2.06.94z\"/><path d=\"M17.41 7.96l-1.37-1.37c-.4-.4-.92-.59-1.43-.59-.52 0-1.04.2-1.43.59L10.3 9.45l-7.72 7.72c-.78.78-.78 2.05 0 2.83L4 21.41c.39.39.9.59 1.41.59.51 0 1.02-.2 1.41-.59l7.78-7.78 2.81-2.81c.8-.78.8-2.07 0-2.86zM5.41 20L4 18.59l7.72-7.72 1.47 1.35L5.41 20z\"/>\n",
              "  </svg>\n",
              "      </button>\n",
              "      \n",
              "  <style>\n",
              "    .colab-df-container {\n",
              "      display:flex;\n",
              "      flex-wrap:wrap;\n",
              "      gap: 12px;\n",
              "    }\n",
              "\n",
              "    .colab-df-convert {\n",
              "      background-color: #E8F0FE;\n",
              "      border: none;\n",
              "      border-radius: 50%;\n",
              "      cursor: pointer;\n",
              "      display: none;\n",
              "      fill: #1967D2;\n",
              "      height: 32px;\n",
              "      padding: 0 0 0 0;\n",
              "      width: 32px;\n",
              "    }\n",
              "\n",
              "    .colab-df-convert:hover {\n",
              "      background-color: #E2EBFA;\n",
              "      box-shadow: 0px 1px 2px rgba(60, 64, 67, 0.3), 0px 1px 3px 1px rgba(60, 64, 67, 0.15);\n",
              "      fill: #174EA6;\n",
              "    }\n",
              "\n",
              "    [theme=dark] .colab-df-convert {\n",
              "      background-color: #3B4455;\n",
              "      fill: #D2E3FC;\n",
              "    }\n",
              "\n",
              "    [theme=dark] .colab-df-convert:hover {\n",
              "      background-color: #434B5C;\n",
              "      box-shadow: 0px 1px 3px 1px rgba(0, 0, 0, 0.15);\n",
              "      filter: drop-shadow(0px 1px 2px rgba(0, 0, 0, 0.3));\n",
              "      fill: #FFFFFF;\n",
              "    }\n",
              "  </style>\n",
              "\n",
              "      <script>\n",
              "        const buttonEl =\n",
              "          document.querySelector('#df-c735abf5-b506-47fc-96a6-f598381830dc button.colab-df-convert');\n",
              "        buttonEl.style.display =\n",
              "          google.colab.kernel.accessAllowed ? 'block' : 'none';\n",
              "\n",
              "        async function convertToInteractive(key) {\n",
              "          const element = document.querySelector('#df-c735abf5-b506-47fc-96a6-f598381830dc');\n",
              "          const dataTable =\n",
              "            await google.colab.kernel.invokeFunction('convertToInteractive',\n",
              "                                                     [key], {});\n",
              "          if (!dataTable) return;\n",
              "\n",
              "          const docLinkHtml = 'Like what you see? Visit the ' +\n",
              "            '<a target=\"_blank\" href=https://colab.research.google.com/notebooks/data_table.ipynb>data table notebook</a>'\n",
              "            + ' to learn more about interactive tables.';\n",
              "          element.innerHTML = '';\n",
              "          dataTable['output_type'] = 'display_data';\n",
              "          await google.colab.output.renderOutput(dataTable, element);\n",
              "          const docLink = document.createElement('div');\n",
              "          docLink.innerHTML = docLinkHtml;\n",
              "          element.appendChild(docLink);\n",
              "        }\n",
              "      </script>\n",
              "    </div>\n",
              "  </div>\n",
              "  "
            ]
          },
          "metadata": {},
          "execution_count": 155
        }
      ]
    },
    {
      "cell_type": "code",
      "source": [
        "reviews_df.sample(5)"
      ],
      "metadata": {
        "colab": {
          "base_uri": "https://localhost:8080/",
          "height": 302
        },
        "id": "BqksK6nb3gtq",
        "outputId": "fae973da-72bd-43df-fa89-4b1acef2a0fa"
      },
      "execution_count": 156,
      "outputs": [
        {
          "output_type": "execute_result",
          "data": {
            "text/plain": [
              "             asin          name  rating               date  verified  \\\n",
              "13378  B00NO2WXM4         Sarah       1  December 25, 2015      True   \n",
              "26764  B01M0PADR4       Josh W.       1   October 17, 2017      True   \n",
              "10361  B00JEHJMG8  Granny Kathy       5      June 25, 2016      True   \n",
              "45915  B079X7DQ4Q       John D.       5      June 11, 2018      True   \n",
              "36283  B071ZDQ6MV     Jim Power       2   October 24, 2017      True   \n",
              "\n",
              "                                                   title  \\\n",
              "13378                                       disappointed   \n",
              "26764  worked fine for about a month (which coinciden...   \n",
              "10361                           I'm very pleased with it   \n",
              "45915                                  Best phone i had.   \n",
              "36283       Don't expect too much for such a low price..   \n",
              "\n",
              "                                                    body  helpfulVotes  \n",
              "13378  I just bought this phone, I was so disappointe...     1.0000000  \n",
              "26764  Got the phone, worked fine for about a month (...     2.0000000  \n",
              "10361  I was worried about buying a phone not knowing...           NaN  \n",
              "45915                                       Great phone.     1.0000000  \n",
              "36283  Slow device, horrible camera, freezing screen ...           NaN  "
            ],
            "text/html": [
              "\n",
              "  <div id=\"df-3560ab97-07ab-4646-afe6-8fd9fcbd3f43\">\n",
              "    <div class=\"colab-df-container\">\n",
              "      <div>\n",
              "<style scoped>\n",
              "    .dataframe tbody tr th:only-of-type {\n",
              "        vertical-align: middle;\n",
              "    }\n",
              "\n",
              "    .dataframe tbody tr th {\n",
              "        vertical-align: top;\n",
              "    }\n",
              "\n",
              "    .dataframe thead th {\n",
              "        text-align: right;\n",
              "    }\n",
              "</style>\n",
              "<table border=\"1\" class=\"dataframe\">\n",
              "  <thead>\n",
              "    <tr style=\"text-align: right;\">\n",
              "      <th></th>\n",
              "      <th>asin</th>\n",
              "      <th>name</th>\n",
              "      <th>rating</th>\n",
              "      <th>date</th>\n",
              "      <th>verified</th>\n",
              "      <th>title</th>\n",
              "      <th>body</th>\n",
              "      <th>helpfulVotes</th>\n",
              "    </tr>\n",
              "  </thead>\n",
              "  <tbody>\n",
              "    <tr>\n",
              "      <th>13378</th>\n",
              "      <td>B00NO2WXM4</td>\n",
              "      <td>Sarah</td>\n",
              "      <td>1</td>\n",
              "      <td>December 25, 2015</td>\n",
              "      <td>True</td>\n",
              "      <td>disappointed</td>\n",
              "      <td>I just bought this phone, I was so disappointe...</td>\n",
              "      <td>1.0000000</td>\n",
              "    </tr>\n",
              "    <tr>\n",
              "      <th>26764</th>\n",
              "      <td>B01M0PADR4</td>\n",
              "      <td>Josh W.</td>\n",
              "      <td>1</td>\n",
              "      <td>October 17, 2017</td>\n",
              "      <td>True</td>\n",
              "      <td>worked fine for about a month (which coinciden...</td>\n",
              "      <td>Got the phone, worked fine for about a month (...</td>\n",
              "      <td>2.0000000</td>\n",
              "    </tr>\n",
              "    <tr>\n",
              "      <th>10361</th>\n",
              "      <td>B00JEHJMG8</td>\n",
              "      <td>Granny Kathy</td>\n",
              "      <td>5</td>\n",
              "      <td>June 25, 2016</td>\n",
              "      <td>True</td>\n",
              "      <td>I'm very pleased with it</td>\n",
              "      <td>I was worried about buying a phone not knowing...</td>\n",
              "      <td>NaN</td>\n",
              "    </tr>\n",
              "    <tr>\n",
              "      <th>45915</th>\n",
              "      <td>B079X7DQ4Q</td>\n",
              "      <td>John D.</td>\n",
              "      <td>5</td>\n",
              "      <td>June 11, 2018</td>\n",
              "      <td>True</td>\n",
              "      <td>Best phone i had.</td>\n",
              "      <td>Great phone.</td>\n",
              "      <td>1.0000000</td>\n",
              "    </tr>\n",
              "    <tr>\n",
              "      <th>36283</th>\n",
              "      <td>B071ZDQ6MV</td>\n",
              "      <td>Jim Power</td>\n",
              "      <td>2</td>\n",
              "      <td>October 24, 2017</td>\n",
              "      <td>True</td>\n",
              "      <td>Don't expect too much for such a low price..</td>\n",
              "      <td>Slow device, horrible camera, freezing screen ...</td>\n",
              "      <td>NaN</td>\n",
              "    </tr>\n",
              "  </tbody>\n",
              "</table>\n",
              "</div>\n",
              "      <button class=\"colab-df-convert\" onclick=\"convertToInteractive('df-3560ab97-07ab-4646-afe6-8fd9fcbd3f43')\"\n",
              "              title=\"Convert this dataframe to an interactive table.\"\n",
              "              style=\"display:none;\">\n",
              "        \n",
              "  <svg xmlns=\"http://www.w3.org/2000/svg\" height=\"24px\"viewBox=\"0 0 24 24\"\n",
              "       width=\"24px\">\n",
              "    <path d=\"M0 0h24v24H0V0z\" fill=\"none\"/>\n",
              "    <path d=\"M18.56 5.44l.94 2.06.94-2.06 2.06-.94-2.06-.94-.94-2.06-.94 2.06-2.06.94zm-11 1L8.5 8.5l.94-2.06 2.06-.94-2.06-.94L8.5 2.5l-.94 2.06-2.06.94zm10 10l.94 2.06.94-2.06 2.06-.94-2.06-.94-.94-2.06-.94 2.06-2.06.94z\"/><path d=\"M17.41 7.96l-1.37-1.37c-.4-.4-.92-.59-1.43-.59-.52 0-1.04.2-1.43.59L10.3 9.45l-7.72 7.72c-.78.78-.78 2.05 0 2.83L4 21.41c.39.39.9.59 1.41.59.51 0 1.02-.2 1.41-.59l7.78-7.78 2.81-2.81c.8-.78.8-2.07 0-2.86zM5.41 20L4 18.59l7.72-7.72 1.47 1.35L5.41 20z\"/>\n",
              "  </svg>\n",
              "      </button>\n",
              "      \n",
              "  <style>\n",
              "    .colab-df-container {\n",
              "      display:flex;\n",
              "      flex-wrap:wrap;\n",
              "      gap: 12px;\n",
              "    }\n",
              "\n",
              "    .colab-df-convert {\n",
              "      background-color: #E8F0FE;\n",
              "      border: none;\n",
              "      border-radius: 50%;\n",
              "      cursor: pointer;\n",
              "      display: none;\n",
              "      fill: #1967D2;\n",
              "      height: 32px;\n",
              "      padding: 0 0 0 0;\n",
              "      width: 32px;\n",
              "    }\n",
              "\n",
              "    .colab-df-convert:hover {\n",
              "      background-color: #E2EBFA;\n",
              "      box-shadow: 0px 1px 2px rgba(60, 64, 67, 0.3), 0px 1px 3px 1px rgba(60, 64, 67, 0.15);\n",
              "      fill: #174EA6;\n",
              "    }\n",
              "\n",
              "    [theme=dark] .colab-df-convert {\n",
              "      background-color: #3B4455;\n",
              "      fill: #D2E3FC;\n",
              "    }\n",
              "\n",
              "    [theme=dark] .colab-df-convert:hover {\n",
              "      background-color: #434B5C;\n",
              "      box-shadow: 0px 1px 3px 1px rgba(0, 0, 0, 0.15);\n",
              "      filter: drop-shadow(0px 1px 2px rgba(0, 0, 0, 0.3));\n",
              "      fill: #FFFFFF;\n",
              "    }\n",
              "  </style>\n",
              "\n",
              "      <script>\n",
              "        const buttonEl =\n",
              "          document.querySelector('#df-3560ab97-07ab-4646-afe6-8fd9fcbd3f43 button.colab-df-convert');\n",
              "        buttonEl.style.display =\n",
              "          google.colab.kernel.accessAllowed ? 'block' : 'none';\n",
              "\n",
              "        async function convertToInteractive(key) {\n",
              "          const element = document.querySelector('#df-3560ab97-07ab-4646-afe6-8fd9fcbd3f43');\n",
              "          const dataTable =\n",
              "            await google.colab.kernel.invokeFunction('convertToInteractive',\n",
              "                                                     [key], {});\n",
              "          if (!dataTable) return;\n",
              "\n",
              "          const docLinkHtml = 'Like what you see? Visit the ' +\n",
              "            '<a target=\"_blank\" href=https://colab.research.google.com/notebooks/data_table.ipynb>data table notebook</a>'\n",
              "            + ' to learn more about interactive tables.';\n",
              "          element.innerHTML = '';\n",
              "          dataTable['output_type'] = 'display_data';\n",
              "          await google.colab.output.renderOutput(dataTable, element);\n",
              "          const docLink = document.createElement('div');\n",
              "          docLink.innerHTML = docLinkHtml;\n",
              "          element.appendChild(docLink);\n",
              "        }\n",
              "      </script>\n",
              "    </div>\n",
              "  </div>\n",
              "  "
            ]
          },
          "metadata": {},
          "execution_count": 156
        }
      ]
    },
    {
      "cell_type": "markdown",
      "metadata": {
        "id": "rED6DbDBKTjM"
      },
      "source": [
        "## 4.  Data Analysis and EDA"
      ]
    },
    {
      "cell_type": "markdown",
      "metadata": {
        "id": "awlqmp40xMfc"
      },
      "source": [
        "### 4.1 Drop unnecessary columns like 'url', 'image' from the product_data"
      ]
    },
    {
      "cell_type": "code",
      "source": [
        "products_df.info()"
      ],
      "metadata": {
        "colab": {
          "base_uri": "https://localhost:8080/"
        },
        "id": "NrwH06UE4Wln",
        "outputId": "b346842e-e091-4fa8-abe3-b75fd587451f"
      },
      "execution_count": 157,
      "outputs": [
        {
          "output_type": "stream",
          "name": "stdout",
          "text": [
            "<class 'pandas.core.frame.DataFrame'>\n",
            "RangeIndex: 720 entries, 0 to 719\n",
            "Data columns (total 10 columns):\n",
            " #   Column         Non-Null Count  Dtype  \n",
            "---  ------         --------------  -----  \n",
            " 0   asin           720 non-null    object \n",
            " 1   brand          716 non-null    object \n",
            " 2   title          720 non-null    object \n",
            " 3   url            720 non-null    object \n",
            " 4   image          720 non-null    object \n",
            " 5   rating         720 non-null    float64\n",
            " 6   reviewUrl      720 non-null    object \n",
            " 7   totalReviews   720 non-null    int64  \n",
            " 8   price          720 non-null    float64\n",
            " 9   originalPrice  720 non-null    float64\n",
            "dtypes: float64(3), int64(1), object(6)\n",
            "memory usage: 56.4+ KB\n"
          ]
        }
      ]
    },
    {
      "cell_type": "code",
      "metadata": {
        "id": "VT4d-6TCxZCm"
      },
      "source": [
        "drop_columns_products = ['image', 'url', 'reviewUrl']"
      ],
      "execution_count": 158,
      "outputs": []
    },
    {
      "cell_type": "code",
      "source": [
        "products_df = products_df.drop(columns=drop_columns_products)"
      ],
      "metadata": {
        "id": "pAjfYQRU4qi6"
      },
      "execution_count": 159,
      "outputs": []
    },
    {
      "cell_type": "code",
      "source": [
        "products_df.head(2)"
      ],
      "metadata": {
        "colab": {
          "base_uri": "https://localhost:8080/",
          "height": 112
        },
        "id": "zIA86raM5JqE",
        "outputId": "d0761f12-041e-4184-c714-3742c1bf9237"
      },
      "execution_count": 160,
      "outputs": [
        {
          "output_type": "execute_result",
          "data": {
            "text/plain": [
              "         asin     brand                                              title  \\\n",
              "0  B0000SX2UC       NaN  Dual-Band / Tri-Mode Sprint PCS Phone w/ Voice...   \n",
              "1  B0009N5L7K  Motorola                                Motorola I265 phone   \n",
              "\n",
              "     rating  totalReviews      price  originalPrice  \n",
              "0 3.0000000            14  0.0000000      0.0000000  \n",
              "1 3.0000000             7 49.9500000      0.0000000  "
            ],
            "text/html": [
              "\n",
              "  <div id=\"df-b7171971-d130-4b78-a417-92156aad03d7\">\n",
              "    <div class=\"colab-df-container\">\n",
              "      <div>\n",
              "<style scoped>\n",
              "    .dataframe tbody tr th:only-of-type {\n",
              "        vertical-align: middle;\n",
              "    }\n",
              "\n",
              "    .dataframe tbody tr th {\n",
              "        vertical-align: top;\n",
              "    }\n",
              "\n",
              "    .dataframe thead th {\n",
              "        text-align: right;\n",
              "    }\n",
              "</style>\n",
              "<table border=\"1\" class=\"dataframe\">\n",
              "  <thead>\n",
              "    <tr style=\"text-align: right;\">\n",
              "      <th></th>\n",
              "      <th>asin</th>\n",
              "      <th>brand</th>\n",
              "      <th>title</th>\n",
              "      <th>rating</th>\n",
              "      <th>totalReviews</th>\n",
              "      <th>price</th>\n",
              "      <th>originalPrice</th>\n",
              "    </tr>\n",
              "  </thead>\n",
              "  <tbody>\n",
              "    <tr>\n",
              "      <th>0</th>\n",
              "      <td>B0000SX2UC</td>\n",
              "      <td>NaN</td>\n",
              "      <td>Dual-Band / Tri-Mode Sprint PCS Phone w/ Voice...</td>\n",
              "      <td>3.0000000</td>\n",
              "      <td>14</td>\n",
              "      <td>0.0000000</td>\n",
              "      <td>0.0000000</td>\n",
              "    </tr>\n",
              "    <tr>\n",
              "      <th>1</th>\n",
              "      <td>B0009N5L7K</td>\n",
              "      <td>Motorola</td>\n",
              "      <td>Motorola I265 phone</td>\n",
              "      <td>3.0000000</td>\n",
              "      <td>7</td>\n",
              "      <td>49.9500000</td>\n",
              "      <td>0.0000000</td>\n",
              "    </tr>\n",
              "  </tbody>\n",
              "</table>\n",
              "</div>\n",
              "      <button class=\"colab-df-convert\" onclick=\"convertToInteractive('df-b7171971-d130-4b78-a417-92156aad03d7')\"\n",
              "              title=\"Convert this dataframe to an interactive table.\"\n",
              "              style=\"display:none;\">\n",
              "        \n",
              "  <svg xmlns=\"http://www.w3.org/2000/svg\" height=\"24px\"viewBox=\"0 0 24 24\"\n",
              "       width=\"24px\">\n",
              "    <path d=\"M0 0h24v24H0V0z\" fill=\"none\"/>\n",
              "    <path d=\"M18.56 5.44l.94 2.06.94-2.06 2.06-.94-2.06-.94-.94-2.06-.94 2.06-2.06.94zm-11 1L8.5 8.5l.94-2.06 2.06-.94-2.06-.94L8.5 2.5l-.94 2.06-2.06.94zm10 10l.94 2.06.94-2.06 2.06-.94-2.06-.94-.94-2.06-.94 2.06-2.06.94z\"/><path d=\"M17.41 7.96l-1.37-1.37c-.4-.4-.92-.59-1.43-.59-.52 0-1.04.2-1.43.59L10.3 9.45l-7.72 7.72c-.78.78-.78 2.05 0 2.83L4 21.41c.39.39.9.59 1.41.59.51 0 1.02-.2 1.41-.59l7.78-7.78 2.81-2.81c.8-.78.8-2.07 0-2.86zM5.41 20L4 18.59l7.72-7.72 1.47 1.35L5.41 20z\"/>\n",
              "  </svg>\n",
              "      </button>\n",
              "      \n",
              "  <style>\n",
              "    .colab-df-container {\n",
              "      display:flex;\n",
              "      flex-wrap:wrap;\n",
              "      gap: 12px;\n",
              "    }\n",
              "\n",
              "    .colab-df-convert {\n",
              "      background-color: #E8F0FE;\n",
              "      border: none;\n",
              "      border-radius: 50%;\n",
              "      cursor: pointer;\n",
              "      display: none;\n",
              "      fill: #1967D2;\n",
              "      height: 32px;\n",
              "      padding: 0 0 0 0;\n",
              "      width: 32px;\n",
              "    }\n",
              "\n",
              "    .colab-df-convert:hover {\n",
              "      background-color: #E2EBFA;\n",
              "      box-shadow: 0px 1px 2px rgba(60, 64, 67, 0.3), 0px 1px 3px 1px rgba(60, 64, 67, 0.15);\n",
              "      fill: #174EA6;\n",
              "    }\n",
              "\n",
              "    [theme=dark] .colab-df-convert {\n",
              "      background-color: #3B4455;\n",
              "      fill: #D2E3FC;\n",
              "    }\n",
              "\n",
              "    [theme=dark] .colab-df-convert:hover {\n",
              "      background-color: #434B5C;\n",
              "      box-shadow: 0px 1px 3px 1px rgba(0, 0, 0, 0.15);\n",
              "      filter: drop-shadow(0px 1px 2px rgba(0, 0, 0, 0.3));\n",
              "      fill: #FFFFFF;\n",
              "    }\n",
              "  </style>\n",
              "\n",
              "      <script>\n",
              "        const buttonEl =\n",
              "          document.querySelector('#df-b7171971-d130-4b78-a417-92156aad03d7 button.colab-df-convert');\n",
              "        buttonEl.style.display =\n",
              "          google.colab.kernel.accessAllowed ? 'block' : 'none';\n",
              "\n",
              "        async function convertToInteractive(key) {\n",
              "          const element = document.querySelector('#df-b7171971-d130-4b78-a417-92156aad03d7');\n",
              "          const dataTable =\n",
              "            await google.colab.kernel.invokeFunction('convertToInteractive',\n",
              "                                                     [key], {});\n",
              "          if (!dataTable) return;\n",
              "\n",
              "          const docLinkHtml = 'Like what you see? Visit the ' +\n",
              "            '<a target=\"_blank\" href=https://colab.research.google.com/notebooks/data_table.ipynb>data table notebook</a>'\n",
              "            + ' to learn more about interactive tables.';\n",
              "          element.innerHTML = '';\n",
              "          dataTable['output_type'] = 'display_data';\n",
              "          await google.colab.output.renderOutput(dataTable, element);\n",
              "          const docLink = document.createElement('div');\n",
              "          docLink.innerHTML = docLinkHtml;\n",
              "          element.appendChild(docLink);\n",
              "        }\n",
              "      </script>\n",
              "    </div>\n",
              "  </div>\n",
              "  "
            ]
          },
          "metadata": {},
          "execution_count": 160
        }
      ]
    },
    {
      "cell_type": "code",
      "source": [
        "reviews_df.info()"
      ],
      "metadata": {
        "colab": {
          "base_uri": "https://localhost:8080/"
        },
        "id": "BRqCfm1g4zOO",
        "outputId": "52c14463-8969-421e-a5d3-75458660035f"
      },
      "execution_count": 161,
      "outputs": [
        {
          "output_type": "stream",
          "name": "stdout",
          "text": [
            "<class 'pandas.core.frame.DataFrame'>\n",
            "RangeIndex: 67986 entries, 0 to 67985\n",
            "Data columns (total 8 columns):\n",
            " #   Column        Non-Null Count  Dtype  \n",
            "---  ------        --------------  -----  \n",
            " 0   asin          67986 non-null  object \n",
            " 1   name          67984 non-null  object \n",
            " 2   rating        67986 non-null  int64  \n",
            " 3   date          67986 non-null  object \n",
            " 4   verified      67986 non-null  bool   \n",
            " 5   title         67972 non-null  object \n",
            " 6   body          67965 non-null  object \n",
            " 7   helpfulVotes  27215 non-null  float64\n",
            "dtypes: bool(1), float64(1), int64(1), object(5)\n",
            "memory usage: 3.7+ MB\n"
          ]
        }
      ]
    },
    {
      "cell_type": "markdown",
      "metadata": {
        "id": "Zk0WW5D5xZK9"
      },
      "source": [
        "### 4.2 Check statistical summary of both datasets. Note:- Include both numerical and object type columns."
      ]
    },
    {
      "cell_type": "code",
      "metadata": {
        "id": "ylwcqQpcx_Tl",
        "colab": {
          "base_uri": "https://localhost:8080/",
          "height": 330
        },
        "outputId": "c4d64f8c-9b2c-477f-e4bb-f39d77a93932"
      },
      "source": [
        "products_df.describe(include='all').T"
      ],
      "execution_count": 162,
      "outputs": [
        {
          "output_type": "execute_result",
          "data": {
            "text/plain": [
              "                    count unique  \\\n",
              "asin                  720    720   \n",
              "brand                 716     10   \n",
              "title                 720    718   \n",
              "rating        720.0000000    NaN   \n",
              "totalReviews  720.0000000    NaN   \n",
              "price         720.0000000    NaN   \n",
              "originalPrice 720.0000000    NaN   \n",
              "\n",
              "                                                             top freq  \\\n",
              "asin                                                  B0000SX2UC    1   \n",
              "brand                                                    Samsung  346   \n",
              "title          Apple iPhone 6S, 64GB, Rose Gold - For AT&T / ...    2   \n",
              "rating                                                       NaN  NaN   \n",
              "totalReviews                                                 NaN  NaN   \n",
              "price                                                        NaN  NaN   \n",
              "originalPrice                                                NaN  NaN   \n",
              "\n",
              "                     mean         std       min        25%         50%  \\\n",
              "asin                  NaN         NaN       NaN        NaN         NaN   \n",
              "brand                 NaN         NaN       NaN        NaN         NaN   \n",
              "title                 NaN         NaN       NaN        NaN         NaN   \n",
              "rating          3.7137500   0.7160138 1.0000000  3.3000000   3.8000000   \n",
              "totalReviews  105.6791667 167.6011014 1.0000000  7.0000000  32.0000000   \n",
              "price         234.9489306 200.0084407 0.0000000 97.5125000 188.9750000   \n",
              "originalPrice  63.6907778 172.4053696 0.0000000  0.0000000   0.0000000   \n",
              "\n",
              "                      75%         max  \n",
              "asin                  NaN         NaN  \n",
              "brand                 NaN         NaN  \n",
              "title                 NaN         NaN  \n",
              "rating          4.1000000   5.0000000  \n",
              "totalReviews  122.2500000 983.0000000  \n",
              "price         336.7250000 999.9900000  \n",
              "originalPrice   0.0000000 999.9900000  "
            ],
            "text/html": [
              "\n",
              "  <div id=\"df-1a75c554-35b4-44e2-a397-7668ab09de75\">\n",
              "    <div class=\"colab-df-container\">\n",
              "      <div>\n",
              "<style scoped>\n",
              "    .dataframe tbody tr th:only-of-type {\n",
              "        vertical-align: middle;\n",
              "    }\n",
              "\n",
              "    .dataframe tbody tr th {\n",
              "        vertical-align: top;\n",
              "    }\n",
              "\n",
              "    .dataframe thead th {\n",
              "        text-align: right;\n",
              "    }\n",
              "</style>\n",
              "<table border=\"1\" class=\"dataframe\">\n",
              "  <thead>\n",
              "    <tr style=\"text-align: right;\">\n",
              "      <th></th>\n",
              "      <th>count</th>\n",
              "      <th>unique</th>\n",
              "      <th>top</th>\n",
              "      <th>freq</th>\n",
              "      <th>mean</th>\n",
              "      <th>std</th>\n",
              "      <th>min</th>\n",
              "      <th>25%</th>\n",
              "      <th>50%</th>\n",
              "      <th>75%</th>\n",
              "      <th>max</th>\n",
              "    </tr>\n",
              "  </thead>\n",
              "  <tbody>\n",
              "    <tr>\n",
              "      <th>asin</th>\n",
              "      <td>720</td>\n",
              "      <td>720</td>\n",
              "      <td>B0000SX2UC</td>\n",
              "      <td>1</td>\n",
              "      <td>NaN</td>\n",
              "      <td>NaN</td>\n",
              "      <td>NaN</td>\n",
              "      <td>NaN</td>\n",
              "      <td>NaN</td>\n",
              "      <td>NaN</td>\n",
              "      <td>NaN</td>\n",
              "    </tr>\n",
              "    <tr>\n",
              "      <th>brand</th>\n",
              "      <td>716</td>\n",
              "      <td>10</td>\n",
              "      <td>Samsung</td>\n",
              "      <td>346</td>\n",
              "      <td>NaN</td>\n",
              "      <td>NaN</td>\n",
              "      <td>NaN</td>\n",
              "      <td>NaN</td>\n",
              "      <td>NaN</td>\n",
              "      <td>NaN</td>\n",
              "      <td>NaN</td>\n",
              "    </tr>\n",
              "    <tr>\n",
              "      <th>title</th>\n",
              "      <td>720</td>\n",
              "      <td>718</td>\n",
              "      <td>Apple iPhone 6S, 64GB, Rose Gold - For AT&amp;T / ...</td>\n",
              "      <td>2</td>\n",
              "      <td>NaN</td>\n",
              "      <td>NaN</td>\n",
              "      <td>NaN</td>\n",
              "      <td>NaN</td>\n",
              "      <td>NaN</td>\n",
              "      <td>NaN</td>\n",
              "      <td>NaN</td>\n",
              "    </tr>\n",
              "    <tr>\n",
              "      <th>rating</th>\n",
              "      <td>720.0000000</td>\n",
              "      <td>NaN</td>\n",
              "      <td>NaN</td>\n",
              "      <td>NaN</td>\n",
              "      <td>3.7137500</td>\n",
              "      <td>0.7160138</td>\n",
              "      <td>1.0000000</td>\n",
              "      <td>3.3000000</td>\n",
              "      <td>3.8000000</td>\n",
              "      <td>4.1000000</td>\n",
              "      <td>5.0000000</td>\n",
              "    </tr>\n",
              "    <tr>\n",
              "      <th>totalReviews</th>\n",
              "      <td>720.0000000</td>\n",
              "      <td>NaN</td>\n",
              "      <td>NaN</td>\n",
              "      <td>NaN</td>\n",
              "      <td>105.6791667</td>\n",
              "      <td>167.6011014</td>\n",
              "      <td>1.0000000</td>\n",
              "      <td>7.0000000</td>\n",
              "      <td>32.0000000</td>\n",
              "      <td>122.2500000</td>\n",
              "      <td>983.0000000</td>\n",
              "    </tr>\n",
              "    <tr>\n",
              "      <th>price</th>\n",
              "      <td>720.0000000</td>\n",
              "      <td>NaN</td>\n",
              "      <td>NaN</td>\n",
              "      <td>NaN</td>\n",
              "      <td>234.9489306</td>\n",
              "      <td>200.0084407</td>\n",
              "      <td>0.0000000</td>\n",
              "      <td>97.5125000</td>\n",
              "      <td>188.9750000</td>\n",
              "      <td>336.7250000</td>\n",
              "      <td>999.9900000</td>\n",
              "    </tr>\n",
              "    <tr>\n",
              "      <th>originalPrice</th>\n",
              "      <td>720.0000000</td>\n",
              "      <td>NaN</td>\n",
              "      <td>NaN</td>\n",
              "      <td>NaN</td>\n",
              "      <td>63.6907778</td>\n",
              "      <td>172.4053696</td>\n",
              "      <td>0.0000000</td>\n",
              "      <td>0.0000000</td>\n",
              "      <td>0.0000000</td>\n",
              "      <td>0.0000000</td>\n",
              "      <td>999.9900000</td>\n",
              "    </tr>\n",
              "  </tbody>\n",
              "</table>\n",
              "</div>\n",
              "      <button class=\"colab-df-convert\" onclick=\"convertToInteractive('df-1a75c554-35b4-44e2-a397-7668ab09de75')\"\n",
              "              title=\"Convert this dataframe to an interactive table.\"\n",
              "              style=\"display:none;\">\n",
              "        \n",
              "  <svg xmlns=\"http://www.w3.org/2000/svg\" height=\"24px\"viewBox=\"0 0 24 24\"\n",
              "       width=\"24px\">\n",
              "    <path d=\"M0 0h24v24H0V0z\" fill=\"none\"/>\n",
              "    <path d=\"M18.56 5.44l.94 2.06.94-2.06 2.06-.94-2.06-.94-.94-2.06-.94 2.06-2.06.94zm-11 1L8.5 8.5l.94-2.06 2.06-.94-2.06-.94L8.5 2.5l-.94 2.06-2.06.94zm10 10l.94 2.06.94-2.06 2.06-.94-2.06-.94-.94-2.06-.94 2.06-2.06.94z\"/><path d=\"M17.41 7.96l-1.37-1.37c-.4-.4-.92-.59-1.43-.59-.52 0-1.04.2-1.43.59L10.3 9.45l-7.72 7.72c-.78.78-.78 2.05 0 2.83L4 21.41c.39.39.9.59 1.41.59.51 0 1.02-.2 1.41-.59l7.78-7.78 2.81-2.81c.8-.78.8-2.07 0-2.86zM5.41 20L4 18.59l7.72-7.72 1.47 1.35L5.41 20z\"/>\n",
              "  </svg>\n",
              "      </button>\n",
              "      \n",
              "  <style>\n",
              "    .colab-df-container {\n",
              "      display:flex;\n",
              "      flex-wrap:wrap;\n",
              "      gap: 12px;\n",
              "    }\n",
              "\n",
              "    .colab-df-convert {\n",
              "      background-color: #E8F0FE;\n",
              "      border: none;\n",
              "      border-radius: 50%;\n",
              "      cursor: pointer;\n",
              "      display: none;\n",
              "      fill: #1967D2;\n",
              "      height: 32px;\n",
              "      padding: 0 0 0 0;\n",
              "      width: 32px;\n",
              "    }\n",
              "\n",
              "    .colab-df-convert:hover {\n",
              "      background-color: #E2EBFA;\n",
              "      box-shadow: 0px 1px 2px rgba(60, 64, 67, 0.3), 0px 1px 3px 1px rgba(60, 64, 67, 0.15);\n",
              "      fill: #174EA6;\n",
              "    }\n",
              "\n",
              "    [theme=dark] .colab-df-convert {\n",
              "      background-color: #3B4455;\n",
              "      fill: #D2E3FC;\n",
              "    }\n",
              "\n",
              "    [theme=dark] .colab-df-convert:hover {\n",
              "      background-color: #434B5C;\n",
              "      box-shadow: 0px 1px 3px 1px rgba(0, 0, 0, 0.15);\n",
              "      filter: drop-shadow(0px 1px 2px rgba(0, 0, 0, 0.3));\n",
              "      fill: #FFFFFF;\n",
              "    }\n",
              "  </style>\n",
              "\n",
              "      <script>\n",
              "        const buttonEl =\n",
              "          document.querySelector('#df-1a75c554-35b4-44e2-a397-7668ab09de75 button.colab-df-convert');\n",
              "        buttonEl.style.display =\n",
              "          google.colab.kernel.accessAllowed ? 'block' : 'none';\n",
              "\n",
              "        async function convertToInteractive(key) {\n",
              "          const element = document.querySelector('#df-1a75c554-35b4-44e2-a397-7668ab09de75');\n",
              "          const dataTable =\n",
              "            await google.colab.kernel.invokeFunction('convertToInteractive',\n",
              "                                                     [key], {});\n",
              "          if (!dataTable) return;\n",
              "\n",
              "          const docLinkHtml = 'Like what you see? Visit the ' +\n",
              "            '<a target=\"_blank\" href=https://colab.research.google.com/notebooks/data_table.ipynb>data table notebook</a>'\n",
              "            + ' to learn more about interactive tables.';\n",
              "          element.innerHTML = '';\n",
              "          dataTable['output_type'] = 'display_data';\n",
              "          await google.colab.output.renderOutput(dataTable, element);\n",
              "          const docLink = document.createElement('div');\n",
              "          docLink.innerHTML = docLinkHtml;\n",
              "          element.appendChild(docLink);\n",
              "        }\n",
              "      </script>\n",
              "    </div>\n",
              "  </div>\n",
              "  "
            ]
          },
          "metadata": {},
          "execution_count": 162
        }
      ]
    },
    {
      "cell_type": "code",
      "metadata": {
        "id": "WFaDkvIjyDtG",
        "colab": {
          "base_uri": "https://localhost:8080/",
          "height": 300
        },
        "outputId": "ce631e67-365d-4121-cee5-469745b665c1"
      },
      "source": [
        "reviews_df.describe(include='all').T"
      ],
      "execution_count": 163,
      "outputs": [
        {
          "output_type": "execute_result",
          "data": {
            "text/plain": [
              "                     count unique                top   freq      mean  \\\n",
              "asin                 67986    720         B00F2SKPIM    981       NaN   \n",
              "name                 67984  47323    Amazon Customer   6507       NaN   \n",
              "rating       67986.0000000    NaN                NaN    NaN 3.8079163   \n",
              "date                 67986   2983  December 11, 2019    234       NaN   \n",
              "verified             67986      2               True  61225       NaN   \n",
              "title                67972  41489         Five Stars   6043       NaN   \n",
              "body                 67965  59811               Good    303       NaN   \n",
              "helpfulVotes 27215.0000000    NaN                NaN    NaN 8.2296895   \n",
              "\n",
              "                    std       min       25%       50%       75%         max  \n",
              "asin                NaN       NaN       NaN       NaN       NaN         NaN  \n",
              "name                NaN       NaN       NaN       NaN       NaN         NaN  \n",
              "rating        1.5829058 1.0000000 3.0000000 5.0000000 5.0000000   5.0000000  \n",
              "date                NaN       NaN       NaN       NaN       NaN         NaN  \n",
              "verified            NaN       NaN       NaN       NaN       NaN         NaN  \n",
              "title               NaN       NaN       NaN       NaN       NaN         NaN  \n",
              "body                NaN       NaN       NaN       NaN       NaN         NaN  \n",
              "helpfulVotes 31.9548772 1.0000000 1.0000000 2.0000000 5.0000000 990.0000000  "
            ],
            "text/html": [
              "\n",
              "  <div id=\"df-b389f02b-1988-4090-8156-3fee08f75e7a\">\n",
              "    <div class=\"colab-df-container\">\n",
              "      <div>\n",
              "<style scoped>\n",
              "    .dataframe tbody tr th:only-of-type {\n",
              "        vertical-align: middle;\n",
              "    }\n",
              "\n",
              "    .dataframe tbody tr th {\n",
              "        vertical-align: top;\n",
              "    }\n",
              "\n",
              "    .dataframe thead th {\n",
              "        text-align: right;\n",
              "    }\n",
              "</style>\n",
              "<table border=\"1\" class=\"dataframe\">\n",
              "  <thead>\n",
              "    <tr style=\"text-align: right;\">\n",
              "      <th></th>\n",
              "      <th>count</th>\n",
              "      <th>unique</th>\n",
              "      <th>top</th>\n",
              "      <th>freq</th>\n",
              "      <th>mean</th>\n",
              "      <th>std</th>\n",
              "      <th>min</th>\n",
              "      <th>25%</th>\n",
              "      <th>50%</th>\n",
              "      <th>75%</th>\n",
              "      <th>max</th>\n",
              "    </tr>\n",
              "  </thead>\n",
              "  <tbody>\n",
              "    <tr>\n",
              "      <th>asin</th>\n",
              "      <td>67986</td>\n",
              "      <td>720</td>\n",
              "      <td>B00F2SKPIM</td>\n",
              "      <td>981</td>\n",
              "      <td>NaN</td>\n",
              "      <td>NaN</td>\n",
              "      <td>NaN</td>\n",
              "      <td>NaN</td>\n",
              "      <td>NaN</td>\n",
              "      <td>NaN</td>\n",
              "      <td>NaN</td>\n",
              "    </tr>\n",
              "    <tr>\n",
              "      <th>name</th>\n",
              "      <td>67984</td>\n",
              "      <td>47323</td>\n",
              "      <td>Amazon Customer</td>\n",
              "      <td>6507</td>\n",
              "      <td>NaN</td>\n",
              "      <td>NaN</td>\n",
              "      <td>NaN</td>\n",
              "      <td>NaN</td>\n",
              "      <td>NaN</td>\n",
              "      <td>NaN</td>\n",
              "      <td>NaN</td>\n",
              "    </tr>\n",
              "    <tr>\n",
              "      <th>rating</th>\n",
              "      <td>67986.0000000</td>\n",
              "      <td>NaN</td>\n",
              "      <td>NaN</td>\n",
              "      <td>NaN</td>\n",
              "      <td>3.8079163</td>\n",
              "      <td>1.5829058</td>\n",
              "      <td>1.0000000</td>\n",
              "      <td>3.0000000</td>\n",
              "      <td>5.0000000</td>\n",
              "      <td>5.0000000</td>\n",
              "      <td>5.0000000</td>\n",
              "    </tr>\n",
              "    <tr>\n",
              "      <th>date</th>\n",
              "      <td>67986</td>\n",
              "      <td>2983</td>\n",
              "      <td>December 11, 2019</td>\n",
              "      <td>234</td>\n",
              "      <td>NaN</td>\n",
              "      <td>NaN</td>\n",
              "      <td>NaN</td>\n",
              "      <td>NaN</td>\n",
              "      <td>NaN</td>\n",
              "      <td>NaN</td>\n",
              "      <td>NaN</td>\n",
              "    </tr>\n",
              "    <tr>\n",
              "      <th>verified</th>\n",
              "      <td>67986</td>\n",
              "      <td>2</td>\n",
              "      <td>True</td>\n",
              "      <td>61225</td>\n",
              "      <td>NaN</td>\n",
              "      <td>NaN</td>\n",
              "      <td>NaN</td>\n",
              "      <td>NaN</td>\n",
              "      <td>NaN</td>\n",
              "      <td>NaN</td>\n",
              "      <td>NaN</td>\n",
              "    </tr>\n",
              "    <tr>\n",
              "      <th>title</th>\n",
              "      <td>67972</td>\n",
              "      <td>41489</td>\n",
              "      <td>Five Stars</td>\n",
              "      <td>6043</td>\n",
              "      <td>NaN</td>\n",
              "      <td>NaN</td>\n",
              "      <td>NaN</td>\n",
              "      <td>NaN</td>\n",
              "      <td>NaN</td>\n",
              "      <td>NaN</td>\n",
              "      <td>NaN</td>\n",
              "    </tr>\n",
              "    <tr>\n",
              "      <th>body</th>\n",
              "      <td>67965</td>\n",
              "      <td>59811</td>\n",
              "      <td>Good</td>\n",
              "      <td>303</td>\n",
              "      <td>NaN</td>\n",
              "      <td>NaN</td>\n",
              "      <td>NaN</td>\n",
              "      <td>NaN</td>\n",
              "      <td>NaN</td>\n",
              "      <td>NaN</td>\n",
              "      <td>NaN</td>\n",
              "    </tr>\n",
              "    <tr>\n",
              "      <th>helpfulVotes</th>\n",
              "      <td>27215.0000000</td>\n",
              "      <td>NaN</td>\n",
              "      <td>NaN</td>\n",
              "      <td>NaN</td>\n",
              "      <td>8.2296895</td>\n",
              "      <td>31.9548772</td>\n",
              "      <td>1.0000000</td>\n",
              "      <td>1.0000000</td>\n",
              "      <td>2.0000000</td>\n",
              "      <td>5.0000000</td>\n",
              "      <td>990.0000000</td>\n",
              "    </tr>\n",
              "  </tbody>\n",
              "</table>\n",
              "</div>\n",
              "      <button class=\"colab-df-convert\" onclick=\"convertToInteractive('df-b389f02b-1988-4090-8156-3fee08f75e7a')\"\n",
              "              title=\"Convert this dataframe to an interactive table.\"\n",
              "              style=\"display:none;\">\n",
              "        \n",
              "  <svg xmlns=\"http://www.w3.org/2000/svg\" height=\"24px\"viewBox=\"0 0 24 24\"\n",
              "       width=\"24px\">\n",
              "    <path d=\"M0 0h24v24H0V0z\" fill=\"none\"/>\n",
              "    <path d=\"M18.56 5.44l.94 2.06.94-2.06 2.06-.94-2.06-.94-.94-2.06-.94 2.06-2.06.94zm-11 1L8.5 8.5l.94-2.06 2.06-.94-2.06-.94L8.5 2.5l-.94 2.06-2.06.94zm10 10l.94 2.06.94-2.06 2.06-.94-2.06-.94-.94-2.06-.94 2.06-2.06.94z\"/><path d=\"M17.41 7.96l-1.37-1.37c-.4-.4-.92-.59-1.43-.59-.52 0-1.04.2-1.43.59L10.3 9.45l-7.72 7.72c-.78.78-.78 2.05 0 2.83L4 21.41c.39.39.9.59 1.41.59.51 0 1.02-.2 1.41-.59l7.78-7.78 2.81-2.81c.8-.78.8-2.07 0-2.86zM5.41 20L4 18.59l7.72-7.72 1.47 1.35L5.41 20z\"/>\n",
              "  </svg>\n",
              "      </button>\n",
              "      \n",
              "  <style>\n",
              "    .colab-df-container {\n",
              "      display:flex;\n",
              "      flex-wrap:wrap;\n",
              "      gap: 12px;\n",
              "    }\n",
              "\n",
              "    .colab-df-convert {\n",
              "      background-color: #E8F0FE;\n",
              "      border: none;\n",
              "      border-radius: 50%;\n",
              "      cursor: pointer;\n",
              "      display: none;\n",
              "      fill: #1967D2;\n",
              "      height: 32px;\n",
              "      padding: 0 0 0 0;\n",
              "      width: 32px;\n",
              "    }\n",
              "\n",
              "    .colab-df-convert:hover {\n",
              "      background-color: #E2EBFA;\n",
              "      box-shadow: 0px 1px 2px rgba(60, 64, 67, 0.3), 0px 1px 3px 1px rgba(60, 64, 67, 0.15);\n",
              "      fill: #174EA6;\n",
              "    }\n",
              "\n",
              "    [theme=dark] .colab-df-convert {\n",
              "      background-color: #3B4455;\n",
              "      fill: #D2E3FC;\n",
              "    }\n",
              "\n",
              "    [theme=dark] .colab-df-convert:hover {\n",
              "      background-color: #434B5C;\n",
              "      box-shadow: 0px 1px 3px 1px rgba(0, 0, 0, 0.15);\n",
              "      filter: drop-shadow(0px 1px 2px rgba(0, 0, 0, 0.3));\n",
              "      fill: #FFFFFF;\n",
              "    }\n",
              "  </style>\n",
              "\n",
              "      <script>\n",
              "        const buttonEl =\n",
              "          document.querySelector('#df-b389f02b-1988-4090-8156-3fee08f75e7a button.colab-df-convert');\n",
              "        buttonEl.style.display =\n",
              "          google.colab.kernel.accessAllowed ? 'block' : 'none';\n",
              "\n",
              "        async function convertToInteractive(key) {\n",
              "          const element = document.querySelector('#df-b389f02b-1988-4090-8156-3fee08f75e7a');\n",
              "          const dataTable =\n",
              "            await google.colab.kernel.invokeFunction('convertToInteractive',\n",
              "                                                     [key], {});\n",
              "          if (!dataTable) return;\n",
              "\n",
              "          const docLinkHtml = 'Like what you see? Visit the ' +\n",
              "            '<a target=\"_blank\" href=https://colab.research.google.com/notebooks/data_table.ipynb>data table notebook</a>'\n",
              "            + ' to learn more about interactive tables.';\n",
              "          element.innerHTML = '';\n",
              "          dataTable['output_type'] = 'display_data';\n",
              "          await google.colab.output.renderOutput(dataTable, element);\n",
              "          const docLink = document.createElement('div');\n",
              "          docLink.innerHTML = docLinkHtml;\n",
              "          element.appendChild(docLink);\n",
              "        }\n",
              "      </script>\n",
              "    </div>\n",
              "  </div>\n",
              "  "
            ]
          },
          "metadata": {},
          "execution_count": 163
        }
      ]
    },
    {
      "cell_type": "markdown",
      "metadata": {
        "id": "cSdGfadUyEdU"
      },
      "source": [
        "### 4.3 From the above statistical summary, write inferences like count of unique products, top brand, top title, range of rating, price range, etc"
      ]
    },
    {
      "cell_type": "markdown",
      "source": [
        "ASIN is a unique value, it is like a ID.\n",
        "\n",
        "Samsung is the top brand.\n",
        "\n",
        "Price ranges from 0 to 999$.\n",
        "\n",
        "Title has 718 unique values in 720 records.\n",
        "\n",
        "The review ranges from 0 - 5 and the average is 3.8."
      ],
      "metadata": {
        "id": "2M9B5ikB6ko2"
      }
    },
    {
      "cell_type": "markdown",
      "source": [
        "Verified reviews are 61k out of 67k.\n",
        "\n",
        "There are 41k unqiue titles in 67k records."
      ],
      "metadata": {
        "id": "eBWogpBl7mPW"
      }
    },
    {
      "cell_type": "markdown",
      "source": [
        ""
      ],
      "metadata": {
        "id": "Uwz5Fl4t6fOb"
      }
    },
    {
      "cell_type": "markdown",
      "metadata": {
        "id": "XMv_hXyxJKZK"
      },
      "source": [
        "### 4.4 Analyze the distribution of ratings and other categorical features like brand, etc"
      ]
    },
    {
      "cell_type": "code",
      "source": [
        "products_df.brand.value_counts().sort_values().plot(kind='pie', autopct='%1.0f%%', figsize=(10,10))"
      ],
      "metadata": {
        "colab": {
          "base_uri": "https://localhost:8080/",
          "height": 592
        },
        "id": "lFI8yqLo83CA",
        "outputId": "914c66b7-ba37-4191-aca1-0572769a062e"
      },
      "execution_count": 164,
      "outputs": [
        {
          "output_type": "execute_result",
          "data": {
            "text/plain": [
              "<matplotlib.axes._subplots.AxesSubplot at 0x7fe9849965d0>"
            ]
          },
          "metadata": {},
          "execution_count": 164
        },
        {
          "output_type": "display_data",
          "data": {
            "text/plain": [
              "<Figure size 720x720 with 1 Axes>"
            ],
            "image/png": "[encoded data removed]"
          },
          "metadata": {}
        }
      ]
    },
    {
      "cell_type": "code",
      "metadata": {
        "id": "oEhjSsMcyirD",
        "colab": {
          "base_uri": "https://localhost:8080/"
        },
        "outputId": "970008fb-7e49-4e84-fe5f-fb5d3f7d2a2b"
      },
      "source": [
        "reviews_df.rating.value_counts()"
      ],
      "execution_count": 165,
      "outputs": [
        {
          "output_type": "execute_result",
          "data": {
            "text/plain": [
              "5    37752\n",
              "1    12743\n",
              "4     8824\n",
              "3     4752\n",
              "2     3915\n",
              "Name: rating, dtype: int64"
            ]
          },
          "metadata": {},
          "execution_count": 165
        }
      ]
    },
    {
      "cell_type": "code",
      "source": [
        "sns.countplot(reviews_df.rating)"
      ],
      "metadata": {
        "colab": {
          "base_uri": "https://localhost:8080/",
          "height": 296
        },
        "id": "kuiPZ3fZ8_nn",
        "outputId": "9847f433-bcf5-4dc1-b5fe-068cd66cd14e"
      },
      "execution_count": 166,
      "outputs": [
        {
          "output_type": "execute_result",
          "data": {
            "text/plain": [
              "<matplotlib.axes._subplots.AxesSubplot at 0x7fe982c476d0>"
            ]
          },
          "metadata": {},
          "execution_count": 166
        },
        {
          "output_type": "display_data",
          "data": {
            "text/plain": [
              "<Figure size 432x288 with 1 Axes>"
            ],
            "image/png": "[encoded data removed]"
          },
          "metadata": {
            "needs_background": "light"
          }
        }
      ]
    },
    {
      "cell_type": "markdown",
      "metadata": {
        "id": "jwZBGODgyi1a"
      },
      "source": [
        "### 4.5 Display average rating per brand"
      ]
    },
    {
      "cell_type": "code",
      "metadata": {
        "id": "OSBBiAv8yscd",
        "colab": {
          "base_uri": "https://localhost:8080/",
          "height": 391
        },
        "outputId": "5ed86780-7c5c-47f6-9619-a21d41ce7560"
      },
      "source": [
        "products_df.groupby(by='brand').mean().rating.sort_values().plot(kind='barh',\n",
        "                                                               figsize=(6,6))"
      ],
      "execution_count": 167,
      "outputs": [
        {
          "output_type": "execute_result",
          "data": {
            "text/plain": [
              "<matplotlib.axes._subplots.AxesSubplot at 0x7fe982c29510>"
            ]
          },
          "metadata": {},
          "execution_count": 167
        },
        {
          "output_type": "display_data",
          "data": {
            "text/plain": [
              "<Figure size 432x432 with 1 Axes>"
            ],
            "image/png": "[encoded data removed]"
          },
          "metadata": {
            "needs_background": "light"
          }
        }
      ]
    },
    {
      "cell_type": "markdown",
      "metadata": {
        "id": "vUXuEwlgyvB0"
      },
      "source": [
        "### 4.6 Display average price per brand"
      ]
    },
    {
      "cell_type": "code",
      "metadata": {
        "id": "ACgIwVlyy3Pu",
        "colab": {
          "base_uri": "https://localhost:8080/",
          "height": 391
        },
        "outputId": "e2712d09-a47d-4bb3-ed19-0fef07a97841"
      },
      "source": [
        "products_df.groupby(by='brand').mean().price.sort_values().plot(kind='barh',\n",
        "                                                                figsize=(6,6))"
      ],
      "execution_count": 168,
      "outputs": [
        {
          "output_type": "execute_result",
          "data": {
            "text/plain": [
              "<matplotlib.axes._subplots.AxesSubplot at 0x7fe982bb7710>"
            ]
          },
          "metadata": {},
          "execution_count": 168
        },
        {
          "output_type": "display_data",
          "data": {
            "text/plain": [
              "<Figure size 432x432 with 1 Axes>"
            ],
            "image/png": "[encoded data removed]"
          },
          "metadata": {
            "needs_background": "light"
          }
        }
      ]
    },
    {
      "cell_type": "markdown",
      "metadata": {
        "id": "U0JfwL74y3a-"
      },
      "source": [
        "### 4.7 Display average 'totalReviews' per brand"
      ]
    },
    {
      "cell_type": "code",
      "metadata": {
        "id": "wfzciNxqzBYu",
        "colab": {
          "base_uri": "https://localhost:8080/",
          "height": 441
        },
        "outputId": "8335a7cd-6db7-4153-c300-e407f95c6f92"
      },
      "source": [
        "products_df.groupby(by='brand').mean().totalReviews.sort_values().plot(kind='bar',\n",
        "                                                                       figsize=(6,6))"
      ],
      "execution_count": 169,
      "outputs": [
        {
          "output_type": "execute_result",
          "data": {
            "text/plain": [
              "<matplotlib.axes._subplots.AxesSubplot at 0x7fe986bfb910>"
            ]
          },
          "metadata": {},
          "execution_count": 169
        },
        {
          "output_type": "display_data",
          "data": {
            "text/plain": [
              "<Figure size 432x432 with 1 Axes>"
            ],
            "image/png": "[encoded data removed]"
          },
          "metadata": {
            "needs_background": "light"
          }
        }
      ]
    },
    {
      "cell_type": "markdown",
      "metadata": {
        "id": "x_fxI7OAeDUM"
      },
      "source": [
        "### 4.8 Merge two datasets using 'asin' and check the shape of the final dataset"
      ]
    },
    {
      "cell_type": "code",
      "metadata": {
        "id": "svpHfWI9zNAP"
      },
      "source": [
        "df = pd.merge(reviews_df, products_df, on='asin')"
      ],
      "execution_count": 170,
      "outputs": []
    },
    {
      "cell_type": "code",
      "source": [
        "df.shape"
      ],
      "metadata": {
        "colab": {
          "base_uri": "https://localhost:8080/"
        },
        "id": "uJ9GT5AcCI1r",
        "outputId": "25913f21-138c-4940-e960-0995e3516f9b"
      },
      "execution_count": 171,
      "outputs": [
        {
          "output_type": "execute_result",
          "data": {
            "text/plain": [
              "(67986, 14)"
            ]
          },
          "metadata": {},
          "execution_count": 171
        }
      ]
    },
    {
      "cell_type": "code",
      "source": [
        "df.info()"
      ],
      "metadata": {
        "colab": {
          "base_uri": "https://localhost:8080/"
        },
        "id": "9S0_1AhHCqk_",
        "outputId": "f8291c78-093a-4184-a5bb-62a04857d326"
      },
      "execution_count": 172,
      "outputs": [
        {
          "output_type": "stream",
          "name": "stdout",
          "text": [
            "<class 'pandas.core.frame.DataFrame'>\n",
            "Int64Index: 67986 entries, 0 to 67985\n",
            "Data columns (total 14 columns):\n",
            " #   Column         Non-Null Count  Dtype  \n",
            "---  ------         --------------  -----  \n",
            " 0   asin           67986 non-null  object \n",
            " 1   name           67984 non-null  object \n",
            " 2   rating_x       67986 non-null  int64  \n",
            " 3   date           67986 non-null  object \n",
            " 4   verified       67986 non-null  bool   \n",
            " 5   title_x        67972 non-null  object \n",
            " 6   body           67965 non-null  object \n",
            " 7   helpfulVotes   27215 non-null  float64\n",
            " 8   brand          67786 non-null  object \n",
            " 9   title_y        67986 non-null  object \n",
            " 10  rating_y       67986 non-null  float64\n",
            " 11  totalReviews   67986 non-null  int64  \n",
            " 12  price          67986 non-null  float64\n",
            " 13  originalPrice  67986 non-null  float64\n",
            "dtypes: bool(1), float64(4), int64(2), object(7)\n",
            "memory usage: 7.3+ MB\n"
          ]
        }
      ]
    },
    {
      "cell_type": "markdown",
      "metadata": {
        "id": "zdTfwlL7fYpq"
      },
      "source": [
        "### 4.9 Rename important features with appropriate names.\n",
        "Imortant features - \"rating_x\": \"user_rating\", \"title_x\": \"review_title\", \"title_y\": \"item_title\", \"rating_y\": \"overall_rating\""
      ]
    },
    {
      "cell_type": "code",
      "metadata": {
        "id": "KI-6FCkZztXM"
      },
      "source": [
        "df.rename(columns={'rating_x': 'user_rating', 'title_x': 'review_title', 'title_y': 'item_title', 'rating_y': 'overall_rating'}, inplace=True)"
      ],
      "execution_count": 173,
      "outputs": []
    },
    {
      "cell_type": "code",
      "source": [
        "df.columns"
      ],
      "metadata": {
        "colab": {
          "base_uri": "https://localhost:8080/"
        },
        "id": "FOwOfQ40DPNB",
        "outputId": "77d78f7f-6cc6-4bc2-85d4-14fc8f7a319d"
      },
      "execution_count": 174,
      "outputs": [
        {
          "output_type": "execute_result",
          "data": {
            "text/plain": [
              "Index(['asin', 'name', 'user_rating', 'date', 'verified', 'review_title',\n",
              "       'body', 'helpfulVotes', 'brand', 'item_title', 'overall_rating',\n",
              "       'totalReviews', 'price', 'originalPrice'],\n",
              "      dtype='object')"
            ]
          },
          "metadata": {},
          "execution_count": 174
        }
      ]
    },
    {
      "cell_type": "markdown",
      "metadata": {
        "id": "hNHEElHszthc"
      },
      "source": [
        "### 4.10 Select rows having verified reviews and check the shape of the final dataset"
      ]
    },
    {
      "cell_type": "code",
      "metadata": {
        "id": "Jyav9_Zoz-rT"
      },
      "source": [
        "df_verified = df[df.verified]"
      ],
      "execution_count": 175,
      "outputs": []
    },
    {
      "cell_type": "code",
      "source": [
        "df_verified.shape"
      ],
      "metadata": {
        "colab": {
          "base_uri": "https://localhost:8080/"
        },
        "id": "4PqlR6wxDluZ",
        "outputId": "2df5ee7a-3676-468a-e679-611cf592fad5"
      },
      "execution_count": 176,
      "outputs": [
        {
          "output_type": "execute_result",
          "data": {
            "text/plain": [
              "(61225, 14)"
            ]
          },
          "metadata": {},
          "execution_count": 176
        }
      ]
    },
    {
      "cell_type": "markdown",
      "metadata": {
        "id": "EpKusPjdz-2q"
      },
      "source": [
        "### 4.11 Check the number of reviews for various brands and report the brand that have highest number of reviews"
      ]
    },
    {
      "cell_type": "code",
      "metadata": {
        "id": "5tux6vwr0JDb",
        "colab": {
          "base_uri": "https://localhost:8080/"
        },
        "outputId": "c1742745-03b1-42f7-9d28-4853619edb0d"
      },
      "source": [
        "df_verified.brand.value_counts()"
      ],
      "execution_count": 177,
      "outputs": [
        {
          "output_type": "execute_result",
          "data": {
            "text/plain": [
              "Samsung     31020\n",
              "Motorola     7714\n",
              "Nokia        4878\n",
              "Apple        4876\n",
              "Xiaomi       4207\n",
              "Google       3163\n",
              "Sony         2691\n",
              "HUAWEI       2019\n",
              "OnePlus       304\n",
              "ASUS          206\n",
              "Name: brand, dtype: int64"
            ]
          },
          "metadata": {},
          "execution_count": 177
        }
      ]
    },
    {
      "cell_type": "markdown",
      "metadata": {
        "id": "gPGjMFE-0Q5k"
      },
      "source": [
        "### 4.12 Drop irrelevant columns and keep important features like 'brand','body','price','user_rating','review_title' for further analysis"
      ]
    },
    {
      "cell_type": "code",
      "metadata": {
        "id": "J_IvLN6e0e6z"
      },
      "source": [
        "keep_columns = ['brand', 'body', 'price', 'user_rating', 'review_title']"
      ],
      "execution_count": 178,
      "outputs": []
    },
    {
      "cell_type": "code",
      "source": [
        "df_final = df_verified[keep_columns]"
      ],
      "metadata": {
        "id": "toxlefhZFHUJ"
      },
      "execution_count": 179,
      "outputs": []
    },
    {
      "cell_type": "code",
      "source": [
        "df_final.sample(5)"
      ],
      "metadata": {
        "colab": {
          "base_uri": "https://localhost:8080/",
          "height": 206
        },
        "id": "LzMIKQ9VFSLk",
        "outputId": "021e2e0d-3315-48c1-94d3-5de60a6a96bf"
      },
      "execution_count": 180,
      "outputs": [
        {
          "output_type": "execute_result",
          "data": {
            "text/plain": [
              "          brand                                               body  \\\n",
              "52878    Xiaomi  Recently broke my Moto G5 plus and replaced it...   \n",
              "20290  Motorola  Great phone, the display is beautiful, battery...   \n",
              "59161   Samsung                                  Very good product   \n",
              "30055   Samsung  Just as advertised. Works just fine. Looks lik...   \n",
              "54937   Samsung  Phone keeps rebooting for hours at a time. ver...   \n",
              "\n",
              "            price  user_rating                       review_title  \n",
              "52878 179.5000000            1  An exercise in minor frustrations  \n",
              "20290 239.9900000            5                Still great in 2018  \n",
              "59161 215.0000000            5                          Very good  \n",
              "30055 207.9900000            5                         Good value  \n",
              "54937 209.9900000            1                 J7 keeps rebooting  "
            ],
            "text/html": [
              "\n",
              "  <div id=\"df-fc7393e0-020c-48cd-83cc-79683c284d6d\">\n",
              "    <div class=\"colab-df-container\">\n",
              "      <div>\n",
              "<style scoped>\n",
              "    .dataframe tbody tr th:only-of-type {\n",
              "        vertical-align: middle;\n",
              "    }\n",
              "\n",
              "    .dataframe tbody tr th {\n",
              "        vertical-align: top;\n",
              "    }\n",
              "\n",
              "    .dataframe thead th {\n",
              "        text-align: right;\n",
              "    }\n",
              "</style>\n",
              "<table border=\"1\" class=\"dataframe\">\n",
              "  <thead>\n",
              "    <tr style=\"text-align: right;\">\n",
              "      <th></th>\n",
              "      <th>brand</th>\n",
              "      <th>body</th>\n",
              "      <th>price</th>\n",
              "      <th>user_rating</th>\n",
              "      <th>review_title</th>\n",
              "    </tr>\n",
              "  </thead>\n",
              "  <tbody>\n",
              "    <tr>\n",
              "      <th>52878</th>\n",
              "      <td>Xiaomi</td>\n",
              "      <td>Recently broke my Moto G5 plus and replaced it...</td>\n",
              "      <td>179.5000000</td>\n",
              "      <td>1</td>\n",
              "      <td>An exercise in minor frustrations</td>\n",
              "    </tr>\n",
              "    <tr>\n",
              "      <th>20290</th>\n",
              "      <td>Motorola</td>\n",
              "      <td>Great phone, the display is beautiful, battery...</td>\n",
              "      <td>239.9900000</td>\n",
              "      <td>5</td>\n",
              "      <td>Still great in 2018</td>\n",
              "    </tr>\n",
              "    <tr>\n",
              "      <th>59161</th>\n",
              "      <td>Samsung</td>\n",
              "      <td>Very good product</td>\n",
              "      <td>215.0000000</td>\n",
              "      <td>5</td>\n",
              "      <td>Very good</td>\n",
              "    </tr>\n",
              "    <tr>\n",
              "      <th>30055</th>\n",
              "      <td>Samsung</td>\n",
              "      <td>Just as advertised. Works just fine. Looks lik...</td>\n",
              "      <td>207.9900000</td>\n",
              "      <td>5</td>\n",
              "      <td>Good value</td>\n",
              "    </tr>\n",
              "    <tr>\n",
              "      <th>54937</th>\n",
              "      <td>Samsung</td>\n",
              "      <td>Phone keeps rebooting for hours at a time. ver...</td>\n",
              "      <td>209.9900000</td>\n",
              "      <td>1</td>\n",
              "      <td>J7 keeps rebooting</td>\n",
              "    </tr>\n",
              "  </tbody>\n",
              "</table>\n",
              "</div>\n",
              "      <button class=\"colab-df-convert\" onclick=\"convertToInteractive('df-fc7393e0-020c-48cd-83cc-79683c284d6d')\"\n",
              "              title=\"Convert this dataframe to an interactive table.\"\n",
              "              style=\"display:none;\">\n",
              "        \n",
              "  <svg xmlns=\"http://www.w3.org/2000/svg\" height=\"24px\"viewBox=\"0 0 24 24\"\n",
              "       width=\"24px\">\n",
              "    <path d=\"M0 0h24v24H0V0z\" fill=\"none\"/>\n",
              "    <path d=\"M18.56 5.44l.94 2.06.94-2.06 2.06-.94-2.06-.94-.94-2.06-.94 2.06-2.06.94zm-11 1L8.5 8.5l.94-2.06 2.06-.94-2.06-.94L8.5 2.5l-.94 2.06-2.06.94zm10 10l.94 2.06.94-2.06 2.06-.94-2.06-.94-.94-2.06-.94 2.06-2.06.94z\"/><path d=\"M17.41 7.96l-1.37-1.37c-.4-.4-.92-.59-1.43-.59-.52 0-1.04.2-1.43.59L10.3 9.45l-7.72 7.72c-.78.78-.78 2.05 0 2.83L4 21.41c.39.39.9.59 1.41.59.51 0 1.02-.2 1.41-.59l7.78-7.78 2.81-2.81c.8-.78.8-2.07 0-2.86zM5.41 20L4 18.59l7.72-7.72 1.47 1.35L5.41 20z\"/>\n",
              "  </svg>\n",
              "      </button>\n",
              "      \n",
              "  <style>\n",
              "    .colab-df-container {\n",
              "      display:flex;\n",
              "      flex-wrap:wrap;\n",
              "      gap: 12px;\n",
              "    }\n",
              "\n",
              "    .colab-df-convert {\n",
              "      background-color: #E8F0FE;\n",
              "      border: none;\n",
              "      border-radius: 50%;\n",
              "      cursor: pointer;\n",
              "      display: none;\n",
              "      fill: #1967D2;\n",
              "      height: 32px;\n",
              "      padding: 0 0 0 0;\n",
              "      width: 32px;\n",
              "    }\n",
              "\n",
              "    .colab-df-convert:hover {\n",
              "      background-color: #E2EBFA;\n",
              "      box-shadow: 0px 1px 2px rgba(60, 64, 67, 0.3), 0px 1px 3px 1px rgba(60, 64, 67, 0.15);\n",
              "      fill: #174EA6;\n",
              "    }\n",
              "\n",
              "    [theme=dark] .colab-df-convert {\n",
              "      background-color: #3B4455;\n",
              "      fill: #D2E3FC;\n",
              "    }\n",
              "\n",
              "    [theme=dark] .colab-df-convert:hover {\n",
              "      background-color: #434B5C;\n",
              "      box-shadow: 0px 1px 3px 1px rgba(0, 0, 0, 0.15);\n",
              "      filter: drop-shadow(0px 1px 2px rgba(0, 0, 0, 0.3));\n",
              "      fill: #FFFFFF;\n",
              "    }\n",
              "  </style>\n",
              "\n",
              "      <script>\n",
              "        const buttonEl =\n",
              "          document.querySelector('#df-fc7393e0-020c-48cd-83cc-79683c284d6d button.colab-df-convert');\n",
              "        buttonEl.style.display =\n",
              "          google.colab.kernel.accessAllowed ? 'block' : 'none';\n",
              "\n",
              "        async function convertToInteractive(key) {\n",
              "          const element = document.querySelector('#df-fc7393e0-020c-48cd-83cc-79683c284d6d');\n",
              "          const dataTable =\n",
              "            await google.colab.kernel.invokeFunction('convertToInteractive',\n",
              "                                                     [key], {});\n",
              "          if (!dataTable) return;\n",
              "\n",
              "          const docLinkHtml = 'Like what you see? Visit the ' +\n",
              "            '<a target=\"_blank\" href=https://colab.research.google.com/notebooks/data_table.ipynb>data table notebook</a>'\n",
              "            + ' to learn more about interactive tables.';\n",
              "          element.innerHTML = '';\n",
              "          dataTable['output_type'] = 'display_data';\n",
              "          await google.colab.output.renderOutput(dataTable, element);\n",
              "          const docLink = document.createElement('div');\n",
              "          docLink.innerHTML = docLinkHtml;\n",
              "          element.appendChild(docLink);\n",
              "        }\n",
              "      </script>\n",
              "    </div>\n",
              "  </div>\n",
              "  "
            ]
          },
          "metadata": {},
          "execution_count": 180
        }
      ]
    },
    {
      "cell_type": "markdown",
      "metadata": {
        "id": "Gzo_rVT60fDf"
      },
      "source": [
        "### 4.13 Perform univariate analysis. Check distribution of price, user_rating"
      ]
    },
    {
      "cell_type": "code",
      "metadata": {
        "id": "F3vzILxZ0t0L",
        "colab": {
          "base_uri": "https://localhost:8080/",
          "height": 623
        },
        "outputId": "4cf8d48e-29f5-4ab6-dfa6-4f233ee097ce"
      },
      "source": [
        "plt.figure(figsize=(10,10))\n",
        "sns.distplot(df_final.price)"
      ],
      "execution_count": 181,
      "outputs": [
        {
          "output_type": "execute_result",
          "data": {
            "text/plain": [
              "<matplotlib.axes._subplots.AxesSubplot at 0x7fe98c29d350>"
            ]
          },
          "metadata": {},
          "execution_count": 181
        },
        {
          "output_type": "display_data",
          "data": {
            "text/plain": [
              "<Figure size 720x720 with 1 Axes>"
            ],
            "image/png": "[encoded data removed]"
          },
          "metadata": {
            "needs_background": "light"
          }
        }
      ]
    },
    {
      "cell_type": "code",
      "source": [
        "sns.countplot(df_final.user_rating)"
      ],
      "metadata": {
        "colab": {
          "base_uri": "https://localhost:8080/",
          "height": 297
        },
        "id": "MAWKvwFWGfPj",
        "outputId": "0ace697d-f858-42b8-b2da-74b2b1fe58d7"
      },
      "execution_count": 182,
      "outputs": [
        {
          "output_type": "execute_result",
          "data": {
            "text/plain": [
              "<matplotlib.axes._subplots.AxesSubplot at 0x7fe98c990d50>"
            ]
          },
          "metadata": {},
          "execution_count": 182
        },
        {
          "output_type": "display_data",
          "data": {
            "text/plain": [
              "<Figure size 432x288 with 1 Axes>"
            ],
            "image/png": "[encoded data removed]"
          },
          "metadata": {
            "needs_background": "light"
          }
        }
      ]
    },
    {
      "cell_type": "markdown",
      "metadata": {
        "id": "x0Y_kE9T0uAf"
      },
      "source": [
        "### 4.14 Create a new column called \"sentiment\". It should have value as 1 (positive) if the user_Rating is greater than 3, value as 0 (neutral) if the user_Rating == 3, and -1 (negative) is the user_Rating is less than 3."
      ]
    },
    {
      "cell_type": "code",
      "metadata": {
        "id": "jGon-2xU1Ujb"
      },
      "source": [
        "df_final['sentiment'] = df_final.user_rating.apply(lambda x: 1 if x > 3 else (0 if x == 3 else -1))"
      ],
      "execution_count": 183,
      "outputs": []
    },
    {
      "cell_type": "code",
      "source": [
        "df_final.sample(5)"
      ],
      "metadata": {
        "colab": {
          "base_uri": "https://localhost:8080/",
          "height": 206
        },
        "id": "Z4NseeOhI9-z",
        "outputId": "90b833a8-4d4b-4edc-cf49-536c744fd608"
      },
      "execution_count": 184,
      "outputs": [
        {
          "output_type": "execute_result",
          "data": {
            "text/plain": [
              "          brand                                               body  \\\n",
              "15711   Samsung  My galaxy s6 g920 doesnt working properly, whe...   \n",
              "19840   Samsung  Everything is good , the only problem is the b...   \n",
              "41778     Apple  I requested a silver one and got a gray one. E...   \n",
              "55289   OnePlus  Perfect. Works out cheaper to get it from Amaz...   \n",
              "57215  Motorola  Was torn in what to buy at this price range be...   \n",
              "\n",
              "            price  user_rating  \\\n",
              "15711   0.0000000            1   \n",
              "19840   0.0000000            4   \n",
              "41778 479.0000000            1   \n",
              "55289 599.9900000            5   \n",
              "57215 202.9900000            5   \n",
              "\n",
              "                                            review_title  sentiment  \n",
              "15711         My galaxy s6 g920 doesnt working properly,         -1  \n",
              "19840  Everything is good, the only problem is the ba...          1  \n",
              "41778  I requested a silver one for my wife and recei...         -1  \n",
              "55289  You will be billed for customs even though it'...          1  \n",
              "57215  Solid purchase. Don't get caught up on specs. ...          1  "
            ],
            "text/html": [
              "\n",
              "  <div id=\"df-cf710837-c4b2-4079-b583-581e914d392d\">\n",
              "    <div class=\"colab-df-container\">\n",
              "      <div>\n",
              "<style scoped>\n",
              "    .dataframe tbody tr th:only-of-type {\n",
              "        vertical-align: middle;\n",
              "    }\n",
              "\n",
              "    .dataframe tbody tr th {\n",
              "        vertical-align: top;\n",
              "    }\n",
              "\n",
              "    .dataframe thead th {\n",
              "        text-align: right;\n",
              "    }\n",
              "</style>\n",
              "<table border=\"1\" class=\"dataframe\">\n",
              "  <thead>\n",
              "    <tr style=\"text-align: right;\">\n",
              "      <th></th>\n",
              "      <th>brand</th>\n",
              "      <th>body</th>\n",
              "      <th>price</th>\n",
              "      <th>user_rating</th>\n",
              "      <th>review_title</th>\n",
              "      <th>sentiment</th>\n",
              "    </tr>\n",
              "  </thead>\n",
              "  <tbody>\n",
              "    <tr>\n",
              "      <th>15711</th>\n",
              "      <td>Samsung</td>\n",
              "      <td>My galaxy s6 g920 doesnt working properly, whe...</td>\n",
              "      <td>0.0000000</td>\n",
              "      <td>1</td>\n",
              "      <td>My galaxy s6 g920 doesnt working properly,</td>\n",
              "      <td>-1</td>\n",
              "    </tr>\n",
              "    <tr>\n",
              "      <th>19840</th>\n",
              "      <td>Samsung</td>\n",
              "      <td>Everything is good , the only problem is the b...</td>\n",
              "      <td>0.0000000</td>\n",
              "      <td>4</td>\n",
              "      <td>Everything is good, the only problem is the ba...</td>\n",
              "      <td>1</td>\n",
              "    </tr>\n",
              "    <tr>\n",
              "      <th>41778</th>\n",
              "      <td>Apple</td>\n",
              "      <td>I requested a silver one and got a gray one. E...</td>\n",
              "      <td>479.0000000</td>\n",
              "      <td>1</td>\n",
              "      <td>I requested a silver one for my wife and recei...</td>\n",
              "      <td>-1</td>\n",
              "    </tr>\n",
              "    <tr>\n",
              "      <th>55289</th>\n",
              "      <td>OnePlus</td>\n",
              "      <td>Perfect. Works out cheaper to get it from Amaz...</td>\n",
              "      <td>599.9900000</td>\n",
              "      <td>5</td>\n",
              "      <td>You will be billed for customs even though it'...</td>\n",
              "      <td>1</td>\n",
              "    </tr>\n",
              "    <tr>\n",
              "      <th>57215</th>\n",
              "      <td>Motorola</td>\n",
              "      <td>Was torn in what to buy at this price range be...</td>\n",
              "      <td>202.9900000</td>\n",
              "      <td>5</td>\n",
              "      <td>Solid purchase. Don't get caught up on specs. ...</td>\n",
              "      <td>1</td>\n",
              "    </tr>\n",
              "  </tbody>\n",
              "</table>\n",
              "</div>\n",
              "      <button class=\"colab-df-convert\" onclick=\"convertToInteractive('df-cf710837-c4b2-4079-b583-581e914d392d')\"\n",
              "              title=\"Convert this dataframe to an interactive table.\"\n",
              "              style=\"display:none;\">\n",
              "        \n",
              "  <svg xmlns=\"http://www.w3.org/2000/svg\" height=\"24px\"viewBox=\"0 0 24 24\"\n",
              "       width=\"24px\">\n",
              "    <path d=\"M0 0h24v24H0V0z\" fill=\"none\"/>\n",
              "    <path d=\"M18.56 5.44l.94 2.06.94-2.06 2.06-.94-2.06-.94-.94-2.06-.94 2.06-2.06.94zm-11 1L8.5 8.5l.94-2.06 2.06-.94-2.06-.94L8.5 2.5l-.94 2.06-2.06.94zm10 10l.94 2.06.94-2.06 2.06-.94-2.06-.94-.94-2.06-.94 2.06-2.06.94z\"/><path d=\"M17.41 7.96l-1.37-1.37c-.4-.4-.92-.59-1.43-.59-.52 0-1.04.2-1.43.59L10.3 9.45l-7.72 7.72c-.78.78-.78 2.05 0 2.83L4 21.41c.39.39.9.59 1.41.59.51 0 1.02-.2 1.41-.59l7.78-7.78 2.81-2.81c.8-.78.8-2.07 0-2.86zM5.41 20L4 18.59l7.72-7.72 1.47 1.35L5.41 20z\"/>\n",
              "  </svg>\n",
              "      </button>\n",
              "      \n",
              "  <style>\n",
              "    .colab-df-container {\n",
              "      display:flex;\n",
              "      flex-wrap:wrap;\n",
              "      gap: 12px;\n",
              "    }\n",
              "\n",
              "    .colab-df-convert {\n",
              "      background-color: #E8F0FE;\n",
              "      border: none;\n",
              "      border-radius: 50%;\n",
              "      cursor: pointer;\n",
              "      display: none;\n",
              "      fill: #1967D2;\n",
              "      height: 32px;\n",
              "      padding: 0 0 0 0;\n",
              "      width: 32px;\n",
              "    }\n",
              "\n",
              "    .colab-df-convert:hover {\n",
              "      background-color: #E2EBFA;\n",
              "      box-shadow: 0px 1px 2px rgba(60, 64, 67, 0.3), 0px 1px 3px 1px rgba(60, 64, 67, 0.15);\n",
              "      fill: #174EA6;\n",
              "    }\n",
              "\n",
              "    [theme=dark] .colab-df-convert {\n",
              "      background-color: #3B4455;\n",
              "      fill: #D2E3FC;\n",
              "    }\n",
              "\n",
              "    [theme=dark] .colab-df-convert:hover {\n",
              "      background-color: #434B5C;\n",
              "      box-shadow: 0px 1px 3px 1px rgba(0, 0, 0, 0.15);\n",
              "      filter: drop-shadow(0px 1px 2px rgba(0, 0, 0, 0.3));\n",
              "      fill: #FFFFFF;\n",
              "    }\n",
              "  </style>\n",
              "\n",
              "      <script>\n",
              "        const buttonEl =\n",
              "          document.querySelector('#df-cf710837-c4b2-4079-b583-581e914d392d button.colab-df-convert');\n",
              "        buttonEl.style.display =\n",
              "          google.colab.kernel.accessAllowed ? 'block' : 'none';\n",
              "\n",
              "        async function convertToInteractive(key) {\n",
              "          const element = document.querySelector('#df-cf710837-c4b2-4079-b583-581e914d392d');\n",
              "          const dataTable =\n",
              "            await google.colab.kernel.invokeFunction('convertToInteractive',\n",
              "                                                     [key], {});\n",
              "          if (!dataTable) return;\n",
              "\n",
              "          const docLinkHtml = 'Like what you see? Visit the ' +\n",
              "            '<a target=\"_blank\" href=https://colab.research.google.com/notebooks/data_table.ipynb>data table notebook</a>'\n",
              "            + ' to learn more about interactive tables.';\n",
              "          element.innerHTML = '';\n",
              "          dataTable['output_type'] = 'display_data';\n",
              "          await google.colab.output.renderOutput(dataTable, element);\n",
              "          const docLink = document.createElement('div');\n",
              "          docLink.innerHTML = docLinkHtml;\n",
              "          element.appendChild(docLink);\n",
              "        }\n",
              "      </script>\n",
              "    </div>\n",
              "  </div>\n",
              "  "
            ]
          },
          "metadata": {},
          "execution_count": 184
        }
      ]
    },
    {
      "cell_type": "markdown",
      "metadata": {
        "id": "K4rxSZWp1VAb"
      },
      "source": [
        "### 4.15 Check frequency distribution of the 'sentiment'"
      ]
    },
    {
      "cell_type": "code",
      "metadata": {
        "id": "yt3gH7Iz1dVP",
        "colab": {
          "base_uri": "https://localhost:8080/",
          "height": 296
        },
        "outputId": "c49e5bd3-ff45-4efb-8d98-46336050f22a"
      },
      "source": [
        "sns.countplot(df_final.sentiment)"
      ],
      "execution_count": 185,
      "outputs": [
        {
          "output_type": "execute_result",
          "data": {
            "text/plain": [
              "<matplotlib.axes._subplots.AxesSubplot at 0x7fe9846fa110>"
            ]
          },
          "metadata": {},
          "execution_count": 185
        },
        {
          "output_type": "display_data",
          "data": {
            "text/plain": [
              "<Figure size 432x288 with 1 Axes>"
            ],
            "image/png": "[encoded data removed]"
          },
          "metadata": {
            "needs_background": "light"
          }
        }
      ]
    },
    {
      "cell_type": "markdown",
      "metadata": {
        "id": "rK0KMghP1ddb"
      },
      "source": [
        "### 4.16 Perform bivariate analysis. Check correlation/crosstab between features and write your inferences."
      ]
    },
    {
      "cell_type": "code",
      "metadata": {
        "id": "scAV4fRg1nX0",
        "colab": {
          "base_uri": "https://localhost:8080/",
          "height": 287
        },
        "outputId": "ab9f1d8c-f27c-4b24-9e69-92c0ec471217"
      },
      "source": [
        "sns.heatmap(df_final.corr(), annot=True)"
      ],
      "execution_count": 186,
      "outputs": [
        {
          "output_type": "execute_result",
          "data": {
            "text/plain": [
              "<matplotlib.axes._subplots.AxesSubplot at 0x7fe982abdb10>"
            ]
          },
          "metadata": {},
          "execution_count": 186
        },
        {
          "output_type": "display_data",
          "data": {
            "text/plain": [
              "<Figure size 432x288 with 2 Axes>"
            ],
            "image/png": "[encoded data removed]"
          },
          "metadata": {
            "needs_background": "light"
          }
        }
      ]
    },
    {
      "cell_type": "markdown",
      "source": [
        "Sentiment and user rating are highly correlated, since its derived from the other."
      ],
      "metadata": {
        "id": "mXeFxX8jKH00"
      }
    },
    {
      "cell_type": "code",
      "source": [
        "pd.crosstab(df_final.brand, df_final.sentiment).plot(kind='bar', figsize=(10, 5))"
      ],
      "metadata": {
        "colab": {
          "base_uri": "https://localhost:8080/",
          "height": 387
        },
        "id": "Me7oE2sOKOaO",
        "outputId": "71f3ffae-25dc-4022-d6f8-e4741443c425"
      },
      "execution_count": 187,
      "outputs": [
        {
          "output_type": "execute_result",
          "data": {
            "text/plain": [
              "<matplotlib.axes._subplots.AxesSubplot at 0x7fe9829e6390>"
            ]
          },
          "metadata": {},
          "execution_count": 187
        },
        {
          "output_type": "display_data",
          "data": {
            "text/plain": [
              "<Figure size 720x360 with 1 Axes>"
            ],
            "image/png": "[encoded data removed]"
          },
          "metadata": {
            "needs_background": "light"
          }
        }
      ]
    },
    {
      "cell_type": "markdown",
      "metadata": {
        "id": "2Nzj7ZXVLakx"
      },
      "source": [
        "## 5. Text Preprocessing and Vectorization"
      ]
    },
    {
      "cell_type": "markdown",
      "metadata": {
        "id": "ZbC_RPndnlf3"
      },
      "source": [
        "We will analyze the 'body' and 'review_title' to gain more understanding.\n",
        "\n",
        "We will ppeform the below tasks\n",
        "\n",
        "- Convert the text into lowercase\n",
        "- Remove punctuation\n",
        "- Remove stopwords (English, from nltk corpus)\n",
        "- Remove other keywords like \"phone\" and brand name"
      ]
    },
    {
      "cell_type": "markdown",
      "metadata": {
        "id": "XnhMQsxz2DJH"
      },
      "source": [
        "### 5.1 Change the datatype of the 'body' column to 'str' and convert it into lowercase. Print any two samples and check the output."
      ]
    },
    {
      "cell_type": "code",
      "metadata": {
        "id": "1DbTf2yc2VOQ"
      },
      "source": [
        "df_final.body = df_final.body.astype('str')"
      ],
      "execution_count": 188,
      "outputs": []
    },
    {
      "cell_type": "code",
      "source": [
        "df_final['keywords'] = df_final.body.apply(lambda x: x.lower())"
      ],
      "metadata": {
        "id": "HH1R1ai8OYPG"
      },
      "execution_count": 189,
      "outputs": []
    },
    {
      "cell_type": "code",
      "source": [
        "df_final.sample(2)"
      ],
      "metadata": {
        "colab": {
          "base_uri": "https://localhost:8080/",
          "height": 173
        },
        "id": "yN2Zm__6Ok4U",
        "outputId": "7647a22f-c3c0-4723-dae9-38f8c4e75071"
      },
      "execution_count": 193,
      "outputs": [
        {
          "output_type": "execute_result",
          "data": {
            "text/plain": [
              "       brand                                               body       price  \\\n",
              "55988  Nokia  This phone has no response to your actions mos...   0.0000000   \n",
              "42983  Apple         So far, this phone is great. Does the job. 258.8000000   \n",
              "\n",
              "       user_rating                            review_title  sentiment  \\\n",
              "55988            2  Does not respond to actions performed.         -1   \n",
              "42983            5                            Trust worthy          1   \n",
              "\n",
              "                                                keywords  \n",
              "55988  this phone has no response to your actions mos...  \n",
              "42983            so far this phone is great does the job  "
            ],
            "text/html": [
              "\n",
              "  <div id=\"df-20cef458-1d2e-47ad-a083-665cbef9d89c\">\n",
              "    <div class=\"colab-df-container\">\n",
              "      <div>\n",
              "<style scoped>\n",
              "    .dataframe tbody tr th:only-of-type {\n",
              "        vertical-align: middle;\n",
              "    }\n",
              "\n",
              "    .dataframe tbody tr th {\n",
              "        vertical-align: top;\n",
              "    }\n",
              "\n",
              "    .dataframe thead th {\n",
              "        text-align: right;\n",
              "    }\n",
              "</style>\n",
              "<table border=\"1\" class=\"dataframe\">\n",
              "  <thead>\n",
              "    <tr style=\"text-align: right;\">\n",
              "      <th></th>\n",
              "      <th>brand</th>\n",
              "      <th>body</th>\n",
              "      <th>price</th>\n",
              "      <th>user_rating</th>\n",
              "      <th>review_title</th>\n",
              "      <th>sentiment</th>\n",
              "      <th>keywords</th>\n",
              "    </tr>\n",
              "  </thead>\n",
              "  <tbody>\n",
              "    <tr>\n",
              "      <th>55988</th>\n",
              "      <td>Nokia</td>\n",
              "      <td>This phone has no response to your actions mos...</td>\n",
              "      <td>0.0000000</td>\n",
              "      <td>2</td>\n",
              "      <td>Does not respond to actions performed.</td>\n",
              "      <td>-1</td>\n",
              "      <td>this phone has no response to your actions mos...</td>\n",
              "    </tr>\n",
              "    <tr>\n",
              "      <th>42983</th>\n",
              "      <td>Apple</td>\n",
              "      <td>So far, this phone is great. Does the job.</td>\n",
              "      <td>258.8000000</td>\n",
              "      <td>5</td>\n",
              "      <td>Trust worthy</td>\n",
              "      <td>1</td>\n",
              "      <td>so far this phone is great does the job</td>\n",
              "    </tr>\n",
              "  </tbody>\n",
              "</table>\n",
              "</div>\n",
              "      <button class=\"colab-df-convert\" onclick=\"convertToInteractive('df-20cef458-1d2e-47ad-a083-665cbef9d89c')\"\n",
              "              title=\"Convert this dataframe to an interactive table.\"\n",
              "              style=\"display:none;\">\n",
              "        \n",
              "  <svg xmlns=\"http://www.w3.org/2000/svg\" height=\"24px\"viewBox=\"0 0 24 24\"\n",
              "       width=\"24px\">\n",
              "    <path d=\"M0 0h24v24H0V0z\" fill=\"none\"/>\n",
              "    <path d=\"M18.56 5.44l.94 2.06.94-2.06 2.06-.94-2.06-.94-.94-2.06-.94 2.06-2.06.94zm-11 1L8.5 8.5l.94-2.06 2.06-.94-2.06-.94L8.5 2.5l-.94 2.06-2.06.94zm10 10l.94 2.06.94-2.06 2.06-.94-2.06-.94-.94-2.06-.94 2.06-2.06.94z\"/><path d=\"M17.41 7.96l-1.37-1.37c-.4-.4-.92-.59-1.43-.59-.52 0-1.04.2-1.43.59L10.3 9.45l-7.72 7.72c-.78.78-.78 2.05 0 2.83L4 21.41c.39.39.9.59 1.41.59.51 0 1.02-.2 1.41-.59l7.78-7.78 2.81-2.81c.8-.78.8-2.07 0-2.86zM5.41 20L4 18.59l7.72-7.72 1.47 1.35L5.41 20z\"/>\n",
              "  </svg>\n",
              "      </button>\n",
              "      \n",
              "  <style>\n",
              "    .colab-df-container {\n",
              "      display:flex;\n",
              "      flex-wrap:wrap;\n",
              "      gap: 12px;\n",
              "    }\n",
              "\n",
              "    .colab-df-convert {\n",
              "      background-color: #E8F0FE;\n",
              "      border: none;\n",
              "      border-radius: 50%;\n",
              "      cursor: pointer;\n",
              "      display: none;\n",
              "      fill: #1967D2;\n",
              "      height: 32px;\n",
              "      padding: 0 0 0 0;\n",
              "      width: 32px;\n",
              "    }\n",
              "\n",
              "    .colab-df-convert:hover {\n",
              "      background-color: #E2EBFA;\n",
              "      box-shadow: 0px 1px 2px rgba(60, 64, 67, 0.3), 0px 1px 3px 1px rgba(60, 64, 67, 0.15);\n",
              "      fill: #174EA6;\n",
              "    }\n",
              "\n",
              "    [theme=dark] .colab-df-convert {\n",
              "      background-color: #3B4455;\n",
              "      fill: #D2E3FC;\n",
              "    }\n",
              "\n",
              "    [theme=dark] .colab-df-convert:hover {\n",
              "      background-color: #434B5C;\n",
              "      box-shadow: 0px 1px 3px 1px rgba(0, 0, 0, 0.15);\n",
              "      filter: drop-shadow(0px 1px 2px rgba(0, 0, 0, 0.3));\n",
              "      fill: #FFFFFF;\n",
              "    }\n",
              "  </style>\n",
              "\n",
              "      <script>\n",
              "        const buttonEl =\n",
              "          document.querySelector('#df-20cef458-1d2e-47ad-a083-665cbef9d89c button.colab-df-convert');\n",
              "        buttonEl.style.display =\n",
              "          google.colab.kernel.accessAllowed ? 'block' : 'none';\n",
              "\n",
              "        async function convertToInteractive(key) {\n",
              "          const element = document.querySelector('#df-20cef458-1d2e-47ad-a083-665cbef9d89c');\n",
              "          const dataTable =\n",
              "            await google.colab.kernel.invokeFunction('convertToInteractive',\n",
              "                                                     [key], {});\n",
              "          if (!dataTable) return;\n",
              "\n",
              "          const docLinkHtml = 'Like what you see? Visit the ' +\n",
              "            '<a target=\"_blank\" href=https://colab.research.google.com/notebooks/data_table.ipynb>data table notebook</a>'\n",
              "            + ' to learn more about interactive tables.';\n",
              "          element.innerHTML = '';\n",
              "          dataTable['output_type'] = 'display_data';\n",
              "          await google.colab.output.renderOutput(dataTable, element);\n",
              "          const docLink = document.createElement('div');\n",
              "          docLink.innerHTML = docLinkHtml;\n",
              "          element.appendChild(docLink);\n",
              "        }\n",
              "      </script>\n",
              "    </div>\n",
              "  </div>\n",
              "  "
            ]
          },
          "metadata": {},
          "execution_count": 193
        }
      ]
    },
    {
      "cell_type": "markdown",
      "metadata": {
        "id": "lsppV0X52VXf"
      },
      "source": [
        "### 5.2 Remove punctuations from the lowercased 'body' column and display at least two samples."
      ]
    },
    {
      "cell_type": "code",
      "metadata": {
        "id": "lQXKc8et2onG"
      },
      "source": [
        "df_final['keywords'] = df_final.keywords.str.replace('[^\\w\\s]', '')"
      ],
      "execution_count": 191,
      "outputs": []
    },
    {
      "cell_type": "code",
      "source": [
        "df_final.sample(2)"
      ],
      "metadata": {
        "colab": {
          "base_uri": "https://localhost:8080/",
          "height": 112
        },
        "id": "WShtEnwuPTIY",
        "outputId": "18281d77-0d36-45a3-d2d2-458aaf9498d7"
      },
      "execution_count": 195,
      "outputs": [
        {
          "output_type": "execute_result",
          "data": {
            "text/plain": [
              "         brand                                               body       price  \\\n",
              "14287  Samsung  The phone was just as expected (as seen in the... 194.0000000   \n",
              "16388  Samsung  This one is perfect. i bought this for my Wife... 219.8800000   \n",
              "\n",
              "       user_rating    review_title  sentiment  \\\n",
              "14287            4  Happy Customer          1   \n",
              "16388            5  Very Good One.          1   \n",
              "\n",
              "                                                keywords  \n",
              "14287  the phone was just as expected as seen in the ...  \n",
              "16388  this one is perfect i bought this for my wife ...  "
            ],
            "text/html": [
              "\n",
              "  <div id=\"df-6763632a-a148-446c-ada7-8acb7e8b6e02\">\n",
              "    <div class=\"colab-df-container\">\n",
              "      <div>\n",
              "<style scoped>\n",
              "    .dataframe tbody tr th:only-of-type {\n",
              "        vertical-align: middle;\n",
              "    }\n",
              "\n",
              "    .dataframe tbody tr th {\n",
              "        vertical-align: top;\n",
              "    }\n",
              "\n",
              "    .dataframe thead th {\n",
              "        text-align: right;\n",
              "    }\n",
              "</style>\n",
              "<table border=\"1\" class=\"dataframe\">\n",
              "  <thead>\n",
              "    <tr style=\"text-align: right;\">\n",
              "      <th></th>\n",
              "      <th>brand</th>\n",
              "      <th>body</th>\n",
              "      <th>price</th>\n",
              "      <th>user_rating</th>\n",
              "      <th>review_title</th>\n",
              "      <th>sentiment</th>\n",
              "      <th>keywords</th>\n",
              "    </tr>\n",
              "  </thead>\n",
              "  <tbody>\n",
              "    <tr>\n",
              "      <th>14287</th>\n",
              "      <td>Samsung</td>\n",
              "      <td>The phone was just as expected (as seen in the...</td>\n",
              "      <td>194.0000000</td>\n",
              "      <td>4</td>\n",
              "      <td>Happy Customer</td>\n",
              "      <td>1</td>\n",
              "      <td>the phone was just as expected as seen in the ...</td>\n",
              "    </tr>\n",
              "    <tr>\n",
              "      <th>16388</th>\n",
              "      <td>Samsung</td>\n",
              "      <td>This one is perfect. i bought this for my Wife...</td>\n",
              "      <td>219.8800000</td>\n",
              "      <td>5</td>\n",
              "      <td>Very Good One.</td>\n",
              "      <td>1</td>\n",
              "      <td>this one is perfect i bought this for my wife ...</td>\n",
              "    </tr>\n",
              "  </tbody>\n",
              "</table>\n",
              "</div>\n",
              "      <button class=\"colab-df-convert\" onclick=\"convertToInteractive('df-6763632a-a148-446c-ada7-8acb7e8b6e02')\"\n",
              "              title=\"Convert this dataframe to an interactive table.\"\n",
              "              style=\"display:none;\">\n",
              "        \n",
              "  <svg xmlns=\"http://www.w3.org/2000/svg\" height=\"24px\"viewBox=\"0 0 24 24\"\n",
              "       width=\"24px\">\n",
              "    <path d=\"M0 0h24v24H0V0z\" fill=\"none\"/>\n",
              "    <path d=\"M18.56 5.44l.94 2.06.94-2.06 2.06-.94-2.06-.94-.94-2.06-.94 2.06-2.06.94zm-11 1L8.5 8.5l.94-2.06 2.06-.94-2.06-.94L8.5 2.5l-.94 2.06-2.06.94zm10 10l.94 2.06.94-2.06 2.06-.94-2.06-.94-.94-2.06-.94 2.06-2.06.94z\"/><path d=\"M17.41 7.96l-1.37-1.37c-.4-.4-.92-.59-1.43-.59-.52 0-1.04.2-1.43.59L10.3 9.45l-7.72 7.72c-.78.78-.78 2.05 0 2.83L4 21.41c.39.39.9.59 1.41.59.51 0 1.02-.2 1.41-.59l7.78-7.78 2.81-2.81c.8-.78.8-2.07 0-2.86zM5.41 20L4 18.59l7.72-7.72 1.47 1.35L5.41 20z\"/>\n",
              "  </svg>\n",
              "      </button>\n",
              "      \n",
              "  <style>\n",
              "    .colab-df-container {\n",
              "      display:flex;\n",
              "      flex-wrap:wrap;\n",
              "      gap: 12px;\n",
              "    }\n",
              "\n",
              "    .colab-df-convert {\n",
              "      background-color: #E8F0FE;\n",
              "      border: none;\n",
              "      border-radius: 50%;\n",
              "      cursor: pointer;\n",
              "      display: none;\n",
              "      fill: #1967D2;\n",
              "      height: 32px;\n",
              "      padding: 0 0 0 0;\n",
              "      width: 32px;\n",
              "    }\n",
              "\n",
              "    .colab-df-convert:hover {\n",
              "      background-color: #E2EBFA;\n",
              "      box-shadow: 0px 1px 2px rgba(60, 64, 67, 0.3), 0px 1px 3px 1px rgba(60, 64, 67, 0.15);\n",
              "      fill: #174EA6;\n",
              "    }\n",
              "\n",
              "    [theme=dark] .colab-df-convert {\n",
              "      background-color: #3B4455;\n",
              "      fill: #D2E3FC;\n",
              "    }\n",
              "\n",
              "    [theme=dark] .colab-df-convert:hover {\n",
              "      background-color: #434B5C;\n",
              "      box-shadow: 0px 1px 3px 1px rgba(0, 0, 0, 0.15);\n",
              "      filter: drop-shadow(0px 1px 2px rgba(0, 0, 0, 0.3));\n",
              "      fill: #FFFFFF;\n",
              "    }\n",
              "  </style>\n",
              "\n",
              "      <script>\n",
              "        const buttonEl =\n",
              "          document.querySelector('#df-6763632a-a148-446c-ada7-8acb7e8b6e02 button.colab-df-convert');\n",
              "        buttonEl.style.display =\n",
              "          google.colab.kernel.accessAllowed ? 'block' : 'none';\n",
              "\n",
              "        async function convertToInteractive(key) {\n",
              "          const element = document.querySelector('#df-6763632a-a148-446c-ada7-8acb7e8b6e02');\n",
              "          const dataTable =\n",
              "            await google.colab.kernel.invokeFunction('convertToInteractive',\n",
              "                                                     [key], {});\n",
              "          if (!dataTable) return;\n",
              "\n",
              "          const docLinkHtml = 'Like what you see? Visit the ' +\n",
              "            '<a target=\"_blank\" href=https://colab.research.google.com/notebooks/data_table.ipynb>data table notebook</a>'\n",
              "            + ' to learn more about interactive tables.';\n",
              "          element.innerHTML = '';\n",
              "          dataTable['output_type'] = 'display_data';\n",
              "          await google.colab.output.renderOutput(dataTable, element);\n",
              "          const docLink = document.createElement('div');\n",
              "          docLink.innerHTML = docLinkHtml;\n",
              "          element.appendChild(docLink);\n",
              "        }\n",
              "      </script>\n",
              "    </div>\n",
              "  </div>\n",
              "  "
            ]
          },
          "metadata": {},
          "execution_count": 195
        }
      ]
    },
    {
      "cell_type": "markdown",
      "metadata": {
        "id": "8Zk7ja6A2owN"
      },
      "source": [
        "### 5.3 Remove stop words from the above pre-processed 'body' column and display at least two samples."
      ]
    },
    {
      "cell_type": "code",
      "metadata": {
        "id": "1d-DhX_e2yQ-",
        "colab": {
          "base_uri": "https://localhost:8080/"
        },
        "outputId": "5d67358a-2228-4f90-a2a2-35a55ff2a221"
      },
      "source": [
        "import nltk\n",
        "from nltk.corpus import stopwords\n",
        "nltk.download('stopwords')"
      ],
      "execution_count": 196,
      "outputs": [
        {
          "output_type": "stream",
          "name": "stdout",
          "text": [
            "[nltk_data] Downloading package stopwords to /root/nltk_data...\n",
            "[nltk_data]   Unzipping corpora/stopwords.zip.\n"
          ]
        },
        {
          "output_type": "execute_result",
          "data": {
            "text/plain": [
              "True"
            ]
          },
          "metadata": {},
          "execution_count": 196
        }
      ]
    },
    {
      "cell_type": "code",
      "source": [
        "stop = set(stopwords.words('english'))\n",
        "len(stop)"
      ],
      "metadata": {
        "colab": {
          "base_uri": "https://localhost:8080/"
        },
        "id": "D1WYXl64RCad",
        "outputId": "13a2e4dd-59fa-4997-e953-a3a6c63ab359"
      },
      "execution_count": 197,
      "outputs": [
        {
          "output_type": "execute_result",
          "data": {
            "text/plain": [
              "179"
            ]
          },
          "metadata": {},
          "execution_count": 197
        }
      ]
    },
    {
      "cell_type": "code",
      "source": [
        "df_final.keywords = df_final.keywords.apply(lambda words: ' '.join(word for word in words.split() if word not in stop))"
      ],
      "metadata": {
        "id": "bIKFAn1zReZ8"
      },
      "execution_count": 198,
      "outputs": []
    },
    {
      "cell_type": "code",
      "source": [
        "df_final.sample()"
      ],
      "metadata": {
        "colab": {
          "base_uri": "https://localhost:8080/",
          "height": 81
        },
        "id": "3c2xW6GsR89G",
        "outputId": "10f41d85-36c5-4c4a-d8b3-bb741d30569a"
      },
      "execution_count": 199,
      "outputs": [
        {
          "output_type": "execute_result",
          "data": {
            "text/plain": [
              "      brand                                               body       price  \\\n",
              "27382  Sony  Sleek and beautiful in forest blue. Eveything ... 259.9900000   \n",
              "\n",
              "       user_rating         review_title  sentiment  \\\n",
              "27382            5  Exceptional Device!          1   \n",
              "\n",
              "                                                keywords  \n",
              "27382  sleek beautiful forest blue eveything phone ex...  "
            ],
            "text/html": [
              "\n",
              "  <div id=\"df-ba7282c1-7fe1-418f-af7d-8a96e1ce7adb\">\n",
              "    <div class=\"colab-df-container\">\n",
              "      <div>\n",
              "<style scoped>\n",
              "    .dataframe tbody tr th:only-of-type {\n",
              "        vertical-align: middle;\n",
              "    }\n",
              "\n",
              "    .dataframe tbody tr th {\n",
              "        vertical-align: top;\n",
              "    }\n",
              "\n",
              "    .dataframe thead th {\n",
              "        text-align: right;\n",
              "    }\n",
              "</style>\n",
              "<table border=\"1\" class=\"dataframe\">\n",
              "  <thead>\n",
              "    <tr style=\"text-align: right;\">\n",
              "      <th></th>\n",
              "      <th>brand</th>\n",
              "      <th>body</th>\n",
              "      <th>price</th>\n",
              "      <th>user_rating</th>\n",
              "      <th>review_title</th>\n",
              "      <th>sentiment</th>\n",
              "      <th>keywords</th>\n",
              "    </tr>\n",
              "  </thead>\n",
              "  <tbody>\n",
              "    <tr>\n",
              "      <th>27382</th>\n",
              "      <td>Sony</td>\n",
              "      <td>Sleek and beautiful in forest blue. Eveything ...</td>\n",
              "      <td>259.9900000</td>\n",
              "      <td>5</td>\n",
              "      <td>Exceptional Device!</td>\n",
              "      <td>1</td>\n",
              "      <td>sleek beautiful forest blue eveything phone ex...</td>\n",
              "    </tr>\n",
              "  </tbody>\n",
              "</table>\n",
              "</div>\n",
              "      <button class=\"colab-df-convert\" onclick=\"convertToInteractive('df-ba7282c1-7fe1-418f-af7d-8a96e1ce7adb')\"\n",
              "              title=\"Convert this dataframe to an interactive table.\"\n",
              "              style=\"display:none;\">\n",
              "        \n",
              "  <svg xmlns=\"http://www.w3.org/2000/svg\" height=\"24px\"viewBox=\"0 0 24 24\"\n",
              "       width=\"24px\">\n",
              "    <path d=\"M0 0h24v24H0V0z\" fill=\"none\"/>\n",
              "    <path d=\"M18.56 5.44l.94 2.06.94-2.06 2.06-.94-2.06-.94-.94-2.06-.94 2.06-2.06.94zm-11 1L8.5 8.5l.94-2.06 2.06-.94-2.06-.94L8.5 2.5l-.94 2.06-2.06.94zm10 10l.94 2.06.94-2.06 2.06-.94-2.06-.94-.94-2.06-.94 2.06-2.06.94z\"/><path d=\"M17.41 7.96l-1.37-1.37c-.4-.4-.92-.59-1.43-.59-.52 0-1.04.2-1.43.59L10.3 9.45l-7.72 7.72c-.78.78-.78 2.05 0 2.83L4 21.41c.39.39.9.59 1.41.59.51 0 1.02-.2 1.41-.59l7.78-7.78 2.81-2.81c.8-.78.8-2.07 0-2.86zM5.41 20L4 18.59l7.72-7.72 1.47 1.35L5.41 20z\"/>\n",
              "  </svg>\n",
              "      </button>\n",
              "      \n",
              "  <style>\n",
              "    .colab-df-container {\n",
              "      display:flex;\n",
              "      flex-wrap:wrap;\n",
              "      gap: 12px;\n",
              "    }\n",
              "\n",
              "    .colab-df-convert {\n",
              "      background-color: #E8F0FE;\n",
              "      border: none;\n",
              "      border-radius: 50%;\n",
              "      cursor: pointer;\n",
              "      display: none;\n",
              "      fill: #1967D2;\n",
              "      height: 32px;\n",
              "      padding: 0 0 0 0;\n",
              "      width: 32px;\n",
              "    }\n",
              "\n",
              "    .colab-df-convert:hover {\n",
              "      background-color: #E2EBFA;\n",
              "      box-shadow: 0px 1px 2px rgba(60, 64, 67, 0.3), 0px 1px 3px 1px rgba(60, 64, 67, 0.15);\n",
              "      fill: #174EA6;\n",
              "    }\n",
              "\n",
              "    [theme=dark] .colab-df-convert {\n",
              "      background-color: #3B4455;\n",
              "      fill: #D2E3FC;\n",
              "    }\n",
              "\n",
              "    [theme=dark] .colab-df-convert:hover {\n",
              "      background-color: #434B5C;\n",
              "      box-shadow: 0px 1px 3px 1px rgba(0, 0, 0, 0.15);\n",
              "      filter: drop-shadow(0px 1px 2px rgba(0, 0, 0, 0.3));\n",
              "      fill: #FFFFFF;\n",
              "    }\n",
              "  </style>\n",
              "\n",
              "      <script>\n",
              "        const buttonEl =\n",
              "          document.querySelector('#df-ba7282c1-7fe1-418f-af7d-8a96e1ce7adb button.colab-df-convert');\n",
              "        buttonEl.style.display =\n",
              "          google.colab.kernel.accessAllowed ? 'block' : 'none';\n",
              "\n",
              "        async function convertToInteractive(key) {\n",
              "          const element = document.querySelector('#df-ba7282c1-7fe1-418f-af7d-8a96e1ce7adb');\n",
              "          const dataTable =\n",
              "            await google.colab.kernel.invokeFunction('convertToInteractive',\n",
              "                                                     [key], {});\n",
              "          if (!dataTable) return;\n",
              "\n",
              "          const docLinkHtml = 'Like what you see? Visit the ' +\n",
              "            '<a target=\"_blank\" href=https://colab.research.google.com/notebooks/data_table.ipynb>data table notebook</a>'\n",
              "            + ' to learn more about interactive tables.';\n",
              "          element.innerHTML = '';\n",
              "          dataTable['output_type'] = 'display_data';\n",
              "          await google.colab.output.renderOutput(dataTable, element);\n",
              "          const docLink = document.createElement('div');\n",
              "          docLink.innerHTML = docLinkHtml;\n",
              "          element.appendChild(docLink);\n",
              "        }\n",
              "      </script>\n",
              "    </div>\n",
              "  </div>\n",
              "  "
            ]
          },
          "metadata": {},
          "execution_count": 199
        }
      ]
    },
    {
      "cell_type": "markdown",
      "metadata": {
        "id": "TQNvXay42yaQ"
      },
      "source": [
        "### 5.4 Apply lemmatisation on the above preprocessed text and display a few samples"
      ]
    },
    {
      "cell_type": "code",
      "metadata": {
        "id": "oQ1VfFaa3DET",
        "colab": {
          "base_uri": "https://localhost:8080/"
        },
        "outputId": "815fe3a4-43a1-4d14-8ce0-02aad1fe51f1"
      },
      "source": [
        "nltk.download('wordnet')\n",
        "\n",
        "from nltk.tokenize import WhitespaceTokenizer\n",
        "from nltk.stem import WordNetLemmatizer"
      ],
      "execution_count": 201,
      "outputs": [
        {
          "output_type": "stream",
          "name": "stdout",
          "text": [
            "[nltk_data] Downloading package wordnet to /root/nltk_data...\n",
            "[nltk_data]   Unzipping corpora/wordnet.zip.\n"
          ]
        }
      ]
    },
    {
      "cell_type": "code",
      "source": [
        "tokenizer = WhitespaceTokenizer()\n",
        "lemmatizer = WordNetLemmatizer()"
      ],
      "metadata": {
        "id": "KoATMFTsU8IV"
      },
      "execution_count": 202,
      "outputs": []
    },
    {
      "cell_type": "code",
      "source": [
        "from nltk import tokenize\n",
        "def lemmatize_text(text):\n",
        "  return ' '.join([lemmatizer.lemmatize(w) for w in tokenizer.tokenize(text)])"
      ],
      "metadata": {
        "id": "2KAflefHVEuH"
      },
      "execution_count": 209,
      "outputs": []
    },
    {
      "cell_type": "code",
      "source": [
        "df_final['lemm'] = df_final.keywords.apply(lemmatize_text)"
      ],
      "metadata": {
        "id": "CtkP2v4HV4Wb"
      },
      "execution_count": 210,
      "outputs": []
    },
    {
      "cell_type": "code",
      "source": [
        "df_final.head(10)"
      ],
      "metadata": {
        "colab": {
          "base_uri": "https://localhost:8080/",
          "height": 546
        },
        "id": "g3AGgqoBWCMc",
        "outputId": "d075787b-7e0e-443d-feb1-32f9a339be3e"
      },
      "execution_count": 211,
      "outputs": [
        {
          "output_type": "execute_result",
          "data": {
            "text/plain": [
              "       brand                                               body      price  \\\n",
              "14  Motorola                           DON'T BUY OUT OF SERVICE 49.9500000   \n",
              "17  Motorola  1 star because the phones locked so I have to ... 49.9500000   \n",
              "18  Motorola  The product has been very good. I had used thi... 49.9500000   \n",
              "21  Motorola  I bought this phone to replace an LG phone tha... 99.9900000   \n",
              "22  Motorola  I purchased this phone for my AT&T phone repla... 99.9900000   \n",
              "23  Motorola  The phone did not come with a charger and didn... 99.9900000   \n",
              "24  Motorola                 SERVED ME WELL AS A BACK UP PHONE. 99.9900000   \n",
              "25  Motorola  I got this phone just as secondary cell phone.... 99.9900000   \n",
              "26  Motorola  Sturdy - clarity is great - easy to use Only p... 99.9900000   \n",
              "27  Motorola                               Phone stoped working 99.9900000   \n",
              "\n",
              "    user_rating                                       review_title  sentiment  \\\n",
              "14            1                                       Stupid phone         -1   \n",
              "17            1                                      Phones locked         -1   \n",
              "18            5                                  Excellent product          1   \n",
              "21            4                                          Nice, but          1   \n",
              "22            1  It seems it doesn't work with the existing AT&...         -1   \n",
              "23            1                                  Supply are needed         -1   \n",
              "24            5                                         Five Stars          1   \n",
              "25            3                                       does the job          0   \n",
              "26            4                               Awesome with a But!!          1   \n",
              "27            1                                           One Star         -1   \n",
              "\n",
              "                                             keywords  \\\n",
              "14                                   dont buy service   \n",
              "17    1 star phones locked pay additional fees unlock   \n",
              "18  product good used cell phone one projects work...   \n",
              "21  bought phone replace lg phone didnt like expec...   \n",
              "22  purchased phone att phone replacement even tho...   \n",
              "23                 phone come charger didnt sims card   \n",
              "24                             served well back phone   \n",
              "25  got phone secondary cell phone really lightwei...   \n",
              "26  sturdy clarity great easy use problem speaker ...   \n",
              "27                               phone stoped working   \n",
              "\n",
              "                                                 lemm  \n",
              "14                                   dont buy service  \n",
              "17      1 star phone locked pay additional fee unlock  \n",
              "18  product good used cell phone one project worke...  \n",
              "21  bought phone replace lg phone didnt like expec...  \n",
              "22  purchased phone att phone replacement even tho...  \n",
              "23                 phone come charger didnt sims card  \n",
              "24                             served well back phone  \n",
              "25  got phone secondary cell phone really lightwei...  \n",
              "26  sturdy clarity great easy use problem speaker ...  \n",
              "27                               phone stoped working  "
            ],
            "text/html": [
              "\n",
              "  <div id=\"df-ec526a19-e978-4980-9d1f-f01d7157cc72\">\n",
              "    <div class=\"colab-df-container\">\n",
              "      <div>\n",
              "<style scoped>\n",
              "    .dataframe tbody tr th:only-of-type {\n",
              "        vertical-align: middle;\n",
              "    }\n",
              "\n",
              "    .dataframe tbody tr th {\n",
              "        vertical-align: top;\n",
              "    }\n",
              "\n",
              "    .dataframe thead th {\n",
              "        text-align: right;\n",
              "    }\n",
              "</style>\n",
              "<table border=\"1\" class=\"dataframe\">\n",
              "  <thead>\n",
              "    <tr style=\"text-align: right;\">\n",
              "      <th></th>\n",
              "      <th>brand</th>\n",
              "      <th>body</th>\n",
              "      <th>price</th>\n",
              "      <th>user_rating</th>\n",
              "      <th>review_title</th>\n",
              "      <th>sentiment</th>\n",
              "      <th>keywords</th>\n",
              "      <th>lemm</th>\n",
              "    </tr>\n",
              "  </thead>\n",
              "  <tbody>\n",
              "    <tr>\n",
              "      <th>14</th>\n",
              "      <td>Motorola</td>\n",
              "      <td>DON'T BUY OUT OF SERVICE</td>\n",
              "      <td>49.9500000</td>\n",
              "      <td>1</td>\n",
              "      <td>Stupid phone</td>\n",
              "      <td>-1</td>\n",
              "      <td>dont buy service</td>\n",
              "      <td>dont buy service</td>\n",
              "    </tr>\n",
              "    <tr>\n",
              "      <th>17</th>\n",
              "      <td>Motorola</td>\n",
              "      <td>1 star because the phones locked so I have to ...</td>\n",
              "      <td>49.9500000</td>\n",
              "      <td>1</td>\n",
              "      <td>Phones locked</td>\n",
              "      <td>-1</td>\n",
              "      <td>1 star phones locked pay additional fees unlock</td>\n",
              "      <td>1 star phone locked pay additional fee unlock</td>\n",
              "    </tr>\n",
              "    <tr>\n",
              "      <th>18</th>\n",
              "      <td>Motorola</td>\n",
              "      <td>The product has been very good. I had used thi...</td>\n",
              "      <td>49.9500000</td>\n",
              "      <td>5</td>\n",
              "      <td>Excellent product</td>\n",
              "      <td>1</td>\n",
              "      <td>product good used cell phone one projects work...</td>\n",
              "      <td>product good used cell phone one project worke...</td>\n",
              "    </tr>\n",
              "    <tr>\n",
              "      <th>21</th>\n",
              "      <td>Motorola</td>\n",
              "      <td>I bought this phone to replace an LG phone tha...</td>\n",
              "      <td>99.9900000</td>\n",
              "      <td>4</td>\n",
              "      <td>Nice, but</td>\n",
              "      <td>1</td>\n",
              "      <td>bought phone replace lg phone didnt like expec...</td>\n",
              "      <td>bought phone replace lg phone didnt like expec...</td>\n",
              "    </tr>\n",
              "    <tr>\n",
              "      <th>22</th>\n",
              "      <td>Motorola</td>\n",
              "      <td>I purchased this phone for my AT&amp;T phone repla...</td>\n",
              "      <td>99.9900000</td>\n",
              "      <td>1</td>\n",
              "      <td>It seems it doesn't work with the existing AT&amp;...</td>\n",
              "      <td>-1</td>\n",
              "      <td>purchased phone att phone replacement even tho...</td>\n",
              "      <td>purchased phone att phone replacement even tho...</td>\n",
              "    </tr>\n",
              "    <tr>\n",
              "      <th>23</th>\n",
              "      <td>Motorola</td>\n",
              "      <td>The phone did not come with a charger and didn...</td>\n",
              "      <td>99.9900000</td>\n",
              "      <td>1</td>\n",
              "      <td>Supply are needed</td>\n",
              "      <td>-1</td>\n",
              "      <td>phone come charger didnt sims card</td>\n",
              "      <td>phone come charger didnt sims card</td>\n",
              "    </tr>\n",
              "    <tr>\n",
              "      <th>24</th>\n",
              "      <td>Motorola</td>\n",
              "      <td>SERVED ME WELL AS A BACK UP PHONE.</td>\n",
              "      <td>99.9900000</td>\n",
              "      <td>5</td>\n",
              "      <td>Five Stars</td>\n",
              "      <td>1</td>\n",
              "      <td>served well back phone</td>\n",
              "      <td>served well back phone</td>\n",
              "    </tr>\n",
              "    <tr>\n",
              "      <th>25</th>\n",
              "      <td>Motorola</td>\n",
              "      <td>I got this phone just as secondary cell phone....</td>\n",
              "      <td>99.9900000</td>\n",
              "      <td>3</td>\n",
              "      <td>does the job</td>\n",
              "      <td>0</td>\n",
              "      <td>got phone secondary cell phone really lightwei...</td>\n",
              "      <td>got phone secondary cell phone really lightwei...</td>\n",
              "    </tr>\n",
              "    <tr>\n",
              "      <th>26</th>\n",
              "      <td>Motorola</td>\n",
              "      <td>Sturdy - clarity is great - easy to use Only p...</td>\n",
              "      <td>99.9900000</td>\n",
              "      <td>4</td>\n",
              "      <td>Awesome with a But!!</td>\n",
              "      <td>1</td>\n",
              "      <td>sturdy clarity great easy use problem speaker ...</td>\n",
              "      <td>sturdy clarity great easy use problem speaker ...</td>\n",
              "    </tr>\n",
              "    <tr>\n",
              "      <th>27</th>\n",
              "      <td>Motorola</td>\n",
              "      <td>Phone stoped working</td>\n",
              "      <td>99.9900000</td>\n",
              "      <td>1</td>\n",
              "      <td>One Star</td>\n",
              "      <td>-1</td>\n",
              "      <td>phone stoped working</td>\n",
              "      <td>phone stoped working</td>\n",
              "    </tr>\n",
              "  </tbody>\n",
              "</table>\n",
              "</div>\n",
              "      <button class=\"colab-df-convert\" onclick=\"convertToInteractive('df-ec526a19-e978-4980-9d1f-f01d7157cc72')\"\n",
              "              title=\"Convert this dataframe to an interactive table.\"\n",
              "              style=\"display:none;\">\n",
              "        \n",
              "  <svg xmlns=\"http://www.w3.org/2000/svg\" height=\"24px\"viewBox=\"0 0 24 24\"\n",
              "       width=\"24px\">\n",
              "    <path d=\"M0 0h24v24H0V0z\" fill=\"none\"/>\n",
              "    <path d=\"M18.56 5.44l.94 2.06.94-2.06 2.06-.94-2.06-.94-.94-2.06-.94 2.06-2.06.94zm-11 1L8.5 8.5l.94-2.06 2.06-.94-2.06-.94L8.5 2.5l-.94 2.06-2.06.94zm10 10l.94 2.06.94-2.06 2.06-.94-2.06-.94-.94-2.06-.94 2.06-2.06.94z\"/><path d=\"M17.41 7.96l-1.37-1.37c-.4-.4-.92-.59-1.43-.59-.52 0-1.04.2-1.43.59L10.3 9.45l-7.72 7.72c-.78.78-.78 2.05 0 2.83L4 21.41c.39.39.9.59 1.41.59.51 0 1.02-.2 1.41-.59l7.78-7.78 2.81-2.81c.8-.78.8-2.07 0-2.86zM5.41 20L4 18.59l7.72-7.72 1.47 1.35L5.41 20z\"/>\n",
              "  </svg>\n",
              "      </button>\n",
              "      \n",
              "  <style>\n",
              "    .colab-df-container {\n",
              "      display:flex;\n",
              "      flex-wrap:wrap;\n",
              "      gap: 12px;\n",
              "    }\n",
              "\n",
              "    .colab-df-convert {\n",
              "      background-color: #E8F0FE;\n",
              "      border: none;\n",
              "      border-radius: 50%;\n",
              "      cursor: pointer;\n",
              "      display: none;\n",
              "      fill: #1967D2;\n",
              "      height: 32px;\n",
              "      padding: 0 0 0 0;\n",
              "      width: 32px;\n",
              "    }\n",
              "\n",
              "    .colab-df-convert:hover {\n",
              "      background-color: #E2EBFA;\n",
              "      box-shadow: 0px 1px 2px rgba(60, 64, 67, 0.3), 0px 1px 3px 1px rgba(60, 64, 67, 0.15);\n",
              "      fill: #174EA6;\n",
              "    }\n",
              "\n",
              "    [theme=dark] .colab-df-convert {\n",
              "      background-color: #3B4455;\n",
              "      fill: #D2E3FC;\n",
              "    }\n",
              "\n",
              "    [theme=dark] .colab-df-convert:hover {\n",
              "      background-color: #434B5C;\n",
              "      box-shadow: 0px 1px 3px 1px rgba(0, 0, 0, 0.15);\n",
              "      filter: drop-shadow(0px 1px 2px rgba(0, 0, 0, 0.3));\n",
              "      fill: #FFFFFF;\n",
              "    }\n",
              "  </style>\n",
              "\n",
              "      <script>\n",
              "        const buttonEl =\n",
              "          document.querySelector('#df-ec526a19-e978-4980-9d1f-f01d7157cc72 button.colab-df-convert');\n",
              "        buttonEl.style.display =\n",
              "          google.colab.kernel.accessAllowed ? 'block' : 'none';\n",
              "\n",
              "        async function convertToInteractive(key) {\n",
              "          const element = document.querySelector('#df-ec526a19-e978-4980-9d1f-f01d7157cc72');\n",
              "          const dataTable =\n",
              "            await google.colab.kernel.invokeFunction('convertToInteractive',\n",
              "                                                     [key], {});\n",
              "          if (!dataTable) return;\n",
              "\n",
              "          const docLinkHtml = 'Like what you see? Visit the ' +\n",
              "            '<a target=\"_blank\" href=https://colab.research.google.com/notebooks/data_table.ipynb>data table notebook</a>'\n",
              "            + ' to learn more about interactive tables.';\n",
              "          element.innerHTML = '';\n",
              "          dataTable['output_type'] = 'display_data';\n",
              "          await google.colab.output.renderOutput(dataTable, element);\n",
              "          const docLink = document.createElement('div');\n",
              "          docLink.innerHTML = docLinkHtml;\n",
              "          element.appendChild(docLink);\n",
              "        }\n",
              "      </script>\n",
              "    </div>\n",
              "  </div>\n",
              "  "
            ]
          },
          "metadata": {},
          "execution_count": 211
        }
      ]
    },
    {
      "cell_type": "markdown",
      "metadata": {
        "id": "OzweL_fA3DiN"
      },
      "source": [
        "### 5.5 Write a function to check word frequency of the text"
      ]
    },
    {
      "cell_type": "code",
      "metadata": {
        "id": "MzIAyX3N6lz5"
      },
      "source": [
        "def word_count(str):\n",
        "  counts = dict()\n",
        "  words = str.split()\n",
        "  for word in words:\n",
        "    if word in counts:\n",
        "      counts[word] += 1\n",
        "    else:\n",
        "      counts[word] = 1\n",
        "  return counts"
      ],
      "execution_count": 216,
      "outputs": []
    },
    {
      "cell_type": "code",
      "metadata": {
        "id": "BLEEFEmv60mU"
      },
      "source": [
        "word_freq = df_final.lemm.apply(word_count)"
      ],
      "execution_count": 217,
      "outputs": []
    },
    {
      "cell_type": "code",
      "source": [
        "word_freq"
      ],
      "metadata": {
        "id": "07eQkiQbciOm"
      },
      "execution_count": null,
      "outputs": []
    },
    {
      "cell_type": "markdown",
      "metadata": {
        "id": "s0UgcEo_6l8O"
      },
      "source": [
        "### 5.6 Check word frequency of review having top ratings (sentiment = 1) and display output of few samples"
      ]
    },
    {
      "cell_type": "code",
      "source": [
        "df_final.sentiment.value_counts()"
      ],
      "metadata": {
        "colab": {
          "base_uri": "https://localhost:8080/"
        },
        "id": "bxdhZcZPdJOC",
        "outputId": "e297150a-61c5-49ed-8edf-832f4aeb6aec"
      },
      "execution_count": 219,
      "outputs": [
        {
          "output_type": "execute_result",
          "data": {
            "text/plain": [
              " 1    42939\n",
              "-1    14158\n",
              " 0     4128\n",
              "Name: sentiment, dtype: int64"
            ]
          },
          "metadata": {},
          "execution_count": 219
        }
      ]
    },
    {
      "cell_type": "code",
      "source": [
        "df_positive = df_final[df_final.sentiment == 1]\n",
        "word_freq_positive = df_positive.lemm.apply(word_count)\n",
        "word_freq_positive.sample(5)"
      ],
      "metadata": {
        "colab": {
          "base_uri": "https://localhost:8080/"
        },
        "id": "OHl-eOAydNJX",
        "outputId": "f9dcc1a6-fd4d-4fe0-e0da-dd71293a1c9a"
      },
      "execution_count": 224,
      "outputs": [
        {
          "output_type": "execute_result",
          "data": {
            "text/plain": [
              "62422    {'run': 1, 'pubg': 1, 'smoothly': 1, 'hd': 1, ...\n",
              "7711     {'phone': 2, 'soild': 1, 'functional': 1, 'aud...\n",
              "59097    {'overall': 1, 'great': 1, 'phone': 1, 'batter...\n",
              "64474    {'got': 1, 'phone': 7, 'around': 2, 'thanksgiv...\n",
              "60501    {'one': 1, 'best': 1, 'budget': 1, 'phone': 2,...\n",
              "Name: lemm, dtype: object"
            ]
          },
          "metadata": {},
          "execution_count": 224
        }
      ]
    },
    {
      "cell_type": "markdown",
      "metadata": {
        "id": "9UbdTGsv60t1"
      },
      "source": [
        "### 5.7 Initialize tf-idf vectorizer and transform the preprocessed body text"
      ]
    },
    {
      "cell_type": "code",
      "metadata": {
        "id": "_Jfo6go_69yh"
      },
      "source": [
        "from sklearn.feature_extraction.text import TfidfVectorizer\n",
        "\n",
        "tfidf_vectorizer = TfidfVectorizer()"
      ],
      "execution_count": 225,
      "outputs": []
    },
    {
      "cell_type": "markdown",
      "metadata": {
        "id": "5dqPXETLKN0h"
      },
      "source": [
        "### 5.8 Segregate the data into dependent (sentiment) and independent (transformed body using tf-idf) features for building a classifier. "
      ]
    },
    {
      "cell_type": "code",
      "source": [
        "df_tfidf = tfidf_vectorizer.fit_transform(df_final.lemm)"
      ],
      "metadata": {
        "id": "936jMFHeedxA"
      },
      "execution_count": 227,
      "outputs": []
    },
    {
      "cell_type": "code",
      "source": [
        "df_tfidf"
      ],
      "metadata": {
        "colab": {
          "base_uri": "https://localhost:8080/"
        },
        "id": "XnS6A21Heyxt",
        "outputId": "dfce2964-92a4-4f00-b911-577d053f1e56"
      },
      "execution_count": 228,
      "outputs": [
        {
          "output_type": "execute_result",
          "data": {
            "text/plain": [
              "<61225x36034 sparse matrix of type '<class 'numpy.float64'>'\n",
              "\twith 1171996 stored elements in Compressed Sparse Row format>"
            ]
          },
          "metadata": {},
          "execution_count": 228
        }
      ]
    },
    {
      "cell_type": "markdown",
      "metadata": {
        "id": "4K03FO0q7XBP"
      },
      "source": [
        "### 5.9 Split the data into Train & Test Sets"
      ]
    },
    {
      "cell_type": "code",
      "metadata": {
        "id": "mpOLAYn07W6F"
      },
      "source": [
        "y1 = df_final.sentiment\n",
        "y2 = df_final.user_rating"
      ],
      "execution_count": 229,
      "outputs": []
    },
    {
      "cell_type": "code",
      "source": [
        "from sklearn.model_selection import train_test_split\n",
        "\n",
        "X_train1, X_test1, y_train1, y_test1 = train_test_split(df_tfidf, y1, test_size=0.3, random_state=42, stratify=y1)\n",
        "X_train2, X_test2, y_train2, y_test2 = train_test_split(df_tfidf, y2, test_size=0.3, random_state=42, stratify=y2)"
      ],
      "metadata": {
        "id": "3KhiYy6wf-kz"
      },
      "execution_count": 231,
      "outputs": []
    },
    {
      "cell_type": "markdown",
      "metadata": {
        "id": "rhD1a-beKvE7"
      },
      "source": [
        "## 6. Model building"
      ]
    },
    {
      "cell_type": "markdown",
      "metadata": {
        "id": "UPFovmN03exD"
      },
      "source": [
        "### 6.1 Build a random forest classifier to predict the 'sentiment'\n",
        "### 6.2 Predict on test set\n",
        "### 6.3 Check accuracy and confusion matrix"
      ]
    },
    {
      "cell_type": "code",
      "metadata": {
        "id": "y0ytdD-_30P9"
      },
      "source": [
        "from sklearn.ensemble import RandomForestClassifier\n",
        "\n",
        "rfc1 = RandomForestClassifier(max_depth=40)"
      ],
      "execution_count": 235,
      "outputs": []
    },
    {
      "cell_type": "code",
      "source": [
        "rfc1.fit(X_train1, y_train1)\n",
        "print(rfc1.score(X_train1, y_train1))\n",
        "print(rfc1.score(X_test1, y_test1))"
      ],
      "metadata": {
        "colab": {
          "base_uri": "https://localhost:8080/"
        },
        "id": "ni_kXLiFg_fH",
        "outputId": "31286031-8742-4a35-cd40-d68703b495bb"
      },
      "execution_count": 236,
      "outputs": [
        {
          "output_type": "stream",
          "name": "stdout",
          "text": [
            "0.7985393284644282\n",
            "0.7532121080139372\n"
          ]
        }
      ]
    },
    {
      "cell_type": "code",
      "metadata": {
        "id": "NJ6Ke4hl30Zk"
      },
      "source": [
        "from xgboost import XGBClassifier\n",
        "\n",
        "xgb = XGBClassifier()"
      ],
      "execution_count": 237,
      "outputs": []
    },
    {
      "cell_type": "code",
      "source": [
        "xgb.fit(X_train2, y_train2)\n",
        "print(rfc1.score(X_train2, y_train2))\n",
        "print(rfc1.score(X_test2, y_test2))"
      ],
      "metadata": {
        "colab": {
          "base_uri": "https://localhost:8080/"
        },
        "id": "N9CCiId7isYG",
        "outputId": "a9cea305-fa07-41bd-d7ec-3b55b55d0eac"
      },
      "execution_count": 238,
      "outputs": [
        {
          "output_type": "stream",
          "name": "stdout",
          "text": [
            "0.11284037613458711\n",
            "0.11558144599303136\n"
          ]
        }
      ]
    },
    {
      "cell_type": "code",
      "source": [
        "from sklearn.metrics import confusion_matrix, classification_report"
      ],
      "metadata": {
        "id": "df-tK6Lli46U"
      },
      "execution_count": 239,
      "outputs": []
    },
    {
      "cell_type": "code",
      "source": [
        "y1_pred = rfc1.predict(X_test1)\n",
        "confusion_matrix(y_test1, y1_pred)"
      ],
      "metadata": {
        "colab": {
          "base_uri": "https://localhost:8080/"
        },
        "id": "Y4c2F4Ysi-ef",
        "outputId": "4254fbdb-427e-43e4-a897-f31267e583fa"
      },
      "execution_count": 242,
      "outputs": [
        {
          "output_type": "execute_result",
          "data": {
            "text/plain": [
              "array([[  992,     0,  3256],\n",
              "       [   58,     7,  1173],\n",
              "       [   46,     0, 12836]])"
            ]
          },
          "metadata": {},
          "execution_count": 242
        }
      ]
    },
    {
      "cell_type": "code",
      "source": [
        "print(classification_report(y_test1, y1_pred))"
      ],
      "metadata": {
        "colab": {
          "base_uri": "https://localhost:8080/"
        },
        "id": "eJUJRF63jiZa",
        "outputId": "fe659de7-9eec-40f0-dd17-bb142da07df0"
      },
      "execution_count": 244,
      "outputs": [
        {
          "output_type": "stream",
          "name": "stdout",
          "text": [
            "              precision    recall  f1-score   support\n",
            "\n",
            "          -1       0.91      0.23      0.37      4248\n",
            "           0       1.00      0.01      0.01      1238\n",
            "           1       0.74      1.00      0.85     12882\n",
            "\n",
            "    accuracy                           0.75     18368\n",
            "   macro avg       0.88      0.41      0.41     18368\n",
            "weighted avg       0.80      0.75      0.68     18368\n",
            "\n"
          ]
        }
      ]
    },
    {
      "cell_type": "code",
      "source": [
        "y2_pred = xgb.predict(X_test2)\n",
        "confusion_matrix(y_test2, y2_pred)"
      ],
      "metadata": {
        "colab": {
          "base_uri": "https://localhost:8080/"
        },
        "id": "dBq0Mv13jtqb",
        "outputId": "1a99e607-ae41-4c39-a2aa-5acb918394e5"
      },
      "execution_count": 245,
      "outputs": [
        {
          "output_type": "execute_result",
          "data": {
            "text/plain": [
              "array([[ 1366,     2,     3,    18,  1884],\n",
              "       [  276,     2,     2,    20,   674],\n",
              "       [  183,     1,     3,    43,  1008],\n",
              "       [   79,     0,     2,    47,  2254],\n",
              "       [  111,     0,     3,    25, 10362]])"
            ]
          },
          "metadata": {},
          "execution_count": 245
        }
      ]
    },
    {
      "cell_type": "code",
      "source": [
        "print(classification_report(y_test2, y2_pred))"
      ],
      "metadata": {
        "colab": {
          "base_uri": "https://localhost:8080/"
        },
        "id": "-lG1FQZHj7o3",
        "outputId": "e58d3937-87cd-44cb-d543-14dfa1502c8d"
      },
      "execution_count": 246,
      "outputs": [
        {
          "output_type": "stream",
          "name": "stdout",
          "text": [
            "              precision    recall  f1-score   support\n",
            "\n",
            "           1       0.68      0.42      0.52      3273\n",
            "           2       0.40      0.00      0.00       974\n",
            "           3       0.23      0.00      0.00      1238\n",
            "           4       0.31      0.02      0.04      2382\n",
            "           5       0.64      0.99      0.78     10501\n",
            "\n",
            "    accuracy                           0.64     18368\n",
            "   macro avg       0.45      0.29      0.27     18368\n",
            "weighted avg       0.56      0.64      0.54     18368\n",
            "\n"
          ]
        }
      ]
    },
    {
      "cell_type": "markdown",
      "metadata": {
        "id": "Ey7an7ukLxWB"
      },
      "source": [
        "## 7. Write your conclusion"
      ]
    },
    {
      "cell_type": "markdown",
      "source": [
        "The RFC model is having problem classifying 0 class in sentiment. Most of them are positive since the data is biased.\n",
        "The same can be seen in XGB model. Here 2, 3, 4 classes are having poor metrics."
      ],
      "metadata": {
        "id": "7saoLgF5kUiy"
      }
    },
    {
      "cell_type": "code",
      "metadata": {
        "id": "0csFkbEJmSIe"
      },
      "source": [
        ""
      ],
      "execution_count": 192,
      "outputs": []
    }
  ]
}