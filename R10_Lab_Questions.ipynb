{
  "cells": [
    {
      "cell_type": "markdown",
      "metadata": {
        "_cell_guid": "608e43e3-8699-4299-9d18-9e9a6a3dd9bf",
        "_uuid": "434ffd54c774edd4e8b851ab0a4b6675425e46da",
        "id": "mrUH4fJgyU1t"
      },
      "source": [
        "# Siamese Neural Networks\n",
        "Recognize images of icebergs from images of ships. \n",
        "These images were taken from space with a Sentinel-4 satellite. The goal was to create the most accurate neural network to differentiate them. However, neural networks usually only work well with A LOT of data, and I constrained you guys to 1000 examples to train on. That seems like a lot, but a CONVENTIONAL neural network needs more data. However, we are going to make a special kind of neural network: *Siamese Network*. This special network is used for face recognition and few-shot learning(learning from few examples). Let's get started by importing the usual liraries:"
      ]
    },
    {
      "cell_type": "code",
      "execution_count": 3,
      "metadata": {
        "_cell_guid": "b1076dfc-b9ad-4769-8c92-a6c4dae69d19",
        "_uuid": "8f2839f25d086af736a60e9eeb907d3b93b6e0e5",
        "id": "7kuk2-LIyU1v"
      },
      "outputs": [],
      "source": [
        "from keras.layers import Input, Conv2D, Lambda, merge, Dense, Flatten,MaxPooling2D,Activation, Dropout\n",
        "from keras.models import Model, Sequential\n",
        "from keras.regularizers import l2\n",
        "from keras import backend as K\n",
        "from tensorflow.keras.optimizers import Adam\n",
        "from skimage.io import imshow\n",
        "import matplotlib.pyplot as plt\n",
        "import numpy as np\n",
        "import pandas as pd\n",
        "import random"
      ]
    },
    {
      "cell_type": "markdown",
      "metadata": {
        "_cell_guid": "adbffb0a-1784-4595-b3f2-2ea930abc31f",
        "_uuid": "b9200b733a896e4b6f261122fe9134c00955cc91",
        "id": "ewz5RMg4yU1w"
      },
      "source": [
        "## Load the Data\n"
      ]
    },
    {
      "cell_type": "code",
      "source": [
        "from google.colab import drive\n",
        "drive.mount('/content/drive')"
      ],
      "metadata": {
        "colab": {
          "base_uri": "https://localhost:8080/"
        },
        "id": "Ipx4H2lUzAWV",
        "outputId": "bb2ebac1-c770-480c-901a-128af91a3bae"
      },
      "execution_count": 6,
      "outputs": [
        {
          "output_type": "stream",
          "name": "stdout",
          "text": [
            "Mounted at /content/drive\n"
          ]
        }
      ]
    },
    {
      "cell_type": "code",
      "execution_count": 7,
      "metadata": {
        "_cell_guid": "79c7e3d0-c299-4dcb-8224-4455121ee9b0",
        "_uuid": "d629ff2d2480ee46fbb7e2d37f6b5fab8052498a",
        "colab": {
          "base_uri": "https://localhost:8080/"
        },
        "id": "anQEhnifyU1w",
        "outputId": "fe15e436-a2f9-4a12-db64-859510dcbe50"
      },
      "outputs": [
        {
          "output_type": "stream",
          "name": "stdout",
          "text": [
            "We have 3113 examples to work with\n"
          ]
        }
      ],
      "source": [
        "npz = np.load('/content/drive/MyDrive/Great Learning/ACV/input_data.npz')\n",
        "X_train = npz['X_train']\n",
        "Y_train = npz['Y_train']\n",
        "del npz\n",
        "print ('We have {} examples to work with'.format(Y_train.shape[0]-1000))"
      ]
    },
    {
      "cell_type": "code",
      "source": [
        "X_train.shape"
      ],
      "metadata": {
        "colab": {
          "base_uri": "https://localhost:8080/"
        },
        "id": "VhYSv-CRzy7r",
        "outputId": "1da2610d-9f89-4aa6-ea04-a0788c98302d"
      },
      "execution_count": 8,
      "outputs": [
        {
          "output_type": "execute_result",
          "data": {
            "text/plain": [
              "(4113, 75, 75, 3)"
            ]
          },
          "metadata": {},
          "execution_count": 8
        }
      ]
    },
    {
      "cell_type": "code",
      "source": [
        "Y_train.shape"
      ],
      "metadata": {
        "colab": {
          "base_uri": "https://localhost:8080/"
        },
        "id": "3XJV8D5Mz_Eg",
        "outputId": "a6ba3d92-e8ea-487f-f0c4-024257064235"
      },
      "execution_count": 10,
      "outputs": [
        {
          "output_type": "execute_result",
          "data": {
            "text/plain": [
              "(4113,)"
            ]
          },
          "metadata": {},
          "execution_count": 10
        }
      ]
    },
    {
      "cell_type": "code",
      "source": [
        "Y_train[:10]"
      ],
      "metadata": {
        "colab": {
          "base_uri": "https://localhost:8080/"
        },
        "id": "i9-qz9aS0C8K",
        "outputId": "dacc66f9-ef03-47df-e1bb-25c9b2f9886b"
      },
      "execution_count": 11,
      "outputs": [
        {
          "output_type": "execute_result",
          "data": {
            "text/plain": [
              "array([0, 0, 1, 0, 0, 1, 1, 0, 0, 0])"
            ]
          },
          "metadata": {},
          "execution_count": 11
        }
      ]
    },
    {
      "cell_type": "markdown",
      "metadata": {
        "_cell_guid": "ed28bc84-1a8a-472f-98ae-9553fe6d1097",
        "_uuid": "b2e2306b8b16ae7f4f9b63249d1f2ff6e29559d3",
        "id": "0iystD6ByU1x"
      },
      "source": [
        "## Check the data\n",
        "\n",
        "Load some of the images to observe how your data look like."
      ]
    },
    {
      "cell_type": "code",
      "execution_count": 18,
      "metadata": {
        "colab": {
          "base_uri": "https://localhost:8080/",
          "height": 314
        },
        "id": "QbL5USiRyU1x",
        "outputId": "0e249ced-c176-47b2-9b1a-172362bee31e"
      },
      "outputs": [
        {
          "output_type": "display_data",
          "data": {
            "text/plain": [
              "<Figure size 432x288 with 2 Axes>"
            ],
            "image/png": "[encoded data removed]"
          },
          "metadata": {
            "needs_background": "light"
          }
        },
        {
          "output_type": "stream",
          "name": "stdout",
          "text": [
            "This is  Iceberg\n"
          ]
        }
      ],
      "source": [
        "ix = 2 \n",
        "imshow(np.squeeze(X_train[ix,:,:,2]))\n",
        "plt.show()\n",
        "labels = ['Ship', 'Iceberg']\n",
        "print('This is ', labels[Y_train[ix]])"
      ]
    },
    {
      "cell_type": "markdown",
      "metadata": {
        "id": "jkaZcTGYyU1x"
      },
      "source": [
        "# Creating the structure of Siamese Network"
      ]
    },
    {
      "cell_type": "raw",
      "metadata": {
        "id": "qNbATT1byU1y"
      },
      "source": [
        "You just need to break it into some steps:\n",
        "1. 2 Inputs for each images\n",
        "2. Creating a network which both images will go through individually\n",
        "3. Couple the network to each input\n",
        "4. Calculate the L1 distance between them. Just (x1,y1)-(x2,y2)\n",
        "5. 1 Added layer that will say 1 if they are the same and 0 if they are different"
      ]
    },
    {
      "cell_type": "markdown",
      "metadata": {
        "id": "KgiSZqxmyU1y"
      },
      "source": [
        "# Create two Inputs for each image - left_input and right_input\n",
        "Hint - use Input Function in Keras and keep the shape to be 75,75,3"
      ]
    },
    {
      "cell_type": "code",
      "execution_count": 27,
      "metadata": {
        "id": "r61WeSFcyU1y"
      },
      "outputs": [],
      "source": [
        "left_input = Input((75,75,3))\n",
        "right_input = Input((75,75,3))\n"
      ]
    },
    {
      "cell_type": "markdown",
      "metadata": {
        "id": "IsXvMg9UyU1y"
      },
      "source": [
        "# Create a base Network in which both images will go through individually.\n",
        "\n",
        "Hint - Use Sequential Model in Keras with convolution layers, Maxpooling Layers, Flatten Layer and Denser Layer with appropriate activation functions.\n",
        "Name the network as base_network"
      ]
    },
    {
      "cell_type": "code",
      "execution_count": 28,
      "metadata": {
        "id": "7atMIMTXyU1y"
      },
      "outputs": [],
      "source": [
        "base_network = Sequential([\n",
        "    Conv2D(5,3, input_shape=(75,75,3)),\n",
        "    Activation('relu'),\n",
        "    MaxPooling2D(),\n",
        "\n",
        "    Conv2D(5,3),\n",
        "    Activation('relu'),\n",
        "    MaxPooling2D(), \n",
        "\n",
        "    Conv2D(5,3),\n",
        "    Activation('relu'),\n",
        "    MaxPooling2D(),    \n",
        "\n",
        "    Conv2D(7,2),\n",
        "    Activation('relu'),\n",
        "    Flatten(), \n",
        "    Dense(18),\n",
        "    Activation('sigmoid')\n",
        "])\n"
      ]
    },
    {
      "cell_type": "code",
      "execution_count": null,
      "metadata": {
        "id": "37dWOfGeyU1z"
      },
      "outputs": [],
      "source": []
    },
    {
      "cell_type": "markdown",
      "metadata": {
        "id": "v82AFpLnyU1z"
      },
      "source": [
        "# Process the left and right inputs to the same Base Network(base_network)"
      ]
    },
    {
      "cell_type": "code",
      "execution_count": 29,
      "metadata": {
        "id": "eePRQwzEyU1z"
      },
      "outputs": [],
      "source": [
        "processed_a = base_network(left_input)"
      ]
    },
    {
      "cell_type": "code",
      "execution_count": 30,
      "metadata": {
        "id": "Lm2sj4PSyU1z"
      },
      "outputs": [],
      "source": [
        "processed_b = base_network(right_input)"
      ]
    },
    {
      "cell_type": "markdown",
      "metadata": {
        "id": "jqtoTWBzyU1z"
      },
      "source": [
        "# Get the L1 Distance layer between the 2 processed encodings (processed_a and processed_b)\n",
        "Hint - You can use Lambda function for this."
      ]
    },
    {
      "cell_type": "code",
      "execution_count": 31,
      "metadata": {
        "id": "qMNnUi_3yU1z"
      },
      "outputs": [],
      "source": [
        "L1_layer = Lambda(lambda tensor: K.abs(tensor[0] - tensor[1]))\n",
        "L1_distance = L1_layer([processed_a, processed_b])"
      ]
    },
    {
      "cell_type": "code",
      "execution_count": null,
      "metadata": {
        "id": "fJrsZ4RzyU1z"
      },
      "outputs": [],
      "source": []
    },
    {
      "cell_type": "markdown",
      "metadata": {
        "id": "IVhacG4fyU1z"
      },
      "source": [
        "# Add the prediction layer in the end and create the Siamese Network using Model function."
      ]
    },
    {
      "cell_type": "code",
      "execution_count": 32,
      "metadata": {
        "id": "TDnEqmZdyU10"
      },
      "outputs": [],
      "source": [
        "prediction = Dense(1, activation='sigmoid')(L1_distance)\n",
        "siamese_net = Model(inputs=[left_input, right_input], outputs=prediction)"
      ]
    },
    {
      "cell_type": "markdown",
      "metadata": {
        "id": "GiDAx8v6yU10"
      },
      "source": [
        "# Define the Optimizer Adam and Compile the Siamese Model."
      ]
    },
    {
      "cell_type": "code",
      "execution_count": 33,
      "metadata": {
        "id": "I6c3zxgIyU10"
      },
      "outputs": [],
      "source": [
        "optimizer = Adam(0.001)\n",
        "siamese_net.compile(loss='binary_crossentropy', optimizer=optimizer, metrics=['accuracy'])"
      ]
    },
    {
      "cell_type": "markdown",
      "metadata": {
        "_cell_guid": "dbba8e74-6b9c-4c84-96ed-55137265280b",
        "_uuid": "28e3843cae1a192bb14eb04cc1fe1705ef69f405",
        "id": "dQVGho8NyU10"
      },
      "source": [
        "# Show the Summary of your Siamese Network"
      ]
    },
    {
      "cell_type": "code",
      "execution_count": 34,
      "metadata": {
        "colab": {
          "base_uri": "https://localhost:8080/"
        },
        "id": "u5OJI1dzyU10",
        "outputId": "5fc05e2d-c6bb-4fdd-a2f8-f884977ab603"
      },
      "outputs": [
        {
          "output_type": "stream",
          "name": "stdout",
          "text": [
            "Model: \"model\"\n",
            "__________________________________________________________________________________________________\n",
            " Layer (type)                   Output Shape         Param #     Connected to                     \n",
            "==================================================================================================\n",
            " input_5 (InputLayer)           [(None, 75, 75, 3)]  0           []                               \n",
            "                                                                                                  \n",
            " input_6 (InputLayer)           [(None, 75, 75, 3)]  0           []                               \n",
            "                                                                                                  \n",
            " sequential_3 (Sequential)      (None, 18)           5301        ['input_5[0][0]',                \n",
            "                                                                  'input_6[0][0]']                \n",
            "                                                                                                  \n",
            " lambda (Lambda)                (None, 18)           0           ['sequential_3[0][0]',           \n",
            "                                                                  'sequential_3[1][0]']           \n",
            "                                                                                                  \n",
            " dense_4 (Dense)                (None, 1)            19          ['lambda[0][0]']                 \n",
            "                                                                                                  \n",
            "==================================================================================================\n",
            "Total params: 5,320\n",
            "Trainable params: 5,320\n",
            "Non-trainable params: 0\n",
            "__________________________________________________________________________________________________\n"
          ]
        }
      ],
      "source": [
        "siamese_net.summary()"
      ]
    },
    {
      "cell_type": "markdown",
      "metadata": {
        "id": "osaDHYlWyU10"
      },
      "source": [
        "# Creating the Pair of Images to train on"
      ]
    },
    {
      "cell_type": "markdown",
      "metadata": {
        "_cell_guid": "7080234f-01f4-4df1-88a7-459746335c50",
        "_uuid": "4553890c8130dc76076252a09290497a4afc27e6",
        "id": "NDS5EKQayU10"
      },
      "source": [
        "It's not time to train though. We still have to create pairs of images to train on. There will be Positive(the same class) or Negative(different classes) for outputs. Let's construct this dataset. It is recommended that there are equal amounts positive and negative."
      ]
    },
    {
      "cell_type": "code",
      "execution_count": 35,
      "metadata": {
        "_cell_guid": "32cb30db-144d-4f93-af05-6cb9a697c084",
        "_uuid": "09a3e9d488acd34e99912c5f01474029e77637f5",
        "id": "XsEOwJchyU10"
      },
      "outputs": [],
      "source": [
        "# First let's separate the dataset from 1 matrix to a list of matricies\n",
        "image_list = np.split(X_train[:1000],1000)\n",
        "label_list = np.split(Y_train[:1000],1000)\n",
        "\n",
        "left_input = []\n",
        "right_input = []\n",
        "targets = []\n",
        "\n",
        "#Number of pairs per image\n",
        "pairs = 5\n",
        "#Let's create the new dataset to train on\n",
        "for i in range(len(label_list)):\n",
        "    for _ in range(pairs):\n",
        "        compare_to = i\n",
        "        while compare_to == i: #Make sure it's not comparing to itself\n",
        "            compare_to = random.randint(0,999)\n",
        "        left_input.append(image_list[i])\n",
        "        right_input.append(image_list[compare_to])\n",
        "        if label_list[i] == label_list[compare_to]:# They are the same\n",
        "            targets.append(1.)\n",
        "        else:# Not the same\n",
        "            targets.append(0.)\n",
        "            \n",
        "left_input = np.squeeze(np.array(left_input))\n",
        "right_input = np.squeeze(np.array(right_input))\n",
        "targets = np.squeeze(np.array(targets))\n",
        "\n",
        "iceimage = X_train[101]\n",
        "test_left = []\n",
        "test_right = []\n",
        "test_targets = []\n",
        "\n",
        "for i in range(Y_train.shape[0]-1000):\n",
        "    test_left.append(iceimage)\n",
        "    test_right.append(X_train[i+1000])\n",
        "    test_targets.append(Y_train[i+1000])\n",
        "\n",
        "test_left = np.squeeze(np.array(test_left))\n",
        "test_right = np.squeeze(np.array(test_right))\n",
        "test_targets = np.squeeze(np.array(test_targets))"
      ]
    },
    {
      "cell_type": "markdown",
      "metadata": {
        "id": "O6_Ur7G3yU11"
      },
      "source": [
        "Now we have a lot more examples.\n",
        "Now we have pairs x 1000 examples to train the network on. \n",
        "Each side will have an input of an image and the output will be one if they are the same and zero if not."
      ]
    },
    {
      "cell_type": "markdown",
      "metadata": {
        "id": "YqXiujR6yU11"
      },
      "source": [
        "# Train the Siamese train on left and right input image pairs created and validate it by test pairs."
      ]
    },
    {
      "cell_type": "code",
      "execution_count": 37,
      "metadata": {
        "colab": {
          "base_uri": "https://localhost:8080/"
        },
        "id": "hnS0aJd4yU11",
        "outputId": "1e74a0a9-9750-4eeb-8e83-8ae92520aea9"
      },
      "outputs": [
        {
          "output_type": "stream",
          "name": "stdout",
          "text": [
            "Epoch 1/12\n",
            "313/313 [==============================] - 23s 68ms/step - loss: 0.6878 - accuracy: 0.5210 - val_loss: 0.6478 - val_accuracy: 0.6344\n",
            "Epoch 2/12\n",
            "313/313 [==============================] - 21s 66ms/step - loss: 0.5746 - accuracy: 0.7064 - val_loss: 0.5441 - val_accuracy: 0.7562\n",
            "Epoch 3/12\n",
            "313/313 [==============================] - 20s 65ms/step - loss: 0.4705 - accuracy: 0.7866 - val_loss: 0.5245 - val_accuracy: 0.7796\n",
            "Epoch 4/12\n",
            "313/313 [==============================] - 21s 66ms/step - loss: 0.4173 - accuracy: 0.8184 - val_loss: 0.5099 - val_accuracy: 0.7845\n",
            "Epoch 5/12\n",
            "313/313 [==============================] - 21s 67ms/step - loss: 0.3831 - accuracy: 0.8448 - val_loss: 0.5217 - val_accuracy: 0.7764\n",
            "Epoch 6/12\n",
            "313/313 [==============================] - 20s 65ms/step - loss: 0.3456 - accuracy: 0.8664 - val_loss: 0.5350 - val_accuracy: 0.7729\n",
            "Epoch 7/12\n",
            "313/313 [==============================] - 20s 65ms/step - loss: 0.3231 - accuracy: 0.8748 - val_loss: 0.6166 - val_accuracy: 0.7465\n",
            "Epoch 8/12\n",
            "313/313 [==============================] - 20s 65ms/step - loss: 0.2913 - accuracy: 0.8938 - val_loss: 0.5884 - val_accuracy: 0.7565\n",
            "Epoch 9/12\n",
            "313/313 [==============================] - 21s 69ms/step - loss: 0.2644 - accuracy: 0.9080 - val_loss: 0.7409 - val_accuracy: 0.7295\n",
            "Epoch 10/12\n",
            "313/313 [==============================] - 21s 66ms/step - loss: 0.2536 - accuracy: 0.9112 - val_loss: 0.7154 - val_accuracy: 0.7427\n",
            "Epoch 11/12\n",
            "313/313 [==============================] - 21s 66ms/step - loss: 0.2252 - accuracy: 0.9232 - val_loss: 0.6328 - val_accuracy: 0.7745\n",
            "Epoch 12/12\n",
            "313/313 [==============================] - 21s 66ms/step - loss: 0.2065 - accuracy: 0.9318 - val_loss: 0.7324 - val_accuracy: 0.7581\n"
          ]
        },
        {
          "output_type": "execute_result",
          "data": {
            "text/plain": [
              "<keras.callbacks.History at 0x7f1f2e993b10>"
            ]
          },
          "metadata": {},
          "execution_count": 37
        }
      ],
      "source": [
        "siamese_net.fit([left_input, right_input], targets, batch_size=16, epochs=12, verbose=1, validation_data=([test_left, test_right], test_targets))"
      ]
    },
    {
      "cell_type": "code",
      "execution_count": 48,
      "metadata": {
        "id": "teJ_gZd4yU11"
      },
      "outputs": [],
      "source": [
        "predictions = siamese_net.predict([test_left, test_right])"
      ]
    },
    {
      "cell_type": "code",
      "source": [
        "def predict(ix):\n",
        "  imshow(np.squeeze(test_right[ix,:,:,2]))\n",
        "  plt.show()\n",
        "  labels=['Ship','Iceberg']\n",
        "  print('Actual    : ', labels[int(test_targets[ix])])\n",
        "  print('Predicted : ',labels[round(float(predictions[ix]))])\n"
      ],
      "metadata": {
        "id": "hHRWFaimLKSe"
      },
      "execution_count": 49,
      "outputs": []
    },
    {
      "cell_type": "code",
      "execution_count": 51,
      "metadata": {
        "_uuid": "e572afcaaf7dc8632d813031ebd828d9eec0f9aa",
        "colab": {
          "base_uri": "https://localhost:8080/",
          "height": 332
        },
        "id": "CS85ZHyTyU11",
        "outputId": "b947da8d-8752-4069-e750-01f49dc116b2"
      },
      "outputs": [
        {
          "output_type": "display_data",
          "data": {
            "text/plain": [
              "<Figure size 432x288 with 2 Axes>"
            ],
            "image/png": "[encoded data removed]"
          },
          "metadata": {
            "needs_background": "light"
          }
        },
        {
          "output_type": "stream",
          "name": "stdout",
          "text": [
            "Actual    :  Ship\n",
            "Predicted :  Ship\n"
          ]
        }
      ],
      "source": [
        "predict(200)"
      ]
    },
    {
      "cell_type": "code",
      "execution_count": null,
      "metadata": {
        "id": "H5z8ZW9WyU11"
      },
      "outputs": [],
      "source": []
    },
    {
      "cell_type": "code",
      "execution_count": null,
      "metadata": {
        "id": "_QjFPNRyyU11"
      },
      "outputs": [],
      "source": []
    }
  ],
  "metadata": {
    "kernelspec": {
      "display_name": "Python 3",
      "language": "python",
      "name": "python3"
    },
    "language_info": {
      "codemirror_mode": {
        "name": "ipython",
        "version": 3
      },
      "file_extension": ".py",
      "mimetype": "text/x-python",
      "name": "python",
      "nbconvert_exporter": "python",
      "pygments_lexer": "ipython3",
      "version": "3.6.8"
    },
    "colab": {
      "name": "R10 Lab-Questions.ipynb",
      "provenance": []
    }
  },
  "nbformat": 4,
  "nbformat_minor": 0
}