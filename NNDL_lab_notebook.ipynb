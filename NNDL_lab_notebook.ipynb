{
  "nbformat": 4,
  "nbformat_minor": 0,
  "metadata": {
    "colab": {
      "name": "NNDL lab -notebook.ipynb",
      "provenance": [],
      "collapsed_sections": [],
      "toc_visible": true
    },
    "kernelspec": {
      "display_name": "Python 3",
      "language": "python",
      "name": "python3"
    },
    "language_info": {
      "codemirror_mode": {
        "name": "ipython",
        "version": 3
      },
      "file_extension": ".py",
      "mimetype": "text/x-python",
      "name": "python",
      "nbconvert_exporter": "python",
      "pygments_lexer": "ipython3",
      "version": "3.7.2"
    },
    "accelerator": "GPU"
  },
  "cells": [
    {
      "cell_type": "markdown",
      "metadata": {
        "id": "3ukwOXvX_EV1"
      },
      "source": [
        "<img src=\"http://drive.google.com/uc?export=view&id=1tpOCamr9aWz817atPnyXus8w5gJ3mIts\" width=500px>"
      ]
    },
    {
      "cell_type": "markdown",
      "metadata": {
        "id": "j9QC42UQq5Lk"
      },
      "source": [
        "## Lab on NNDL Part 1: Tensorflow Basic"
      ]
    },
    {
      "cell_type": "code",
      "source": [
        "from google.colab import drive\n",
        "drive.mount('/content/drive')"
      ],
      "metadata": {
        "colab": {
          "base_uri": "https://localhost:8080/"
        },
        "id": "gjFEAJSQOJgD",
        "outputId": "a413320b-2482-4501-a217-5bacd93410a4"
      },
      "execution_count": 1,
      "outputs": [
        {
          "output_type": "stream",
          "name": "stdout",
          "text": [
            "Drive already mounted at /content/drive; to attempt to forcibly remount, call drive.mount(\"/content/drive\", force_remount=True).\n"
          ]
        }
      ]
    },
    {
      "cell_type": "markdown",
      "metadata": {
        "id": "g_vbQDYan7_7"
      },
      "source": [
        "### Tensors\n",
        "\n",
        "Tensors are multi-dimensional arrays with a uniform type"
      ]
    },
    {
      "cell_type": "markdown",
      "metadata": {
        "id": "tCkxkFqIoUIR"
      },
      "source": [
        "##Question 1\n"
      ]
    },
    {
      "cell_type": "markdown",
      "metadata": {
        "id": "7V8C8aa0rGgN"
      },
      "source": [
        "### Create a rank-0 tensor\n",
        "- A \"scalar\" is called \"rank-0\" tensor\n",
        "- the tensor should contain value 99.99"
      ]
    },
    {
      "cell_type": "code",
      "metadata": {
        "id": "CmKTQCizra4b"
      },
      "source": [
        "import tensorflow as tf"
      ],
      "execution_count": 2,
      "outputs": []
    },
    {
      "cell_type": "code",
      "metadata": {
        "id": "B6H2X7SinZbZ"
      },
      "source": [
        "tensor_0 = tf.constant(99.99)"
      ],
      "execution_count": 3,
      "outputs": []
    },
    {
      "cell_type": "code",
      "source": [
        "print(tensor_0)"
      ],
      "metadata": {
        "colab": {
          "base_uri": "https://localhost:8080/"
        },
        "id": "RkYsCPJNQwt8",
        "outputId": "23905c31-2833-48d5-eecb-66522bf37f23"
      },
      "execution_count": 4,
      "outputs": [
        {
          "output_type": "stream",
          "name": "stdout",
          "text": [
            "tf.Tensor(99.99, shape=(), dtype=float32)\n"
          ]
        }
      ]
    },
    {
      "cell_type": "code",
      "source": [
        "print(type(tensor_0))"
      ],
      "metadata": {
        "colab": {
          "base_uri": "https://localhost:8080/"
        },
        "id": "7AHUshJbQzNu",
        "outputId": "c472d1bb-7cf8-4d86-e590-1977fa054017"
      },
      "execution_count": 5,
      "outputs": [
        {
          "output_type": "stream",
          "name": "stdout",
          "text": [
            "<class 'tensorflow.python.framework.ops.EagerTensor'>\n"
          ]
        }
      ]
    },
    {
      "cell_type": "markdown",
      "metadata": {
        "id": "xRm8MfpVrkyz"
      },
      "source": [
        "### Create a rank-1 tensor\n",
        "\n",
        "- A \"vector\" (list) is called \"rank-1\" tensor [9,8,7,6,5]\n",
        "- A vector has one axis"
      ]
    },
    {
      "cell_type": "code",
      "metadata": {
        "id": "_TvWoaBOnZXX"
      },
      "source": [
        "rank_1 = tf.constant([9,8,7,6,5])"
      ],
      "execution_count": 6,
      "outputs": []
    },
    {
      "cell_type": "markdown",
      "metadata": {
        "id": "KtiVmuAAsJjP"
      },
      "source": [
        "### Add 7 to all the elements of the above created tensor\n",
        "- Use Broadcasting"
      ]
    },
    {
      "cell_type": "code",
      "metadata": {
        "id": "lENBbpfIsskl",
        "colab": {
          "base_uri": "https://localhost:8080/"
        },
        "outputId": "fc75094d-b35e-4113-9001-4d499dc2554b"
      },
      "source": [
        "plus_7 = rank_1 + 7\n",
        "plus_7"
      ],
      "execution_count": 7,
      "outputs": [
        {
          "output_type": "execute_result",
          "data": {
            "text/plain": [
              "<tf.Tensor: shape=(5,), dtype=int32, numpy=array([16, 15, 14, 13, 12], dtype=int32)>"
            ]
          },
          "metadata": {},
          "execution_count": 7
        }
      ]
    },
    {
      "cell_type": "markdown",
      "metadata": {
        "id": "U9QVsYQwtR9u"
      },
      "source": [
        "### Create a rank-2 tensor\n",
        "[[1, 2, 3], [ 4,5,6]]\n",
        "- A \"matrix\"  \"is called rank-2\" tensor\n",
        "- It has 2 axes"
      ]
    },
    {
      "cell_type": "code",
      "metadata": {
        "id": "IZx8BooXnZUr",
        "colab": {
          "base_uri": "https://localhost:8080/"
        },
        "outputId": "b12bc3d4-b616-4847-8f5d-47f997e821c3"
      },
      "source": [
        "tensor_2 = tf.constant([[1, 2, 3], [ 4,5,6]])\n",
        "print(tensor_2)"
      ],
      "execution_count": 8,
      "outputs": [
        {
          "output_type": "stream",
          "name": "stdout",
          "text": [
            "tf.Tensor(\n",
            "[[1 2 3]\n",
            " [4 5 6]], shape=(2, 3), dtype=int32)\n"
          ]
        }
      ]
    },
    {
      "cell_type": "markdown",
      "metadata": {
        "id": "mrnIxOUmvX_M"
      },
      "source": [
        "### Change the shape of the above created tensor to shape (3,2)"
      ]
    },
    {
      "cell_type": "code",
      "metadata": {
        "id": "YdSy6RQLvXbi",
        "colab": {
          "base_uri": "https://localhost:8080/"
        },
        "outputId": "31bbbf3e-de5a-475e-bf6d-c9ba21ed82e4"
      },
      "source": [
        "tf.reshape(tensor_2, [3,2])"
      ],
      "execution_count": 9,
      "outputs": [
        {
          "output_type": "execute_result",
          "data": {
            "text/plain": [
              "<tf.Tensor: shape=(3, 2), dtype=int32, numpy=\n",
              "array([[1, 2],\n",
              "       [3, 4],\n",
              "       [5, 6]], dtype=int32)>"
            ]
          },
          "metadata": {},
          "execution_count": 9
        }
      ]
    },
    {
      "cell_type": "markdown",
      "metadata": {
        "id": "1ZXjABdNuWAT"
      },
      "source": [
        "### Check the dtype, number of axes and the shape of tensor"
      ]
    },
    {
      "cell_type": "code",
      "metadata": {
        "id": "vXj5xnbEuUwz",
        "colab": {
          "base_uri": "https://localhost:8080/"
        },
        "outputId": "facc0499-8714-435c-a293-fee1635c6b09"
      },
      "source": [
        "tensor_2.dtype"
      ],
      "execution_count": 10,
      "outputs": [
        {
          "output_type": "execute_result",
          "data": {
            "text/plain": [
              "tf.int32"
            ]
          },
          "metadata": {},
          "execution_count": 10
        }
      ]
    },
    {
      "cell_type": "code",
      "source": [
        "tensor_2.ndim"
      ],
      "metadata": {
        "colab": {
          "base_uri": "https://localhost:8080/"
        },
        "id": "K7Z75MFWT7wH",
        "outputId": "eed6c199-16d7-43ab-94e4-136c7a6d75bd"
      },
      "execution_count": 11,
      "outputs": [
        {
          "output_type": "execute_result",
          "data": {
            "text/plain": [
              "2"
            ]
          },
          "metadata": {},
          "execution_count": 11
        }
      ]
    },
    {
      "cell_type": "code",
      "source": [
        "tensor_2.shape"
      ],
      "metadata": {
        "colab": {
          "base_uri": "https://localhost:8080/"
        },
        "id": "_9c5RbMlT_PX",
        "outputId": "9d59eb0f-883d-4ff3-98a3-75d0ee0a80fc"
      },
      "execution_count": 12,
      "outputs": [
        {
          "output_type": "execute_result",
          "data": {
            "text/plain": [
              "TensorShape([2, 3])"
            ]
          },
          "metadata": {},
          "execution_count": 12
        }
      ]
    },
    {
      "cell_type": "markdown",
      "metadata": {
        "id": "yGsgzedZvB54"
      },
      "source": [
        "- Tensors can have more axes, like rank-3 or rank-4 tensor"
      ]
    },
    {
      "cell_type": "markdown",
      "metadata": {
        "id": "qYvGihNn_D2K"
      },
      "source": [
        "##Lab on NNDL Part 2: Cars selling price prediction"
      ]
    },
    {
      "cell_type": "markdown",
      "metadata": {
        "id": "S7nm5pOt_DkP"
      },
      "source": [
        "### Data Set -\n",
        "Domain: Finance, Business \n",
        "Data: https://www.kaggle.com/nehalbirla/vehicle-dataset-from-cardekho?select=Car+details+v3.csv\n",
        "\n",
        "The data contains various features of used cars.\n",
        "\n",
        "#### Features\n",
        "\n",
        "1. year\n",
        "\n",
        "2. selling_price: Price at which it was sold (**Target Feature**)\n",
        "\n",
        "3. km_driven\n",
        "\n",
        "4. fuel\n",
        "\n",
        "5. seller_type\n",
        "\n",
        "6. transmission\n",
        "\n",
        "7. Owner\n",
        "\n",
        "8. mileage\n",
        "\n",
        "9. engine\n",
        "\n",
        "10. max_power\n",
        "\n",
        "11. seats\n",
        "\n",
        " - - - - - - - - - - - - - - - - - - - - - - - - - - - - - - - - - - - - - - - - - - - - - - - "
      ]
    },
    {
      "cell_type": "markdown",
      "metadata": {
        "id": "YeoiMbH7djEv"
      },
      "source": [
        "##Objective\n",
        "\n",
        "Predict the selling price of used cars based on the given features"
      ]
    },
    {
      "cell_type": "markdown",
      "metadata": {
        "id": "sZXp-T3-xRNN"
      },
      "source": [
        "## Steps to perform:\n",
        "\n",
        "#### 1. Import important Libraries\n",
        "#### 2. Import Dataset and exploration\n",
        "#### 3. Data Pre-processing\n",
        "#### 4. Training a Neural Network Model\n",
        "#### 5. Evaluating the model\n",
        "#### 6. Conclusion\n",
        "\n",
        "\n",
        "- - - - - - - - - - - - - - - - - - - - - - - - - - - - - - - - - - - - - - - - - - - - - - - - - - -\n",
        "\n",
        "\n",
        "- - - - - - - - - - - - - - - - - - - - - - - - - - - - - - - - - - - - - - - - - - - - - - - - - - -\n"
      ]
    },
    {
      "cell_type": "markdown",
      "metadata": {
        "id": "pvJ1pMTuzUkv"
      },
      "source": [
        "### Import important libraries"
      ]
    },
    {
      "cell_type": "code",
      "metadata": {
        "id": "PGqq9f8VdLba"
      },
      "source": [
        "# Initialize the random number generator\n",
        "import random\n",
        "random.seed(0)\n",
        "\n",
        "# Ignore the warnings\n",
        "import warnings\n",
        "warnings.filterwarnings(\"ignore\")\n",
        "\n",
        "import numpy as np\n",
        "import pandas as pd\n",
        "import matplotlib.pyplot as plt\n",
        "import seaborn as sns\n",
        "\n",
        "from sklearn.model_selection import train_test_split\n",
        "from sklearn.preprocessing import StandardScaler, OneHotEncoder\n",
        "from sklearn.metrics import confusion_matrix, r2_score\n",
        "\n",
        "# import libraries from tensorflow\n",
        "import tensorflow as tf\n",
        "from keras import backend as K\n",
        "from tensorflow.keras.models import Sequential\n",
        "from tensorflow.keras.layers import Flatten, Dense, Dropout, Input, BatchNormalization, LeakyReLU, ReLU\n",
        "from keras.utils.vis_utils import plot_model\n",
        "from tensorflow.keras.optimizers import Adam, SGD\n",
        "from tensorflow.keras.callbacks import ModelCheckpoint\n",
        "from tensorflow.keras.initializers import HeUniform\n"
      ],
      "execution_count": 13,
      "outputs": []
    },
    {
      "cell_type": "markdown",
      "metadata": {
        "id": "_88voqAH-O6J"
      },
      "source": [
        "## Question 1"
      ]
    },
    {
      "cell_type": "markdown",
      "metadata": {
        "id": "dRHCeJqP-evf"
      },
      "source": [
        "### Load the data\n",
        "- Load the data, check the shape of data"
      ]
    },
    {
      "cell_type": "code",
      "metadata": {
        "id": "Gr4YcffYd1FQ"
      },
      "source": [
        "df = pd.read_csv('/content/drive/MyDrive/greatlearning/NNDL lab/car_data-1.csv')"
      ],
      "execution_count": 14,
      "outputs": []
    },
    {
      "cell_type": "code",
      "metadata": {
        "id": "-gDC6cSW_FSK",
        "colab": {
          "base_uri": "https://localhost:8080/",
          "height": 206
        },
        "outputId": "a83286f3-ded6-47d7-acab-b51e530bcfcb"
      },
      "source": [
        "df.head()"
      ],
      "execution_count": 15,
      "outputs": [
        {
          "output_type": "execute_result",
          "data": {
            "text/html": [
              "\n",
              "  <div id=\"df-9509b8cc-6097-4a8f-8b1f-50f12150bf40\">\n",
              "    <div class=\"colab-df-container\">\n",
              "      <div>\n",
              "<style scoped>\n",
              "    .dataframe tbody tr th:only-of-type {\n",
              "        vertical-align: middle;\n",
              "    }\n",
              "\n",
              "    .dataframe tbody tr th {\n",
              "        vertical-align: top;\n",
              "    }\n",
              "\n",
              "    .dataframe thead th {\n",
              "        text-align: right;\n",
              "    }\n",
              "</style>\n",
              "<table border=\"1\" class=\"dataframe\">\n",
              "  <thead>\n",
              "    <tr style=\"text-align: right;\">\n",
              "      <th></th>\n",
              "      <th>year</th>\n",
              "      <th>selling_price</th>\n",
              "      <th>km_driven</th>\n",
              "      <th>fuel</th>\n",
              "      <th>seller_type</th>\n",
              "      <th>transmission</th>\n",
              "      <th>owner</th>\n",
              "      <th>mileage</th>\n",
              "      <th>engine</th>\n",
              "      <th>max_power</th>\n",
              "      <th>seats</th>\n",
              "    </tr>\n",
              "  </thead>\n",
              "  <tbody>\n",
              "    <tr>\n",
              "      <th>0</th>\n",
              "      <td>2014</td>\n",
              "      <td>450000</td>\n",
              "      <td>145500</td>\n",
              "      <td>Diesel</td>\n",
              "      <td>Individual</td>\n",
              "      <td>Manual</td>\n",
              "      <td>First Owner</td>\n",
              "      <td>23.4 kmpl</td>\n",
              "      <td>1248 CC</td>\n",
              "      <td>74 bhp</td>\n",
              "      <td>5.0</td>\n",
              "    </tr>\n",
              "    <tr>\n",
              "      <th>1</th>\n",
              "      <td>2014</td>\n",
              "      <td>370000</td>\n",
              "      <td>120000</td>\n",
              "      <td>Diesel</td>\n",
              "      <td>Individual</td>\n",
              "      <td>Manual</td>\n",
              "      <td>Second Owner</td>\n",
              "      <td>21.14 kmpl</td>\n",
              "      <td>1498 CC</td>\n",
              "      <td>103.52 bhp</td>\n",
              "      <td>5.0</td>\n",
              "    </tr>\n",
              "    <tr>\n",
              "      <th>2</th>\n",
              "      <td>2006</td>\n",
              "      <td>158000</td>\n",
              "      <td>140000</td>\n",
              "      <td>Petrol</td>\n",
              "      <td>Individual</td>\n",
              "      <td>Manual</td>\n",
              "      <td>Third Owner</td>\n",
              "      <td>17.7 kmpl</td>\n",
              "      <td>1497 CC</td>\n",
              "      <td>78 bhp</td>\n",
              "      <td>5.0</td>\n",
              "    </tr>\n",
              "    <tr>\n",
              "      <th>3</th>\n",
              "      <td>2010</td>\n",
              "      <td>225000</td>\n",
              "      <td>127000</td>\n",
              "      <td>Diesel</td>\n",
              "      <td>Individual</td>\n",
              "      <td>Manual</td>\n",
              "      <td>First Owner</td>\n",
              "      <td>23.0 kmpl</td>\n",
              "      <td>1396 CC</td>\n",
              "      <td>90 bhp</td>\n",
              "      <td>5.0</td>\n",
              "    </tr>\n",
              "    <tr>\n",
              "      <th>4</th>\n",
              "      <td>2007</td>\n",
              "      <td>130000</td>\n",
              "      <td>120000</td>\n",
              "      <td>Petrol</td>\n",
              "      <td>Individual</td>\n",
              "      <td>Manual</td>\n",
              "      <td>First Owner</td>\n",
              "      <td>16.1 kmpl</td>\n",
              "      <td>1298 CC</td>\n",
              "      <td>88.2 bhp</td>\n",
              "      <td>5.0</td>\n",
              "    </tr>\n",
              "  </tbody>\n",
              "</table>\n",
              "</div>\n",
              "      <button class=\"colab-df-convert\" onclick=\"convertToInteractive('df-9509b8cc-6097-4a8f-8b1f-50f12150bf40')\"\n",
              "              title=\"Convert this dataframe to an interactive table.\"\n",
              "              style=\"display:none;\">\n",
              "        \n",
              "  <svg xmlns=\"http://www.w3.org/2000/svg\" height=\"24px\"viewBox=\"0 0 24 24\"\n",
              "       width=\"24px\">\n",
              "    <path d=\"M0 0h24v24H0V0z\" fill=\"none\"/>\n",
              "    <path d=\"M18.56 5.44l.94 2.06.94-2.06 2.06-.94-2.06-.94-.94-2.06-.94 2.06-2.06.94zm-11 1L8.5 8.5l.94-2.06 2.06-.94-2.06-.94L8.5 2.5l-.94 2.06-2.06.94zm10 10l.94 2.06.94-2.06 2.06-.94-2.06-.94-.94-2.06-.94 2.06-2.06.94z\"/><path d=\"M17.41 7.96l-1.37-1.37c-.4-.4-.92-.59-1.43-.59-.52 0-1.04.2-1.43.59L10.3 9.45l-7.72 7.72c-.78.78-.78 2.05 0 2.83L4 21.41c.39.39.9.59 1.41.59.51 0 1.02-.2 1.41-.59l7.78-7.78 2.81-2.81c.8-.78.8-2.07 0-2.86zM5.41 20L4 18.59l7.72-7.72 1.47 1.35L5.41 20z\"/>\n",
              "  </svg>\n",
              "      </button>\n",
              "      \n",
              "  <style>\n",
              "    .colab-df-container {\n",
              "      display:flex;\n",
              "      flex-wrap:wrap;\n",
              "      gap: 12px;\n",
              "    }\n",
              "\n",
              "    .colab-df-convert {\n",
              "      background-color: #E8F0FE;\n",
              "      border: none;\n",
              "      border-radius: 50%;\n",
              "      cursor: pointer;\n",
              "      display: none;\n",
              "      fill: #1967D2;\n",
              "      height: 32px;\n",
              "      padding: 0 0 0 0;\n",
              "      width: 32px;\n",
              "    }\n",
              "\n",
              "    .colab-df-convert:hover {\n",
              "      background-color: #E2EBFA;\n",
              "      box-shadow: 0px 1px 2px rgba(60, 64, 67, 0.3), 0px 1px 3px 1px rgba(60, 64, 67, 0.15);\n",
              "      fill: #174EA6;\n",
              "    }\n",
              "\n",
              "    [theme=dark] .colab-df-convert {\n",
              "      background-color: #3B4455;\n",
              "      fill: #D2E3FC;\n",
              "    }\n",
              "\n",
              "    [theme=dark] .colab-df-convert:hover {\n",
              "      background-color: #434B5C;\n",
              "      box-shadow: 0px 1px 3px 1px rgba(0, 0, 0, 0.15);\n",
              "      filter: drop-shadow(0px 1px 2px rgba(0, 0, 0, 0.3));\n",
              "      fill: #FFFFFF;\n",
              "    }\n",
              "  </style>\n",
              "\n",
              "      <script>\n",
              "        const buttonEl =\n",
              "          document.querySelector('#df-9509b8cc-6097-4a8f-8b1f-50f12150bf40 button.colab-df-convert');\n",
              "        buttonEl.style.display =\n",
              "          google.colab.kernel.accessAllowed ? 'block' : 'none';\n",
              "\n",
              "        async function convertToInteractive(key) {\n",
              "          const element = document.querySelector('#df-9509b8cc-6097-4a8f-8b1f-50f12150bf40');\n",
              "          const dataTable =\n",
              "            await google.colab.kernel.invokeFunction('convertToInteractive',\n",
              "                                                     [key], {});\n",
              "          if (!dataTable) return;\n",
              "\n",
              "          const docLinkHtml = 'Like what you see? Visit the ' +\n",
              "            '<a target=\"_blank\" href=https://colab.research.google.com/notebooks/data_table.ipynb>data table notebook</a>'\n",
              "            + ' to learn more about interactive tables.';\n",
              "          element.innerHTML = '';\n",
              "          dataTable['output_type'] = 'display_data';\n",
              "          await google.colab.output.renderOutput(dataTable, element);\n",
              "          const docLink = document.createElement('div');\n",
              "          docLink.innerHTML = docLinkHtml;\n",
              "          element.appendChild(docLink);\n",
              "        }\n",
              "      </script>\n",
              "    </div>\n",
              "  </div>\n",
              "  "
            ],
            "text/plain": [
              "   year  selling_price  km_driven  ...   engine   max_power seats\n",
              "0  2014         450000     145500  ...  1248 CC      74 bhp   5.0\n",
              "1  2014         370000     120000  ...  1498 CC  103.52 bhp   5.0\n",
              "2  2006         158000     140000  ...  1497 CC      78 bhp   5.0\n",
              "3  2010         225000     127000  ...  1396 CC      90 bhp   5.0\n",
              "4  2007         130000     120000  ...  1298 CC    88.2 bhp   5.0\n",
              "\n",
              "[5 rows x 11 columns]"
            ]
          },
          "metadata": {},
          "execution_count": 15
        }
      ]
    },
    {
      "cell_type": "code",
      "source": [
        "df.shape"
      ],
      "metadata": {
        "colab": {
          "base_uri": "https://localhost:8080/"
        },
        "id": "3QaygNRGV74P",
        "outputId": "347053e0-6180-40bd-ae20-8cf731d053ca"
      },
      "execution_count": 16,
      "outputs": [
        {
          "output_type": "execute_result",
          "data": {
            "text/plain": [
              "(8128, 11)"
            ]
          },
          "metadata": {},
          "execution_count": 16
        }
      ]
    },
    {
      "cell_type": "code",
      "metadata": {
        "id": "cgAAxzef1m37",
        "colab": {
          "base_uri": "https://localhost:8080/",
          "height": 300
        },
        "outputId": "067fba40-951d-4daa-db09-212773987ca0"
      },
      "source": [
        "df.describe()"
      ],
      "execution_count": 17,
      "outputs": [
        {
          "output_type": "execute_result",
          "data": {
            "text/html": [
              "\n",
              "  <div id=\"df-0def1a1f-f7af-4713-bd94-3bc081866f54\">\n",
              "    <div class=\"colab-df-container\">\n",
              "      <div>\n",
              "<style scoped>\n",
              "    .dataframe tbody tr th:only-of-type {\n",
              "        vertical-align: middle;\n",
              "    }\n",
              "\n",
              "    .dataframe tbody tr th {\n",
              "        vertical-align: top;\n",
              "    }\n",
              "\n",
              "    .dataframe thead th {\n",
              "        text-align: right;\n",
              "    }\n",
              "</style>\n",
              "<table border=\"1\" class=\"dataframe\">\n",
              "  <thead>\n",
              "    <tr style=\"text-align: right;\">\n",
              "      <th></th>\n",
              "      <th>year</th>\n",
              "      <th>selling_price</th>\n",
              "      <th>km_driven</th>\n",
              "      <th>seats</th>\n",
              "    </tr>\n",
              "  </thead>\n",
              "  <tbody>\n",
              "    <tr>\n",
              "      <th>count</th>\n",
              "      <td>8128.000000</td>\n",
              "      <td>8.128000e+03</td>\n",
              "      <td>8.128000e+03</td>\n",
              "      <td>7907.000000</td>\n",
              "    </tr>\n",
              "    <tr>\n",
              "      <th>mean</th>\n",
              "      <td>2013.804011</td>\n",
              "      <td>6.382718e+05</td>\n",
              "      <td>6.981951e+04</td>\n",
              "      <td>5.416719</td>\n",
              "    </tr>\n",
              "    <tr>\n",
              "      <th>std</th>\n",
              "      <td>4.044249</td>\n",
              "      <td>8.062534e+05</td>\n",
              "      <td>5.655055e+04</td>\n",
              "      <td>0.959588</td>\n",
              "    </tr>\n",
              "    <tr>\n",
              "      <th>min</th>\n",
              "      <td>1983.000000</td>\n",
              "      <td>2.999900e+04</td>\n",
              "      <td>1.000000e+00</td>\n",
              "      <td>2.000000</td>\n",
              "    </tr>\n",
              "    <tr>\n",
              "      <th>25%</th>\n",
              "      <td>2011.000000</td>\n",
              "      <td>2.549990e+05</td>\n",
              "      <td>3.500000e+04</td>\n",
              "      <td>5.000000</td>\n",
              "    </tr>\n",
              "    <tr>\n",
              "      <th>50%</th>\n",
              "      <td>2015.000000</td>\n",
              "      <td>4.500000e+05</td>\n",
              "      <td>6.000000e+04</td>\n",
              "      <td>5.000000</td>\n",
              "    </tr>\n",
              "    <tr>\n",
              "      <th>75%</th>\n",
              "      <td>2017.000000</td>\n",
              "      <td>6.750000e+05</td>\n",
              "      <td>9.800000e+04</td>\n",
              "      <td>5.000000</td>\n",
              "    </tr>\n",
              "    <tr>\n",
              "      <th>max</th>\n",
              "      <td>2020.000000</td>\n",
              "      <td>1.000000e+07</td>\n",
              "      <td>2.360457e+06</td>\n",
              "      <td>14.000000</td>\n",
              "    </tr>\n",
              "  </tbody>\n",
              "</table>\n",
              "</div>\n",
              "      <button class=\"colab-df-convert\" onclick=\"convertToInteractive('df-0def1a1f-f7af-4713-bd94-3bc081866f54')\"\n",
              "              title=\"Convert this dataframe to an interactive table.\"\n",
              "              style=\"display:none;\">\n",
              "        \n",
              "  <svg xmlns=\"http://www.w3.org/2000/svg\" height=\"24px\"viewBox=\"0 0 24 24\"\n",
              "       width=\"24px\">\n",
              "    <path d=\"M0 0h24v24H0V0z\" fill=\"none\"/>\n",
              "    <path d=\"M18.56 5.44l.94 2.06.94-2.06 2.06-.94-2.06-.94-.94-2.06-.94 2.06-2.06.94zm-11 1L8.5 8.5l.94-2.06 2.06-.94-2.06-.94L8.5 2.5l-.94 2.06-2.06.94zm10 10l.94 2.06.94-2.06 2.06-.94-2.06-.94-.94-2.06-.94 2.06-2.06.94z\"/><path d=\"M17.41 7.96l-1.37-1.37c-.4-.4-.92-.59-1.43-.59-.52 0-1.04.2-1.43.59L10.3 9.45l-7.72 7.72c-.78.78-.78 2.05 0 2.83L4 21.41c.39.39.9.59 1.41.59.51 0 1.02-.2 1.41-.59l7.78-7.78 2.81-2.81c.8-.78.8-2.07 0-2.86zM5.41 20L4 18.59l7.72-7.72 1.47 1.35L5.41 20z\"/>\n",
              "  </svg>\n",
              "      </button>\n",
              "      \n",
              "  <style>\n",
              "    .colab-df-container {\n",
              "      display:flex;\n",
              "      flex-wrap:wrap;\n",
              "      gap: 12px;\n",
              "    }\n",
              "\n",
              "    .colab-df-convert {\n",
              "      background-color: #E8F0FE;\n",
              "      border: none;\n",
              "      border-radius: 50%;\n",
              "      cursor: pointer;\n",
              "      display: none;\n",
              "      fill: #1967D2;\n",
              "      height: 32px;\n",
              "      padding: 0 0 0 0;\n",
              "      width: 32px;\n",
              "    }\n",
              "\n",
              "    .colab-df-convert:hover {\n",
              "      background-color: #E2EBFA;\n",
              "      box-shadow: 0px 1px 2px rgba(60, 64, 67, 0.3), 0px 1px 3px 1px rgba(60, 64, 67, 0.15);\n",
              "      fill: #174EA6;\n",
              "    }\n",
              "\n",
              "    [theme=dark] .colab-df-convert {\n",
              "      background-color: #3B4455;\n",
              "      fill: #D2E3FC;\n",
              "    }\n",
              "\n",
              "    [theme=dark] .colab-df-convert:hover {\n",
              "      background-color: #434B5C;\n",
              "      box-shadow: 0px 1px 3px 1px rgba(0, 0, 0, 0.15);\n",
              "      filter: drop-shadow(0px 1px 2px rgba(0, 0, 0, 0.3));\n",
              "      fill: #FFFFFF;\n",
              "    }\n",
              "  </style>\n",
              "\n",
              "      <script>\n",
              "        const buttonEl =\n",
              "          document.querySelector('#df-0def1a1f-f7af-4713-bd94-3bc081866f54 button.colab-df-convert');\n",
              "        buttonEl.style.display =\n",
              "          google.colab.kernel.accessAllowed ? 'block' : 'none';\n",
              "\n",
              "        async function convertToInteractive(key) {\n",
              "          const element = document.querySelector('#df-0def1a1f-f7af-4713-bd94-3bc081866f54');\n",
              "          const dataTable =\n",
              "            await google.colab.kernel.invokeFunction('convertToInteractive',\n",
              "                                                     [key], {});\n",
              "          if (!dataTable) return;\n",
              "\n",
              "          const docLinkHtml = 'Like what you see? Visit the ' +\n",
              "            '<a target=\"_blank\" href=https://colab.research.google.com/notebooks/data_table.ipynb>data table notebook</a>'\n",
              "            + ' to learn more about interactive tables.';\n",
              "          element.innerHTML = '';\n",
              "          dataTable['output_type'] = 'display_data';\n",
              "          await google.colab.output.renderOutput(dataTable, element);\n",
              "          const docLink = document.createElement('div');\n",
              "          docLink.innerHTML = docLinkHtml;\n",
              "          element.appendChild(docLink);\n",
              "        }\n",
              "      </script>\n",
              "    </div>\n",
              "  </div>\n",
              "  "
            ],
            "text/plain": [
              "              year  selling_price     km_driven        seats\n",
              "count  8128.000000   8.128000e+03  8.128000e+03  7907.000000\n",
              "mean   2013.804011   6.382718e+05  6.981951e+04     5.416719\n",
              "std       4.044249   8.062534e+05  5.655055e+04     0.959588\n",
              "min    1983.000000   2.999900e+04  1.000000e+00     2.000000\n",
              "25%    2011.000000   2.549990e+05  3.500000e+04     5.000000\n",
              "50%    2015.000000   4.500000e+05  6.000000e+04     5.000000\n",
              "75%    2017.000000   6.750000e+05  9.800000e+04     5.000000\n",
              "max    2020.000000   1.000000e+07  2.360457e+06    14.000000"
            ]
          },
          "metadata": {},
          "execution_count": 17
        }
      ]
    },
    {
      "cell_type": "code",
      "source": [
        "df.info()"
      ],
      "metadata": {
        "colab": {
          "base_uri": "https://localhost:8080/"
        },
        "id": "RTg9iFPEYOSt",
        "outputId": "62561864-c7b9-493a-a8e0-a6571adf71dd"
      },
      "execution_count": 18,
      "outputs": [
        {
          "output_type": "stream",
          "name": "stdout",
          "text": [
            "<class 'pandas.core.frame.DataFrame'>\n",
            "RangeIndex: 8128 entries, 0 to 8127\n",
            "Data columns (total 11 columns):\n",
            " #   Column         Non-Null Count  Dtype  \n",
            "---  ------         --------------  -----  \n",
            " 0   year           8128 non-null   int64  \n",
            " 1   selling_price  8128 non-null   int64  \n",
            " 2   km_driven      8128 non-null   int64  \n",
            " 3   fuel           8128 non-null   object \n",
            " 4   seller_type    8128 non-null   object \n",
            " 5   transmission   8128 non-null   object \n",
            " 6   owner          8128 non-null   object \n",
            " 7   mileage        7907 non-null   object \n",
            " 8   engine         7907 non-null   object \n",
            " 9   max_power      7913 non-null   object \n",
            " 10  seats          7907 non-null   float64\n",
            "dtypes: float64(1), int64(3), object(7)\n",
            "memory usage: 698.6+ KB\n"
          ]
        }
      ]
    },
    {
      "cell_type": "code",
      "source": [
        "df.isnull().sum()"
      ],
      "metadata": {
        "colab": {
          "base_uri": "https://localhost:8080/"
        },
        "id": "MTg1RrDyYQza",
        "outputId": "6f9695df-22e9-4b7e-c1db-1750eca8effd"
      },
      "execution_count": 19,
      "outputs": [
        {
          "output_type": "execute_result",
          "data": {
            "text/plain": [
              "year               0\n",
              "selling_price      0\n",
              "km_driven          0\n",
              "fuel               0\n",
              "seller_type        0\n",
              "transmission       0\n",
              "owner              0\n",
              "mileage          221\n",
              "engine           221\n",
              "max_power        215\n",
              "seats            221\n",
              "dtype: int64"
            ]
          },
          "metadata": {},
          "execution_count": 19
        }
      ]
    },
    {
      "cell_type": "markdown",
      "metadata": {
        "id": "HlLKVPVH_BCT"
      },
      "source": [
        "## Question 2"
      ]
    },
    {
      "cell_type": "markdown",
      "metadata": {
        "id": "ZxoGynuBeO4t"
      },
      "source": [
        "### Preprocess the data\n",
        "- Convert mileage, engine and max_power to numerical by extract numerical values from the strings\n",
        "- Label Encode: 'owner' column\n",
        "- One Hot Encode: 'fuel','seller_type','transmission' columns\n",
        "- Drop all the instances with null values"
      ]
    },
    {
      "cell_type": "code",
      "metadata": {
        "id": "WMsPLgUw4XED"
      },
      "source": [
        "def process_obj_data(data):\n",
        "  try:\n",
        "    if type(data) == str:\n",
        "      return float(data.split()[0])\n",
        "    else:\n",
        "      return data\n",
        "  except:\n",
        "    return np.nan"
      ],
      "execution_count": 20,
      "outputs": []
    },
    {
      "cell_type": "code",
      "source": [
        "df.mileage = df.mileage.map(process_obj_data)\n",
        "df.engine = df.engine.map(process_obj_data)\n",
        "df.max_power = df.max_power.map(process_obj_data)"
      ],
      "metadata": {
        "id": "bBdXmtR4ZSgy"
      },
      "execution_count": 21,
      "outputs": []
    },
    {
      "cell_type": "code",
      "source": [
        "df.head()"
      ],
      "metadata": {
        "colab": {
          "base_uri": "https://localhost:8080/",
          "height": 206
        },
        "id": "08TaSVvEZmRe",
        "outputId": "5a140a91-bb84-4ae6-b0e9-a581a6b5de2c"
      },
      "execution_count": 22,
      "outputs": [
        {
          "output_type": "execute_result",
          "data": {
            "text/html": [
              "\n",
              "  <div id=\"df-c7973378-6498-4889-b816-e49ac46df31f\">\n",
              "    <div class=\"colab-df-container\">\n",
              "      <div>\n",
              "<style scoped>\n",
              "    .dataframe tbody tr th:only-of-type {\n",
              "        vertical-align: middle;\n",
              "    }\n",
              "\n",
              "    .dataframe tbody tr th {\n",
              "        vertical-align: top;\n",
              "    }\n",
              "\n",
              "    .dataframe thead th {\n",
              "        text-align: right;\n",
              "    }\n",
              "</style>\n",
              "<table border=\"1\" class=\"dataframe\">\n",
              "  <thead>\n",
              "    <tr style=\"text-align: right;\">\n",
              "      <th></th>\n",
              "      <th>year</th>\n",
              "      <th>selling_price</th>\n",
              "      <th>km_driven</th>\n",
              "      <th>fuel</th>\n",
              "      <th>seller_type</th>\n",
              "      <th>transmission</th>\n",
              "      <th>owner</th>\n",
              "      <th>mileage</th>\n",
              "      <th>engine</th>\n",
              "      <th>max_power</th>\n",
              "      <th>seats</th>\n",
              "    </tr>\n",
              "  </thead>\n",
              "  <tbody>\n",
              "    <tr>\n",
              "      <th>0</th>\n",
              "      <td>2014</td>\n",
              "      <td>450000</td>\n",
              "      <td>145500</td>\n",
              "      <td>Diesel</td>\n",
              "      <td>Individual</td>\n",
              "      <td>Manual</td>\n",
              "      <td>First Owner</td>\n",
              "      <td>23.40</td>\n",
              "      <td>1248.0</td>\n",
              "      <td>74.00</td>\n",
              "      <td>5.0</td>\n",
              "    </tr>\n",
              "    <tr>\n",
              "      <th>1</th>\n",
              "      <td>2014</td>\n",
              "      <td>370000</td>\n",
              "      <td>120000</td>\n",
              "      <td>Diesel</td>\n",
              "      <td>Individual</td>\n",
              "      <td>Manual</td>\n",
              "      <td>Second Owner</td>\n",
              "      <td>21.14</td>\n",
              "      <td>1498.0</td>\n",
              "      <td>103.52</td>\n",
              "      <td>5.0</td>\n",
              "    </tr>\n",
              "    <tr>\n",
              "      <th>2</th>\n",
              "      <td>2006</td>\n",
              "      <td>158000</td>\n",
              "      <td>140000</td>\n",
              "      <td>Petrol</td>\n",
              "      <td>Individual</td>\n",
              "      <td>Manual</td>\n",
              "      <td>Third Owner</td>\n",
              "      <td>17.70</td>\n",
              "      <td>1497.0</td>\n",
              "      <td>78.00</td>\n",
              "      <td>5.0</td>\n",
              "    </tr>\n",
              "    <tr>\n",
              "      <th>3</th>\n",
              "      <td>2010</td>\n",
              "      <td>225000</td>\n",
              "      <td>127000</td>\n",
              "      <td>Diesel</td>\n",
              "      <td>Individual</td>\n",
              "      <td>Manual</td>\n",
              "      <td>First Owner</td>\n",
              "      <td>23.00</td>\n",
              "      <td>1396.0</td>\n",
              "      <td>90.00</td>\n",
              "      <td>5.0</td>\n",
              "    </tr>\n",
              "    <tr>\n",
              "      <th>4</th>\n",
              "      <td>2007</td>\n",
              "      <td>130000</td>\n",
              "      <td>120000</td>\n",
              "      <td>Petrol</td>\n",
              "      <td>Individual</td>\n",
              "      <td>Manual</td>\n",
              "      <td>First Owner</td>\n",
              "      <td>16.10</td>\n",
              "      <td>1298.0</td>\n",
              "      <td>88.20</td>\n",
              "      <td>5.0</td>\n",
              "    </tr>\n",
              "  </tbody>\n",
              "</table>\n",
              "</div>\n",
              "      <button class=\"colab-df-convert\" onclick=\"convertToInteractive('df-c7973378-6498-4889-b816-e49ac46df31f')\"\n",
              "              title=\"Convert this dataframe to an interactive table.\"\n",
              "              style=\"display:none;\">\n",
              "        \n",
              "  <svg xmlns=\"http://www.w3.org/2000/svg\" height=\"24px\"viewBox=\"0 0 24 24\"\n",
              "       width=\"24px\">\n",
              "    <path d=\"M0 0h24v24H0V0z\" fill=\"none\"/>\n",
              "    <path d=\"M18.56 5.44l.94 2.06.94-2.06 2.06-.94-2.06-.94-.94-2.06-.94 2.06-2.06.94zm-11 1L8.5 8.5l.94-2.06 2.06-.94-2.06-.94L8.5 2.5l-.94 2.06-2.06.94zm10 10l.94 2.06.94-2.06 2.06-.94-2.06-.94-.94-2.06-.94 2.06-2.06.94z\"/><path d=\"M17.41 7.96l-1.37-1.37c-.4-.4-.92-.59-1.43-.59-.52 0-1.04.2-1.43.59L10.3 9.45l-7.72 7.72c-.78.78-.78 2.05 0 2.83L4 21.41c.39.39.9.59 1.41.59.51 0 1.02-.2 1.41-.59l7.78-7.78 2.81-2.81c.8-.78.8-2.07 0-2.86zM5.41 20L4 18.59l7.72-7.72 1.47 1.35L5.41 20z\"/>\n",
              "  </svg>\n",
              "      </button>\n",
              "      \n",
              "  <style>\n",
              "    .colab-df-container {\n",
              "      display:flex;\n",
              "      flex-wrap:wrap;\n",
              "      gap: 12px;\n",
              "    }\n",
              "\n",
              "    .colab-df-convert {\n",
              "      background-color: #E8F0FE;\n",
              "      border: none;\n",
              "      border-radius: 50%;\n",
              "      cursor: pointer;\n",
              "      display: none;\n",
              "      fill: #1967D2;\n",
              "      height: 32px;\n",
              "      padding: 0 0 0 0;\n",
              "      width: 32px;\n",
              "    }\n",
              "\n",
              "    .colab-df-convert:hover {\n",
              "      background-color: #E2EBFA;\n",
              "      box-shadow: 0px 1px 2px rgba(60, 64, 67, 0.3), 0px 1px 3px 1px rgba(60, 64, 67, 0.15);\n",
              "      fill: #174EA6;\n",
              "    }\n",
              "\n",
              "    [theme=dark] .colab-df-convert {\n",
              "      background-color: #3B4455;\n",
              "      fill: #D2E3FC;\n",
              "    }\n",
              "\n",
              "    [theme=dark] .colab-df-convert:hover {\n",
              "      background-color: #434B5C;\n",
              "      box-shadow: 0px 1px 3px 1px rgba(0, 0, 0, 0.15);\n",
              "      filter: drop-shadow(0px 1px 2px rgba(0, 0, 0, 0.3));\n",
              "      fill: #FFFFFF;\n",
              "    }\n",
              "  </style>\n",
              "\n",
              "      <script>\n",
              "        const buttonEl =\n",
              "          document.querySelector('#df-c7973378-6498-4889-b816-e49ac46df31f button.colab-df-convert');\n",
              "        buttonEl.style.display =\n",
              "          google.colab.kernel.accessAllowed ? 'block' : 'none';\n",
              "\n",
              "        async function convertToInteractive(key) {\n",
              "          const element = document.querySelector('#df-c7973378-6498-4889-b816-e49ac46df31f');\n",
              "          const dataTable =\n",
              "            await google.colab.kernel.invokeFunction('convertToInteractive',\n",
              "                                                     [key], {});\n",
              "          if (!dataTable) return;\n",
              "\n",
              "          const docLinkHtml = 'Like what you see? Visit the ' +\n",
              "            '<a target=\"_blank\" href=https://colab.research.google.com/notebooks/data_table.ipynb>data table notebook</a>'\n",
              "            + ' to learn more about interactive tables.';\n",
              "          element.innerHTML = '';\n",
              "          dataTable['output_type'] = 'display_data';\n",
              "          await google.colab.output.renderOutput(dataTable, element);\n",
              "          const docLink = document.createElement('div');\n",
              "          docLink.innerHTML = docLinkHtml;\n",
              "          element.appendChild(docLink);\n",
              "        }\n",
              "      </script>\n",
              "    </div>\n",
              "  </div>\n",
              "  "
            ],
            "text/plain": [
              "   year  selling_price  km_driven    fuel  ... mileage  engine max_power  seats\n",
              "0  2014         450000     145500  Diesel  ...   23.40  1248.0     74.00    5.0\n",
              "1  2014         370000     120000  Diesel  ...   21.14  1498.0    103.52    5.0\n",
              "2  2006         158000     140000  Petrol  ...   17.70  1497.0     78.00    5.0\n",
              "3  2010         225000     127000  Diesel  ...   23.00  1396.0     90.00    5.0\n",
              "4  2007         130000     120000  Petrol  ...   16.10  1298.0     88.20    5.0\n",
              "\n",
              "[5 rows x 11 columns]"
            ]
          },
          "metadata": {},
          "execution_count": 22
        }
      ]
    },
    {
      "cell_type": "code",
      "metadata": {
        "id": "X_FaEocL4X4h",
        "colab": {
          "base_uri": "https://localhost:8080/"
        },
        "outputId": "cd928864-f68c-49fb-b941-7dd369bddb6b"
      },
      "source": [
        "df.fuel.unique()"
      ],
      "execution_count": 23,
      "outputs": [
        {
          "output_type": "execute_result",
          "data": {
            "text/plain": [
              "array(['Diesel', 'Petrol', 'LPG', 'CNG'], dtype=object)"
            ]
          },
          "metadata": {},
          "execution_count": 23
        }
      ]
    },
    {
      "cell_type": "code",
      "metadata": {
        "id": "FPAQ-IBf4Z9k",
        "colab": {
          "base_uri": "https://localhost:8080/"
        },
        "outputId": "78ee490c-b15d-4a2e-a459-550fceb26754"
      },
      "source": [
        "df.seller_type.unique()"
      ],
      "execution_count": 24,
      "outputs": [
        {
          "output_type": "execute_result",
          "data": {
            "text/plain": [
              "array(['Individual', 'Dealer', 'Trustmark Dealer'], dtype=object)"
            ]
          },
          "metadata": {},
          "execution_count": 24
        }
      ]
    },
    {
      "cell_type": "code",
      "metadata": {
        "id": "aXweg7mb4gMo",
        "colab": {
          "base_uri": "https://localhost:8080/"
        },
        "outputId": "3c3169f7-64de-4d42-9049-d76d38229ce7"
      },
      "source": [
        "df.transmission.unique()"
      ],
      "execution_count": 25,
      "outputs": [
        {
          "output_type": "execute_result",
          "data": {
            "text/plain": [
              "array(['Manual', 'Automatic'], dtype=object)"
            ]
          },
          "metadata": {},
          "execution_count": 25
        }
      ]
    },
    {
      "cell_type": "code",
      "source": [
        "df.owner.unique()"
      ],
      "metadata": {
        "colab": {
          "base_uri": "https://localhost:8080/"
        },
        "id": "Lvkz-pcxbg2N",
        "outputId": "c7b74aff-a16f-4b8f-f82a-95a54eb00db4"
      },
      "execution_count": 26,
      "outputs": [
        {
          "output_type": "execute_result",
          "data": {
            "text/plain": [
              "array(['First Owner', 'Second Owner', 'Third Owner',\n",
              "       'Fourth & Above Owner', 'Test Drive Car'], dtype=object)"
            ]
          },
          "metadata": {},
          "execution_count": 26
        }
      ]
    },
    {
      "cell_type": "code",
      "metadata": {
        "id": "nVjmsyJc4kpO"
      },
      "source": [
        "# label encoding owner\n",
        "owner_mapping = {'First Owner':1,'Second Owner':2,'Third Owner':3,'Fourth & Above Owner':4,'Test Drive Car':5}\n",
        "df['owner'] = df['owner'].map(owner_mapping)"
      ],
      "execution_count": 27,
      "outputs": []
    },
    {
      "cell_type": "code",
      "metadata": {
        "id": "q7fwyFQn4qD2",
        "colab": {
          "base_uri": "https://localhost:8080/",
          "height": 206
        },
        "outputId": "24f67aa3-4b05-41de-c9c4-8a2052ab2da7"
      },
      "source": [
        "ohe = OneHotEncoder(drop='first', sparse=False, dtype=np.int64)\n",
        "cat_col = ['fuel','seller_type','transmission']\n",
        "z = ohe.fit_transform(df[cat_col])\n",
        "encoded_data = pd.DataFrame(z,columns=ohe.get_feature_names(cat_col))\n",
        "encoded_data.head()"
      ],
      "execution_count": 28,
      "outputs": [
        {
          "output_type": "execute_result",
          "data": {
            "text/html": [
              "\n",
              "  <div id=\"df-28a00283-beac-4081-ad3b-47d7ec208c3f\">\n",
              "    <div class=\"colab-df-container\">\n",
              "      <div>\n",
              "<style scoped>\n",
              "    .dataframe tbody tr th:only-of-type {\n",
              "        vertical-align: middle;\n",
              "    }\n",
              "\n",
              "    .dataframe tbody tr th {\n",
              "        vertical-align: top;\n",
              "    }\n",
              "\n",
              "    .dataframe thead th {\n",
              "        text-align: right;\n",
              "    }\n",
              "</style>\n",
              "<table border=\"1\" class=\"dataframe\">\n",
              "  <thead>\n",
              "    <tr style=\"text-align: right;\">\n",
              "      <th></th>\n",
              "      <th>fuel_Diesel</th>\n",
              "      <th>fuel_LPG</th>\n",
              "      <th>fuel_Petrol</th>\n",
              "      <th>seller_type_Individual</th>\n",
              "      <th>seller_type_Trustmark Dealer</th>\n",
              "      <th>transmission_Manual</th>\n",
              "    </tr>\n",
              "  </thead>\n",
              "  <tbody>\n",
              "    <tr>\n",
              "      <th>0</th>\n",
              "      <td>1</td>\n",
              "      <td>0</td>\n",
              "      <td>0</td>\n",
              "      <td>1</td>\n",
              "      <td>0</td>\n",
              "      <td>1</td>\n",
              "    </tr>\n",
              "    <tr>\n",
              "      <th>1</th>\n",
              "      <td>1</td>\n",
              "      <td>0</td>\n",
              "      <td>0</td>\n",
              "      <td>1</td>\n",
              "      <td>0</td>\n",
              "      <td>1</td>\n",
              "    </tr>\n",
              "    <tr>\n",
              "      <th>2</th>\n",
              "      <td>0</td>\n",
              "      <td>0</td>\n",
              "      <td>1</td>\n",
              "      <td>1</td>\n",
              "      <td>0</td>\n",
              "      <td>1</td>\n",
              "    </tr>\n",
              "    <tr>\n",
              "      <th>3</th>\n",
              "      <td>1</td>\n",
              "      <td>0</td>\n",
              "      <td>0</td>\n",
              "      <td>1</td>\n",
              "      <td>0</td>\n",
              "      <td>1</td>\n",
              "    </tr>\n",
              "    <tr>\n",
              "      <th>4</th>\n",
              "      <td>0</td>\n",
              "      <td>0</td>\n",
              "      <td>1</td>\n",
              "      <td>1</td>\n",
              "      <td>0</td>\n",
              "      <td>1</td>\n",
              "    </tr>\n",
              "  </tbody>\n",
              "</table>\n",
              "</div>\n",
              "      <button class=\"colab-df-convert\" onclick=\"convertToInteractive('df-28a00283-beac-4081-ad3b-47d7ec208c3f')\"\n",
              "              title=\"Convert this dataframe to an interactive table.\"\n",
              "              style=\"display:none;\">\n",
              "        \n",
              "  <svg xmlns=\"http://www.w3.org/2000/svg\" height=\"24px\"viewBox=\"0 0 24 24\"\n",
              "       width=\"24px\">\n",
              "    <path d=\"M0 0h24v24H0V0z\" fill=\"none\"/>\n",
              "    <path d=\"M18.56 5.44l.94 2.06.94-2.06 2.06-.94-2.06-.94-.94-2.06-.94 2.06-2.06.94zm-11 1L8.5 8.5l.94-2.06 2.06-.94-2.06-.94L8.5 2.5l-.94 2.06-2.06.94zm10 10l.94 2.06.94-2.06 2.06-.94-2.06-.94-.94-2.06-.94 2.06-2.06.94z\"/><path d=\"M17.41 7.96l-1.37-1.37c-.4-.4-.92-.59-1.43-.59-.52 0-1.04.2-1.43.59L10.3 9.45l-7.72 7.72c-.78.78-.78 2.05 0 2.83L4 21.41c.39.39.9.59 1.41.59.51 0 1.02-.2 1.41-.59l7.78-7.78 2.81-2.81c.8-.78.8-2.07 0-2.86zM5.41 20L4 18.59l7.72-7.72 1.47 1.35L5.41 20z\"/>\n",
              "  </svg>\n",
              "      </button>\n",
              "      \n",
              "  <style>\n",
              "    .colab-df-container {\n",
              "      display:flex;\n",
              "      flex-wrap:wrap;\n",
              "      gap: 12px;\n",
              "    }\n",
              "\n",
              "    .colab-df-convert {\n",
              "      background-color: #E8F0FE;\n",
              "      border: none;\n",
              "      border-radius: 50%;\n",
              "      cursor: pointer;\n",
              "      display: none;\n",
              "      fill: #1967D2;\n",
              "      height: 32px;\n",
              "      padding: 0 0 0 0;\n",
              "      width: 32px;\n",
              "    }\n",
              "\n",
              "    .colab-df-convert:hover {\n",
              "      background-color: #E2EBFA;\n",
              "      box-shadow: 0px 1px 2px rgba(60, 64, 67, 0.3), 0px 1px 3px 1px rgba(60, 64, 67, 0.15);\n",
              "      fill: #174EA6;\n",
              "    }\n",
              "\n",
              "    [theme=dark] .colab-df-convert {\n",
              "      background-color: #3B4455;\n",
              "      fill: #D2E3FC;\n",
              "    }\n",
              "\n",
              "    [theme=dark] .colab-df-convert:hover {\n",
              "      background-color: #434B5C;\n",
              "      box-shadow: 0px 1px 3px 1px rgba(0, 0, 0, 0.15);\n",
              "      filter: drop-shadow(0px 1px 2px rgba(0, 0, 0, 0.3));\n",
              "      fill: #FFFFFF;\n",
              "    }\n",
              "  </style>\n",
              "\n",
              "      <script>\n",
              "        const buttonEl =\n",
              "          document.querySelector('#df-28a00283-beac-4081-ad3b-47d7ec208c3f button.colab-df-convert');\n",
              "        buttonEl.style.display =\n",
              "          google.colab.kernel.accessAllowed ? 'block' : 'none';\n",
              "\n",
              "        async function convertToInteractive(key) {\n",
              "          const element = document.querySelector('#df-28a00283-beac-4081-ad3b-47d7ec208c3f');\n",
              "          const dataTable =\n",
              "            await google.colab.kernel.invokeFunction('convertToInteractive',\n",
              "                                                     [key], {});\n",
              "          if (!dataTable) return;\n",
              "\n",
              "          const docLinkHtml = 'Like what you see? Visit the ' +\n",
              "            '<a target=\"_blank\" href=https://colab.research.google.com/notebooks/data_table.ipynb>data table notebook</a>'\n",
              "            + ' to learn more about interactive tables.';\n",
              "          element.innerHTML = '';\n",
              "          dataTable['output_type'] = 'display_data';\n",
              "          await google.colab.output.renderOutput(dataTable, element);\n",
              "          const docLink = document.createElement('div');\n",
              "          docLink.innerHTML = docLinkHtml;\n",
              "          element.appendChild(docLink);\n",
              "        }\n",
              "      </script>\n",
              "    </div>\n",
              "  </div>\n",
              "  "
            ],
            "text/plain": [
              "   fuel_Diesel  fuel_LPG  ...  seller_type_Trustmark Dealer  transmission_Manual\n",
              "0            1         0  ...                             0                    1\n",
              "1            1         0  ...                             0                    1\n",
              "2            0         0  ...                             0                    1\n",
              "3            1         0  ...                             0                    1\n",
              "4            0         0  ...                             0                    1\n",
              "\n",
              "[5 rows x 6 columns]"
            ]
          },
          "metadata": {},
          "execution_count": 28
        }
      ]
    },
    {
      "cell_type": "code",
      "metadata": {
        "id": "hrtGjfu84tZY",
        "colab": {
          "base_uri": "https://localhost:8080/",
          "height": 206
        },
        "outputId": "a359621f-ae56-4f5f-c6b6-0ecdc519aa6b"
      },
      "source": [
        "df1 = df.drop(columns=cat_col, axis=1)\n",
        "final_df = pd.concat([df1,encoded_data], axis=1)\n",
        "final_df.head()"
      ],
      "execution_count": 29,
      "outputs": [
        {
          "output_type": "execute_result",
          "data": {
            "text/html": [
              "\n",
              "  <div id=\"df-5d686f4d-79ab-4357-9b8a-e7f0c7c35ef1\">\n",
              "    <div class=\"colab-df-container\">\n",
              "      <div>\n",
              "<style scoped>\n",
              "    .dataframe tbody tr th:only-of-type {\n",
              "        vertical-align: middle;\n",
              "    }\n",
              "\n",
              "    .dataframe tbody tr th {\n",
              "        vertical-align: top;\n",
              "    }\n",
              "\n",
              "    .dataframe thead th {\n",
              "        text-align: right;\n",
              "    }\n",
              "</style>\n",
              "<table border=\"1\" class=\"dataframe\">\n",
              "  <thead>\n",
              "    <tr style=\"text-align: right;\">\n",
              "      <th></th>\n",
              "      <th>year</th>\n",
              "      <th>selling_price</th>\n",
              "      <th>km_driven</th>\n",
              "      <th>owner</th>\n",
              "      <th>mileage</th>\n",
              "      <th>engine</th>\n",
              "      <th>max_power</th>\n",
              "      <th>seats</th>\n",
              "      <th>fuel_Diesel</th>\n",
              "      <th>fuel_LPG</th>\n",
              "      <th>fuel_Petrol</th>\n",
              "      <th>seller_type_Individual</th>\n",
              "      <th>seller_type_Trustmark Dealer</th>\n",
              "      <th>transmission_Manual</th>\n",
              "    </tr>\n",
              "  </thead>\n",
              "  <tbody>\n",
              "    <tr>\n",
              "      <th>0</th>\n",
              "      <td>2014</td>\n",
              "      <td>450000</td>\n",
              "      <td>145500</td>\n",
              "      <td>1</td>\n",
              "      <td>23.40</td>\n",
              "      <td>1248.0</td>\n",
              "      <td>74.00</td>\n",
              "      <td>5.0</td>\n",
              "      <td>1</td>\n",
              "      <td>0</td>\n",
              "      <td>0</td>\n",
              "      <td>1</td>\n",
              "      <td>0</td>\n",
              "      <td>1</td>\n",
              "    </tr>\n",
              "    <tr>\n",
              "      <th>1</th>\n",
              "      <td>2014</td>\n",
              "      <td>370000</td>\n",
              "      <td>120000</td>\n",
              "      <td>2</td>\n",
              "      <td>21.14</td>\n",
              "      <td>1498.0</td>\n",
              "      <td>103.52</td>\n",
              "      <td>5.0</td>\n",
              "      <td>1</td>\n",
              "      <td>0</td>\n",
              "      <td>0</td>\n",
              "      <td>1</td>\n",
              "      <td>0</td>\n",
              "      <td>1</td>\n",
              "    </tr>\n",
              "    <tr>\n",
              "      <th>2</th>\n",
              "      <td>2006</td>\n",
              "      <td>158000</td>\n",
              "      <td>140000</td>\n",
              "      <td>3</td>\n",
              "      <td>17.70</td>\n",
              "      <td>1497.0</td>\n",
              "      <td>78.00</td>\n",
              "      <td>5.0</td>\n",
              "      <td>0</td>\n",
              "      <td>0</td>\n",
              "      <td>1</td>\n",
              "      <td>1</td>\n",
              "      <td>0</td>\n",
              "      <td>1</td>\n",
              "    </tr>\n",
              "    <tr>\n",
              "      <th>3</th>\n",
              "      <td>2010</td>\n",
              "      <td>225000</td>\n",
              "      <td>127000</td>\n",
              "      <td>1</td>\n",
              "      <td>23.00</td>\n",
              "      <td>1396.0</td>\n",
              "      <td>90.00</td>\n",
              "      <td>5.0</td>\n",
              "      <td>1</td>\n",
              "      <td>0</td>\n",
              "      <td>0</td>\n",
              "      <td>1</td>\n",
              "      <td>0</td>\n",
              "      <td>1</td>\n",
              "    </tr>\n",
              "    <tr>\n",
              "      <th>4</th>\n",
              "      <td>2007</td>\n",
              "      <td>130000</td>\n",
              "      <td>120000</td>\n",
              "      <td>1</td>\n",
              "      <td>16.10</td>\n",
              "      <td>1298.0</td>\n",
              "      <td>88.20</td>\n",
              "      <td>5.0</td>\n",
              "      <td>0</td>\n",
              "      <td>0</td>\n",
              "      <td>1</td>\n",
              "      <td>1</td>\n",
              "      <td>0</td>\n",
              "      <td>1</td>\n",
              "    </tr>\n",
              "  </tbody>\n",
              "</table>\n",
              "</div>\n",
              "      <button class=\"colab-df-convert\" onclick=\"convertToInteractive('df-5d686f4d-79ab-4357-9b8a-e7f0c7c35ef1')\"\n",
              "              title=\"Convert this dataframe to an interactive table.\"\n",
              "              style=\"display:none;\">\n",
              "        \n",
              "  <svg xmlns=\"http://www.w3.org/2000/svg\" height=\"24px\"viewBox=\"0 0 24 24\"\n",
              "       width=\"24px\">\n",
              "    <path d=\"M0 0h24v24H0V0z\" fill=\"none\"/>\n",
              "    <path d=\"M18.56 5.44l.94 2.06.94-2.06 2.06-.94-2.06-.94-.94-2.06-.94 2.06-2.06.94zm-11 1L8.5 8.5l.94-2.06 2.06-.94-2.06-.94L8.5 2.5l-.94 2.06-2.06.94zm10 10l.94 2.06.94-2.06 2.06-.94-2.06-.94-.94-2.06-.94 2.06-2.06.94z\"/><path d=\"M17.41 7.96l-1.37-1.37c-.4-.4-.92-.59-1.43-.59-.52 0-1.04.2-1.43.59L10.3 9.45l-7.72 7.72c-.78.78-.78 2.05 0 2.83L4 21.41c.39.39.9.59 1.41.59.51 0 1.02-.2 1.41-.59l7.78-7.78 2.81-2.81c.8-.78.8-2.07 0-2.86zM5.41 20L4 18.59l7.72-7.72 1.47 1.35L5.41 20z\"/>\n",
              "  </svg>\n",
              "      </button>\n",
              "      \n",
              "  <style>\n",
              "    .colab-df-container {\n",
              "      display:flex;\n",
              "      flex-wrap:wrap;\n",
              "      gap: 12px;\n",
              "    }\n",
              "\n",
              "    .colab-df-convert {\n",
              "      background-color: #E8F0FE;\n",
              "      border: none;\n",
              "      border-radius: 50%;\n",
              "      cursor: pointer;\n",
              "      display: none;\n",
              "      fill: #1967D2;\n",
              "      height: 32px;\n",
              "      padding: 0 0 0 0;\n",
              "      width: 32px;\n",
              "    }\n",
              "\n",
              "    .colab-df-convert:hover {\n",
              "      background-color: #E2EBFA;\n",
              "      box-shadow: 0px 1px 2px rgba(60, 64, 67, 0.3), 0px 1px 3px 1px rgba(60, 64, 67, 0.15);\n",
              "      fill: #174EA6;\n",
              "    }\n",
              "\n",
              "    [theme=dark] .colab-df-convert {\n",
              "      background-color: #3B4455;\n",
              "      fill: #D2E3FC;\n",
              "    }\n",
              "\n",
              "    [theme=dark] .colab-df-convert:hover {\n",
              "      background-color: #434B5C;\n",
              "      box-shadow: 0px 1px 3px 1px rgba(0, 0, 0, 0.15);\n",
              "      filter: drop-shadow(0px 1px 2px rgba(0, 0, 0, 0.3));\n",
              "      fill: #FFFFFF;\n",
              "    }\n",
              "  </style>\n",
              "\n",
              "      <script>\n",
              "        const buttonEl =\n",
              "          document.querySelector('#df-5d686f4d-79ab-4357-9b8a-e7f0c7c35ef1 button.colab-df-convert');\n",
              "        buttonEl.style.display =\n",
              "          google.colab.kernel.accessAllowed ? 'block' : 'none';\n",
              "\n",
              "        async function convertToInteractive(key) {\n",
              "          const element = document.querySelector('#df-5d686f4d-79ab-4357-9b8a-e7f0c7c35ef1');\n",
              "          const dataTable =\n",
              "            await google.colab.kernel.invokeFunction('convertToInteractive',\n",
              "                                                     [key], {});\n",
              "          if (!dataTable) return;\n",
              "\n",
              "          const docLinkHtml = 'Like what you see? Visit the ' +\n",
              "            '<a target=\"_blank\" href=https://colab.research.google.com/notebooks/data_table.ipynb>data table notebook</a>'\n",
              "            + ' to learn more about interactive tables.';\n",
              "          element.innerHTML = '';\n",
              "          dataTable['output_type'] = 'display_data';\n",
              "          await google.colab.output.renderOutput(dataTable, element);\n",
              "          const docLink = document.createElement('div');\n",
              "          docLink.innerHTML = docLinkHtml;\n",
              "          element.appendChild(docLink);\n",
              "        }\n",
              "      </script>\n",
              "    </div>\n",
              "  </div>\n",
              "  "
            ],
            "text/plain": [
              "   year  selling_price  ...  seller_type_Trustmark Dealer  transmission_Manual\n",
              "0  2014         450000  ...                             0                    1\n",
              "1  2014         370000  ...                             0                    1\n",
              "2  2006         158000  ...                             0                    1\n",
              "3  2010         225000  ...                             0                    1\n",
              "4  2007         130000  ...                             0                    1\n",
              "\n",
              "[5 rows x 14 columns]"
            ]
          },
          "metadata": {},
          "execution_count": 29
        }
      ]
    },
    {
      "cell_type": "code",
      "metadata": {
        "id": "btbL2MeO4wTs",
        "colab": {
          "base_uri": "https://localhost:8080/"
        },
        "outputId": "ad3043a6-8d12-4bac-cceb-424573daefb1"
      },
      "source": [
        "final_df.shape"
      ],
      "execution_count": 30,
      "outputs": [
        {
          "output_type": "execute_result",
          "data": {
            "text/plain": [
              "(8128, 14)"
            ]
          },
          "metadata": {},
          "execution_count": 30
        }
      ]
    },
    {
      "cell_type": "code",
      "source": [
        "final_df.isnull().sum()"
      ],
      "metadata": {
        "colab": {
          "base_uri": "https://localhost:8080/"
        },
        "id": "fNNcg2M4dpO6",
        "outputId": "0b4f85fe-e773-46ce-8ff5-ca7fa4fdeb2f"
      },
      "execution_count": 31,
      "outputs": [
        {
          "output_type": "execute_result",
          "data": {
            "text/plain": [
              "year                              0\n",
              "selling_price                     0\n",
              "km_driven                         0\n",
              "owner                             0\n",
              "mileage                         221\n",
              "engine                          221\n",
              "max_power                       216\n",
              "seats                           221\n",
              "fuel_Diesel                       0\n",
              "fuel_LPG                          0\n",
              "fuel_Petrol                       0\n",
              "seller_type_Individual            0\n",
              "seller_type_Trustmark Dealer      0\n",
              "transmission_Manual               0\n",
              "dtype: int64"
            ]
          },
          "metadata": {},
          "execution_count": 31
        }
      ]
    },
    {
      "cell_type": "code",
      "source": [
        "final_df = final_df.dropna(axis=0)"
      ],
      "metadata": {
        "id": "p0shfYfKeETO"
      },
      "execution_count": 32,
      "outputs": []
    },
    {
      "cell_type": "code",
      "source": [
        "final_df.shape"
      ],
      "metadata": {
        "colab": {
          "base_uri": "https://localhost:8080/"
        },
        "id": "5gKOkdZlhLZY",
        "outputId": "24bb52b4-dfdc-4615-a4fa-7cb94b945802"
      },
      "execution_count": 33,
      "outputs": [
        {
          "output_type": "execute_result",
          "data": {
            "text/plain": [
              "(7906, 14)"
            ]
          },
          "metadata": {},
          "execution_count": 33
        }
      ]
    },
    {
      "cell_type": "markdown",
      "metadata": {
        "id": "ez91ID6AEgPm"
      },
      "source": [
        "## Question 3"
      ]
    },
    {
      "cell_type": "markdown",
      "metadata": {
        "id": "9J4BlzVA_gZd"
      },
      "source": [
        "### Split the data and then scale the data\n",
        "- Split the data into ratio of 75:25 with random state=12\n",
        "- Perform standard scaling on X_train and X_test data\n"
      ]
    },
    {
      "cell_type": "code",
      "source": [
        "X = final_df.drop(['selling_price'], axis=1)\n",
        "y = final_df.selling_price"
      ],
      "metadata": {
        "id": "Qt1NxVIygqUY"
      },
      "execution_count": 34,
      "outputs": []
    },
    {
      "cell_type": "code",
      "metadata": {
        "id": "IKEK8aEE_Csx"
      },
      "source": [
        "X_train, X_test, y_train, y_test = train_test_split(X, y, test_size=0.25, random_state=12)"
      ],
      "execution_count": 35,
      "outputs": []
    },
    {
      "cell_type": "code",
      "source": [
        "y_test.shape"
      ],
      "metadata": {
        "colab": {
          "base_uri": "https://localhost:8080/"
        },
        "id": "-CpwqiInyW1K",
        "outputId": "82a590d7-c443-4633-feac-05c49d40f388"
      },
      "execution_count": 36,
      "outputs": [
        {
          "output_type": "execute_result",
          "data": {
            "text/plain": [
              "(1977,)"
            ]
          },
          "metadata": {},
          "execution_count": 36
        }
      ]
    },
    {
      "cell_type": "code",
      "metadata": {
        "id": "59F0lA4z8SH-",
        "colab": {
          "base_uri": "https://localhost:8080/"
        },
        "outputId": "11accb6d-916a-4a57-eb2f-3417cf1e427f"
      },
      "source": [
        "X_train.shape"
      ],
      "execution_count": 37,
      "outputs": [
        {
          "output_type": "execute_result",
          "data": {
            "text/plain": [
              "(5929, 13)"
            ]
          },
          "metadata": {},
          "execution_count": 37
        }
      ]
    },
    {
      "cell_type": "code",
      "source": [
        "X_test.shape"
      ],
      "metadata": {
        "colab": {
          "base_uri": "https://localhost:8080/"
        },
        "id": "cfb0f1XjhrEY",
        "outputId": "819af01d-736b-4a54-ebc8-f5e74e0eb7fd"
      },
      "execution_count": 38,
      "outputs": [
        {
          "output_type": "execute_result",
          "data": {
            "text/plain": [
              "(1977, 13)"
            ]
          },
          "metadata": {},
          "execution_count": 38
        }
      ]
    },
    {
      "cell_type": "code",
      "source": [
        "scaler = StandardScaler()"
      ],
      "metadata": {
        "id": "3vNCap6kh59u"
      },
      "execution_count": 39,
      "outputs": []
    },
    {
      "cell_type": "code",
      "source": [
        "X_train_sc = scaler.fit_transform(X_train)\n",
        "X_test_sc = scaler.transform(X_test)"
      ],
      "metadata": {
        "id": "CZ4XA83HiBb8"
      },
      "execution_count": 40,
      "outputs": []
    },
    {
      "cell_type": "markdown",
      "metadata": {
        "id": "cTPhO6v-AiZt"
      },
      "source": [
        "## Question 4"
      ]
    },
    {
      "cell_type": "markdown",
      "metadata": {
        "id": "SsZXmF3NAkna"
      },
      "source": [
        "### Create a Deep Neural Network Model for Regression\n",
        "- Initialize a Sequential model\n",
        "- Add 3 hidden layer with activation relu (Number of neurons = 64,128,32 respectively)\n",
        "- Add dropout layer after each hidden layer\n",
        "- Add a Dense layer with one neuron as output, use activation linear\n",
        "  \n"
      ]
    },
    {
      "cell_type": "code",
      "source": [
        "X_train.shape"
      ],
      "metadata": {
        "colab": {
          "base_uri": "https://localhost:8080/"
        },
        "id": "gLRGPdYqkR0W",
        "outputId": "eff4d94a-118f-474a-96f2-e11e86f0b7aa"
      },
      "execution_count": 41,
      "outputs": [
        {
          "output_type": "execute_result",
          "data": {
            "text/plain": [
              "(5929, 13)"
            ]
          },
          "metadata": {},
          "execution_count": 41
        }
      ]
    },
    {
      "cell_type": "code",
      "metadata": {
        "id": "aKs04iIHAjxN"
      },
      "source": [
        "model = Sequential()\n",
        "\n",
        "# input layer has 13 features\n",
        "model.add(tf.keras.Input(shape=(13)))\n",
        "\n",
        "model.add(Dense(64, activation='relu'))\n",
        "model.add(Dropout(0.2))\n",
        "\n",
        "model.add(Dense(128, activation='relu'))\n",
        "model.add(Dropout(0.2))\n",
        "\n",
        "model.add(Dense(32, activation='relu'))\n",
        "model.add(Dropout(0.2))\n",
        "\n",
        "model.add(Dense(1 ,activation='linear'))\n"
      ],
      "execution_count": 42,
      "outputs": []
    },
    {
      "cell_type": "markdown",
      "metadata": {
        "id": "aHstM0fX_-kI"
      },
      "source": [
        "### Check model summary and visualize the model"
      ]
    },
    {
      "cell_type": "code",
      "metadata": {
        "id": "xQjCMzUXBJbg",
        "colab": {
          "base_uri": "https://localhost:8080/"
        },
        "outputId": "8aeba06b-fbe9-4892-b02f-1a9ff8f92661"
      },
      "source": [
        "model.summary()"
      ],
      "execution_count": 43,
      "outputs": [
        {
          "output_type": "stream",
          "name": "stdout",
          "text": [
            "Model: \"sequential\"\n",
            "_________________________________________________________________\n",
            " Layer (type)                Output Shape              Param #   \n",
            "=================================================================\n",
            " dense (Dense)               (None, 64)                896       \n",
            "                                                                 \n",
            " dropout (Dropout)           (None, 64)                0         \n",
            "                                                                 \n",
            " dense_1 (Dense)             (None, 128)               8320      \n",
            "                                                                 \n",
            " dropout_1 (Dropout)         (None, 128)               0         \n",
            "                                                                 \n",
            " dense_2 (Dense)             (None, 32)                4128      \n",
            "                                                                 \n",
            " dropout_2 (Dropout)         (None, 32)                0         \n",
            "                                                                 \n",
            " dense_3 (Dense)             (None, 1)                 33        \n",
            "                                                                 \n",
            "=================================================================\n",
            "Total params: 13,377\n",
            "Trainable params: 13,377\n",
            "Non-trainable params: 0\n",
            "_________________________________________________________________\n"
          ]
        }
      ]
    },
    {
      "cell_type": "code",
      "metadata": {
        "id": "Ksap6Rx0BNIw",
        "colab": {
          "base_uri": "https://localhost:8080/",
          "height": 865
        },
        "outputId": "04bf04e8-ab9c-452b-d867-38da6c944182"
      },
      "source": [
        "plot_model(model, show_shapes=True, show_layer_names=True)"
      ],
      "execution_count": 44,
      "outputs": [
        {
          "output_type": "execute_result",
          "data": {
            "image/png": "[encoded data removed]",
            "text/plain": [
              "<IPython.core.display.Image object>"
            ]
          },
          "metadata": {},
          "execution_count": 44
        }
      ]
    },
    {
      "cell_type": "markdown",
      "metadata": {
        "id": "y7WTmUI-Ey95"
      },
      "source": [
        "## Question 5"
      ]
    },
    {
      "cell_type": "markdown",
      "metadata": {
        "id": "C8u_jlbABTip"
      },
      "source": [
        "### Compile the model\n",
        "\n",
        "- Compile the model\n",
        "- Use \"adam\" optimizer\n",
        "- for calculating loss, use mean absolute error\n",
        "- use R2 score (coefficient of determination) as the metric"
      ]
    },
    {
      "cell_type": "code",
      "source": [
        "def r_2_score(y_true, y_pred):\n",
        "    SS_resid =  K.sum(K.square( y_true-y_pred )) \n",
        "    SS_total = K.sum(K.square( y_true - K.mean(y_true) ) ) \n",
        "    return ( 1 - SS_resid/(SS_total + 0.0000001 ))  # 0.0000001 to avoid division by 0"
      ],
      "metadata": {
        "id": "rRXFgkP8o0fZ"
      },
      "execution_count": 45,
      "outputs": []
    },
    {
      "cell_type": "code",
      "metadata": {
        "id": "0aDDAcT7xHB0"
      },
      "source": [
        "model.compile(loss='mean_absolute_error', optimizer='adam', metrics=[r_2_score])"
      ],
      "execution_count": 46,
      "outputs": []
    },
    {
      "cell_type": "markdown",
      "metadata": {
        "id": "s-ntyk6k_EmT"
      },
      "source": [
        "Other metrics can also be used to track the learning of the model:\n",
        "\n",
        "To learn different metrics for classification and regression visit the following link:\n",
        "\n",
        "Link: https://keras.io/api/metrics/#usage-with-compile-amp-fit"
      ]
    },
    {
      "cell_type": "markdown",
      "metadata": {
        "id": "n9o45OHdjDhA"
      },
      "source": [
        "### Train your model\n",
        "\n",
        "- epochs: 1000\n",
        "- batch size: 32\n",
        "- Use test data as validation data\n",
        "- Also add callback, such that if validation loss doesn't decreases consecutively 10 times, stop the training and return the weights for the previous best model"
      ]
    },
    {
      "cell_type": "code",
      "metadata": {
        "id": "-Y6tA30XjOH2",
        "colab": {
          "base_uri": "https://localhost:8080/"
        },
        "outputId": "2903063d-cb2d-4747-c430-6f45cb29f8ac"
      },
      "source": [
        "callback = tf.keras.callbacks.EarlyStopping(monitor='val_loss', patience=10, restore_best_weights=True, mode='min')\n",
        "\n",
        "history = model.fit(X_train_sc, y_train, batch_size=32, epochs=1000, verbose=1, validation_data=(X_test_sc, y_test), callbacks=callback)"
      ],
      "execution_count": 47,
      "outputs": [
        {
          "output_type": "stream",
          "name": "stdout",
          "text": [
            "Epoch 1/1000\n",
            "186/186 [==============================] - 2s 8ms/step - loss: 647184.0625 - r_2_score: -1.1695 - val_loss: 647979.1875 - val_r_2_score: -1.0132\n",
            "Epoch 2/1000\n",
            "186/186 [==============================] - 1s 6ms/step - loss: 601280.0000 - r_2_score: -1.0288 - val_loss: 529978.8125 - val_r_2_score: -0.6128\n",
            "Epoch 3/1000\n",
            "186/186 [==============================] - 1s 6ms/step - loss: 418916.3125 - r_2_score: -0.2800 - val_loss: 330499.6875 - val_r_2_score: 0.1595\n",
            "Epoch 4/1000\n",
            "186/186 [==============================] - 1s 5ms/step - loss: 287729.3125 - r_2_score: 0.3180 - val_loss: 259395.1250 - val_r_2_score: 0.4763\n",
            "Epoch 5/1000\n",
            "186/186 [==============================] - 1s 5ms/step - loss: 243424.6094 - r_2_score: 0.5382 - val_loss: 228495.1406 - val_r_2_score: 0.6090\n",
            "Epoch 6/1000\n",
            "186/186 [==============================] - 1s 7ms/step - loss: 224570.0312 - r_2_score: 0.5993 - val_loss: 211676.5781 - val_r_2_score: 0.6579\n",
            "Epoch 7/1000\n",
            "186/186 [==============================] - 2s 12ms/step - loss: 213628.9844 - r_2_score: 0.6338 - val_loss: 200683.8281 - val_r_2_score: 0.6916\n",
            "Epoch 8/1000\n",
            "186/186 [==============================] - 2s 10ms/step - loss: 203207.7812 - r_2_score: 0.6543 - val_loss: 195140.5156 - val_r_2_score: 0.7050\n",
            "Epoch 9/1000\n",
            "186/186 [==============================] - 2s 10ms/step - loss: 198108.1875 - r_2_score: 0.6714 - val_loss: 190803.0781 - val_r_2_score: 0.7189\n",
            "Epoch 10/1000\n",
            "186/186 [==============================] - 2s 11ms/step - loss: 198339.5781 - r_2_score: 0.6726 - val_loss: 188974.9688 - val_r_2_score: 0.7188\n",
            "Epoch 11/1000\n",
            "186/186 [==============================] - 2s 11ms/step - loss: 196851.3750 - r_2_score: 0.6950 - val_loss: 186546.8438 - val_r_2_score: 0.7249\n",
            "Epoch 12/1000\n",
            "186/186 [==============================] - 2s 12ms/step - loss: 193581.5312 - r_2_score: 0.6827 - val_loss: 185588.7812 - val_r_2_score: 0.7257\n",
            "Epoch 13/1000\n",
            "186/186 [==============================] - 2s 12ms/step - loss: 192963.7031 - r_2_score: 0.6841 - val_loss: 183810.9688 - val_r_2_score: 0.7310\n",
            "Epoch 14/1000\n",
            "186/186 [==============================] - 3s 14ms/step - loss: 191698.5781 - r_2_score: 0.6942 - val_loss: 182816.7344 - val_r_2_score: 0.7331\n",
            "Epoch 15/1000\n",
            "186/186 [==============================] - 2s 13ms/step - loss: 192605.7031 - r_2_score: 0.6849 - val_loss: 181741.1719 - val_r_2_score: 0.7353\n",
            "Epoch 16/1000\n",
            "186/186 [==============================] - 2s 10ms/step - loss: 191489.6875 - r_2_score: 0.6804 - val_loss: 180505.8125 - val_r_2_score: 0.7385\n",
            "Epoch 17/1000\n",
            "186/186 [==============================] - 2s 10ms/step - loss: 191227.0312 - r_2_score: 0.6962 - val_loss: 179255.1875 - val_r_2_score: 0.7418\n",
            "Epoch 18/1000\n",
            "186/186 [==============================] - 1s 5ms/step - loss: 185462.8281 - r_2_score: 0.7024 - val_loss: 177885.8438 - val_r_2_score: 0.7456\n",
            "Epoch 19/1000\n",
            "186/186 [==============================] - 1s 5ms/step - loss: 184273.7500 - r_2_score: 0.7080 - val_loss: 176850.9062 - val_r_2_score: 0.7479\n",
            "Epoch 20/1000\n",
            "186/186 [==============================] - 1s 5ms/step - loss: 182938.1250 - r_2_score: 0.7196 - val_loss: 176005.4375 - val_r_2_score: 0.7492\n",
            "Epoch 21/1000\n",
            "186/186 [==============================] - 1s 5ms/step - loss: 183309.3906 - r_2_score: 0.7227 - val_loss: 174790.2656 - val_r_2_score: 0.7534\n",
            "Epoch 22/1000\n",
            "186/186 [==============================] - 1s 6ms/step - loss: 184868.3281 - r_2_score: 0.7184 - val_loss: 174540.5469 - val_r_2_score: 0.7532\n",
            "Epoch 23/1000\n",
            "186/186 [==============================] - 1s 6ms/step - loss: 183433.8438 - r_2_score: 0.7230 - val_loss: 173147.1562 - val_r_2_score: 0.7558\n",
            "Epoch 24/1000\n",
            "186/186 [==============================] - 1s 5ms/step - loss: 181368.8594 - r_2_score: 0.7262 - val_loss: 172253.5469 - val_r_2_score: 0.7576\n",
            "Epoch 25/1000\n",
            "186/186 [==============================] - 1s 5ms/step - loss: 181104.5781 - r_2_score: 0.7273 - val_loss: 172832.8125 - val_r_2_score: 0.7557\n",
            "Epoch 26/1000\n",
            "186/186 [==============================] - 1s 6ms/step - loss: 182423.4844 - r_2_score: 0.7122 - val_loss: 171396.2500 - val_r_2_score: 0.7596\n",
            "Epoch 27/1000\n",
            "186/186 [==============================] - 1s 6ms/step - loss: 180712.8906 - r_2_score: 0.7144 - val_loss: 170114.2500 - val_r_2_score: 0.7624\n",
            "Epoch 28/1000\n",
            "186/186 [==============================] - 1s 5ms/step - loss: 180410.0938 - r_2_score: 0.7408 - val_loss: 169403.6406 - val_r_2_score: 0.7642\n",
            "Epoch 29/1000\n",
            "186/186 [==============================] - 1s 5ms/step - loss: 181608.9219 - r_2_score: 0.7403 - val_loss: 169449.6250 - val_r_2_score: 0.7649\n",
            "Epoch 30/1000\n",
            "186/186 [==============================] - 1s 5ms/step - loss: 179732.5156 - r_2_score: 0.7229 - val_loss: 167824.8438 - val_r_2_score: 0.7678\n",
            "Epoch 31/1000\n",
            "186/186 [==============================] - 1s 5ms/step - loss: 179009.8438 - r_2_score: 0.7308 - val_loss: 167847.8438 - val_r_2_score: 0.7676\n",
            "Epoch 32/1000\n",
            "186/186 [==============================] - 1s 5ms/step - loss: 179245.9375 - r_2_score: 0.7345 - val_loss: 166508.3594 - val_r_2_score: 0.7701\n",
            "Epoch 33/1000\n",
            "186/186 [==============================] - 1s 5ms/step - loss: 178861.7500 - r_2_score: 0.7445 - val_loss: 166557.1562 - val_r_2_score: 0.7692\n",
            "Epoch 34/1000\n",
            "186/186 [==============================] - 1s 5ms/step - loss: 179365.1094 - r_2_score: 0.7021 - val_loss: 165246.0156 - val_r_2_score: 0.7711\n",
            "Epoch 35/1000\n",
            "186/186 [==============================] - 1s 5ms/step - loss: 174442.2500 - r_2_score: 0.7460 - val_loss: 164491.2500 - val_r_2_score: 0.7738\n",
            "Epoch 36/1000\n",
            "186/186 [==============================] - 1s 5ms/step - loss: 175008.6406 - r_2_score: 0.7369 - val_loss: 163302.2812 - val_r_2_score: 0.7757\n",
            "Epoch 37/1000\n",
            "186/186 [==============================] - 1s 5ms/step - loss: 175506.3906 - r_2_score: 0.7312 - val_loss: 162384.9688 - val_r_2_score: 0.7774\n",
            "Epoch 38/1000\n",
            "186/186 [==============================] - 1s 5ms/step - loss: 173110.1719 - r_2_score: 0.7484 - val_loss: 162727.7969 - val_r_2_score: 0.7778\n",
            "Epoch 39/1000\n",
            "186/186 [==============================] - 1s 5ms/step - loss: 171868.1250 - r_2_score: 0.7679 - val_loss: 161792.7500 - val_r_2_score: 0.7789\n",
            "Epoch 40/1000\n",
            "186/186 [==============================] - 1s 5ms/step - loss: 174471.1250 - r_2_score: 0.7501 - val_loss: 161176.7188 - val_r_2_score: 0.7794\n",
            "Epoch 41/1000\n",
            "186/186 [==============================] - 1s 5ms/step - loss: 171444.9219 - r_2_score: 0.7628 - val_loss: 160755.2500 - val_r_2_score: 0.7807\n",
            "Epoch 42/1000\n",
            "186/186 [==============================] - 1s 5ms/step - loss: 171492.6250 - r_2_score: 0.7380 - val_loss: 159522.0156 - val_r_2_score: 0.7818\n",
            "Epoch 43/1000\n",
            "186/186 [==============================] - 1s 5ms/step - loss: 171184.7812 - r_2_score: 0.7607 - val_loss: 158911.3125 - val_r_2_score: 0.7844\n",
            "Epoch 44/1000\n",
            "186/186 [==============================] - 1s 6ms/step - loss: 169629.5156 - r_2_score: 0.7658 - val_loss: 159626.7344 - val_r_2_score: 0.7833\n",
            "Epoch 45/1000\n",
            "186/186 [==============================] - 1s 5ms/step - loss: 172599.9219 - r_2_score: 0.7388 - val_loss: 158135.0000 - val_r_2_score: 0.7852\n",
            "Epoch 46/1000\n",
            "186/186 [==============================] - 1s 5ms/step - loss: 170204.2656 - r_2_score: 0.7523 - val_loss: 158916.5625 - val_r_2_score: 0.7859\n",
            "Epoch 47/1000\n",
            "186/186 [==============================] - 1s 5ms/step - loss: 170128.5938 - r_2_score: 0.7595 - val_loss: 157827.0625 - val_r_2_score: 0.7872\n",
            "Epoch 48/1000\n",
            "186/186 [==============================] - 1s 5ms/step - loss: 172519.1562 - r_2_score: 0.7576 - val_loss: 156853.1250 - val_r_2_score: 0.7884\n",
            "Epoch 49/1000\n",
            "186/186 [==============================] - 1s 5ms/step - loss: 167036.3438 - r_2_score: 0.7563 - val_loss: 156643.3906 - val_r_2_score: 0.7888\n",
            "Epoch 50/1000\n",
            "186/186 [==============================] - 1s 6ms/step - loss: 169777.3594 - r_2_score: 0.7643 - val_loss: 155238.1250 - val_r_2_score: 0.7898\n",
            "Epoch 51/1000\n",
            "186/186 [==============================] - 2s 11ms/step - loss: 167337.3281 - r_2_score: 0.7841 - val_loss: 154761.6094 - val_r_2_score: 0.7906\n",
            "Epoch 52/1000\n",
            "186/186 [==============================] - 2s 12ms/step - loss: 168900.5625 - r_2_score: 0.7565 - val_loss: 155502.9688 - val_r_2_score: 0.7907\n",
            "Epoch 53/1000\n",
            "186/186 [==============================] - 2s 13ms/step - loss: 168508.9375 - r_2_score: 0.7659 - val_loss: 154568.8594 - val_r_2_score: 0.7919\n",
            "Epoch 54/1000\n",
            "186/186 [==============================] - 2s 13ms/step - loss: 169867.5625 - r_2_score: 0.7642 - val_loss: 153807.4844 - val_r_2_score: 0.7939\n",
            "Epoch 55/1000\n",
            "186/186 [==============================] - 2s 13ms/step - loss: 167892.2969 - r_2_score: 0.7814 - val_loss: 153430.2031 - val_r_2_score: 0.7940\n",
            "Epoch 56/1000\n",
            "186/186 [==============================] - 3s 14ms/step - loss: 166790.5938 - r_2_score: 0.7650 - val_loss: 152551.2656 - val_r_2_score: 0.7955\n",
            "Epoch 57/1000\n",
            "186/186 [==============================] - 3s 15ms/step - loss: 165330.9375 - r_2_score: 0.7699 - val_loss: 151638.5000 - val_r_2_score: 0.7965\n",
            "Epoch 58/1000\n",
            "186/186 [==============================] - 3s 14ms/step - loss: 165493.2344 - r_2_score: 0.7716 - val_loss: 153106.7969 - val_r_2_score: 0.7958\n",
            "Epoch 59/1000\n",
            "186/186 [==============================] - 2s 11ms/step - loss: 165939.6875 - r_2_score: 0.7836 - val_loss: 151256.2812 - val_r_2_score: 0.7983\n",
            "Epoch 60/1000\n",
            "186/186 [==============================] - 2s 10ms/step - loss: 169064.2969 - r_2_score: 0.7653 - val_loss: 150143.4062 - val_r_2_score: 0.7995\n",
            "Epoch 61/1000\n",
            "186/186 [==============================] - 2s 11ms/step - loss: 165172.5625 - r_2_score: 0.7759 - val_loss: 150209.3906 - val_r_2_score: 0.7999\n",
            "Epoch 62/1000\n",
            "186/186 [==============================] - 2s 10ms/step - loss: 166702.1094 - r_2_score: 0.7542 - val_loss: 150817.4062 - val_r_2_score: 0.8000\n",
            "Epoch 63/1000\n",
            "186/186 [==============================] - 2s 10ms/step - loss: 165774.8750 - r_2_score: 0.7826 - val_loss: 149356.2812 - val_r_2_score: 0.8025\n",
            "Epoch 64/1000\n",
            "186/186 [==============================] - 2s 10ms/step - loss: 165759.8281 - r_2_score: 0.7691 - val_loss: 150193.5312 - val_r_2_score: 0.8014\n",
            "Epoch 65/1000\n",
            "186/186 [==============================] - 1s 6ms/step - loss: 165250.9219 - r_2_score: 0.7813 - val_loss: 150018.1875 - val_r_2_score: 0.8010\n",
            "Epoch 66/1000\n",
            "186/186 [==============================] - 1s 6ms/step - loss: 164181.8281 - r_2_score: 0.7787 - val_loss: 148567.0312 - val_r_2_score: 0.8030\n",
            "Epoch 67/1000\n",
            "186/186 [==============================] - 1s 5ms/step - loss: 164627.8125 - r_2_score: 0.7800 - val_loss: 148632.2344 - val_r_2_score: 0.8052\n",
            "Epoch 68/1000\n",
            "186/186 [==============================] - 1s 6ms/step - loss: 164862.2344 - r_2_score: 0.7635 - val_loss: 147524.9062 - val_r_2_score: 0.8058\n",
            "Epoch 69/1000\n",
            "186/186 [==============================] - 1s 6ms/step - loss: 163372.7500 - r_2_score: 0.7809 - val_loss: 147319.3750 - val_r_2_score: 0.8061\n",
            "Epoch 70/1000\n",
            "186/186 [==============================] - 1s 6ms/step - loss: 161598.3125 - r_2_score: 0.7727 - val_loss: 146732.9375 - val_r_2_score: 0.8062\n",
            "Epoch 71/1000\n",
            "186/186 [==============================] - 1s 7ms/step - loss: 162578.7031 - r_2_score: 0.7732 - val_loss: 145878.5625 - val_r_2_score: 0.8069\n",
            "Epoch 72/1000\n",
            "186/186 [==============================] - 1s 6ms/step - loss: 164397.5469 - r_2_score: 0.7832 - val_loss: 146187.4531 - val_r_2_score: 0.8077\n",
            "Epoch 73/1000\n",
            "186/186 [==============================] - 1s 6ms/step - loss: 163752.9844 - r_2_score: 0.7647 - val_loss: 145433.1250 - val_r_2_score: 0.8095\n",
            "Epoch 74/1000\n",
            "186/186 [==============================] - 1s 6ms/step - loss: 163441.0781 - r_2_score: 0.7800 - val_loss: 145081.6562 - val_r_2_score: 0.8091\n",
            "Epoch 75/1000\n",
            "186/186 [==============================] - 1s 6ms/step - loss: 159771.2500 - r_2_score: 0.7800 - val_loss: 145000.1875 - val_r_2_score: 0.8079\n",
            "Epoch 76/1000\n",
            "186/186 [==============================] - 1s 6ms/step - loss: 160342.7188 - r_2_score: 0.7811 - val_loss: 145042.5469 - val_r_2_score: 0.8087\n",
            "Epoch 77/1000\n",
            "186/186 [==============================] - 1s 6ms/step - loss: 159989.7188 - r_2_score: 0.7915 - val_loss: 144588.6562 - val_r_2_score: 0.8085\n",
            "Epoch 78/1000\n",
            "186/186 [==============================] - 1s 5ms/step - loss: 161685.0312 - r_2_score: 0.7571 - val_loss: 144284.9688 - val_r_2_score: 0.8093\n",
            "Epoch 79/1000\n",
            "186/186 [==============================] - 1s 6ms/step - loss: 160654.0625 - r_2_score: 0.7842 - val_loss: 144089.6875 - val_r_2_score: 0.8100\n",
            "Epoch 80/1000\n",
            "186/186 [==============================] - 1s 6ms/step - loss: 159570.1094 - r_2_score: 0.7676 - val_loss: 144086.3281 - val_r_2_score: 0.8120\n",
            "Epoch 81/1000\n",
            "186/186 [==============================] - 1s 5ms/step - loss: 159176.0156 - r_2_score: 0.7909 - val_loss: 142688.9531 - val_r_2_score: 0.8127\n",
            "Epoch 82/1000\n",
            "186/186 [==============================] - 1s 5ms/step - loss: 159573.6094 - r_2_score: 0.7845 - val_loss: 142992.7812 - val_r_2_score: 0.8130\n",
            "Epoch 83/1000\n",
            "186/186 [==============================] - 1s 6ms/step - loss: 158441.3594 - r_2_score: 0.7873 - val_loss: 141870.1094 - val_r_2_score: 0.8115\n",
            "Epoch 84/1000\n",
            "186/186 [==============================] - 1s 6ms/step - loss: 159040.0938 - r_2_score: 0.7813 - val_loss: 141647.0469 - val_r_2_score: 0.8121\n",
            "Epoch 85/1000\n",
            "186/186 [==============================] - 2s 8ms/step - loss: 160591.3438 - r_2_score: 0.7871 - val_loss: 141926.7656 - val_r_2_score: 0.8153\n",
            "Epoch 86/1000\n",
            "186/186 [==============================] - 2s 10ms/step - loss: 157087.4062 - r_2_score: 0.7281 - val_loss: 141093.7500 - val_r_2_score: 0.8147\n",
            "Epoch 87/1000\n",
            "186/186 [==============================] - 2s 10ms/step - loss: 157967.9062 - r_2_score: 0.7519 - val_loss: 142345.4844 - val_r_2_score: 0.8162\n",
            "Epoch 88/1000\n",
            "186/186 [==============================] - 2s 11ms/step - loss: 156300.8125 - r_2_score: 0.7892 - val_loss: 142101.2031 - val_r_2_score: 0.8177\n",
            "Epoch 89/1000\n",
            "186/186 [==============================] - 2s 10ms/step - loss: 154984.3906 - r_2_score: 0.7804 - val_loss: 139791.9531 - val_r_2_score: 0.8148\n",
            "Epoch 90/1000\n",
            "186/186 [==============================] - 2s 10ms/step - loss: 159406.5000 - r_2_score: 0.7908 - val_loss: 140330.0000 - val_r_2_score: 0.8170\n",
            "Epoch 91/1000\n",
            "186/186 [==============================] - 2s 9ms/step - loss: 155321.0156 - r_2_score: 0.7967 - val_loss: 139399.0469 - val_r_2_score: 0.8156\n",
            "Epoch 92/1000\n",
            "186/186 [==============================] - 1s 6ms/step - loss: 156769.1875 - r_2_score: 0.7842 - val_loss: 138749.8281 - val_r_2_score: 0.8184\n",
            "Epoch 93/1000\n",
            "186/186 [==============================] - 1s 8ms/step - loss: 153908.0781 - r_2_score: 0.8173 - val_loss: 138549.4531 - val_r_2_score: 0.8202\n",
            "Epoch 94/1000\n",
            "186/186 [==============================] - 2s 11ms/step - loss: 155650.7500 - r_2_score: 0.7836 - val_loss: 138713.8438 - val_r_2_score: 0.8217\n",
            "Epoch 95/1000\n",
            "186/186 [==============================] - 2s 11ms/step - loss: 158296.8594 - r_2_score: 0.7796 - val_loss: 138066.5000 - val_r_2_score: 0.8215\n",
            "Epoch 96/1000\n",
            "186/186 [==============================] - 2s 11ms/step - loss: 153042.9531 - r_2_score: 0.8022 - val_loss: 138036.9688 - val_r_2_score: 0.8200\n",
            "Epoch 97/1000\n",
            "186/186 [==============================] - 2s 10ms/step - loss: 152729.9219 - r_2_score: 0.8050 - val_loss: 137390.5000 - val_r_2_score: 0.8217\n",
            "Epoch 98/1000\n",
            "186/186 [==============================] - 2s 10ms/step - loss: 152432.9688 - r_2_score: 0.7881 - val_loss: 137019.1562 - val_r_2_score: 0.8220\n",
            "Epoch 99/1000\n",
            "186/186 [==============================] - 2s 9ms/step - loss: 151265.0781 - r_2_score: 0.7993 - val_loss: 137044.3750 - val_r_2_score: 0.8237\n",
            "Epoch 100/1000\n",
            "186/186 [==============================] - 1s 6ms/step - loss: 153539.6250 - r_2_score: 0.8156 - val_loss: 137121.1406 - val_r_2_score: 0.8247\n",
            "Epoch 101/1000\n",
            "186/186 [==============================] - 1s 6ms/step - loss: 153466.4688 - r_2_score: 0.8122 - val_loss: 136652.9688 - val_r_2_score: 0.8269\n",
            "Epoch 102/1000\n",
            "186/186 [==============================] - 1s 6ms/step - loss: 152157.2031 - r_2_score: 0.7989 - val_loss: 136730.4844 - val_r_2_score: 0.8250\n",
            "Epoch 103/1000\n",
            "186/186 [==============================] - 1s 6ms/step - loss: 157576.3281 - r_2_score: 0.7792 - val_loss: 136309.7656 - val_r_2_score: 0.8266\n",
            "Epoch 104/1000\n",
            "186/186 [==============================] - 2s 10ms/step - loss: 151576.5312 - r_2_score: 0.7827 - val_loss: 136014.7656 - val_r_2_score: 0.8271\n",
            "Epoch 105/1000\n",
            "186/186 [==============================] - 2s 11ms/step - loss: 152347.6406 - r_2_score: 0.7943 - val_loss: 136970.7969 - val_r_2_score: 0.8290\n",
            "Epoch 106/1000\n",
            "186/186 [==============================] - 2s 10ms/step - loss: 151746.2500 - r_2_score: 0.7980 - val_loss: 135230.0000 - val_r_2_score: 0.8299\n",
            "Epoch 107/1000\n",
            "186/186 [==============================] - 2s 10ms/step - loss: 153630.1406 - r_2_score: 0.7831 - val_loss: 134629.4688 - val_r_2_score: 0.8302\n",
            "Epoch 108/1000\n",
            "186/186 [==============================] - 3s 13ms/step - loss: 152282.7656 - r_2_score: 0.7953 - val_loss: 134226.6875 - val_r_2_score: 0.8287\n",
            "Epoch 109/1000\n",
            "186/186 [==============================] - 2s 10ms/step - loss: 152290.6875 - r_2_score: 0.7937 - val_loss: 134874.5156 - val_r_2_score: 0.8308\n",
            "Epoch 110/1000\n",
            "186/186 [==============================] - 2s 11ms/step - loss: 149068.4844 - r_2_score: 0.8071 - val_loss: 134217.7031 - val_r_2_score: 0.8325\n",
            "Epoch 111/1000\n",
            "186/186 [==============================] - 2s 10ms/step - loss: 150672.7500 - r_2_score: 0.8110 - val_loss: 135077.4688 - val_r_2_score: 0.8348\n",
            "Epoch 112/1000\n",
            "186/186 [==============================] - 1s 7ms/step - loss: 151557.6094 - r_2_score: 0.8062 - val_loss: 133616.0156 - val_r_2_score: 0.8354\n",
            "Epoch 113/1000\n",
            "186/186 [==============================] - 1s 6ms/step - loss: 150241.7031 - r_2_score: 0.8040 - val_loss: 133727.3125 - val_r_2_score: 0.8369\n",
            "Epoch 114/1000\n",
            "186/186 [==============================] - 1s 6ms/step - loss: 153101.9062 - r_2_score: 0.7996 - val_loss: 133512.9531 - val_r_2_score: 0.8375\n",
            "Epoch 115/1000\n",
            "186/186 [==============================] - 1s 6ms/step - loss: 149728.5156 - r_2_score: 0.8185 - val_loss: 133860.9062 - val_r_2_score: 0.8379\n",
            "Epoch 116/1000\n",
            "186/186 [==============================] - 1s 6ms/step - loss: 151110.0938 - r_2_score: 0.7942 - val_loss: 133185.2500 - val_r_2_score: 0.8392\n",
            "Epoch 117/1000\n",
            "186/186 [==============================] - 1s 7ms/step - loss: 151533.7969 - r_2_score: 0.8066 - val_loss: 132232.0938 - val_r_2_score: 0.8363\n",
            "Epoch 118/1000\n",
            "186/186 [==============================] - 1s 6ms/step - loss: 149666.2812 - r_2_score: 0.7846 - val_loss: 132575.6094 - val_r_2_score: 0.8392\n",
            "Epoch 119/1000\n",
            "186/186 [==============================] - 1s 6ms/step - loss: 151891.9062 - r_2_score: 0.7928 - val_loss: 132269.0781 - val_r_2_score: 0.8377\n",
            "Epoch 120/1000\n",
            "186/186 [==============================] - 1s 6ms/step - loss: 154172.9062 - r_2_score: 0.7702 - val_loss: 132205.0312 - val_r_2_score: 0.8405\n",
            "Epoch 121/1000\n",
            "186/186 [==============================] - 1s 6ms/step - loss: 151651.0938 - r_2_score: 0.8139 - val_loss: 132535.4688 - val_r_2_score: 0.8401\n",
            "Epoch 122/1000\n",
            "186/186 [==============================] - 1s 6ms/step - loss: 149922.8281 - r_2_score: 0.8122 - val_loss: 131126.5625 - val_r_2_score: 0.8407\n",
            "Epoch 123/1000\n",
            "186/186 [==============================] - 1s 7ms/step - loss: 149960.0156 - r_2_score: 0.8183 - val_loss: 131398.1719 - val_r_2_score: 0.8417\n",
            "Epoch 124/1000\n",
            "186/186 [==============================] - 2s 10ms/step - loss: 153989.7031 - r_2_score: 0.7916 - val_loss: 132265.2188 - val_r_2_score: 0.8423\n",
            "Epoch 125/1000\n",
            "186/186 [==============================] - 2s 11ms/step - loss: 148138.3750 - r_2_score: 0.7890 - val_loss: 130825.8906 - val_r_2_score: 0.8432\n",
            "Epoch 126/1000\n",
            "186/186 [==============================] - 2s 10ms/step - loss: 149791.3594 - r_2_score: 0.8178 - val_loss: 131426.6719 - val_r_2_score: 0.8454\n",
            "Epoch 127/1000\n",
            "186/186 [==============================] - 2s 9ms/step - loss: 147741.2188 - r_2_score: 0.8093 - val_loss: 131359.3281 - val_r_2_score: 0.8443\n",
            "Epoch 128/1000\n",
            "186/186 [==============================] - 2s 10ms/step - loss: 146757.3750 - r_2_score: 0.8332 - val_loss: 130650.7422 - val_r_2_score: 0.8455\n",
            "Epoch 129/1000\n",
            "186/186 [==============================] - 1s 6ms/step - loss: 147456.6094 - r_2_score: 0.8225 - val_loss: 129935.4922 - val_r_2_score: 0.8438\n",
            "Epoch 130/1000\n",
            "186/186 [==============================] - 1s 7ms/step - loss: 148266.8594 - r_2_score: 0.8087 - val_loss: 129839.0469 - val_r_2_score: 0.8459\n",
            "Epoch 131/1000\n",
            "186/186 [==============================] - 1s 6ms/step - loss: 147627.5156 - r_2_score: 0.8250 - val_loss: 130577.8359 - val_r_2_score: 0.8485\n",
            "Epoch 132/1000\n",
            "186/186 [==============================] - 1s 6ms/step - loss: 145640.6250 - r_2_score: 0.8252 - val_loss: 129601.5156 - val_r_2_score: 0.8474\n",
            "Epoch 133/1000\n",
            "186/186 [==============================] - 1s 6ms/step - loss: 148622.1562 - r_2_score: 0.8008 - val_loss: 130188.1719 - val_r_2_score: 0.8509\n",
            "Epoch 134/1000\n",
            "186/186 [==============================] - 1s 7ms/step - loss: 149567.2344 - r_2_score: 0.8101 - val_loss: 129325.8750 - val_r_2_score: 0.8487\n",
            "Epoch 135/1000\n",
            "186/186 [==============================] - 1s 6ms/step - loss: 146953.4375 - r_2_score: 0.8019 - val_loss: 129252.1172 - val_r_2_score: 0.8485\n",
            "Epoch 136/1000\n",
            "186/186 [==============================] - 1s 6ms/step - loss: 148070.2812 - r_2_score: 0.8212 - val_loss: 130351.3984 - val_r_2_score: 0.8506\n",
            "Epoch 137/1000\n",
            "186/186 [==============================] - 1s 6ms/step - loss: 148192.4219 - r_2_score: 0.8094 - val_loss: 129260.1719 - val_r_2_score: 0.8484\n",
            "Epoch 138/1000\n",
            "186/186 [==============================] - 1s 6ms/step - loss: 147188.7656 - r_2_score: 0.8134 - val_loss: 128477.9766 - val_r_2_score: 0.8469\n",
            "Epoch 139/1000\n",
            "186/186 [==============================] - 1s 6ms/step - loss: 148831.3438 - r_2_score: 0.7956 - val_loss: 128555.3984 - val_r_2_score: 0.8486\n",
            "Epoch 140/1000\n",
            "186/186 [==============================] - 1s 6ms/step - loss: 149312.0156 - r_2_score: 0.8199 - val_loss: 128832.0234 - val_r_2_score: 0.8516\n",
            "Epoch 141/1000\n",
            "186/186 [==============================] - 1s 6ms/step - loss: 143003.8125 - r_2_score: 0.8262 - val_loss: 129190.1172 - val_r_2_score: 0.8532\n",
            "Epoch 142/1000\n",
            "186/186 [==============================] - 1s 6ms/step - loss: 146578.6562 - r_2_score: 0.8185 - val_loss: 128550.8594 - val_r_2_score: 0.8551\n",
            "Epoch 143/1000\n",
            "186/186 [==============================] - 1s 6ms/step - loss: 149230.6719 - r_2_score: 0.8184 - val_loss: 128252.3438 - val_r_2_score: 0.8550\n",
            "Epoch 144/1000\n",
            "186/186 [==============================] - 1s 6ms/step - loss: 147658.0781 - r_2_score: 0.8047 - val_loss: 128418.8438 - val_r_2_score: 0.8551\n",
            "Epoch 145/1000\n",
            "186/186 [==============================] - 1s 6ms/step - loss: 145638.6562 - r_2_score: 0.8226 - val_loss: 127342.3516 - val_r_2_score: 0.8546\n",
            "Epoch 146/1000\n",
            "186/186 [==============================] - 1s 6ms/step - loss: 148868.1875 - r_2_score: 0.7995 - val_loss: 127575.0078 - val_r_2_score: 0.8572\n",
            "Epoch 147/1000\n",
            "186/186 [==============================] - 1s 6ms/step - loss: 148458.1562 - r_2_score: 0.8076 - val_loss: 128099.3047 - val_r_2_score: 0.8570\n",
            "Epoch 148/1000\n",
            "186/186 [==============================] - 1s 7ms/step - loss: 147171.9219 - r_2_score: 0.8064 - val_loss: 126833.8438 - val_r_2_score: 0.8576\n",
            "Epoch 149/1000\n",
            "186/186 [==============================] - 1s 5ms/step - loss: 149734.4219 - r_2_score: 0.8165 - val_loss: 126553.6016 - val_r_2_score: 0.8550\n",
            "Epoch 150/1000\n",
            "186/186 [==============================] - 1s 6ms/step - loss: 146740.1562 - r_2_score: 0.7954 - val_loss: 126948.5156 - val_r_2_score: 0.8575\n",
            "Epoch 151/1000\n",
            "186/186 [==============================] - 1s 6ms/step - loss: 145621.3125 - r_2_score: 0.8239 - val_loss: 126190.8750 - val_r_2_score: 0.8571\n",
            "Epoch 152/1000\n",
            "186/186 [==============================] - 1s 6ms/step - loss: 146574.1406 - r_2_score: 0.8077 - val_loss: 126001.5938 - val_r_2_score: 0.8580\n",
            "Epoch 153/1000\n",
            "186/186 [==============================] - 1s 6ms/step - loss: 144827.2812 - r_2_score: 0.8219 - val_loss: 127035.9453 - val_r_2_score: 0.8606\n",
            "Epoch 154/1000\n",
            "186/186 [==============================] - 1s 7ms/step - loss: 149592.8594 - r_2_score: 0.7990 - val_loss: 125504.4375 - val_r_2_score: 0.8592\n",
            "Epoch 155/1000\n",
            "186/186 [==============================] - 1s 6ms/step - loss: 147600.1562 - r_2_score: 0.8082 - val_loss: 126797.8750 - val_r_2_score: 0.8610\n",
            "Epoch 156/1000\n",
            "186/186 [==============================] - 1s 6ms/step - loss: 144486.2656 - r_2_score: 0.8184 - val_loss: 128038.5547 - val_r_2_score: 0.8615\n",
            "Epoch 157/1000\n",
            "186/186 [==============================] - 1s 7ms/step - loss: 148641.4688 - r_2_score: 0.8067 - val_loss: 125613.7031 - val_r_2_score: 0.8618\n",
            "Epoch 158/1000\n",
            "186/186 [==============================] - 1s 6ms/step - loss: 147296.9062 - r_2_score: 0.8126 - val_loss: 126284.4844 - val_r_2_score: 0.8631\n",
            "Epoch 159/1000\n",
            "186/186 [==============================] - 1s 6ms/step - loss: 142744.0156 - r_2_score: 0.8162 - val_loss: 124993.7891 - val_r_2_score: 0.8630\n",
            "Epoch 160/1000\n",
            "186/186 [==============================] - 1s 6ms/step - loss: 144417.8125 - r_2_score: 0.8169 - val_loss: 125247.9531 - val_r_2_score: 0.8633\n",
            "Epoch 161/1000\n",
            "186/186 [==============================] - 1s 7ms/step - loss: 142718.3281 - r_2_score: 0.8211 - val_loss: 124763.7344 - val_r_2_score: 0.8656\n",
            "Epoch 162/1000\n",
            "186/186 [==============================] - 1s 7ms/step - loss: 147988.6875 - r_2_score: 0.8284 - val_loss: 124372.0156 - val_r_2_score: 0.8660\n",
            "Epoch 163/1000\n",
            "186/186 [==============================] - 1s 6ms/step - loss: 144766.2656 - r_2_score: 0.8202 - val_loss: 125036.6641 - val_r_2_score: 0.8663\n",
            "Epoch 164/1000\n",
            "186/186 [==============================] - 1s 7ms/step - loss: 147027.9219 - r_2_score: 0.8021 - val_loss: 125854.9297 - val_r_2_score: 0.8669\n",
            "Epoch 165/1000\n",
            "186/186 [==============================] - 1s 6ms/step - loss: 143650.7969 - r_2_score: 0.8160 - val_loss: 124699.8516 - val_r_2_score: 0.8670\n",
            "Epoch 166/1000\n",
            "186/186 [==============================] - 1s 6ms/step - loss: 146324.5781 - r_2_score: 0.8252 - val_loss: 124737.7109 - val_r_2_score: 0.8661\n",
            "Epoch 167/1000\n",
            "186/186 [==============================] - 1s 6ms/step - loss: 144536.0781 - r_2_score: 0.8334 - val_loss: 124418.2578 - val_r_2_score: 0.8677\n",
            "Epoch 168/1000\n",
            "186/186 [==============================] - 1s 7ms/step - loss: 147988.8281 - r_2_score: 0.8200 - val_loss: 124935.8672 - val_r_2_score: 0.8691\n",
            "Epoch 169/1000\n",
            "186/186 [==============================] - 1s 7ms/step - loss: 146021.1719 - r_2_score: 0.8146 - val_loss: 124210.5078 - val_r_2_score: 0.8688\n",
            "Epoch 170/1000\n",
            "186/186 [==============================] - 1s 6ms/step - loss: 145241.9062 - r_2_score: 0.8190 - val_loss: 124882.1016 - val_r_2_score: 0.8687\n",
            "Epoch 171/1000\n",
            "186/186 [==============================] - 1s 6ms/step - loss: 146824.0469 - r_2_score: 0.8125 - val_loss: 124229.8672 - val_r_2_score: 0.8698\n",
            "Epoch 172/1000\n",
            "186/186 [==============================] - 1s 6ms/step - loss: 140608.1875 - r_2_score: 0.8274 - val_loss: 123728.8594 - val_r_2_score: 0.8699\n",
            "Epoch 173/1000\n",
            "186/186 [==============================] - 1s 6ms/step - loss: 144221.8281 - r_2_score: 0.8177 - val_loss: 124076.3828 - val_r_2_score: 0.8701\n",
            "Epoch 174/1000\n",
            "186/186 [==============================] - 1s 7ms/step - loss: 147048.1094 - r_2_score: 0.8175 - val_loss: 123370.0781 - val_r_2_score: 0.8699\n",
            "Epoch 175/1000\n",
            "186/186 [==============================] - 1s 7ms/step - loss: 141849.2656 - r_2_score: 0.8292 - val_loss: 123222.6562 - val_r_2_score: 0.8701\n",
            "Epoch 176/1000\n",
            "186/186 [==============================] - 1s 6ms/step - loss: 144454.4062 - r_2_score: 0.8296 - val_loss: 123570.1719 - val_r_2_score: 0.8698\n",
            "Epoch 177/1000\n",
            "186/186 [==============================] - 1s 6ms/step - loss: 142032.5312 - r_2_score: 0.8436 - val_loss: 123175.1172 - val_r_2_score: 0.8710\n",
            "Epoch 178/1000\n",
            "186/186 [==============================] - 1s 6ms/step - loss: 143640.0000 - r_2_score: 0.8177 - val_loss: 124158.1250 - val_r_2_score: 0.8708\n",
            "Epoch 179/1000\n",
            "186/186 [==============================] - 1s 7ms/step - loss: 144263.0938 - r_2_score: 0.8117 - val_loss: 123333.0000 - val_r_2_score: 0.8715\n",
            "Epoch 180/1000\n",
            "186/186 [==============================] - 2s 8ms/step - loss: 145988.6562 - r_2_score: 0.8186 - val_loss: 123618.3203 - val_r_2_score: 0.8728\n",
            "Epoch 181/1000\n",
            "186/186 [==============================] - 1s 6ms/step - loss: 144598.4375 - r_2_score: 0.8188 - val_loss: 122995.8750 - val_r_2_score: 0.8737\n",
            "Epoch 182/1000\n",
            "186/186 [==============================] - 1s 6ms/step - loss: 147307.9062 - r_2_score: 0.8111 - val_loss: 122963.9375 - val_r_2_score: 0.8741\n",
            "Epoch 183/1000\n",
            "186/186 [==============================] - 1s 6ms/step - loss: 142192.7969 - r_2_score: 0.8230 - val_loss: 122372.5391 - val_r_2_score: 0.8739\n",
            "Epoch 184/1000\n",
            "186/186 [==============================] - 1s 6ms/step - loss: 145733.3594 - r_2_score: 0.8280 - val_loss: 122610.9922 - val_r_2_score: 0.8746\n",
            "Epoch 185/1000\n",
            "186/186 [==============================] - 1s 6ms/step - loss: 143319.2188 - r_2_score: 0.8093 - val_loss: 122944.3047 - val_r_2_score: 0.8761\n",
            "Epoch 186/1000\n",
            "186/186 [==============================] - 1s 7ms/step - loss: 145251.0938 - r_2_score: 0.8211 - val_loss: 122247.8828 - val_r_2_score: 0.8753\n",
            "Epoch 187/1000\n",
            "186/186 [==============================] - 1s 6ms/step - loss: 145389.0625 - r_2_score: 0.8242 - val_loss: 122640.7344 - val_r_2_score: 0.8753\n",
            "Epoch 188/1000\n",
            "186/186 [==============================] - 1s 7ms/step - loss: 143595.8438 - r_2_score: 0.8311 - val_loss: 122301.5547 - val_r_2_score: 0.8755\n",
            "Epoch 189/1000\n",
            "186/186 [==============================] - 1s 6ms/step - loss: 143830.2344 - r_2_score: 0.8244 - val_loss: 122240.0703 - val_r_2_score: 0.8741\n",
            "Epoch 190/1000\n",
            "186/186 [==============================] - 1s 7ms/step - loss: 142671.2812 - r_2_score: 0.8289 - val_loss: 122505.5859 - val_r_2_score: 0.8756\n",
            "Epoch 191/1000\n",
            "186/186 [==============================] - 1s 6ms/step - loss: 144263.3125 - r_2_score: 0.8297 - val_loss: 121890.5859 - val_r_2_score: 0.8750\n",
            "Epoch 192/1000\n",
            "186/186 [==============================] - 1s 6ms/step - loss: 142294.8125 - r_2_score: 0.8206 - val_loss: 122268.7734 - val_r_2_score: 0.8772\n",
            "Epoch 193/1000\n",
            "186/186 [==============================] - 1s 6ms/step - loss: 141112.8438 - r_2_score: 0.8355 - val_loss: 121768.1953 - val_r_2_score: 0.8771\n",
            "Epoch 194/1000\n",
            "186/186 [==============================] - 1s 6ms/step - loss: 145160.7188 - r_2_score: 0.8305 - val_loss: 121453.8125 - val_r_2_score: 0.8780\n",
            "Epoch 195/1000\n",
            "186/186 [==============================] - 1s 6ms/step - loss: 143959.8281 - r_2_score: 0.8288 - val_loss: 121406.0703 - val_r_2_score: 0.8792\n",
            "Epoch 196/1000\n",
            "186/186 [==============================] - 1s 6ms/step - loss: 141641.9375 - r_2_score: 0.8331 - val_loss: 121866.7422 - val_r_2_score: 0.8788\n",
            "Epoch 197/1000\n",
            "186/186 [==============================] - 1s 6ms/step - loss: 141664.2188 - r_2_score: 0.8045 - val_loss: 121520.2266 - val_r_2_score: 0.8796\n",
            "Epoch 198/1000\n",
            "186/186 [==============================] - 1s 7ms/step - loss: 144384.6719 - r_2_score: 0.8262 - val_loss: 121515.4141 - val_r_2_score: 0.8792\n",
            "Epoch 199/1000\n",
            "186/186 [==============================] - 1s 6ms/step - loss: 144166.7344 - r_2_score: 0.8236 - val_loss: 121930.0234 - val_r_2_score: 0.8799\n",
            "Epoch 200/1000\n",
            "186/186 [==============================] - 1s 6ms/step - loss: 140766.3906 - r_2_score: 0.8327 - val_loss: 120996.4688 - val_r_2_score: 0.8805\n",
            "Epoch 201/1000\n",
            "186/186 [==============================] - 1s 6ms/step - loss: 143319.1406 - r_2_score: 0.8284 - val_loss: 120695.2578 - val_r_2_score: 0.8801\n",
            "Epoch 202/1000\n",
            "186/186 [==============================] - 1s 6ms/step - loss: 141308.5625 - r_2_score: 0.8259 - val_loss: 121242.8359 - val_r_2_score: 0.8808\n",
            "Epoch 203/1000\n",
            "186/186 [==============================] - 1s 6ms/step - loss: 140689.0469 - r_2_score: 0.8365 - val_loss: 121292.4453 - val_r_2_score: 0.8797\n",
            "Epoch 204/1000\n",
            "186/186 [==============================] - 1s 6ms/step - loss: 142921.3125 - r_2_score: 0.8216 - val_loss: 120885.2891 - val_r_2_score: 0.8797\n",
            "Epoch 205/1000\n",
            "186/186 [==============================] - 1s 6ms/step - loss: 144350.6562 - r_2_score: 0.8141 - val_loss: 120412.7031 - val_r_2_score: 0.8800\n",
            "Epoch 206/1000\n",
            "186/186 [==============================] - 1s 6ms/step - loss: 142053.9688 - r_2_score: 0.8193 - val_loss: 120236.2969 - val_r_2_score: 0.8818\n",
            "Epoch 207/1000\n",
            "186/186 [==============================] - 1s 6ms/step - loss: 142067.7344 - r_2_score: 0.8235 - val_loss: 120334.9453 - val_r_2_score: 0.8820\n",
            "Epoch 208/1000\n",
            "186/186 [==============================] - 1s 6ms/step - loss: 141501.2344 - r_2_score: 0.8278 - val_loss: 120825.1641 - val_r_2_score: 0.8813\n",
            "Epoch 209/1000\n",
            "186/186 [==============================] - 1s 6ms/step - loss: 145374.8125 - r_2_score: 0.8267 - val_loss: 120644.8750 - val_r_2_score: 0.8816\n",
            "Epoch 210/1000\n",
            "186/186 [==============================] - 1s 6ms/step - loss: 142380.1250 - r_2_score: 0.8272 - val_loss: 121110.1094 - val_r_2_score: 0.8811\n",
            "Epoch 211/1000\n",
            "186/186 [==============================] - 1s 6ms/step - loss: 142573.8594 - r_2_score: 0.8427 - val_loss: 119939.1016 - val_r_2_score: 0.8817\n",
            "Epoch 212/1000\n",
            "186/186 [==============================] - 1s 6ms/step - loss: 143610.2969 - r_2_score: 0.8166 - val_loss: 120371.0078 - val_r_2_score: 0.8815\n",
            "Epoch 213/1000\n",
            "186/186 [==============================] - 1s 6ms/step - loss: 140753.4844 - r_2_score: 0.8405 - val_loss: 119726.2344 - val_r_2_score: 0.8819\n",
            "Epoch 214/1000\n",
            "186/186 [==============================] - 1s 6ms/step - loss: 142662.1562 - r_2_score: 0.8232 - val_loss: 119769.1406 - val_r_2_score: 0.8801\n",
            "Epoch 215/1000\n",
            "186/186 [==============================] - 1s 6ms/step - loss: 141188.1562 - r_2_score: 0.8269 - val_loss: 120547.6797 - val_r_2_score: 0.8832\n",
            "Epoch 216/1000\n",
            "186/186 [==============================] - 1s 7ms/step - loss: 142649.4062 - r_2_score: 0.8273 - val_loss: 121136.6641 - val_r_2_score: 0.8814\n",
            "Epoch 217/1000\n",
            "186/186 [==============================] - 1s 6ms/step - loss: 141843.6094 - r_2_score: 0.8187 - val_loss: 119801.0703 - val_r_2_score: 0.8823\n",
            "Epoch 218/1000\n",
            "186/186 [==============================] - 1s 7ms/step - loss: 140024.1562 - r_2_score: 0.8317 - val_loss: 120575.7031 - val_r_2_score: 0.8841\n",
            "Epoch 219/1000\n",
            "186/186 [==============================] - 1s 6ms/step - loss: 142286.9219 - r_2_score: 0.8352 - val_loss: 119113.3125 - val_r_2_score: 0.8817\n",
            "Epoch 220/1000\n",
            "186/186 [==============================] - 1s 6ms/step - loss: 139925.3438 - r_2_score: 0.8306 - val_loss: 120307.1797 - val_r_2_score: 0.8847\n",
            "Epoch 221/1000\n",
            "186/186 [==============================] - 1s 6ms/step - loss: 138440.6094 - r_2_score: 0.8390 - val_loss: 118895.2812 - val_r_2_score: 0.8848\n",
            "Epoch 222/1000\n",
            "186/186 [==============================] - 1s 6ms/step - loss: 138816.4688 - r_2_score: 0.8427 - val_loss: 119056.2344 - val_r_2_score: 0.8854\n",
            "Epoch 223/1000\n",
            "186/186 [==============================] - 1s 7ms/step - loss: 142580.8750 - r_2_score: 0.8319 - val_loss: 118820.1953 - val_r_2_score: 0.8851\n",
            "Epoch 224/1000\n",
            "186/186 [==============================] - 1s 6ms/step - loss: 141027.7969 - r_2_score: 0.8334 - val_loss: 119154.3906 - val_r_2_score: 0.8862\n",
            "Epoch 225/1000\n",
            "186/186 [==============================] - 1s 6ms/step - loss: 145936.1719 - r_2_score: 0.8213 - val_loss: 118652.9531 - val_r_2_score: 0.8866\n",
            "Epoch 226/1000\n",
            "186/186 [==============================] - 1s 7ms/step - loss: 139760.9062 - r_2_score: 0.8372 - val_loss: 118010.2344 - val_r_2_score: 0.8855\n",
            "Epoch 227/1000\n",
            "186/186 [==============================] - 1s 7ms/step - loss: 140299.3125 - r_2_score: 0.8286 - val_loss: 118152.8359 - val_r_2_score: 0.8862\n",
            "Epoch 228/1000\n",
            "186/186 [==============================] - 1s 6ms/step - loss: 142433.9688 - r_2_score: 0.8392 - val_loss: 118957.9219 - val_r_2_score: 0.8871\n",
            "Epoch 229/1000\n",
            "186/186 [==============================] - 1s 7ms/step - loss: 139658.8906 - r_2_score: 0.8358 - val_loss: 118064.0078 - val_r_2_score: 0.8867\n",
            "Epoch 230/1000\n",
            "186/186 [==============================] - 1s 6ms/step - loss: 142149.8281 - r_2_score: 0.8295 - val_loss: 117704.2969 - val_r_2_score: 0.8863\n",
            "Epoch 231/1000\n",
            "186/186 [==============================] - 1s 6ms/step - loss: 141968.7344 - r_2_score: 0.8009 - val_loss: 117427.6875 - val_r_2_score: 0.8857\n",
            "Epoch 232/1000\n",
            "186/186 [==============================] - 1s 6ms/step - loss: 138183.7344 - r_2_score: 0.8324 - val_loss: 117358.6797 - val_r_2_score: 0.8865\n",
            "Epoch 233/1000\n",
            "186/186 [==============================] - 1s 6ms/step - loss: 138955.6250 - r_2_score: 0.8481 - val_loss: 117834.7734 - val_r_2_score: 0.8875\n",
            "Epoch 234/1000\n",
            "186/186 [==============================] - 1s 6ms/step - loss: 137895.8906 - r_2_score: 0.8485 - val_loss: 118211.5078 - val_r_2_score: 0.8882\n",
            "Epoch 235/1000\n",
            "186/186 [==============================] - 1s 6ms/step - loss: 140146.0938 - r_2_score: 0.8422 - val_loss: 117431.2656 - val_r_2_score: 0.8878\n",
            "Epoch 236/1000\n",
            "186/186 [==============================] - 1s 6ms/step - loss: 140560.4062 - r_2_score: 0.8365 - val_loss: 117544.3359 - val_r_2_score: 0.8894\n",
            "Epoch 237/1000\n",
            "186/186 [==============================] - 1s 6ms/step - loss: 141653.6250 - r_2_score: 0.8322 - val_loss: 117295.2500 - val_r_2_score: 0.8889\n",
            "Epoch 238/1000\n",
            "186/186 [==============================] - 1s 6ms/step - loss: 140189.9531 - r_2_score: 0.8179 - val_loss: 117575.6953 - val_r_2_score: 0.8904\n",
            "Epoch 239/1000\n",
            "186/186 [==============================] - 1s 6ms/step - loss: 142093.7812 - r_2_score: 0.8202 - val_loss: 117144.0078 - val_r_2_score: 0.8897\n",
            "Epoch 240/1000\n",
            "186/186 [==============================] - 1s 7ms/step - loss: 141280.8594 - r_2_score: 0.8327 - val_loss: 117024.9766 - val_r_2_score: 0.8893\n",
            "Epoch 241/1000\n",
            "186/186 [==============================] - 1s 6ms/step - loss: 140359.7969 - r_2_score: 0.8306 - val_loss: 117260.1797 - val_r_2_score: 0.8895\n",
            "Epoch 242/1000\n",
            "186/186 [==============================] - 1s 6ms/step - loss: 139650.3125 - r_2_score: 0.8286 - val_loss: 118364.8750 - val_r_2_score: 0.8896\n",
            "Epoch 243/1000\n",
            "186/186 [==============================] - 1s 6ms/step - loss: 138789.8594 - r_2_score: 0.8392 - val_loss: 117062.6953 - val_r_2_score: 0.8894\n",
            "Epoch 244/1000\n",
            "186/186 [==============================] - 1s 6ms/step - loss: 142540.2656 - r_2_score: 0.8151 - val_loss: 117308.7109 - val_r_2_score: 0.8894\n",
            "Epoch 245/1000\n",
            "186/186 [==============================] - 1s 6ms/step - loss: 139487.6250 - r_2_score: 0.8336 - val_loss: 117151.0859 - val_r_2_score: 0.8898\n",
            "Epoch 246/1000\n",
            "186/186 [==============================] - 1s 6ms/step - loss: 140380.0938 - r_2_score: 0.8312 - val_loss: 116594.9219 - val_r_2_score: 0.8892\n",
            "Epoch 247/1000\n",
            "186/186 [==============================] - 1s 6ms/step - loss: 139623.1250 - r_2_score: 0.8377 - val_loss: 117530.4844 - val_r_2_score: 0.8911\n",
            "Epoch 248/1000\n",
            "186/186 [==============================] - 1s 6ms/step - loss: 139937.0156 - r_2_score: 0.8348 - val_loss: 116949.7656 - val_r_2_score: 0.8891\n",
            "Epoch 249/1000\n",
            "186/186 [==============================] - 1s 6ms/step - loss: 138267.6406 - r_2_score: 0.8478 - val_loss: 116781.7734 - val_r_2_score: 0.8906\n",
            "Epoch 250/1000\n",
            "186/186 [==============================] - 1s 6ms/step - loss: 143715.2188 - r_2_score: 0.8212 - val_loss: 116577.4453 - val_r_2_score: 0.8904\n",
            "Epoch 251/1000\n",
            "186/186 [==============================] - 1s 7ms/step - loss: 140272.3125 - r_2_score: 0.8303 - val_loss: 116909.3984 - val_r_2_score: 0.8912\n",
            "Epoch 252/1000\n",
            "186/186 [==============================] - 1s 6ms/step - loss: 138276.0469 - r_2_score: 0.8398 - val_loss: 117160.9844 - val_r_2_score: 0.8910\n",
            "Epoch 253/1000\n",
            "186/186 [==============================] - 1s 6ms/step - loss: 139606.6094 - r_2_score: 0.8446 - val_loss: 117484.1094 - val_r_2_score: 0.8909\n",
            "Epoch 254/1000\n",
            "186/186 [==============================] - 1s 6ms/step - loss: 143354.3281 - r_2_score: 0.8143 - val_loss: 116997.8984 - val_r_2_score: 0.8918\n",
            "Epoch 255/1000\n",
            "186/186 [==============================] - 1s 6ms/step - loss: 138862.4375 - r_2_score: 0.8233 - val_loss: 116788.4375 - val_r_2_score: 0.8906\n",
            "Epoch 256/1000\n",
            "186/186 [==============================] - 1s 7ms/step - loss: 140622.1562 - r_2_score: 0.8352 - val_loss: 117200.3906 - val_r_2_score: 0.8916\n",
            "Epoch 257/1000\n",
            "186/186 [==============================] - 1s 7ms/step - loss: 138638.5469 - r_2_score: 0.8370 - val_loss: 116228.0234 - val_r_2_score: 0.8905\n",
            "Epoch 258/1000\n",
            "186/186 [==============================] - 1s 6ms/step - loss: 140796.5625 - r_2_score: 0.8380 - val_loss: 117959.5781 - val_r_2_score: 0.8924\n",
            "Epoch 259/1000\n",
            "186/186 [==============================] - 1s 6ms/step - loss: 141012.0625 - r_2_score: 0.8341 - val_loss: 116503.9297 - val_r_2_score: 0.8928\n",
            "Epoch 260/1000\n",
            "186/186 [==============================] - 1s 6ms/step - loss: 137832.1094 - r_2_score: 0.8320 - val_loss: 116123.8750 - val_r_2_score: 0.8926\n",
            "Epoch 261/1000\n",
            "186/186 [==============================] - 1s 7ms/step - loss: 139249.2812 - r_2_score: 0.8360 - val_loss: 116406.3125 - val_r_2_score: 0.8934\n",
            "Epoch 262/1000\n",
            "186/186 [==============================] - 1s 6ms/step - loss: 139463.2188 - r_2_score: 0.8262 - val_loss: 115524.1406 - val_r_2_score: 0.8920\n",
            "Epoch 263/1000\n",
            "186/186 [==============================] - 1s 6ms/step - loss: 137663.8750 - r_2_score: 0.8242 - val_loss: 115604.1250 - val_r_2_score: 0.8914\n",
            "Epoch 264/1000\n",
            "186/186 [==============================] - 1s 7ms/step - loss: 138199.6094 - r_2_score: 0.8439 - val_loss: 115868.3281 - val_r_2_score: 0.8904\n",
            "Epoch 265/1000\n",
            "186/186 [==============================] - 1s 6ms/step - loss: 137536.6406 - r_2_score: 0.8491 - val_loss: 116383.2344 - val_r_2_score: 0.8936\n",
            "Epoch 266/1000\n",
            "186/186 [==============================] - 1s 6ms/step - loss: 139434.8281 - r_2_score: 0.8427 - val_loss: 116592.7266 - val_r_2_score: 0.8933\n",
            "Epoch 267/1000\n",
            "186/186 [==============================] - 1s 7ms/step - loss: 141572.7188 - r_2_score: 0.8393 - val_loss: 115787.8906 - val_r_2_score: 0.8945\n",
            "Epoch 268/1000\n",
            "186/186 [==============================] - 1s 7ms/step - loss: 140310.6719 - r_2_score: 0.8392 - val_loss: 116297.7812 - val_r_2_score: 0.8930\n",
            "Epoch 269/1000\n",
            "186/186 [==============================] - 1s 6ms/step - loss: 136429.3125 - r_2_score: 0.8457 - val_loss: 116439.9297 - val_r_2_score: 0.8946\n",
            "Epoch 270/1000\n",
            "186/186 [==============================] - 1s 7ms/step - loss: 143013.2656 - r_2_score: 0.8186 - val_loss: 115500.2891 - val_r_2_score: 0.8938\n",
            "Epoch 271/1000\n",
            "186/186 [==============================] - 1s 6ms/step - loss: 139072.8906 - r_2_score: 0.8438 - val_loss: 115189.2188 - val_r_2_score: 0.8923\n",
            "Epoch 272/1000\n",
            "186/186 [==============================] - 1s 7ms/step - loss: 138009.9062 - r_2_score: 0.8293 - val_loss: 115606.5234 - val_r_2_score: 0.8936\n",
            "Epoch 273/1000\n",
            "186/186 [==============================] - 2s 10ms/step - loss: 140215.8125 - r_2_score: 0.8239 - val_loss: 116967.6094 - val_r_2_score: 0.8949\n",
            "Epoch 274/1000\n",
            "186/186 [==============================] - 1s 6ms/step - loss: 139538.0312 - r_2_score: 0.8273 - val_loss: 115819.3047 - val_r_2_score: 0.8945\n",
            "Epoch 275/1000\n",
            "186/186 [==============================] - 1s 6ms/step - loss: 140559.3438 - r_2_score: 0.8437 - val_loss: 115734.6641 - val_r_2_score: 0.8950\n",
            "Epoch 276/1000\n",
            "186/186 [==============================] - 1s 6ms/step - loss: 138689.9531 - r_2_score: 0.8500 - val_loss: 114986.4141 - val_r_2_score: 0.8945\n",
            "Epoch 277/1000\n",
            "186/186 [==============================] - 1s 6ms/step - loss: 136570.9219 - r_2_score: 0.8303 - val_loss: 115351.7500 - val_r_2_score: 0.8961\n",
            "Epoch 278/1000\n",
            "186/186 [==============================] - 1s 6ms/step - loss: 138987.3125 - r_2_score: 0.8446 - val_loss: 115250.3516 - val_r_2_score: 0.8946\n",
            "Epoch 279/1000\n",
            "186/186 [==============================] - 1s 6ms/step - loss: 139026.1875 - r_2_score: 0.8350 - val_loss: 114874.3516 - val_r_2_score: 0.8950\n",
            "Epoch 280/1000\n",
            "186/186 [==============================] - 1s 6ms/step - loss: 139476.2031 - r_2_score: 0.8472 - val_loss: 115239.6875 - val_r_2_score: 0.8957\n",
            "Epoch 281/1000\n",
            "186/186 [==============================] - 1s 6ms/step - loss: 142502.0781 - r_2_score: 0.8227 - val_loss: 116782.3516 - val_r_2_score: 0.8955\n",
            "Epoch 282/1000\n",
            "186/186 [==============================] - 1s 6ms/step - loss: 138805.1250 - r_2_score: 0.8376 - val_loss: 114892.1172 - val_r_2_score: 0.8959\n",
            "Epoch 283/1000\n",
            "186/186 [==============================] - 1s 7ms/step - loss: 138650.1094 - r_2_score: 0.8457 - val_loss: 114791.7266 - val_r_2_score: 0.8957\n",
            "Epoch 284/1000\n",
            "186/186 [==============================] - 1s 6ms/step - loss: 136567.6719 - r_2_score: 0.8412 - val_loss: 115417.6953 - val_r_2_score: 0.8967\n",
            "Epoch 285/1000\n",
            "186/186 [==============================] - 1s 6ms/step - loss: 140466.6875 - r_2_score: 0.8369 - val_loss: 115386.3438 - val_r_2_score: 0.8966\n",
            "Epoch 286/1000\n",
            "186/186 [==============================] - 1s 6ms/step - loss: 141980.2188 - r_2_score: 0.8438 - val_loss: 115642.0391 - val_r_2_score: 0.8956\n",
            "Epoch 287/1000\n",
            "186/186 [==============================] - 1s 6ms/step - loss: 138712.8438 - r_2_score: 0.8414 - val_loss: 114469.1250 - val_r_2_score: 0.8939\n",
            "Epoch 288/1000\n",
            "186/186 [==============================] - 1s 6ms/step - loss: 139103.6094 - r_2_score: 0.8376 - val_loss: 114808.3750 - val_r_2_score: 0.8952\n",
            "Epoch 289/1000\n",
            "186/186 [==============================] - 1s 6ms/step - loss: 140442.2812 - r_2_score: 0.8365 - val_loss: 115504.5156 - val_r_2_score: 0.8965\n",
            "Epoch 290/1000\n",
            "186/186 [==============================] - 1s 6ms/step - loss: 139707.4375 - r_2_score: 0.8391 - val_loss: 115946.3750 - val_r_2_score: 0.8973\n",
            "Epoch 291/1000\n",
            "186/186 [==============================] - 1s 6ms/step - loss: 139595.1094 - r_2_score: 0.8568 - val_loss: 114549.4766 - val_r_2_score: 0.8949\n",
            "Epoch 292/1000\n",
            "186/186 [==============================] - 1s 6ms/step - loss: 138941.7500 - r_2_score: 0.8306 - val_loss: 114764.0078 - val_r_2_score: 0.8955\n",
            "Epoch 293/1000\n",
            "186/186 [==============================] - 1s 6ms/step - loss: 139984.8281 - r_2_score: 0.8331 - val_loss: 115983.8438 - val_r_2_score: 0.8962\n",
            "Epoch 294/1000\n",
            "186/186 [==============================] - 1s 6ms/step - loss: 138067.0000 - r_2_score: 0.8381 - val_loss: 115695.1172 - val_r_2_score: 0.8973\n",
            "Epoch 295/1000\n",
            "186/186 [==============================] - 1s 6ms/step - loss: 135137.4531 - r_2_score: 0.8553 - val_loss: 115201.8359 - val_r_2_score: 0.8970\n",
            "Epoch 296/1000\n",
            "186/186 [==============================] - 1s 6ms/step - loss: 139032.3438 - r_2_score: 0.8243 - val_loss: 115579.2031 - val_r_2_score: 0.8969\n",
            "Epoch 297/1000\n",
            "186/186 [==============================] - 1s 6ms/step - loss: 140507.0781 - r_2_score: 0.8325 - val_loss: 114995.1016 - val_r_2_score: 0.8958\n"
          ]
        }
      ]
    },
    {
      "cell_type": "markdown",
      "metadata": {
        "id": "AW4SEP8kT2ls"
      },
      "source": [
        "## Question 6"
      ]
    },
    {
      "cell_type": "markdown",
      "metadata": {
        "id": "EJDoix_7JU61"
      },
      "source": [
        "### Evaluate the model\n",
        "- Evaluate the model on test data\n",
        "- Visualize the model's learning"
      ]
    },
    {
      "cell_type": "code",
      "metadata": {
        "id": "HdH8pYBIjHGL",
        "colab": {
          "base_uri": "https://localhost:8080/"
        },
        "outputId": "889e150b-acfb-4e1e-f7d7-6bdb220c4581"
      },
      "source": [
        "model.evaluate(X_test_sc, y_test, batch_size=64)"
      ],
      "execution_count": 48,
      "outputs": [
        {
          "output_type": "stream",
          "name": "stdout",
          "text": [
            "31/31 [==============================] - 0s 3ms/step - loss: 114469.1484 - r_2_score: 0.9236\n"
          ]
        },
        {
          "output_type": "execute_result",
          "data": {
            "text/plain": [
              "[114469.1484375, 0.9236108064651489]"
            ]
          },
          "metadata": {},
          "execution_count": 48
        }
      ]
    },
    {
      "cell_type": "markdown",
      "metadata": {
        "id": "E4-3G8h0KPS_"
      },
      "source": [
        "- Hint: The R2 score will get affected by batch size. \n",
        "\n",
        "**Batch Size**: Number of samples considered in one iteration"
      ]
    },
    {
      "cell_type": "markdown",
      "metadata": {
        "id": "MHmWkGM9E61i"
      },
      "source": [
        "### Check the R2 score on complete test data"
      ]
    },
    {
      "cell_type": "code",
      "source": [
        "y_pred = model.predict(X_test_sc)\n",
        "print(r2_score(y_test,y_pred))"
      ],
      "metadata": {
        "colab": {
          "base_uri": "https://localhost:8080/"
        },
        "id": "WKfSxj0ku9GA",
        "outputId": "14a2febe-4212-464a-d58e-7a8320544994"
      },
      "execution_count": 49,
      "outputs": [
        {
          "output_type": "stream",
          "name": "stdout",
          "text": [
            "0.9342096419237221\n"
          ]
        }
      ]
    },
    {
      "cell_type": "markdown",
      "metadata": {
        "id": "hUpDD74Xjh01"
      },
      "source": [
        "### Visualize model learning\n",
        "- Visualize model learning using train and test r2 score\n",
        "- Visualize model learning using train and test loss"
      ]
    },
    {
      "cell_type": "code",
      "source": [
        "import matplotlib.pyplot as plt\n",
        "\n",
        "plt.plot(history.history['r_2_score'])\n",
        "plt.plot(history.history['val_r_2_score'])\n",
        "plt.title('model r2_score')\n",
        "plt.ylabel('r2_score')\n",
        "plt.xlabel('epoch')\n",
        "plt.legend(['train', 'test'], loc='upper left')\n",
        "plt.show()\n",
        "# summarize history for loss\n",
        "plt.plot(history.history['loss'])\n",
        "plt.plot(history.history['val_loss'])\n",
        "plt.title('model loss')\n",
        "plt.ylabel('loss')\n",
        "plt.xlabel('epoch')\n",
        "plt.legend(['train', 'test'], loc='upper left')\n",
        "plt.show()\n"
      ],
      "metadata": {
        "colab": {
          "base_uri": "https://localhost:8080/",
          "height": 573
        },
        "id": "t3OcuX1Mv_4Q",
        "outputId": "c59173fd-cbad-49ff-9962-b8dcc04c65e8"
      },
      "execution_count": 50,
      "outputs": [
        {
          "output_type": "display_data",
          "data": {
            "image/png": "[encoded data removed]",
            "text/plain": [
              "<Figure size 432x288 with 1 Axes>"
            ]
          },
          "metadata": {
            "needs_background": "light"
          }
        },
        {
          "output_type": "display_data",
          "data": {
            "image/png": "[encoded data removed]",
            "text/plain": [
              "<Figure size 432x288 with 1 Axes>"
            ]
          },
          "metadata": {
            "needs_background": "light"
          }
        }
      ]
    },
    {
      "cell_type": "markdown",
      "metadata": {
        "id": "mLyDSOeh6KKc"
      },
      "source": [
        "## Question 7"
      ]
    },
    {
      "cell_type": "markdown",
      "metadata": {
        "id": "U9_FYXve6TPD"
      },
      "source": [
        "### Create another Deep Neural Network Model for Regression to experiment with other hyper-parameters\n",
        "- Initialize a Sequential model\n",
        "- Add a batch normalization layer\n",
        "- Add 3 hidden layer with activation leaky-relu (Number of neurons = 64,128,32 respectively)\n",
        "- Add dropout layer after each hidden layer\n",
        "- Add a Dense layer with one neuron as output, use activation linear\n",
        "  \n"
      ]
    },
    {
      "cell_type": "code",
      "metadata": {
        "id": "smKhJZSx2EZk"
      },
      "source": [
        "#initialise model\n",
        "model_2 = Sequential()\n",
        "#input layer\n",
        "model_2.add(tf.keras.Input(shape=(13)))\n",
        "\n",
        "#add new layer\n",
        "model_2.add(Dense(64,activation=\"leaky_relu\"))\n",
        "# Dropout for regularization to prevent overefitting\n",
        "#model_2.add(Dropout(0.15))\n",
        "\n",
        "#normaliztion layer\n",
        "model_2.add(BatchNormalization())\n",
        "\n",
        "model_2.add(Dense(128, activation=\"leaky_relu\"))\n",
        "#model_2.add(Dropout(0.10))\n",
        "\n",
        "#normaliztion layer\n",
        "model_2.add(BatchNormalization())\n",
        "\n",
        "model_2.add(Dense(32, activation=\"leaky_relu\"))\n",
        "#model_2.add(Dropout(0.05))\n",
        "\n",
        "#output layer\n",
        "model_2.add(Dense(1,activation='linear'))\n"
      ],
      "execution_count": 70,
      "outputs": []
    },
    {
      "cell_type": "code",
      "metadata": {
        "id": "k3YL1YQB2Fau",
        "colab": {
          "base_uri": "https://localhost:8080/"
        },
        "outputId": "881c12cc-d659-4172-8d8b-6f4f8fa0702d"
      },
      "source": [
        "model_2.summary()"
      ],
      "execution_count": 71,
      "outputs": [
        {
          "output_type": "stream",
          "name": "stdout",
          "text": [
            "Model: \"sequential_4\"\n",
            "_________________________________________________________________\n",
            " Layer (type)                Output Shape              Param #   \n",
            "=================================================================\n",
            " dense_16 (Dense)            (None, 64)                896       \n",
            "                                                                 \n",
            " batch_normalization_4 (Batc  (None, 64)               256       \n",
            " hNormalization)                                                 \n",
            "                                                                 \n",
            " dense_17 (Dense)            (None, 128)               8320      \n",
            "                                                                 \n",
            " batch_normalization_5 (Batc  (None, 128)              512       \n",
            " hNormalization)                                                 \n",
            "                                                                 \n",
            " dense_18 (Dense)            (None, 32)                4128      \n",
            "                                                                 \n",
            " dense_19 (Dense)            (None, 1)                 33        \n",
            "                                                                 \n",
            "=================================================================\n",
            "Total params: 14,145\n",
            "Trainable params: 13,761\n",
            "Non-trainable params: 384\n",
            "_________________________________________________________________\n"
          ]
        }
      ]
    },
    {
      "cell_type": "markdown",
      "metadata": {
        "id": "d-5tN-Wx8_8X"
      },
      "source": [
        "### Compile the model\n",
        "\n",
        "- Compile the model\n",
        "- Use \"adam\" optimizer \n",
        "- for calculating loss, use mean absolute error\n",
        "- use R2 score (coefficient of determination) as the metric"
      ]
    },
    {
      "cell_type": "code",
      "metadata": {
        "id": "v3RAGJxN8vq6"
      },
      "source": [
        "model_2.compile(loss='mean_absolute_error', optimizer='adam', metrics=[r_2_score])"
      ],
      "execution_count": 72,
      "outputs": []
    },
    {
      "cell_type": "markdown",
      "metadata": {
        "id": "QjDCS5gy91KU"
      },
      "source": [
        "### Train your model\n",
        "\n",
        "- epochs: 1000\n",
        "- batch size: 16\n",
        "- Use test data as validation data\n",
        "- Also add callback, such that if validation loss doesn't decreases consecutively 10 times, stop the training and return the weights for the previous best model\n",
        "- Add checkpoints to save the model after every epoch\n"
      ]
    },
    {
      "cell_type": "code",
      "source": [
        "chkpt = ModelCheckpoint('/content/checkpoint', monitor='val_loss', save_best_only=True,save_freq='epoch')"
      ],
      "metadata": {
        "id": "99G9BRNI6sn-"
      },
      "execution_count": 73,
      "outputs": []
    },
    {
      "cell_type": "code",
      "metadata": {
        "id": "amNM6S2w90So",
        "colab": {
          "base_uri": "https://localhost:8080/"
        },
        "outputId": "b5484669-f634-4dce-b1cd-866748db8f59"
      },
      "source": [
        "callback = tf.keras.callbacks.EarlyStopping(monitor='val_loss', patience = 10, restore_best_weights=True, mode='min')\n",
        "history = model_2.fit(X_train_sc, y_train, batch_size=16,\n",
        "                    epochs=1000, verbose=1,\n",
        "                    validation_data=(X_test_sc, y_test), callbacks=[callback, chkpt])\n"
      ],
      "execution_count": 74,
      "outputs": [
        {
          "output_type": "stream",
          "name": "stdout",
          "text": [
            "Epoch 1/1000\n",
            "370/371 [============================>.] - ETA: 0s - loss: 648272.0000 - r_2_score: -1.8139INFO:tensorflow:Assets written to: /content/checkpoint/assets\n"
          ]
        },
        {
          "output_type": "stream",
          "name": "stderr",
          "text": [
            "INFO:tensorflow:Assets written to: /content/checkpoint/assets\n"
          ]
        },
        {
          "output_type": "stream",
          "name": "stdout",
          "text": [
            "\b\b\b\b\b\b\b\b\b\b\b\b\b\b\b\b\b\b\b\b\b\b\b\b\b\b\b\b\b\b\b\b\b\b\b\b\b\b\b\b\b\b\b\b\b\b\b\b\b\b\b\b\b\b\b\b\b\b\b\b\b\b\b\b\b\b\b\b\b\b\b\b\b\b\b\b\b\b\b\b\b\b\b\b\b\b\b\b\b\b\b\r371/371 [==============================] - 11s 24ms/step - loss: 648077.8750 - r_2_score: -1.8207 - val_loss: 653304.0625 - val_r_2_score: -1.8202\n",
            "Epoch 2/1000\n",
            "371/371 [==============================] - ETA: 0s - loss: 645021.6250 - r_2_score: -1.9771INFO:tensorflow:Assets written to: /content/checkpoint/assets\n"
          ]
        },
        {
          "output_type": "stream",
          "name": "stderr",
          "text": [
            "INFO:tensorflow:Assets written to: /content/checkpoint/assets\n"
          ]
        },
        {
          "output_type": "stream",
          "name": "stdout",
          "text": [
            "\b\b\b\b\b\b\b\b\b\b\b\b\b\b\b\b\b\b\b\b\b\b\b\b\b\b\b\b\b\b\b\b\b\b\b\b\b\b\b\b\b\b\b\b\b\b\b\b\b\b\b\b\b\b\b\b\b\b\b\b\b\b\b\b\b\b\b\b\b\b\b\b\b\b\b\b\b\b\b\b\b\b\b\b\b\b\b\b\b\b\b\r371/371 [==============================] - 5s 13ms/step - loss: 645021.6250 - r_2_score: -1.9771 - val_loss: 646996.6250 - val_r_2_score: -1.7808\n",
            "Epoch 3/1000\n",
            "363/371 [============================>.] - ETA: 0s - loss: 636856.7500 - r_2_score: -1.7974INFO:tensorflow:Assets written to: /content/checkpoint/assets\n"
          ]
        },
        {
          "output_type": "stream",
          "name": "stderr",
          "text": [
            "INFO:tensorflow:Assets written to: /content/checkpoint/assets\n"
          ]
        },
        {
          "output_type": "stream",
          "name": "stdout",
          "text": [
            "\b\b\b\b\b\b\b\b\b\b\b\b\b\b\b\b\b\b\b\b\b\b\b\b\b\b\b\b\b\b\b\b\b\b\b\b\b\b\b\b\b\b\b\b\b\b\b\b\b\b\b\b\b\b\b\b\b\b\b\b\b\b\b\b\b\b\b\b\b\b\b\b\b\b\b\b\b\b\b\b\b\b\b\b\b\b\b\b\b\b\b\r371/371 [==============================] - 5s 12ms/step - loss: 635449.5625 - r_2_score: -1.8020 - val_loss: 631875.0000 - val_r_2_score: -1.6912\n",
            "Epoch 4/1000\n",
            "364/371 [============================>.] - ETA: 0s - loss: 614158.0625 - r_2_score: -1.6186INFO:tensorflow:Assets written to: /content/checkpoint/assets\n"
          ]
        },
        {
          "output_type": "stream",
          "name": "stderr",
          "text": [
            "INFO:tensorflow:Assets written to: /content/checkpoint/assets\n"
          ]
        },
        {
          "output_type": "stream",
          "name": "stdout",
          "text": [
            "\b\b\b\b\b\b\b\b\b\b\b\b\b\b\b\b\b\b\b\b\b\b\b\b\b\b\b\b\b\b\b\b\b\b\b\b\b\b\b\b\b\b\b\b\b\b\b\b\b\b\b\b\b\b\b\b\b\b\b\b\b\b\b\b\b\b\b\b\b\b\b\b\b\b\b\b\b\b\b\b\b\b\b\b\b\b\b\b\b\b\b\r371/371 [==============================] - 5s 12ms/step - loss: 616067.7500 - r_2_score: -1.6321 - val_loss: 601831.5000 - val_r_2_score: -1.4921\n",
            "Epoch 5/1000\n",
            "368/371 [============================>.] - ETA: 0s - loss: 586020.8125 - r_2_score: -1.4773INFO:tensorflow:Assets written to: /content/checkpoint/assets\n"
          ]
        },
        {
          "output_type": "stream",
          "name": "stderr",
          "text": [
            "INFO:tensorflow:Assets written to: /content/checkpoint/assets\n"
          ]
        },
        {
          "output_type": "stream",
          "name": "stdout",
          "text": [
            "\b\b\b\b\b\b\b\b\b\b\b\b\b\b\b\b\b\b\b\b\b\b\b\b\b\b\b\b\b\b\b\b\b\b\b\b\b\b\b\b\b\b\b\b\b\b\b\b\b\b\b\b\b\b\b\b\b\b\b\b\b\b\b\b\b\b\b\b\b\b\b\b\b\b\b\b\b\b\b\b\b\b\b\b\b\b\b\b\b\b\b\r371/371 [==============================] - 4s 12ms/step - loss: 584786.6250 - r_2_score: -1.4781 - val_loss: 567087.0625 - val_r_2_score: -1.2720\n",
            "Epoch 6/1000\n",
            "370/371 [============================>.] - ETA: 0s - loss: 542425.0000 - r_2_score: -1.1274INFO:tensorflow:Assets written to: /content/checkpoint/assets\n"
          ]
        },
        {
          "output_type": "stream",
          "name": "stderr",
          "text": [
            "INFO:tensorflow:Assets written to: /content/checkpoint/assets\n"
          ]
        },
        {
          "output_type": "stream",
          "name": "stdout",
          "text": [
            "\b\b\b\b\b\b\b\b\b\b\b\b\b\b\b\b\b\b\b\b\b\b\b\b\b\b\b\b\b\b\b\b\b\b\b\b\b\b\b\b\b\b\b\b\b\b\b\b\b\b\b\b\b\b\b\b\b\b\b\b\b\b\b\b\b\b\b\b\b\b\b\b\b\b\b\b\b\b\b\b\b\b\b\b\b\b\b\b\b\b\b\r371/371 [==============================] - 5s 12ms/step - loss: 542308.1875 - r_2_score: -1.1283 - val_loss: 513914.4688 - val_r_2_score: -0.9368\n",
            "Epoch 7/1000\n",
            "364/371 [============================>.] - ETA: 0s - loss: 488894.8438 - r_2_score: -0.8911INFO:tensorflow:Assets written to: /content/checkpoint/assets\n"
          ]
        },
        {
          "output_type": "stream",
          "name": "stderr",
          "text": [
            "INFO:tensorflow:Assets written to: /content/checkpoint/assets\n"
          ]
        },
        {
          "output_type": "stream",
          "name": "stdout",
          "text": [
            "\b\b\b\b\b\b\b\b\b\b\b\b\b\b\b\b\b\b\b\b\b\b\b\b\b\b\b\b\b\b\b\b\b\b\b\b\b\b\b\b\b\b\b\b\b\b\b\b\b\b\b\b\b\b\b\b\b\b\b\b\b\b\b\b\b\b\b\b\b\b\b\b\b\b\b\b\b\b\b\b\b\b\b\b\b\b\b\b\b\b\b\r371/371 [==============================] - 5s 12ms/step - loss: 490351.9688 - r_2_score: -0.8923 - val_loss: 458195.1562 - val_r_2_score: -0.5804\n",
            "Epoch 8/1000\n",
            "369/371 [============================>.] - ETA: 0s - loss: 426427.5625 - r_2_score: -0.3477INFO:tensorflow:Assets written to: /content/checkpoint/assets\n"
          ]
        },
        {
          "output_type": "stream",
          "name": "stderr",
          "text": [
            "INFO:tensorflow:Assets written to: /content/checkpoint/assets\n"
          ]
        },
        {
          "output_type": "stream",
          "name": "stdout",
          "text": [
            "\b\b\b\b\b\b\b\b\b\b\b\b\b\b\b\b\b\b\b\b\b\b\b\b\b\b\b\b\b\b\b\b\b\b\b\b\b\b\b\b\b\b\b\b\b\b\b\b\b\b\b\b\b\b\b\b\b\b\b\b\b\b\b\b\b\b\b\b\b\b\b\b\b\b\b\b\b\b\b\b\b\b\b\b\b\b\b\b\b\b\b\r371/371 [==============================] - 4s 12ms/step - loss: 425080.0312 - r_2_score: -0.3429 - val_loss: 376543.8125 - val_r_2_score: -0.0880\n",
            "Epoch 9/1000\n",
            "368/371 [============================>.] - ETA: 0s - loss: 355858.9062 - r_2_score: 0.0466INFO:tensorflow:Assets written to: /content/checkpoint/assets\n"
          ]
        },
        {
          "output_type": "stream",
          "name": "stderr",
          "text": [
            "INFO:tensorflow:Assets written to: /content/checkpoint/assets\n"
          ]
        },
        {
          "output_type": "stream",
          "name": "stdout",
          "text": [
            "\b\b\b\b\b\b\b\b\b\b\b\b\b\b\b\b\b\b\b\b\b\b\b\b\b\b\b\b\b\b\b\b\b\b\b\b\b\b\b\b\b\b\b\b\b\b\b\b\b\b\b\b\b\b\b\b\b\b\b\b\b\b\b\b\b\b\b\b\b\b\b\b\b\b\b\b\b\b\b\b\b\b\b\b\b\b\b\b\b\b\r371/371 [==============================] - 5s 12ms/step - loss: 356866.6875 - r_2_score: 0.0468 - val_loss: 321409.1250 - val_r_2_score: 0.1945\n",
            "Epoch 10/1000\n",
            "371/371 [==============================] - ETA: 0s - loss: 303603.8438 - r_2_score: 0.3109INFO:tensorflow:Assets written to: /content/checkpoint/assets\n"
          ]
        },
        {
          "output_type": "stream",
          "name": "stderr",
          "text": [
            "INFO:tensorflow:Assets written to: /content/checkpoint/assets\n"
          ]
        },
        {
          "output_type": "stream",
          "name": "stdout",
          "text": [
            "\b\b\b\b\b\b\b\b\b\b\b\b\b\b\b\b\b\b\b\b\b\b\b\b\b\b\b\b\b\b\b\b\b\b\b\b\b\b\b\b\b\b\b\b\b\b\b\b\b\b\b\b\b\b\b\b\b\b\b\b\b\b\b\b\b\b\b\b\b\b\b\b\b\b\b\b\b\b\b\b\b\b\b\b\b\b\b\b\b\b\r371/371 [==============================] - 5s 12ms/step - loss: 303603.8438 - r_2_score: 0.3109 - val_loss: 272989.8438 - val_r_2_score: 0.4065\n",
            "Epoch 11/1000\n",
            "363/371 [============================>.] - ETA: 0s - loss: 271224.5938 - r_2_score: 0.4288INFO:tensorflow:Assets written to: /content/checkpoint/assets\n"
          ]
        },
        {
          "output_type": "stream",
          "name": "stderr",
          "text": [
            "INFO:tensorflow:Assets written to: /content/checkpoint/assets\n"
          ]
        },
        {
          "output_type": "stream",
          "name": "stdout",
          "text": [
            "\b\b\b\b\b\b\b\b\b\b\b\b\b\b\b\b\b\b\b\b\b\b\b\b\b\b\b\b\b\b\b\b\b\b\b\b\b\b\b\b\b\b\b\b\b\b\b\b\b\b\b\b\b\b\b\b\b\b\b\b\b\b\b\b\b\b\b\b\b\b\b\b\b\b\b\b\b\b\b\b\b\b\b\b\b\b\b\b\b\b\r371/371 [==============================] - 4s 11ms/step - loss: 272494.1562 - r_2_score: 0.3962 - val_loss: 234395.7344 - val_r_2_score: 0.5388\n",
            "Epoch 12/1000\n",
            "364/371 [============================>.] - ETA: 0s - loss: 249852.1719 - r_2_score: 0.4746INFO:tensorflow:Assets written to: /content/checkpoint/assets\n"
          ]
        },
        {
          "output_type": "stream",
          "name": "stderr",
          "text": [
            "INFO:tensorflow:Assets written to: /content/checkpoint/assets\n"
          ]
        },
        {
          "output_type": "stream",
          "name": "stdout",
          "text": [
            "\b\b\b\b\b\b\b\b\b\b\b\b\b\b\b\b\b\b\b\b\b\b\b\b\b\b\b\b\b\b\b\b\b\b\b\b\b\b\b\b\b\b\b\b\b\b\b\b\b\b\b\b\b\b\b\b\b\b\b\b\b\b\b\b\b\b\b\b\b\b\b\b\b\b\b\b\b\b\b\b\b\b\b\b\b\b\b\b\b\b\r371/371 [==============================] - 5s 12ms/step - loss: 250650.6406 - r_2_score: 0.4765 - val_loss: 224794.0000 - val_r_2_score: 0.5828\n",
            "Epoch 13/1000\n",
            "366/371 [============================>.] - ETA: 0s - loss: 239474.2031 - r_2_score: 0.4767INFO:tensorflow:Assets written to: /content/checkpoint/assets\n"
          ]
        },
        {
          "output_type": "stream",
          "name": "stderr",
          "text": [
            "INFO:tensorflow:Assets written to: /content/checkpoint/assets\n"
          ]
        },
        {
          "output_type": "stream",
          "name": "stdout",
          "text": [
            "\b\b\b\b\b\b\b\b\b\b\b\b\b\b\b\b\b\b\b\b\b\b\b\b\b\b\b\b\b\b\b\b\b\b\b\b\b\b\b\b\b\b\b\b\b\b\b\b\b\b\b\b\b\b\b\b\b\b\b\b\b\b\b\b\b\b\b\b\b\b\b\b\b\b\b\b\b\b\b\b\b\b\b\b\b\b\b\b\b\b\r371/371 [==============================] - 4s 12ms/step - loss: 239053.3594 - r_2_score: 0.4607 - val_loss: 206684.4844 - val_r_2_score: 0.6348\n",
            "Epoch 14/1000\n",
            "370/371 [============================>.] - ETA: 0s - loss: 229419.8750 - r_2_score: 0.5125INFO:tensorflow:Assets written to: /content/checkpoint/assets\n"
          ]
        },
        {
          "output_type": "stream",
          "name": "stderr",
          "text": [
            "INFO:tensorflow:Assets written to: /content/checkpoint/assets\n"
          ]
        },
        {
          "output_type": "stream",
          "name": "stdout",
          "text": [
            "\b\b\b\b\b\b\b\b\b\b\b\b\b\b\b\b\b\b\b\b\b\b\b\b\b\b\b\b\b\b\b\b\b\b\b\b\b\b\b\b\b\b\b\b\b\b\b\b\b\b\b\b\b\b\b\b\b\b\b\b\b\b\b\b\b\b\b\b\b\b\b\b\b\b\b\b\b\b\b\b\b\b\b\b\b\b\b\b\b\b\r371/371 [==============================] - 5s 12ms/step - loss: 229260.7969 - r_2_score: 0.5131 - val_loss: 204002.7969 - val_r_2_score: 0.6486\n",
            "Epoch 15/1000\n",
            "369/371 [============================>.] - ETA: 0s - loss: 223482.0000 - r_2_score: 0.5271INFO:tensorflow:Assets written to: /content/checkpoint/assets\n"
          ]
        },
        {
          "output_type": "stream",
          "name": "stderr",
          "text": [
            "INFO:tensorflow:Assets written to: /content/checkpoint/assets\n"
          ]
        },
        {
          "output_type": "stream",
          "name": "stdout",
          "text": [
            "\b\b\b\b\b\b\b\b\b\b\b\b\b\b\b\b\b\b\b\b\b\b\b\b\b\b\b\b\b\b\b\b\b\b\b\b\b\b\b\b\b\b\b\b\b\b\b\b\b\b\b\b\b\b\b\b\b\b\b\b\b\b\b\b\b\b\b\b\b\b\b\b\b\b\b\b\b\b\b\b\b\b\b\b\b\b\b\b\b\b\r371/371 [==============================] - 5s 12ms/step - loss: 223605.7812 - r_2_score: 0.5276 - val_loss: 188296.2969 - val_r_2_score: 0.6941\n",
            "Epoch 16/1000\n",
            "368/371 [============================>.] - ETA: 0s - loss: 214800.6250 - r_2_score: 0.5531INFO:tensorflow:Assets written to: /content/checkpoint/assets\n"
          ]
        },
        {
          "output_type": "stream",
          "name": "stderr",
          "text": [
            "INFO:tensorflow:Assets written to: /content/checkpoint/assets\n"
          ]
        },
        {
          "output_type": "stream",
          "name": "stdout",
          "text": [
            "\b\b\b\b\b\b\b\b\b\b\b\b\b\b\b\b\b\b\b\b\b\b\b\b\b\b\b\b\b\b\b\b\b\b\b\b\b\b\b\b\b\b\b\b\b\b\b\b\b\b\b\b\b\b\b\b\b\b\b\b\b\b\b\b\b\b\b\b\b\b\b\b\b\b\b\b\b\b\b\b\b\b\b\b\b\b\b\b\b\b\r371/371 [==============================] - 4s 11ms/step - loss: 216721.4844 - r_2_score: 0.5499 - val_loss: 186658.4531 - val_r_2_score: 0.7077\n",
            "Epoch 17/1000\n",
            "371/371 [==============================] - ETA: 0s - loss: 215372.6562 - r_2_score: 0.5651INFO:tensorflow:Assets written to: /content/checkpoint/assets\n"
          ]
        },
        {
          "output_type": "stream",
          "name": "stderr",
          "text": [
            "INFO:tensorflow:Assets written to: /content/checkpoint/assets\n"
          ]
        },
        {
          "output_type": "stream",
          "name": "stdout",
          "text": [
            "\b\b\b\b\b\b\b\b\b\b\b\b\b\b\b\b\b\b\b\b\b\b\b\b\b\b\b\b\b\b\b\b\b\b\b\b\b\b\b\b\b\b\b\b\b\b\b\b\b\b\b\b\b\b\b\b\b\b\b\b\b\b\b\b\b\b\b\b\b\b\b\b\b\b\b\b\b\b\b\b\b\b\b\b\b\b\b\b\b\b\r371/371 [==============================] - 5s 12ms/step - loss: 215372.6562 - r_2_score: 0.5651 - val_loss: 178350.7812 - val_r_2_score: 0.7326\n",
            "Epoch 18/1000\n",
            "363/371 [============================>.] - ETA: 0s - loss: 211503.0156 - r_2_score: 0.5483INFO:tensorflow:Assets written to: /content/checkpoint/assets\n"
          ]
        },
        {
          "output_type": "stream",
          "name": "stderr",
          "text": [
            "INFO:tensorflow:Assets written to: /content/checkpoint/assets\n"
          ]
        },
        {
          "output_type": "stream",
          "name": "stdout",
          "text": [
            "\b\b\b\b\b\b\b\b\b\b\b\b\b\b\b\b\b\b\b\b\b\b\b\b\b\b\b\b\b\b\b\b\b\b\b\b\b\b\b\b\b\b\b\b\b\b\b\b\b\b\b\b\b\b\b\b\b\b\b\b\b\b\b\b\b\b\b\b\b\b\b\b\b\b\b\b\b\b\b\b\b\b\b\b\b\b\b\b\b\b\r371/371 [==============================] - 4s 11ms/step - loss: 212213.9844 - r_2_score: 0.5506 - val_loss: 174805.9688 - val_r_2_score: 0.7376\n",
            "Epoch 19/1000\n",
            "371/371 [==============================] - ETA: 0s - loss: 214104.1875 - r_2_score: 0.5072INFO:tensorflow:Assets written to: /content/checkpoint/assets\n"
          ]
        },
        {
          "output_type": "stream",
          "name": "stderr",
          "text": [
            "INFO:tensorflow:Assets written to: /content/checkpoint/assets\n"
          ]
        },
        {
          "output_type": "stream",
          "name": "stdout",
          "text": [
            "\b\b\b\b\b\b\b\b\b\b\b\b\b\b\b\b\b\b\b\b\b\b\b\b\b\b\b\b\b\b\b\b\b\b\b\b\b\b\b\b\b\b\b\b\b\b\b\b\b\b\b\b\b\b\b\b\b\b\b\b\b\b\b\b\b\b\b\b\b\b\b\b\b\b\b\b\b\b\b\b\b\b\b\b\b\b\b\b\b\b\r371/371 [==============================] - 5s 14ms/step - loss: 214104.1875 - r_2_score: 0.5072 - val_loss: 166680.5938 - val_r_2_score: 0.7624\n",
            "Epoch 20/1000\n",
            "371/371 [==============================] - 3s 7ms/step - loss: 213916.8438 - r_2_score: 0.5367 - val_loss: 170914.4219 - val_r_2_score: 0.7540\n",
            "Epoch 21/1000\n",
            "366/371 [============================>.] - ETA: 0s - loss: 210333.5156 - r_2_score: 0.5294INFO:tensorflow:Assets written to: /content/checkpoint/assets\n"
          ]
        },
        {
          "output_type": "stream",
          "name": "stderr",
          "text": [
            "INFO:tensorflow:Assets written to: /content/checkpoint/assets\n"
          ]
        },
        {
          "output_type": "stream",
          "name": "stdout",
          "text": [
            "\b\b\b\b\b\b\b\b\b\b\b\b\b\b\b\b\b\b\b\b\b\b\b\b\b\b\b\b\b\b\b\b\b\b\b\b\b\b\b\b\b\b\b\b\b\b\b\b\b\b\b\b\b\b\b\b\b\b\b\b\b\b\b\b\b\b\b\b\b\b\b\b\b\b\b\b\b\b\b\b\b\b\b\b\b\b\b\b\b\b\r371/371 [==============================] - 4s 12ms/step - loss: 211645.6562 - r_2_score: 0.5298 - val_loss: 164960.8906 - val_r_2_score: 0.7675\n",
            "Epoch 22/1000\n",
            "365/371 [============================>.] - ETA: 0s - loss: 207616.8750 - r_2_score: 0.5357INFO:tensorflow:Assets written to: /content/checkpoint/assets\n"
          ]
        },
        {
          "output_type": "stream",
          "name": "stderr",
          "text": [
            "INFO:tensorflow:Assets written to: /content/checkpoint/assets\n"
          ]
        },
        {
          "output_type": "stream",
          "name": "stdout",
          "text": [
            "\b\b\b\b\b\b\b\b\b\b\b\b\b\b\b\b\b\b\b\b\b\b\b\b\b\b\b\b\b\b\b\b\b\b\b\b\b\b\b\b\b\b\b\b\b\b\b\b\b\b\b\b\b\b\b\b\b\b\b\b\b\b\b\b\b\b\b\b\b\b\b\b\b\b\b\b\b\b\b\b\b\b\b\b\b\b\b\b\b\b\r371/371 [==============================] - 5s 12ms/step - loss: 209548.5156 - r_2_score: 0.5343 - val_loss: 164041.2500 - val_r_2_score: 0.7705\n",
            "Epoch 23/1000\n",
            "370/371 [============================>.] - ETA: 0s - loss: 207349.1250 - r_2_score: 0.5755INFO:tensorflow:Assets written to: /content/checkpoint/assets\n"
          ]
        },
        {
          "output_type": "stream",
          "name": "stderr",
          "text": [
            "INFO:tensorflow:Assets written to: /content/checkpoint/assets\n"
          ]
        },
        {
          "output_type": "stream",
          "name": "stdout",
          "text": [
            "\b\b\b\b\b\b\b\b\b\b\b\b\b\b\b\b\b\b\b\b\b\b\b\b\b\b\b\b\b\b\b\b\b\b\b\b\b\b\b\b\b\b\b\b\b\b\b\b\b\b\b\b\b\b\b\b\b\b\b\b\b\b\b\b\b\b\b\b\b\b\b\b\b\b\b\b\b\b\b\b\b\b\b\b\b\b\b\b\b\b\r371/371 [==============================] - 4s 12ms/step - loss: 207487.4219 - r_2_score: 0.5759 - val_loss: 160872.4531 - val_r_2_score: 0.7756\n",
            "Epoch 24/1000\n",
            "369/371 [============================>.] - ETA: 0s - loss: 202930.2500 - r_2_score: 0.5647INFO:tensorflow:Assets written to: /content/checkpoint/assets\n"
          ]
        },
        {
          "output_type": "stream",
          "name": "stderr",
          "text": [
            "INFO:tensorflow:Assets written to: /content/checkpoint/assets\n"
          ]
        },
        {
          "output_type": "stream",
          "name": "stdout",
          "text": [
            "\b\b\b\b\b\b\b\b\b\b\b\b\b\b\b\b\b\b\b\b\b\b\b\b\b\b\b\b\b\b\b\b\b\b\b\b\b\b\b\b\b\b\b\b\b\b\b\b\b\b\b\b\b\b\b\b\b\b\b\b\b\b\b\b\b\b\b\b\b\b\b\b\b\b\b\b\b\b\b\b\b\b\b\b\b\b\b\b\b\b\r371/371 [==============================] - 4s 11ms/step - loss: 202733.8438 - r_2_score: 0.5656 - val_loss: 157493.5312 - val_r_2_score: 0.7808\n",
            "Epoch 25/1000\n",
            "370/371 [============================>.] - ETA: 0s - loss: 206989.8125 - r_2_score: 0.5570INFO:tensorflow:Assets written to: /content/checkpoint/assets\n"
          ]
        },
        {
          "output_type": "stream",
          "name": "stderr",
          "text": [
            "INFO:tensorflow:Assets written to: /content/checkpoint/assets\n"
          ]
        },
        {
          "output_type": "stream",
          "name": "stdout",
          "text": [
            "\b\b\b\b\b\b\b\b\b\b\b\b\b\b\b\b\b\b\b\b\b\b\b\b\b\b\b\b\b\b\b\b\b\b\b\b\b\b\b\b\b\b\b\b\b\b\b\b\b\b\b\b\b\b\b\b\b\b\b\b\b\b\b\b\b\b\b\b\b\b\b\b\b\b\b\b\b\b\b\b\b\b\b\b\b\b\b\b\b\b\r371/371 [==============================] - 6s 17ms/step - loss: 206863.6875 - r_2_score: 0.5574 - val_loss: 154083.5469 - val_r_2_score: 0.7877\n",
            "Epoch 26/1000\n",
            "371/371 [==============================] - 3s 7ms/step - loss: 205345.1406 - r_2_score: 0.5554 - val_loss: 160789.4688 - val_r_2_score: 0.7790\n",
            "Epoch 27/1000\n",
            "371/371 [==============================] - 3s 8ms/step - loss: 200832.8906 - r_2_score: 0.5624 - val_loss: 157102.8281 - val_r_2_score: 0.7802\n",
            "Epoch 28/1000\n",
            "371/371 [==============================] - 3s 7ms/step - loss: 204885.6406 - r_2_score: 0.5044 - val_loss: 155779.9844 - val_r_2_score: 0.7868\n",
            "Epoch 29/1000\n",
            "368/371 [============================>.] - ETA: 0s - loss: 200599.5156 - r_2_score: 0.5752INFO:tensorflow:Assets written to: /content/checkpoint/assets\n"
          ]
        },
        {
          "output_type": "stream",
          "name": "stderr",
          "text": [
            "INFO:tensorflow:Assets written to: /content/checkpoint/assets\n"
          ]
        },
        {
          "output_type": "stream",
          "name": "stdout",
          "text": [
            "\b\b\b\b\b\b\b\b\b\b\b\b\b\b\b\b\b\b\b\b\b\b\b\b\b\b\b\b\b\b\b\b\b\b\b\b\b\b\b\b\b\b\b\b\b\b\b\b\b\b\b\b\b\b\b\b\b\b\b\b\b\b\b\b\b\b\b\b\b\b\b\b\b\b\b\b\b\b\b\b\b\b\b\b\b\b\b\b\b\b\r371/371 [==============================] - 4s 12ms/step - loss: 200337.1562 - r_2_score: 0.5755 - val_loss: 153620.3594 - val_r_2_score: 0.7940\n",
            "Epoch 30/1000\n",
            "370/371 [============================>.] - ETA: 0s - loss: 201466.9375 - r_2_score: 0.5986INFO:tensorflow:Assets written to: /content/checkpoint/assets\n"
          ]
        },
        {
          "output_type": "stream",
          "name": "stderr",
          "text": [
            "INFO:tensorflow:Assets written to: /content/checkpoint/assets\n"
          ]
        },
        {
          "output_type": "stream",
          "name": "stdout",
          "text": [
            "\b\b\b\b\b\b\b\b\b\b\b\b\b\b\b\b\b\b\b\b\b\b\b\b\b\b\b\b\b\b\b\b\b\b\b\b\b\b\b\b\b\b\b\b\b\b\b\b\b\b\b\b\b\b\b\b\b\b\b\b\b\b\b\b\b\b\b\b\b\b\b\b\b\b\b\b\b\b\b\b\b\b\b\b\b\b\b\b\b\b\r371/371 [==============================] - 5s 13ms/step - loss: 201535.3594 - r_2_score: 0.5912 - val_loss: 148269.0781 - val_r_2_score: 0.8020\n",
            "Epoch 31/1000\n",
            "371/371 [==============================] - 3s 7ms/step - loss: 203014.3906 - r_2_score: 0.5387 - val_loss: 155922.1094 - val_r_2_score: 0.7919\n",
            "Epoch 32/1000\n",
            "371/371 [==============================] - 3s 7ms/step - loss: 202939.3281 - r_2_score: 0.5521 - val_loss: 149375.5469 - val_r_2_score: 0.7963\n",
            "Epoch 33/1000\n",
            "371/371 [==============================] - 3s 8ms/step - loss: 201786.6094 - r_2_score: 0.5656 - val_loss: 153378.7656 - val_r_2_score: 0.7931\n",
            "Epoch 34/1000\n",
            "371/371 [==============================] - 3s 7ms/step - loss: 203807.5625 - r_2_score: 0.5627 - val_loss: 154326.1719 - val_r_2_score: 0.7899\n",
            "Epoch 35/1000\n",
            "369/371 [============================>.] - ETA: 0s - loss: 197062.2500 - r_2_score: 0.6195INFO:tensorflow:Assets written to: /content/checkpoint/assets\n"
          ]
        },
        {
          "output_type": "stream",
          "name": "stderr",
          "text": [
            "INFO:tensorflow:Assets written to: /content/checkpoint/assets\n"
          ]
        },
        {
          "output_type": "stream",
          "name": "stdout",
          "text": [
            "\b\b\b\b\b\b\b\b\b\b\b\b\b\b\b\b\b\b\b\b\b\b\b\b\b\b\b\b\b\b\b\b\b\b\b\b\b\b\b\b\b\b\b\b\b\b\b\b\b\b\b\b\b\b\b\b\b\b\b\b\b\b\b\b\b\b\b\b\b\b\b\b\b\b\b\b\b\b\b\b\b\b\b\b\b\b\b\b\b\b\r371/371 [==============================] - 4s 11ms/step - loss: 197431.7500 - r_2_score: 0.6193 - val_loss: 146592.9219 - val_r_2_score: 0.8065\n",
            "Epoch 36/1000\n",
            "370/371 [============================>.] - ETA: 0s - loss: 198404.2656 - r_2_score: 0.5901INFO:tensorflow:Assets written to: /content/checkpoint/assets\n"
          ]
        },
        {
          "output_type": "stream",
          "name": "stderr",
          "text": [
            "INFO:tensorflow:Assets written to: /content/checkpoint/assets\n"
          ]
        },
        {
          "output_type": "stream",
          "name": "stdout",
          "text": [
            "\b\b\b\b\b\b\b\b\b\b\b\b\b\b\b\b\b\b\b\b\b\b\b\b\b\b\b\b\b\b\b\b\b\b\b\b\b\b\b\b\b\b\b\b\b\b\b\b\b\b\b\b\b\b\b\b\b\b\b\b\b\b\b\b\b\b\b\b\b\b\b\b\b\b\b\b\b\b\b\b\b\b\b\b\b\b\b\b\b\b\r371/371 [==============================] - 5s 12ms/step - loss: 198369.1562 - r_2_score: 0.5833 - val_loss: 141099.1250 - val_r_2_score: 0.8125\n",
            "Epoch 37/1000\n",
            "371/371 [==============================] - 3s 8ms/step - loss: 198400.7344 - r_2_score: 0.6055 - val_loss: 151923.4688 - val_r_2_score: 0.8014\n",
            "Epoch 38/1000\n",
            "371/371 [==============================] - 3s 7ms/step - loss: 198864.3750 - r_2_score: 0.6142 - val_loss: 142980.8438 - val_r_2_score: 0.8072\n",
            "Epoch 39/1000\n",
            "371/371 [==============================] - 3s 8ms/step - loss: 195369.8594 - r_2_score: 0.5962 - val_loss: 145777.5938 - val_r_2_score: 0.8094\n",
            "Epoch 40/1000\n",
            "371/371 [==============================] - 3s 7ms/step - loss: 193852.9688 - r_2_score: 0.6241 - val_loss: 143639.7344 - val_r_2_score: 0.8128\n",
            "Epoch 41/1000\n",
            "371/371 [==============================] - 3s 7ms/step - loss: 194554.1875 - r_2_score: 0.6143 - val_loss: 149370.3125 - val_r_2_score: 0.8055\n",
            "Epoch 42/1000\n",
            "371/371 [==============================] - 3s 7ms/step - loss: 188886.7500 - r_2_score: 0.6447 - val_loss: 151014.2188 - val_r_2_score: 0.8026\n",
            "Epoch 43/1000\n",
            "371/371 [==============================] - 3s 8ms/step - loss: 194235.2031 - r_2_score: 0.5940 - val_loss: 142083.7656 - val_r_2_score: 0.8088\n",
            "Epoch 44/1000\n",
            "371/371 [==============================] - 3s 7ms/step - loss: 190637.8281 - r_2_score: 0.6226 - val_loss: 142823.0312 - val_r_2_score: 0.8144\n",
            "Epoch 45/1000\n",
            "371/371 [==============================] - 3s 8ms/step - loss: 191548.5625 - r_2_score: 0.6277 - val_loss: 150131.7656 - val_r_2_score: 0.7995\n",
            "Epoch 46/1000\n",
            "371/371 [==============================] - 3s 7ms/step - loss: 198479.4531 - r_2_score: 0.5891 - val_loss: 143590.0156 - val_r_2_score: 0.8129\n"
          ]
        }
      ]
    },
    {
      "cell_type": "markdown",
      "metadata": {
        "id": "GHbYwXdgDQhs"
      },
      "source": [
        "### Check the R2 score on complete test data"
      ]
    },
    {
      "cell_type": "code",
      "metadata": {
        "id": "p7Ly-csS90PM",
        "colab": {
          "base_uri": "https://localhost:8080/"
        },
        "outputId": "baf86584-aab6-45bd-d6c4-d4871f00be94"
      },
      "source": [
        "model_2.evaluate(X_test_sc, y_test, batch_size=64)"
      ],
      "execution_count": 75,
      "outputs": [
        {
          "output_type": "stream",
          "name": "stdout",
          "text": [
            "31/31 [==============================] - 0s 4ms/step - loss: 141099.1250 - r_2_score: 0.8553\n"
          ]
        },
        {
          "output_type": "execute_result",
          "data": {
            "text/plain": [
              "[141099.125, 0.8553183674812317]"
            ]
          },
          "metadata": {},
          "execution_count": 75
        }
      ]
    },
    {
      "cell_type": "code",
      "source": [
        "y_pred = model_2.predict(X_test_sc)\n",
        "print(r2_score(y_test,y_pred))"
      ],
      "metadata": {
        "colab": {
          "base_uri": "https://localhost:8080/"
        },
        "id": "5j-YG4hyAs9z",
        "outputId": "a3ff8b20-5fa9-45cb-8337-a76540de943c"
      },
      "execution_count": 76,
      "outputs": [
        {
          "output_type": "stream",
          "name": "stdout",
          "text": [
            "0.8410373563226169\n"
          ]
        }
      ]
    },
    {
      "cell_type": "markdown",
      "metadata": {
        "id": "mcZazFM7DiVr"
      },
      "source": [
        "### Visualize model learning\n",
        "- Visualize model learning using train and test r2 score\n",
        "- Visualize model learning using train and test loss"
      ]
    },
    {
      "cell_type": "code",
      "metadata": {
        "id": "cH-8qHgp90Jv",
        "colab": {
          "base_uri": "https://localhost:8080/",
          "height": 573
        },
        "outputId": "fdd7f6ba-ed03-4ba4-a50b-a665321f91bc"
      },
      "source": [
        "import matplotlib.pyplot as plt\n",
        "\n",
        "plt.plot(history.history['r_2_score'])\n",
        "plt.plot(history.history['val_r_2_score'])\n",
        "plt.title('model r2_score')\n",
        "plt.ylabel('r2_score')\n",
        "plt.xlabel('epoch')\n",
        "plt.legend(['train', 'test'], loc='upper left')\n",
        "plt.show()\n",
        "# summarize history for loss\n",
        "plt.plot(history.history['loss'])\n",
        "plt.plot(history.history['val_loss'])\n",
        "plt.title('model loss')\n",
        "plt.ylabel('loss')\n",
        "plt.xlabel('epoch')\n",
        "plt.legend(['train', 'test'], loc='upper left')\n",
        "plt.show()\n"
      ],
      "execution_count": 78,
      "outputs": [
        {
          "output_type": "display_data",
          "data": {
            "image/png": "[encoded data removed]",
            "text/plain": [
              "<Figure size 432x288 with 1 Axes>"
            ]
          },
          "metadata": {
            "needs_background": "light"
          }
        },
        {
          "output_type": "display_data",
          "data": {
            "image/png": "[encoded data removed]",
            "text/plain": [
              "<Figure size 432x288 with 1 Axes>"
            ]
          },
          "metadata": {
            "needs_background": "light"
          }
        }
      ]
    },
    {
      "cell_type": "markdown",
      "metadata": {
        "id": "POU_v9owFLWp"
      },
      "source": [
        "### Create another Deep Neural Network Model for Regression to experiment with other hyper-parameters\n",
        "- Initialize a Sequential model\n",
        "- Add a batch normalization layer\n",
        "- Intialize weights using HeUniform with seed = 7\n",
        "- Add 4 hidden layer with activation relu (Number of neurons = 256,128,64,32 in each layer respectively)\n",
        "- Add dropout layer after each hidden layer\n",
        "- Add a Dense layer with one neuron as output, use activation linear\n",
        "  \n"
      ]
    },
    {
      "cell_type": "code",
      "metadata": {
        "id": "EJiZ1JZZECpm"
      },
      "source": [
        "#initialise model\n",
        "model_3 = Sequential()\n",
        "#input layer\n",
        "model_3.add(tf.keras.Input(shape=(13)))\n",
        "\n",
        "#normaliztion layer\n",
        "model_3.add(BatchNormalization())\n",
        "\n",
        "#add new layer\n",
        "model_3.add(Dense(256,activation=ReLU(), kernel_initializer=HeUniform(seed=7)))\n",
        "\n",
        "# Dropout for regularization to prevent overefitting\n",
        "model_3.add(Dropout(0.15))\n",
        "\n",
        "model_3.add(Dense(128, activation=ReLU(),kernel_initializer=HeUniform(seed=7)))\n",
        "model_3.add(Dropout(0.10))\n",
        "\n",
        "model_3.add(Dense(64, activation=ReLU(),kernel_initializer=HeUniform(seed=7)))\n",
        "model_3.add(Dropout(0.05))\n",
        "\n",
        "model_3.add(Dense(32, activation=ReLU(),kernel_initializer=HeUniform(seed=7)))\n",
        "\n",
        "#output layer\n",
        "model_3.add(Dense(1,activation='linear'))\n"
      ],
      "execution_count": 79,
      "outputs": []
    },
    {
      "cell_type": "markdown",
      "metadata": {
        "id": "yNoD20dGHKNk"
      },
      "source": [
        "### Compile the model\n",
        "\n",
        "- Compile the model\n",
        "- Use \"adam\" optimizer with learning rate = 0.002\n",
        "- for calculating loss, use mean squared error\n",
        "- use R2 score (coefficient of determination) as the metric"
      ]
    },
    {
      "cell_type": "code",
      "metadata": {
        "id": "EL--zAmbECm3"
      },
      "source": [
        "model_3.compile(loss='mean_squared_error', optimizer=Adam(learning_rate=0.002), metrics=[r_2_score])"
      ],
      "execution_count": 80,
      "outputs": []
    },
    {
      "cell_type": "markdown",
      "metadata": {
        "id": "TNhawruvHgLR"
      },
      "source": [
        "### Train your model\n",
        "\n",
        "- epochs: 1000\n",
        "- batch size: 64\n",
        "- Use test data as validation data\n",
        "- Also add callback, such that if validation loss doesn't decreases consecutively 10 times, stop the training and return the weights for the previous best model\n",
        "\n"
      ]
    },
    {
      "cell_type": "code",
      "metadata": {
        "id": "rf_Y0p7yECiz",
        "colab": {
          "base_uri": "https://localhost:8080/"
        },
        "outputId": "010d237d-d24a-42d7-ca47-d8785f3a9804"
      },
      "source": [
        "callback = tf.keras.callbacks.EarlyStopping(monitor='val_loss', patience = 10, restore_best_weights=True, mode='min')\n",
        "history = model_3.fit(X_train_sc, y_train,batch_size=64,\n",
        "                    epochs=1000, verbose=1,\n",
        "                    validation_data=(X_test_sc, y_test), callbacks=[callback,chkpt])"
      ],
      "execution_count": 81,
      "outputs": [
        {
          "output_type": "stream",
          "name": "stdout",
          "text": [
            "Epoch 1/1000\n",
            "93/93 [==============================] - 2s 9ms/step - loss: 1008678600704.0000 - r_2_score: -0.7227 - val_loss: 709948276736.0000 - val_r_2_score: -0.0390\n",
            "Epoch 2/1000\n",
            "93/93 [==============================] - 1s 6ms/step - loss: 273733632000.0000 - r_2_score: 0.5545 - val_loss: 185711329280.0000 - val_r_2_score: 0.7069\n",
            "Epoch 3/1000\n",
            "93/93 [==============================] - 1s 7ms/step - loss: 185633357824.0000 - r_2_score: 0.6679 - val_loss: 159223382016.0000 - val_r_2_score: 0.7341\n",
            "Epoch 4/1000\n",
            "93/93 [==============================] - 1s 6ms/step - loss: 165844320256.0000 - r_2_score: 0.6780 - val_loss: 139045765120.0000 - val_r_2_score: 0.7932\n",
            "Epoch 5/1000\n",
            "93/93 [==============================] - 1s 6ms/step - loss: 149823782912.0000 - r_2_score: 0.6933 - val_loss: 128577527808.0000 - val_r_2_score: 0.8122\n",
            "Epoch 6/1000\n",
            "93/93 [==============================] - 1s 7ms/step - loss: 137768960000.0000 - r_2_score: 0.6969 - val_loss: 119451598848.0000 - val_r_2_score: 0.8264\n",
            "Epoch 7/1000\n",
            "93/93 [==============================] - 1s 7ms/step - loss: 120347844608.0000 - r_2_score: 0.7584 - val_loss: 107213504512.0000 - val_r_2_score: 0.8382\n",
            "Epoch 8/1000\n",
            "93/93 [==============================] - 1s 6ms/step - loss: 122103914496.0000 - r_2_score: 0.7311 - val_loss: 100843659264.0000 - val_r_2_score: 0.8487\n",
            "Epoch 9/1000\n",
            "93/93 [==============================] - 1s 7ms/step - loss: 107473502208.0000 - r_2_score: 0.7904 - val_loss: 101469708288.0000 - val_r_2_score: 0.8528\n",
            "Epoch 10/1000\n",
            "93/93 [==============================] - 1s 7ms/step - loss: 107271340032.0000 - r_2_score: 0.7540 - val_loss: 94585446400.0000 - val_r_2_score: 0.8601\n",
            "Epoch 11/1000\n",
            "93/93 [==============================] - 1s 6ms/step - loss: 101871099904.0000 - r_2_score: 0.7575 - val_loss: 83082280960.0000 - val_r_2_score: 0.8660\n",
            "Epoch 12/1000\n",
            "93/93 [==============================] - 1s 7ms/step - loss: 100572766208.0000 - r_2_score: 0.7613 - val_loss: 82410774528.0000 - val_r_2_score: 0.8739\n",
            "Epoch 13/1000\n",
            "93/93 [==============================] - 1s 7ms/step - loss: 97608769536.0000 - r_2_score: 0.8002 - val_loss: 81722916864.0000 - val_r_2_score: 0.8778\n",
            "Epoch 14/1000\n",
            "93/93 [==============================] - 1s 6ms/step - loss: 102506553344.0000 - r_2_score: 0.7333 - val_loss: 93739835392.0000 - val_r_2_score: 0.8660\n",
            "Epoch 15/1000\n",
            "93/93 [==============================] - 1s 6ms/step - loss: 96628080640.0000 - r_2_score: 0.7713 - val_loss: 73730588672.0000 - val_r_2_score: 0.8850\n",
            "Epoch 16/1000\n",
            "93/93 [==============================] - 1s 6ms/step - loss: 93419290624.0000 - r_2_score: 0.7932 - val_loss: 70616645632.0000 - val_r_2_score: 0.8787\n",
            "Epoch 17/1000\n",
            "93/93 [==============================] - 1s 7ms/step - loss: 85588262912.0000 - r_2_score: 0.8214 - val_loss: 69567537152.0000 - val_r_2_score: 0.8906\n",
            "Epoch 18/1000\n",
            "93/93 [==============================] - 1s 7ms/step - loss: 85248073728.0000 - r_2_score: 0.8061 - val_loss: 79337529344.0000 - val_r_2_score: 0.8831\n",
            "Epoch 19/1000\n",
            "93/93 [==============================] - 1s 7ms/step - loss: 90411556864.0000 - r_2_score: 0.8208 - val_loss: 66238382080.0000 - val_r_2_score: 0.8966\n",
            "Epoch 20/1000\n",
            "93/93 [==============================] - 1s 6ms/step - loss: 87664214016.0000 - r_2_score: 0.8064 - val_loss: 64872919040.0000 - val_r_2_score: 0.8985\n",
            "Epoch 21/1000\n",
            "93/93 [==============================] - 1s 7ms/step - loss: 84725743616.0000 - r_2_score: 0.8170 - val_loss: 69857542144.0000 - val_r_2_score: 0.8950\n",
            "Epoch 22/1000\n",
            "93/93 [==============================] - 1s 7ms/step - loss: 85839437824.0000 - r_2_score: 0.8056 - val_loss: 60425945088.0000 - val_r_2_score: 0.9028\n",
            "Epoch 23/1000\n",
            "93/93 [==============================] - 1s 6ms/step - loss: 85454430208.0000 - r_2_score: 0.8216 - val_loss: 58567811072.0000 - val_r_2_score: 0.9040\n",
            "Epoch 24/1000\n",
            "93/93 [==============================] - 1s 7ms/step - loss: 85749317632.0000 - r_2_score: 0.8001 - val_loss: 62803804160.0000 - val_r_2_score: 0.9030\n",
            "Epoch 25/1000\n",
            "93/93 [==============================] - 1s 7ms/step - loss: 81148592128.0000 - r_2_score: 0.8384 - val_loss: 60854484992.0000 - val_r_2_score: 0.9058\n",
            "Epoch 26/1000\n",
            "93/93 [==============================] - 1s 6ms/step - loss: 85476777984.0000 - r_2_score: 0.8065 - val_loss: 55561797632.0000 - val_r_2_score: 0.9072\n",
            "Epoch 27/1000\n",
            "93/93 [==============================] - 1s 6ms/step - loss: 78068318208.0000 - r_2_score: 0.8101 - val_loss: 68942487552.0000 - val_r_2_score: 0.8973\n",
            "Epoch 28/1000\n",
            "93/93 [==============================] - 1s 7ms/step - loss: 72436965376.0000 - r_2_score: 0.8441 - val_loss: 55687319552.0000 - val_r_2_score: 0.9089\n",
            "Epoch 29/1000\n",
            "93/93 [==============================] - 1s 7ms/step - loss: 84533657600.0000 - r_2_score: 0.7958 - val_loss: 54202818560.0000 - val_r_2_score: 0.9132\n",
            "Epoch 30/1000\n",
            "93/93 [==============================] - 1s 7ms/step - loss: 78465482752.0000 - r_2_score: 0.8238 - val_loss: 53029924864.0000 - val_r_2_score: 0.9145\n",
            "Epoch 31/1000\n",
            "93/93 [==============================] - 1s 6ms/step - loss: 78813913088.0000 - r_2_score: 0.8369 - val_loss: 51041947648.0000 - val_r_2_score: 0.9149\n",
            "Epoch 32/1000\n",
            "93/93 [==============================] - 1s 7ms/step - loss: 77483302912.0000 - r_2_score: 0.8466 - val_loss: 52520718336.0000 - val_r_2_score: 0.9099\n",
            "Epoch 33/1000\n",
            "93/93 [==============================] - 1s 7ms/step - loss: 72901599232.0000 - r_2_score: 0.8462 - val_loss: 53956079616.0000 - val_r_2_score: 0.9154\n",
            "Epoch 34/1000\n",
            "93/93 [==============================] - 1s 9ms/step - loss: 76252061696.0000 - r_2_score: 0.8142 - val_loss: 54081581056.0000 - val_r_2_score: 0.9153\n",
            "Epoch 35/1000\n",
            "93/93 [==============================] - 1s 12ms/step - loss: 85643214848.0000 - r_2_score: 0.8188 - val_loss: 51678806016.0000 - val_r_2_score: 0.9092\n",
            "Epoch 36/1000\n",
            "93/93 [==============================] - 1s 7ms/step - loss: 80397156352.0000 - r_2_score: 0.8042 - val_loss: 51780579328.0000 - val_r_2_score: 0.9177\n",
            "Epoch 37/1000\n",
            "93/93 [==============================] - 1s 7ms/step - loss: 70359687168.0000 - r_2_score: 0.8452 - val_loss: 53084499968.0000 - val_r_2_score: 0.9170\n",
            "Epoch 38/1000\n",
            "93/93 [==============================] - 1s 6ms/step - loss: 78184439808.0000 - r_2_score: 0.8275 - val_loss: 53050650624.0000 - val_r_2_score: 0.9172\n",
            "Epoch 39/1000\n",
            "93/93 [==============================] - 1s 6ms/step - loss: 73849602048.0000 - r_2_score: 0.8435 - val_loss: 49176899584.0000 - val_r_2_score: 0.9200\n",
            "Epoch 40/1000\n",
            "93/93 [==============================] - 1s 7ms/step - loss: 75417903104.0000 - r_2_score: 0.8428 - val_loss: 48565878784.0000 - val_r_2_score: 0.9177\n",
            "Epoch 41/1000\n",
            "93/93 [==============================] - 1s 6ms/step - loss: 68487712768.0000 - r_2_score: 0.8416 - val_loss: 49808891904.0000 - val_r_2_score: 0.9210\n",
            "Epoch 42/1000\n",
            "93/93 [==============================] - 1s 6ms/step - loss: 74787364864.0000 - r_2_score: 0.8152 - val_loss: 50319544320.0000 - val_r_2_score: 0.9201\n",
            "Epoch 43/1000\n",
            "93/93 [==============================] - 1s 7ms/step - loss: 71179665408.0000 - r_2_score: 0.8318 - val_loss: 53995892736.0000 - val_r_2_score: 0.9006\n",
            "Epoch 44/1000\n",
            "93/93 [==============================] - 1s 7ms/step - loss: 73808822272.0000 - r_2_score: 0.8128 - val_loss: 51936317440.0000 - val_r_2_score: 0.9195\n",
            "Epoch 45/1000\n",
            "93/93 [==============================] - 1s 7ms/step - loss: 72455012352.0000 - r_2_score: 0.7977 - val_loss: 48149106688.0000 - val_r_2_score: 0.9211\n",
            "Epoch 46/1000\n",
            "93/93 [==============================] - 1s 7ms/step - loss: 70838886400.0000 - r_2_score: 0.8453 - val_loss: 45604720640.0000 - val_r_2_score: 0.9228\n",
            "Epoch 47/1000\n",
            "93/93 [==============================] - 1s 6ms/step - loss: 74851958784.0000 - r_2_score: 0.8227 - val_loss: 45961326592.0000 - val_r_2_score: 0.9214\n",
            "Epoch 48/1000\n",
            "93/93 [==============================] - 1s 7ms/step - loss: 72753217536.0000 - r_2_score: 0.8366 - val_loss: 54783684608.0000 - val_r_2_score: 0.9138\n",
            "Epoch 49/1000\n",
            "93/93 [==============================] - 1s 7ms/step - loss: 77451476992.0000 - r_2_score: 0.8406 - val_loss: 46200754176.0000 - val_r_2_score: 0.9183\n",
            "Epoch 50/1000\n",
            "93/93 [==============================] - 1s 7ms/step - loss: 80906338304.0000 - r_2_score: 0.8077 - val_loss: 46485688320.0000 - val_r_2_score: 0.9233\n",
            "Epoch 51/1000\n",
            "93/93 [==============================] - 1s 6ms/step - loss: 63137673216.0000 - r_2_score: 0.8431 - val_loss: 45467987968.0000 - val_r_2_score: 0.9240\n",
            "Epoch 52/1000\n",
            "93/93 [==============================] - 1s 7ms/step - loss: 68928970752.0000 - r_2_score: 0.8239 - val_loss: 44452196352.0000 - val_r_2_score: 0.9242\n",
            "Epoch 53/1000\n",
            "93/93 [==============================] - 1s 6ms/step - loss: 72327806976.0000 - r_2_score: 0.8521 - val_loss: 45060358144.0000 - val_r_2_score: 0.9234\n",
            "Epoch 54/1000\n",
            "93/93 [==============================] - 1s 7ms/step - loss: 70710157312.0000 - r_2_score: 0.8415 - val_loss: 44130099200.0000 - val_r_2_score: 0.9239\n",
            "Epoch 55/1000\n",
            "93/93 [==============================] - 1s 7ms/step - loss: 65715265536.0000 - r_2_score: 0.8632 - val_loss: 44734918656.0000 - val_r_2_score: 0.9251\n",
            "Epoch 56/1000\n",
            "93/93 [==============================] - 1s 7ms/step - loss: 62323736576.0000 - r_2_score: 0.8656 - val_loss: 45763731456.0000 - val_r_2_score: 0.9261\n",
            "Epoch 57/1000\n",
            "93/93 [==============================] - 1s 6ms/step - loss: 65691574272.0000 - r_2_score: 0.8520 - val_loss: 50343563264.0000 - val_r_2_score: 0.9068\n",
            "Epoch 58/1000\n",
            "93/93 [==============================] - 1s 6ms/step - loss: 68371664896.0000 - r_2_score: 0.8502 - val_loss: 47518879744.0000 - val_r_2_score: 0.9239\n",
            "Epoch 59/1000\n",
            "93/93 [==============================] - 1s 7ms/step - loss: 64486322176.0000 - r_2_score: 0.8594 - val_loss: 42753855488.0000 - val_r_2_score: 0.9255\n",
            "Epoch 60/1000\n",
            "93/93 [==============================] - 1s 7ms/step - loss: 68978155520.0000 - r_2_score: 0.8430 - val_loss: 45021057024.0000 - val_r_2_score: 0.9263\n",
            "Epoch 61/1000\n",
            "93/93 [==============================] - 1s 6ms/step - loss: 68561428480.0000 - r_2_score: 0.8592 - val_loss: 42594164736.0000 - val_r_2_score: 0.9271\n",
            "Epoch 62/1000\n",
            "93/93 [==============================] - 1s 6ms/step - loss: 70819127296.0000 - r_2_score: 0.8102 - val_loss: 43181170688.0000 - val_r_2_score: 0.9272\n",
            "Epoch 63/1000\n",
            "93/93 [==============================] - 1s 11ms/step - loss: 74676797440.0000 - r_2_score: 0.8445 - val_loss: 43141480448.0000 - val_r_2_score: 0.9221\n",
            "Epoch 64/1000\n",
            "93/93 [==============================] - 1s 13ms/step - loss: 69098815488.0000 - r_2_score: 0.7993 - val_loss: 41664253952.0000 - val_r_2_score: 0.9262\n",
            "Epoch 65/1000\n",
            "93/93 [==============================] - 1s 13ms/step - loss: 68014596096.0000 - r_2_score: 0.8618 - val_loss: 42726707200.0000 - val_r_2_score: 0.9234\n",
            "Epoch 66/1000\n",
            "93/93 [==============================] - 1s 16ms/step - loss: 65186664448.0000 - r_2_score: 0.8654 - val_loss: 42731220992.0000 - val_r_2_score: 0.9277\n",
            "Epoch 67/1000\n",
            "93/93 [==============================] - 1s 15ms/step - loss: 70589177856.0000 - r_2_score: 0.8460 - val_loss: 42939330560.0000 - val_r_2_score: 0.9226\n",
            "Epoch 68/1000\n",
            "93/93 [==============================] - 1s 12ms/step - loss: 60305154048.0000 - r_2_score: 0.8773 - val_loss: 45176832000.0000 - val_r_2_score: 0.9158\n",
            "Epoch 69/1000\n",
            "93/93 [==============================] - 1s 15ms/step - loss: 64079110144.0000 - r_2_score: 0.8541 - val_loss: 41466277888.0000 - val_r_2_score: 0.9274\n",
            "Epoch 70/1000\n",
            "93/93 [==============================] - 1s 12ms/step - loss: 65922125824.0000 - r_2_score: 0.8574 - val_loss: 46511738880.0000 - val_r_2_score: 0.9259\n",
            "Epoch 71/1000\n",
            "93/93 [==============================] - 1s 15ms/step - loss: 60454768640.0000 - r_2_score: 0.8702 - val_loss: 41056817152.0000 - val_r_2_score: 0.9291\n",
            "Epoch 72/1000\n",
            "93/93 [==============================] - 1s 15ms/step - loss: 63043473408.0000 - r_2_score: 0.8334 - val_loss: 40754667520.0000 - val_r_2_score: 0.9284\n",
            "Epoch 73/1000\n",
            "93/93 [==============================] - 1s 12ms/step - loss: 69134344192.0000 - r_2_score: 0.8522 - val_loss: 41102381056.0000 - val_r_2_score: 0.9285\n",
            "Epoch 74/1000\n",
            "93/93 [==============================] - 1s 15ms/step - loss: 60920328192.0000 - r_2_score: 0.8592 - val_loss: 41082322944.0000 - val_r_2_score: 0.9271\n",
            "Epoch 75/1000\n",
            "93/93 [==============================] - 1s 15ms/step - loss: 68478787584.0000 - r_2_score: 0.8425 - val_loss: 46005186560.0000 - val_r_2_score: 0.9254\n",
            "Epoch 76/1000\n",
            "93/93 [==============================] - 1s 12ms/step - loss: 63303213056.0000 - r_2_score: 0.8670 - val_loss: 45183488000.0000 - val_r_2_score: 0.9265\n",
            "Epoch 77/1000\n",
            "93/93 [==============================] - 1s 13ms/step - loss: 65594507264.0000 - r_2_score: 0.8466 - val_loss: 41388777472.0000 - val_r_2_score: 0.9281\n",
            "Epoch 78/1000\n",
            "93/93 [==============================] - 1s 12ms/step - loss: 58331377664.0000 - r_2_score: 0.8733 - val_loss: 43507630080.0000 - val_r_2_score: 0.9183\n",
            "Epoch 79/1000\n",
            "93/93 [==============================] - 1s 11ms/step - loss: 61351305216.0000 - r_2_score: 0.8487 - val_loss: 40848379904.0000 - val_r_2_score: 0.9295\n",
            "Epoch 80/1000\n",
            "93/93 [==============================] - 1s 12ms/step - loss: 64521773056.0000 - r_2_score: 0.8647 - val_loss: 41026244608.0000 - val_r_2_score: 0.9292\n",
            "Epoch 81/1000\n",
            "93/93 [==============================] - 1s 12ms/step - loss: 65311928320.0000 - r_2_score: 0.8544 - val_loss: 42982649856.0000 - val_r_2_score: 0.9284\n",
            "Epoch 82/1000\n",
            "93/93 [==============================] - 1s 14ms/step - loss: 59629871104.0000 - r_2_score: 0.8816 - val_loss: 40743538688.0000 - val_r_2_score: 0.9282\n",
            "Epoch 83/1000\n",
            "93/93 [==============================] - 1s 13ms/step - loss: 58651090944.0000 - r_2_score: 0.8819 - val_loss: 40297062400.0000 - val_r_2_score: 0.9281\n",
            "Epoch 84/1000\n",
            "93/93 [==============================] - 1s 12ms/step - loss: 60054237184.0000 - r_2_score: 0.8659 - val_loss: 39755833344.0000 - val_r_2_score: 0.9285\n",
            "Epoch 85/1000\n",
            "93/93 [==============================] - 1s 12ms/step - loss: 58478301184.0000 - r_2_score: 0.8539 - val_loss: 39803576320.0000 - val_r_2_score: 0.9297\n",
            "Epoch 86/1000\n",
            "93/93 [==============================] - 1s 12ms/step - loss: 58421485568.0000 - r_2_score: 0.8672 - val_loss: 41157517312.0000 - val_r_2_score: 0.9306\n",
            "Epoch 87/1000\n",
            "93/93 [==============================] - 1s 12ms/step - loss: 59709571072.0000 - r_2_score: 0.8673 - val_loss: 40771637248.0000 - val_r_2_score: 0.9245\n",
            "Epoch 88/1000\n",
            "93/93 [==============================] - 1s 13ms/step - loss: 62813679616.0000 - r_2_score: 0.8561 - val_loss: 41769979904.0000 - val_r_2_score: 0.9289\n",
            "Epoch 89/1000\n",
            "93/93 [==============================] - 1s 11ms/step - loss: 61048594432.0000 - r_2_score: 0.8699 - val_loss: 39366979584.0000 - val_r_2_score: 0.9315\n",
            "Epoch 90/1000\n",
            "93/93 [==============================] - 1s 13ms/step - loss: 55355564032.0000 - r_2_score: 0.8888 - val_loss: 39435522048.0000 - val_r_2_score: 0.9312\n",
            "Epoch 91/1000\n",
            "93/93 [==============================] - 1s 14ms/step - loss: 57901498368.0000 - r_2_score: 0.8622 - val_loss: 41099743232.0000 - val_r_2_score: 0.9230\n",
            "Epoch 92/1000\n",
            "93/93 [==============================] - 1s 7ms/step - loss: 61944803328.0000 - r_2_score: 0.8730 - val_loss: 38871932928.0000 - val_r_2_score: 0.9321\n",
            "Epoch 93/1000\n",
            "93/93 [==============================] - 1s 7ms/step - loss: 53170737152.0000 - r_2_score: 0.8919 - val_loss: 41584332800.0000 - val_r_2_score: 0.9212\n",
            "Epoch 94/1000\n",
            "93/93 [==============================] - 1s 7ms/step - loss: 62405029888.0000 - r_2_score: 0.8603 - val_loss: 38436810752.0000 - val_r_2_score: 0.9309\n",
            "Epoch 95/1000\n",
            "93/93 [==============================] - 1s 7ms/step - loss: 60049678336.0000 - r_2_score: 0.8709 - val_loss: 38247583744.0000 - val_r_2_score: 0.9300\n",
            "Epoch 96/1000\n",
            "93/93 [==============================] - 1s 6ms/step - loss: 56865894400.0000 - r_2_score: 0.8719 - val_loss: 39012818944.0000 - val_r_2_score: 0.9278\n",
            "Epoch 97/1000\n",
            "93/93 [==============================] - 1s 6ms/step - loss: 58340343808.0000 - r_2_score: 0.8842 - val_loss: 38517653504.0000 - val_r_2_score: 0.9325\n",
            "Epoch 98/1000\n",
            "93/93 [==============================] - 1s 7ms/step - loss: 61559066624.0000 - r_2_score: 0.8615 - val_loss: 39374708736.0000 - val_r_2_score: 0.9320\n",
            "Epoch 99/1000\n",
            "93/93 [==============================] - 1s 6ms/step - loss: 55521607680.0000 - r_2_score: 0.8866 - val_loss: 39018426368.0000 - val_r_2_score: 0.9327\n",
            "Epoch 100/1000\n",
            "93/93 [==============================] - 1s 7ms/step - loss: 57761607680.0000 - r_2_score: 0.8707 - val_loss: 44589805568.0000 - val_r_2_score: 0.9156\n",
            "Epoch 101/1000\n",
            "93/93 [==============================] - 1s 6ms/step - loss: 62996299776.0000 - r_2_score: 0.8516 - val_loss: 38918225920.0000 - val_r_2_score: 0.9330\n",
            "Epoch 102/1000\n",
            "93/93 [==============================] - 1s 6ms/step - loss: 53024899072.0000 - r_2_score: 0.8806 - val_loss: 38926196736.0000 - val_r_2_score: 0.9320\n",
            "Epoch 103/1000\n",
            "93/93 [==============================] - 1s 7ms/step - loss: 50161799168.0000 - r_2_score: 0.8909 - val_loss: 39837990912.0000 - val_r_2_score: 0.9240\n",
            "Epoch 104/1000\n",
            "93/93 [==============================] - 1s 6ms/step - loss: 58666168320.0000 - r_2_score: 0.8724 - val_loss: 37450477568.0000 - val_r_2_score: 0.9298\n",
            "Epoch 105/1000\n",
            "93/93 [==============================] - 1s 6ms/step - loss: 56275984384.0000 - r_2_score: 0.8441 - val_loss: 37813997568.0000 - val_r_2_score: 0.9316\n",
            "Epoch 106/1000\n",
            "93/93 [==============================] - 1s 7ms/step - loss: 63296471040.0000 - r_2_score: 0.8750 - val_loss: 39452012544.0000 - val_r_2_score: 0.9329\n",
            "Epoch 107/1000\n",
            "93/93 [==============================] - 1s 7ms/step - loss: 61997912064.0000 - r_2_score: 0.8391 - val_loss: 39018233856.0000 - val_r_2_score: 0.9273\n",
            "Epoch 108/1000\n",
            "93/93 [==============================] - 1s 7ms/step - loss: 51844132864.0000 - r_2_score: 0.8744 - val_loss: 37411397632.0000 - val_r_2_score: 0.9299\n",
            "Epoch 109/1000\n",
            "93/93 [==============================] - 1s 7ms/step - loss: 53115539456.0000 - r_2_score: 0.8801 - val_loss: 39226904576.0000 - val_r_2_score: 0.9329\n",
            "Epoch 110/1000\n",
            "93/93 [==============================] - 1s 7ms/step - loss: 57072795648.0000 - r_2_score: 0.8816 - val_loss: 37871833088.0000 - val_r_2_score: 0.9348\n",
            "Epoch 111/1000\n",
            "93/93 [==============================] - 1s 7ms/step - loss: 57327083520.0000 - r_2_score: 0.8765 - val_loss: 36840087552.0000 - val_r_2_score: 0.9332\n",
            "Epoch 112/1000\n",
            "93/93 [==============================] - 1s 7ms/step - loss: 60675280896.0000 - r_2_score: 0.8668 - val_loss: 37496037376.0000 - val_r_2_score: 0.9310\n",
            "Epoch 113/1000\n",
            "93/93 [==============================] - 1s 7ms/step - loss: 50572693504.0000 - r_2_score: 0.8843 - val_loss: 37228191744.0000 - val_r_2_score: 0.9301\n",
            "Epoch 114/1000\n",
            "93/93 [==============================] - 1s 7ms/step - loss: 56467701760.0000 - r_2_score: 0.8654 - val_loss: 36593741824.0000 - val_r_2_score: 0.9348\n",
            "Epoch 115/1000\n",
            "93/93 [==============================] - 1s 8ms/step - loss: 48155107328.0000 - r_2_score: 0.8981 - val_loss: 36811235328.0000 - val_r_2_score: 0.9344\n",
            "Epoch 116/1000\n",
            "93/93 [==============================] - 1s 8ms/step - loss: 54057586688.0000 - r_2_score: 0.8918 - val_loss: 36276432896.0000 - val_r_2_score: 0.9335\n",
            "Epoch 117/1000\n",
            "93/93 [==============================] - 1s 7ms/step - loss: 53130457088.0000 - r_2_score: 0.8985 - val_loss: 46919602176.0000 - val_r_2_score: 0.9102\n",
            "Epoch 118/1000\n",
            "93/93 [==============================] - 1s 7ms/step - loss: 56544321536.0000 - r_2_score: 0.8703 - val_loss: 36130885632.0000 - val_r_2_score: 0.9343\n",
            "Epoch 119/1000\n",
            "93/93 [==============================] - 1s 7ms/step - loss: 57212125184.0000 - r_2_score: 0.8836 - val_loss: 37009936384.0000 - val_r_2_score: 0.9318\n",
            "Epoch 120/1000\n",
            "93/93 [==============================] - 1s 7ms/step - loss: 55656529920.0000 - r_2_score: 0.8752 - val_loss: 37475610624.0000 - val_r_2_score: 0.9347\n",
            "Epoch 121/1000\n",
            "93/93 [==============================] - 1s 7ms/step - loss: 60071059456.0000 - r_2_score: 0.8660 - val_loss: 45749227520.0000 - val_r_2_score: 0.9123\n",
            "Epoch 122/1000\n",
            "93/93 [==============================] - 1s 7ms/step - loss: 56997134336.0000 - r_2_score: 0.8891 - val_loss: 36927164416.0000 - val_r_2_score: 0.9351\n",
            "Epoch 123/1000\n",
            "93/93 [==============================] - 1s 7ms/step - loss: 56220696576.0000 - r_2_score: 0.8768 - val_loss: 44787417088.0000 - val_r_2_score: 0.9144\n",
            "Epoch 124/1000\n",
            "93/93 [==============================] - 1s 7ms/step - loss: 51520716800.0000 - r_2_score: 0.8666 - val_loss: 38274236416.0000 - val_r_2_score: 0.9277\n",
            "Epoch 125/1000\n",
            "93/93 [==============================] - 1s 7ms/step - loss: 55259361280.0000 - r_2_score: 0.8832 - val_loss: 37282742272.0000 - val_r_2_score: 0.9296\n",
            "Epoch 126/1000\n",
            "93/93 [==============================] - 1s 8ms/step - loss: 53133123584.0000 - r_2_score: 0.8940 - val_loss: 37826326528.0000 - val_r_2_score: 0.9296\n",
            "Epoch 127/1000\n",
            "93/93 [==============================] - 1s 7ms/step - loss: 50219360256.0000 - r_2_score: 0.8951 - val_loss: 36225634304.0000 - val_r_2_score: 0.9338\n",
            "Epoch 128/1000\n",
            "93/93 [==============================] - 1s 8ms/step - loss: 53427146752.0000 - r_2_score: 0.8769 - val_loss: 36351782912.0000 - val_r_2_score: 0.9357\n"
          ]
        }
      ]
    },
    {
      "cell_type": "markdown",
      "metadata": {
        "id": "MR6_a6QxICXv"
      },
      "source": [
        "### Check the R2 score on complete test data"
      ]
    },
    {
      "cell_type": "code",
      "metadata": {
        "id": "eSNJsVwnECf-",
        "colab": {
          "base_uri": "https://localhost:8080/"
        },
        "outputId": "9733d811-bc2e-4b79-e271-d1b712d30b9e"
      },
      "source": [
        "model_2.evaluate(X_test_sc, y_test, batch_size=64)"
      ],
      "execution_count": 82,
      "outputs": [
        {
          "output_type": "stream",
          "name": "stdout",
          "text": [
            "31/31 [==============================] - 0s 4ms/step - loss: 141099.1250 - r_2_score: 0.8553\n"
          ]
        },
        {
          "output_type": "execute_result",
          "data": {
            "text/plain": [
              "[141099.125, 0.8553183674812317]"
            ]
          },
          "metadata": {},
          "execution_count": 82
        }
      ]
    },
    {
      "cell_type": "code",
      "source": [
        "y_pred = model_2.predict(X_test_sc)\n",
        "print(r2_score(y_test,y_pred))"
      ],
      "metadata": {
        "colab": {
          "base_uri": "https://localhost:8080/"
        },
        "id": "t9HFE1OeJJWR",
        "outputId": "244b57b8-33b2-4b60-d0ba-b01aa8f47658"
      },
      "execution_count": 83,
      "outputs": [
        {
          "output_type": "stream",
          "name": "stdout",
          "text": [
            "0.8410373563226169\n"
          ]
        }
      ]
    },
    {
      "cell_type": "markdown",
      "metadata": {
        "id": "xWZIMT2rIYDc"
      },
      "source": [
        "### Visualize model learning\n",
        "- Visualize model learning using train and test r2 score\n",
        "- Visualize model learning using train and test loss"
      ]
    },
    {
      "cell_type": "code",
      "metadata": {
        "id": "uDMefTaLECdK",
        "colab": {
          "base_uri": "https://localhost:8080/",
          "height": 573
        },
        "outputId": "0f212b44-cd13-4ba5-83e8-45c25bb0a317"
      },
      "source": [
        "import matplotlib.pyplot as plt\n",
        "\n",
        "plt.plot(history.history['r_2_score'])\n",
        "plt.plot(history.history['val_r_2_score'])\n",
        "plt.title('model r2_score')\n",
        "plt.ylabel('r2_score')\n",
        "plt.xlabel('epoch')\n",
        "plt.legend(['train', 'test'], loc='upper left')\n",
        "plt.show()\n",
        "# summarize history for loss\n",
        "plt.plot(history.history['loss'])\n",
        "plt.plot(history.history['val_loss'])\n",
        "plt.title('model loss')\n",
        "plt.ylabel('loss')\n",
        "plt.xlabel('epoch')\n",
        "plt.legend(['train', 'test'], loc='upper left')\n",
        "plt.show()\n"
      ],
      "execution_count": 84,
      "outputs": [
        {
          "output_type": "display_data",
          "data": {
            "image/png": "[encoded data removed]",
            "text/plain": [
              "<Figure size 432x288 with 1 Axes>"
            ]
          },
          "metadata": {
            "needs_background": "light"
          }
        },
        {
          "output_type": "display_data",
          "data": {
            "image/png": "[encoded data removed]",
            "text/plain": [
              "<Figure size 432x288 with 1 Axes>"
            ]
          },
          "metadata": {
            "needs_background": "light"
          }
        }
      ]
    }
  ]
}